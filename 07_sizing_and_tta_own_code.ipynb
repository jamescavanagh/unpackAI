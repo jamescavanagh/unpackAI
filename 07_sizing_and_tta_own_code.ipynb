{
  "nbformat": 4,
  "nbformat_minor": 0,
  "metadata": {
    "colab": {
      "name": "Copy of 07_sizing_and_tta_own_code.ipynb",
      "provenance": [],
      "toc_visible": true,
      "include_colab_link": true
    },
    "kernelspec": {
      "name": "python3",
      "display_name": "Python 3"
    },
    "language_info": {
      "name": "python"
    },
    "accelerator": "GPU"
  },
  "cells": [
    {
      "cell_type": "markdown",
      "metadata": {
        "id": "view-in-github",
        "colab_type": "text"
      },
      "source": [
        "<a href=\"https://colab.research.google.com/github/jamescavanagh/unpackAI/blob/main/07_sizing_and_tta_own_code.ipynb\" target=\"_parent\"><img src=\"https://colab.research.google.com/assets/colab-badge.svg\" alt=\"Open In Colab\"/></a>"
      ]
    },
    {
      "cell_type": "markdown",
      "metadata": {
        "id": "A345N3dy61EW"
      },
      "source": [
        "#Computer Vision Sizing and TTA - State-of-the-Art Model"
      ]
    },
    {
      "cell_type": "markdown",
      "metadata": {
        "id": "J2qMsTfl7tOC"
      },
      "source": [
        "Own refactored code and notes for Chapter 7: *Sizing and TTA* (['07_sizing_and_tta.ipynb'](https://colab.research.google.com/github/vtecftwy/fastbook/blob/master/07_sizing_and_tta.ipynb#scrollTo=6tT8i-1PC9ko))\n",
        "\n"
      ]
    },
    {
      "cell_type": "markdown",
      "metadata": {
        "id": "ovjd85hS8TvA"
      },
      "source": [
        "Rewrite the code for the image classifier that identifies multiple objects in an image using Imagenet; or, use your own data set that is properly labelled and it big enough.\n",
        "- Only use the code necessary to load the data, create tbe DataLoaders, presize and or augment the images and then train the model using all the knowledge and tools you have learned from the book so far adding the new nowledge you have gained in this chapter.\n",
        "- In this chapter we are focussing on Mixup and Lable Smoothing (show these features in your notebook)\n",
        "- Feel free to add any code that you perfer to use and make a note in the code as to why you perferred to use that code\n",
        "- Add your own comments that can be used for reference in the future."
      ]
    },
    {
      "cell_type": "markdown",
      "metadata": {
        "id": "rxBEkt1OidmW"
      },
      "source": [
        "# Questionaire\n",
        "\n",
        "### Is using TTA at inference slower or faster than regular inference? Why?\n",
        "\n",
        "Time tested augmentation is slower because it involves sampling multiple recroppings from the original image. It is a useful techique in certain cases where features could be cropped out by randomized recropping. This can increase the \n",
        "\n",
        "\n",
        "### Why does Mixup Prevent the model from being too confident\n",
        "\n",
        "It blends different images, in order to allow the model to seek to create a match of whatever percent blend that the images used. If it is 100 percent certain, then it is difficult for it in real life\n",
        "\n"
      ]
    },
    {
      "cell_type": "markdown",
      "metadata": {
        "id": "QM_ok_aK0llv"
      },
      "source": [
        "###Imports and Setup"
      ]
    },
    {
      "cell_type": "code",
      "metadata": {
        "id": "QpuAP79h6to8"
      },
      "source": [
        "!pip install -Uqq fastbook\n",
        "import fastbook\n",
        "fastbook.setup_book()\n",
        "from fastbook import *\n",
        "\n",
        "from fastai.vision.all import *\n",
        "\n"
      ],
      "execution_count": null,
      "outputs": []
    },
    {
      "cell_type": "markdown",
      "metadata": {
        "id": "Mff_95j00sTW"
      },
      "source": [
        "###Preparing the data"
      ]
    },
    {
      "cell_type": "code",
      "metadata": {
        "id": "XOO4ChJ8-CCA",
        "colab": {
          "base_uri": "https://localhost:8080/",
          "height": 156
        },
        "outputId": "5b177502-0ec2-4348-a973-219bb0412dfa"
      },
      "source": [
        "\n",
        "path = untar_data(URLs.IMAGENETTE)\n",
        "\n",
        "dblock = DataBlock(blocks=(ImageBlock(), CategoryBlock()),\n",
        "                   get_items=get_image_files,\n",
        "                   get_y=parent_label,\n",
        "                   item_tfms=Resize(460),\n",
        "                   batch_tfms=aug_transforms(size=224, min_scale=0.75))\n",
        "dls = dblock.dataloaders(path, bs=64)"
      ],
      "execution_count": null,
      "outputs": [
        {
          "output_type": "display_data",
          "data": {
            "text/html": [
              ""
            ],
            "text/plain": [
              "<IPython.core.display.HTML object>"
            ]
          },
          "metadata": {
            "tags": []
          }
        },
        {
          "output_type": "stream",
          "text": [
            "/usr/local/lib/python3.7/dist-packages/torch/_tensor.py:1023: UserWarning: torch.solve is deprecated in favor of torch.linalg.solveand will be removed in a future PyTorch release.\n",
            "torch.linalg.solve has its arguments reversed and does not return the LU factorization.\n",
            "To get the LU factorization see torch.lu, which can be used with torch.lu_solve or torch.lu_unpack.\n",
            "X = torch.solve(B, A).solution\n",
            "should be replaced with\n",
            "X = torch.linalg.solve(A, B) (Triggered internally at  /pytorch/aten/src/ATen/native/BatchLinearAlgebra.cpp:760.)\n",
            "  ret = func(*args, **kwargs)\n"
          ],
          "name": "stderr"
        }
      ]
    },
    {
      "cell_type": "code",
      "metadata": {
        "id": "iPVKhluKcl1O",
        "colab": {
          "base_uri": "https://localhost:8080/"
        },
        "outputId": "8a1eb6ab-0ec5-4ed9-fd25-ee8990292ce0"
      },
      "source": [
        "\n",
        "\n",
        "def get_dls(bs, size):\n",
        "    dblock = DataBlock(blocks=(ImageBlock, CategoryBlock),\n",
        "                       get_items=get_image_files,\n",
        "                       get_y=parent_label,\n",
        "                       item_tfms=Resize(460),\n",
        "                       batch_tfms=[*aug_transforms(size=size, min_scale=0.75),\n",
        "                                   Normalize.from_stats(*imagenet_stats)])\n",
        "    return dblock.dataloaders(path, bs=bs)\n",
        "\n",
        "dls = get_dls(64, 224)\n",
        "\n",
        "x,y = dls.one_batch()\n",
        "x.mean(dim=[0,2,3]),x.std(dim=[0,2,3])"
      ],
      "execution_count": null,
      "outputs": [
        {
          "output_type": "execute_result",
          "data": {
            "text/plain": [
              "(TensorImage([-0.3337, -0.1871, -0.1319], device='cuda:0'),\n",
              " TensorImage([1.2113, 1.2294, 1.3043], device='cuda:0'))"
            ]
          },
          "metadata": {
            "tags": []
          },
          "execution_count": 6
        }
      ]
    },
    {
      "cell_type": "code",
      "metadata": {
        "id": "fkEXrW4acx0w",
        "colab": {
          "base_uri": "https://localhost:8080/",
          "height": 258
        },
        "outputId": "39bf7c10-3e4c-48f6-8f8d-10497628c071"
      },
      "source": [
        "model = xresnet50(n_out=dls.c)\n",
        "learn = Learner(dls, model, loss_func=CrossEntropyLossFlat(), metrics=accuracy)\n",
        "learn.fit_one_cycle(5, 3e-3)"
      ],
      "execution_count": null,
      "outputs": [
        {
          "output_type": "display_data",
          "data": {
            "text/html": [
              "<table border=\"1\" class=\"dataframe\">\n",
              "  <thead>\n",
              "    <tr style=\"text-align: left;\">\n",
              "      <th>epoch</th>\n",
              "      <th>train_loss</th>\n",
              "      <th>valid_loss</th>\n",
              "      <th>accuracy</th>\n",
              "      <th>time</th>\n",
              "    </tr>\n",
              "  </thead>\n",
              "  <tbody>\n",
              "    <tr>\n",
              "      <td>0</td>\n",
              "      <td>1.589169</td>\n",
              "      <td>2.406601</td>\n",
              "      <td>0.394324</td>\n",
              "      <td>02:06</td>\n",
              "    </tr>\n",
              "    <tr>\n",
              "      <td>1</td>\n",
              "      <td>1.227618</td>\n",
              "      <td>1.181839</td>\n",
              "      <td>0.617998</td>\n",
              "      <td>02:07</td>\n",
              "    </tr>\n",
              "    <tr>\n",
              "      <td>2</td>\n",
              "      <td>0.953036</td>\n",
              "      <td>0.887949</td>\n",
              "      <td>0.716206</td>\n",
              "      <td>02:06</td>\n",
              "    </tr>\n",
              "    <tr>\n",
              "      <td>3</td>\n",
              "      <td>0.755232</td>\n",
              "      <td>0.755916</td>\n",
              "      <td>0.761016</td>\n",
              "      <td>02:05</td>\n",
              "    </tr>\n",
              "    <tr>\n",
              "      <td>4</td>\n",
              "      <td>0.585928</td>\n",
              "      <td>0.562236</td>\n",
              "      <td>0.824122</td>\n",
              "      <td>02:05</td>\n",
              "    </tr>\n",
              "  </tbody>\n",
              "</table>"
            ],
            "text/plain": [
              "<IPython.core.display.HTML object>"
            ]
          },
          "metadata": {
            "tags": []
          }
        },
        {
          "output_type": "stream",
          "text": [
            "/usr/local/lib/python3.7/dist-packages/torch/nn/functional.py:718: UserWarning: Named tensors and all their associated APIs are an experimental feature and subject to change. Please do not use them for anything important until they are released as stable. (Triggered internally at  /pytorch/c10/core/TensorImpl.h:1156.)\n",
            "  return torch.max_pool2d(input, kernel_size, stride, padding, dilation, ceil_mode)\n"
          ],
          "name": "stderr"
        }
      ]
    },
    {
      "cell_type": "markdown",
      "metadata": {
        "id": "Jxk1dzbd-xL4"
      },
      "source": [
        "####*Progressive Resizing*"
      ]
    },
    {
      "cell_type": "code",
      "metadata": {
        "id": "UORgvEN8-wtH",
        "colab": {
          "base_uri": "https://localhost:8080/",
          "height": 173
        },
        "outputId": "a67eeec9-bcd0-470b-aca4-9f213f460df1"
      },
      "source": [
        "dls = get_dls(128, 128)\n",
        "learn = Learner(dls, xresnet50(n_out=dls.c), loss_func=CrossEntropyLossFlat(), \n",
        "                metrics=accuracy)\n",
        "learn.fit_one_cycle(4, 3e-3)"
      ],
      "execution_count": null,
      "outputs": [
        {
          "output_type": "display_data",
          "data": {
            "text/html": [
              "<table border=\"1\" class=\"dataframe\">\n",
              "  <thead>\n",
              "    <tr style=\"text-align: left;\">\n",
              "      <th>epoch</th>\n",
              "      <th>train_loss</th>\n",
              "      <th>valid_loss</th>\n",
              "      <th>accuracy</th>\n",
              "      <th>time</th>\n",
              "    </tr>\n",
              "  </thead>\n",
              "  <tbody>\n",
              "    <tr>\n",
              "      <td>0</td>\n",
              "      <td>1.604778</td>\n",
              "      <td>3.349528</td>\n",
              "      <td>0.286034</td>\n",
              "      <td>01:54</td>\n",
              "    </tr>\n",
              "    <tr>\n",
              "      <td>1</td>\n",
              "      <td>1.224700</td>\n",
              "      <td>1.271022</td>\n",
              "      <td>0.595967</td>\n",
              "      <td>01:54</td>\n",
              "    </tr>\n",
              "    <tr>\n",
              "      <td>2</td>\n",
              "      <td>0.948092</td>\n",
              "      <td>0.849190</td>\n",
              "      <td>0.733757</td>\n",
              "      <td>01:53</td>\n",
              "    </tr>\n",
              "    <tr>\n",
              "      <td>3</td>\n",
              "      <td>0.739909</td>\n",
              "      <td>0.640563</td>\n",
              "      <td>0.802091</td>\n",
              "      <td>01:54</td>\n",
              "    </tr>\n",
              "  </tbody>\n",
              "</table>"
            ],
            "text/plain": [
              "<IPython.core.display.HTML object>"
            ]
          },
          "metadata": {
            "tags": []
          }
        }
      ]
    },
    {
      "cell_type": "markdown",
      "metadata": {
        "id": "JXYgk9PX-9LH"
      },
      "source": [
        "####*Test Time Augmentation*"
      ]
    },
    {
      "cell_type": "code",
      "metadata": {
        "id": "Il6OivyY_GBR",
        "colab": {
          "base_uri": "https://localhost:8080/",
          "height": 54
        },
        "outputId": "722bd00d-23be-4ca3-fff5-b7e09ff7d432"
      },
      "source": [
        "preds,targs = learn.tta()\n",
        "accuracy(preds, targs).item()"
      ],
      "execution_count": null,
      "outputs": [
        {
          "output_type": "display_data",
          "data": {
            "text/html": [
              "\n",
              "    <div>\n",
              "        <style>\n",
              "            /* Turns off some styling */\n",
              "            progress {\n",
              "                /* gets rid of default border in Firefox and Opera. */\n",
              "                border: none;\n",
              "                /* Needs to be in here for Safari polyfill so background images work as expected. */\n",
              "                background-size: auto;\n",
              "            }\n",
              "            .progress-bar-interrupted, .progress-bar-interrupted::-webkit-progress-bar {\n",
              "                background: #F44336;\n",
              "            }\n",
              "        </style>\n",
              "      <progress value='0' class='' max='4' style='width:300px; height:20px; vertical-align: middle;'></progress>\n",
              "      \n",
              "    </div>\n",
              "    \n"
            ],
            "text/plain": [
              "<IPython.core.display.HTML object>"
            ]
          },
          "metadata": {
            "tags": []
          }
        },
        {
          "output_type": "display_data",
          "data": {
            "text/html": [
              ""
            ],
            "text/plain": [
              "<IPython.core.display.HTML object>"
            ]
          },
          "metadata": {
            "tags": []
          }
        },
        {
          "output_type": "execute_result",
          "data": {
            "text/plain": [
              "0.8095593452453613"
            ]
          },
          "metadata": {
            "tags": []
          },
          "execution_count": 8
        }
      ]
    },
    {
      "cell_type": "markdown",
      "metadata": {
        "id": "rPk0261e_Ga1"
      },
      "source": [
        "####*Mixup*"
      ]
    },
    {
      "cell_type": "code",
      "metadata": {
        "id": "FmbzfCFV_JvW",
        "colab": {
          "base_uri": "https://localhost:8080/",
          "height": 204
        },
        "outputId": "68548fe2-1902-46c3-cd1b-3c226544a1b8"
      },
      "source": [
        "model = xresnet50(n_out=dls.c)\n",
        "learn = Learner(dls, model, loss_func=CrossEntropyLossFlat(), \n",
        "                metrics=accuracy, cbs=MixUp())\n",
        "learn.fit_one_cycle(5, 3e-3)"
      ],
      "execution_count": null,
      "outputs": [
        {
          "output_type": "display_data",
          "data": {
            "text/html": [
              "<table border=\"1\" class=\"dataframe\">\n",
              "  <thead>\n",
              "    <tr style=\"text-align: left;\">\n",
              "      <th>epoch</th>\n",
              "      <th>train_loss</th>\n",
              "      <th>valid_loss</th>\n",
              "      <th>accuracy</th>\n",
              "      <th>time</th>\n",
              "    </tr>\n",
              "  </thead>\n",
              "  <tbody>\n",
              "    <tr>\n",
              "      <td>0</td>\n",
              "      <td>1.902669</td>\n",
              "      <td>2.532270</td>\n",
              "      <td>0.406273</td>\n",
              "      <td>01:54</td>\n",
              "    </tr>\n",
              "    <tr>\n",
              "      <td>1</td>\n",
              "      <td>1.688156</td>\n",
              "      <td>1.850655</td>\n",
              "      <td>0.490665</td>\n",
              "      <td>01:54</td>\n",
              "    </tr>\n",
              "    <tr>\n",
              "      <td>2</td>\n",
              "      <td>1.453632</td>\n",
              "      <td>1.016058</td>\n",
              "      <td>0.676624</td>\n",
              "      <td>01:54</td>\n",
              "    </tr>\n",
              "    <tr>\n",
              "      <td>3</td>\n",
              "      <td>1.291450</td>\n",
              "      <td>0.779515</td>\n",
              "      <td>0.761016</td>\n",
              "      <td>01:55</td>\n",
              "    </tr>\n",
              "    <tr>\n",
              "      <td>4</td>\n",
              "      <td>1.184780</td>\n",
              "      <td>0.694673</td>\n",
              "      <td>0.801344</td>\n",
              "      <td>01:54</td>\n",
              "    </tr>\n",
              "  </tbody>\n",
              "</table>"
            ],
            "text/plain": [
              "<IPython.core.display.HTML object>"
            ]
          },
          "metadata": {
            "tags": []
          }
        }
      ]
    },
    {
      "cell_type": "markdown",
      "metadata": {
        "id": "a4Ns8lsz_KBS"
      },
      "source": [
        "####*Lable Smoothing*"
      ]
    },
    {
      "cell_type": "code",
      "metadata": {
        "id": "1dJMYsh7_McQ",
        "colab": {
          "base_uri": "https://localhost:8080/",
          "height": 188
        },
        "outputId": "e7b5227a-90b4-47f5-ba3c-0e8bea0df21f"
      },
      "source": [
        "model = xresnet50(n_out=dls.c)\n",
        "learn = Learner(dls, model, loss_func=LabelSmoothingCrossEntropy(), \n",
        "                metrics=accuracy)\n",
        "learn.fit_one_cycle(5, 3e-3)"
      ],
      "execution_count": null,
      "outputs": [
        {
          "output_type": "display_data",
          "data": {
            "text/html": [
              "\n",
              "    <div>\n",
              "        <style>\n",
              "            /* Turns off some styling */\n",
              "            progress {\n",
              "                /* gets rid of default border in Firefox and Opera. */\n",
              "                border: none;\n",
              "                /* Needs to be in here for Safari polyfill so background images work as expected. */\n",
              "                background-size: auto;\n",
              "            }\n",
              "            .progress-bar-interrupted, .progress-bar-interrupted::-webkit-progress-bar {\n",
              "                background: #F44336;\n",
              "            }\n",
              "        </style>\n",
              "      <progress value='3' class='' max='5' style='width:300px; height:20px; vertical-align: middle;'></progress>\n",
              "      60.00% [3/5 05:43<03:49]\n",
              "    </div>\n",
              "    \n",
              "<table border=\"1\" class=\"dataframe\">\n",
              "  <thead>\n",
              "    <tr style=\"text-align: left;\">\n",
              "      <th>epoch</th>\n",
              "      <th>train_loss</th>\n",
              "      <th>valid_loss</th>\n",
              "      <th>accuracy</th>\n",
              "      <th>time</th>\n",
              "    </tr>\n",
              "  </thead>\n",
              "  <tbody>\n",
              "    <tr>\n",
              "      <td>0</td>\n",
              "      <td>1.808663</td>\n",
              "      <td>2.037147</td>\n",
              "      <td>0.464152</td>\n",
              "      <td>01:54</td>\n",
              "    </tr>\n",
              "    <tr>\n",
              "      <td>1</td>\n",
              "      <td>1.543168</td>\n",
              "      <td>1.544442</td>\n",
              "      <td>0.603435</td>\n",
              "      <td>01:54</td>\n",
              "    </tr>\n",
              "    <tr>\n",
              "      <td>2</td>\n",
              "      <td>1.306987</td>\n",
              "      <td>1.324062</td>\n",
              "      <td>0.677745</td>\n",
              "      <td>01:54</td>\n",
              "    </tr>\n",
              "  </tbody>\n",
              "</table><p>\n",
              "\n",
              "    <div>\n",
              "        <style>\n",
              "            /* Turns off some styling */\n",
              "            progress {\n",
              "                /* gets rid of default border in Firefox and Opera. */\n",
              "                border: none;\n",
              "                /* Needs to be in here for Safari polyfill so background images work as expected. */\n",
              "                background-size: auto;\n",
              "            }\n",
              "            .progress-bar-interrupted, .progress-bar-interrupted::-webkit-progress-bar {\n",
              "                background: #F44336;\n",
              "            }\n",
              "        </style>\n",
              "      <progress value='40' class='' max='83' style='width:300px; height:20px; vertical-align: middle;'></progress>\n",
              "      48.19% [40/83 00:44<00:47 1.2307]\n",
              "    </div>\n",
              "    "
            ],
            "text/plain": [
              "<IPython.core.display.HTML object>"
            ]
          },
          "metadata": {
            "tags": []
          }
        }
      ]
    },
    {
      "cell_type": "markdown",
      "metadata": {
        "id": "6l6KGxOK_NnO"
      },
      "source": [
        "###Train the Model"
      ]
    },
    {
      "cell_type": "code",
      "metadata": {
        "id": "g1rMw6rt_Q9l"
      },
      "source": [
        ""
      ],
      "execution_count": null,
      "outputs": []
    }
  ]
}