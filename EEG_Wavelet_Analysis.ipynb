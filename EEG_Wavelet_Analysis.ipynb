{
  "nbformat": 4,
  "nbformat_minor": 0,
  "metadata": {
    "colab": {
      "name": "EEG_Wavelet_Analysis",
      "provenance": [],
      "collapsed_sections": [],
      "machine_shape": "hm",
      "mount_file_id": "1ZTXLlKL8o4oHxOjhdfRRE6BPbfsf9DVd",
      "authorship_tag": "ABX9TyPhj1PMrFEa+x39GN5a0UqU",
      "include_colab_link": true
    },
    "kernelspec": {
      "name": "python3",
      "display_name": "Python 3"
    },
    "language_info": {
      "name": "python"
    },
    "accelerator": "TPU",
    "widgets": {
      "application/vnd.jupyter.widget-state+json": {
        "dda37e1355d446289926f3a57ba562e0": {
          "model_module": "@jupyter-widgets/controls",
          "model_name": "HBoxModel",
          "model_module_version": "1.5.0",
          "state": {
            "_view_name": "HBoxView",
            "_dom_classes": [],
            "_model_name": "HBoxModel",
            "_view_module": "@jupyter-widgets/controls",
            "_model_module_version": "1.5.0",
            "_view_count": null,
            "_view_module_version": "1.5.0",
            "box_style": "",
            "layout": "IPY_MODEL_ad5fdf5e66c94610b2c059bf6aa099d5",
            "_model_module": "@jupyter-widgets/controls",
            "children": [
              "IPY_MODEL_f221ba5ac4a74f5e9b73521e92476cfe",
              "IPY_MODEL_6e42eac6e46646b690d3bc39e9b04226",
              "IPY_MODEL_588a74c6d1c041d7b73e40a570188383"
            ]
          }
        },
        "ad5fdf5e66c94610b2c059bf6aa099d5": {
          "model_module": "@jupyter-widgets/base",
          "model_name": "LayoutModel",
          "model_module_version": "1.2.0",
          "state": {
            "_view_name": "LayoutView",
            "grid_template_rows": null,
            "right": null,
            "justify_content": null,
            "_view_module": "@jupyter-widgets/base",
            "overflow": null,
            "_model_module_version": "1.2.0",
            "_view_count": null,
            "flex_flow": null,
            "width": null,
            "min_width": null,
            "border": null,
            "align_items": null,
            "bottom": null,
            "_model_module": "@jupyter-widgets/base",
            "top": null,
            "grid_column": null,
            "overflow_y": null,
            "overflow_x": null,
            "grid_auto_flow": null,
            "grid_area": null,
            "grid_template_columns": null,
            "flex": null,
            "_model_name": "LayoutModel",
            "justify_items": null,
            "grid_row": null,
            "max_height": null,
            "align_content": null,
            "visibility": null,
            "align_self": null,
            "height": null,
            "min_height": null,
            "padding": null,
            "grid_auto_rows": null,
            "grid_gap": null,
            "max_width": null,
            "order": null,
            "_view_module_version": "1.2.0",
            "grid_template_areas": null,
            "object_position": null,
            "object_fit": null,
            "grid_auto_columns": null,
            "margin": null,
            "display": null,
            "left": null
          }
        },
        "f221ba5ac4a74f5e9b73521e92476cfe": {
          "model_module": "@jupyter-widgets/controls",
          "model_name": "HTMLModel",
          "model_module_version": "1.5.0",
          "state": {
            "_view_name": "HTMLView",
            "style": "IPY_MODEL_4a316ab8c3c242a8b5c6de32010c8ce6",
            "_dom_classes": [],
            "description": "",
            "_model_name": "HTMLModel",
            "placeholder": "​",
            "_view_module": "@jupyter-widgets/controls",
            "_model_module_version": "1.5.0",
            "value": "100%",
            "_view_count": null,
            "_view_module_version": "1.5.0",
            "description_tooltip": null,
            "_model_module": "@jupyter-widgets/controls",
            "layout": "IPY_MODEL_30d375e11b2548acbf447fc9a0707d1c"
          }
        },
        "6e42eac6e46646b690d3bc39e9b04226": {
          "model_module": "@jupyter-widgets/controls",
          "model_name": "FloatProgressModel",
          "model_module_version": "1.5.0",
          "state": {
            "_view_name": "ProgressView",
            "style": "IPY_MODEL_adea77eecb9b40019effef2d5ea12436",
            "_dom_classes": [],
            "description": "",
            "_model_name": "FloatProgressModel",
            "bar_style": "success",
            "max": 87319819,
            "_view_module": "@jupyter-widgets/controls",
            "_model_module_version": "1.5.0",
            "value": 87319819,
            "_view_count": null,
            "_view_module_version": "1.5.0",
            "orientation": "horizontal",
            "min": 0,
            "description_tooltip": null,
            "_model_module": "@jupyter-widgets/controls",
            "layout": "IPY_MODEL_76560354c56f4cb3b10a3e3d711ac5a7"
          }
        },
        "588a74c6d1c041d7b73e40a570188383": {
          "model_module": "@jupyter-widgets/controls",
          "model_name": "HTMLModel",
          "model_module_version": "1.5.0",
          "state": {
            "_view_name": "HTMLView",
            "style": "IPY_MODEL_ce0fef7e0ccf41108d41d01ffd169833",
            "_dom_classes": [],
            "description": "",
            "_model_name": "HTMLModel",
            "placeholder": "​",
            "_view_module": "@jupyter-widgets/controls",
            "_model_module_version": "1.5.0",
            "value": " 83.3M/83.3M [00:04&lt;00:00, 19.0MB/s]",
            "_view_count": null,
            "_view_module_version": "1.5.0",
            "description_tooltip": null,
            "_model_module": "@jupyter-widgets/controls",
            "layout": "IPY_MODEL_c243872209e4433a82206f1a5c96be8e"
          }
        },
        "4a316ab8c3c242a8b5c6de32010c8ce6": {
          "model_module": "@jupyter-widgets/controls",
          "model_name": "DescriptionStyleModel",
          "model_module_version": "1.5.0",
          "state": {
            "_view_name": "StyleView",
            "_model_name": "DescriptionStyleModel",
            "description_width": "",
            "_view_module": "@jupyter-widgets/base",
            "_model_module_version": "1.5.0",
            "_view_count": null,
            "_view_module_version": "1.2.0",
            "_model_module": "@jupyter-widgets/controls"
          }
        },
        "30d375e11b2548acbf447fc9a0707d1c": {
          "model_module": "@jupyter-widgets/base",
          "model_name": "LayoutModel",
          "model_module_version": "1.2.0",
          "state": {
            "_view_name": "LayoutView",
            "grid_template_rows": null,
            "right": null,
            "justify_content": null,
            "_view_module": "@jupyter-widgets/base",
            "overflow": null,
            "_model_module_version": "1.2.0",
            "_view_count": null,
            "flex_flow": null,
            "width": null,
            "min_width": null,
            "border": null,
            "align_items": null,
            "bottom": null,
            "_model_module": "@jupyter-widgets/base",
            "top": null,
            "grid_column": null,
            "overflow_y": null,
            "overflow_x": null,
            "grid_auto_flow": null,
            "grid_area": null,
            "grid_template_columns": null,
            "flex": null,
            "_model_name": "LayoutModel",
            "justify_items": null,
            "grid_row": null,
            "max_height": null,
            "align_content": null,
            "visibility": null,
            "align_self": null,
            "height": null,
            "min_height": null,
            "padding": null,
            "grid_auto_rows": null,
            "grid_gap": null,
            "max_width": null,
            "order": null,
            "_view_module_version": "1.2.0",
            "grid_template_areas": null,
            "object_position": null,
            "object_fit": null,
            "grid_auto_columns": null,
            "margin": null,
            "display": null,
            "left": null
          }
        },
        "adea77eecb9b40019effef2d5ea12436": {
          "model_module": "@jupyter-widgets/controls",
          "model_name": "ProgressStyleModel",
          "model_module_version": "1.5.0",
          "state": {
            "_view_name": "StyleView",
            "_model_name": "ProgressStyleModel",
            "description_width": "",
            "_view_module": "@jupyter-widgets/base",
            "_model_module_version": "1.5.0",
            "_view_count": null,
            "_view_module_version": "1.2.0",
            "bar_color": null,
            "_model_module": "@jupyter-widgets/controls"
          }
        },
        "76560354c56f4cb3b10a3e3d711ac5a7": {
          "model_module": "@jupyter-widgets/base",
          "model_name": "LayoutModel",
          "model_module_version": "1.2.0",
          "state": {
            "_view_name": "LayoutView",
            "grid_template_rows": null,
            "right": null,
            "justify_content": null,
            "_view_module": "@jupyter-widgets/base",
            "overflow": null,
            "_model_module_version": "1.2.0",
            "_view_count": null,
            "flex_flow": null,
            "width": null,
            "min_width": null,
            "border": null,
            "align_items": null,
            "bottom": null,
            "_model_module": "@jupyter-widgets/base",
            "top": null,
            "grid_column": null,
            "overflow_y": null,
            "overflow_x": null,
            "grid_auto_flow": null,
            "grid_area": null,
            "grid_template_columns": null,
            "flex": null,
            "_model_name": "LayoutModel",
            "justify_items": null,
            "grid_row": null,
            "max_height": null,
            "align_content": null,
            "visibility": null,
            "align_self": null,
            "height": null,
            "min_height": null,
            "padding": null,
            "grid_auto_rows": null,
            "grid_gap": null,
            "max_width": null,
            "order": null,
            "_view_module_version": "1.2.0",
            "grid_template_areas": null,
            "object_position": null,
            "object_fit": null,
            "grid_auto_columns": null,
            "margin": null,
            "display": null,
            "left": null
          }
        },
        "ce0fef7e0ccf41108d41d01ffd169833": {
          "model_module": "@jupyter-widgets/controls",
          "model_name": "DescriptionStyleModel",
          "model_module_version": "1.5.0",
          "state": {
            "_view_name": "StyleView",
            "_model_name": "DescriptionStyleModel",
            "description_width": "",
            "_view_module": "@jupyter-widgets/base",
            "_model_module_version": "1.5.0",
            "_view_count": null,
            "_view_module_version": "1.2.0",
            "_model_module": "@jupyter-widgets/controls"
          }
        },
        "c243872209e4433a82206f1a5c96be8e": {
          "model_module": "@jupyter-widgets/base",
          "model_name": "LayoutModel",
          "model_module_version": "1.2.0",
          "state": {
            "_view_name": "LayoutView",
            "grid_template_rows": null,
            "right": null,
            "justify_content": null,
            "_view_module": "@jupyter-widgets/base",
            "overflow": null,
            "_model_module_version": "1.2.0",
            "_view_count": null,
            "flex_flow": null,
            "width": null,
            "min_width": null,
            "border": null,
            "align_items": null,
            "bottom": null,
            "_model_module": "@jupyter-widgets/base",
            "top": null,
            "grid_column": null,
            "overflow_y": null,
            "overflow_x": null,
            "grid_auto_flow": null,
            "grid_area": null,
            "grid_template_columns": null,
            "flex": null,
            "_model_name": "LayoutModel",
            "justify_items": null,
            "grid_row": null,
            "max_height": null,
            "align_content": null,
            "visibility": null,
            "align_self": null,
            "height": null,
            "min_height": null,
            "padding": null,
            "grid_auto_rows": null,
            "grid_gap": null,
            "max_width": null,
            "order": null,
            "_view_module_version": "1.2.0",
            "grid_template_areas": null,
            "object_position": null,
            "object_fit": null,
            "grid_auto_columns": null,
            "margin": null,
            "display": null,
            "left": null
          }
        }
      }
    }
  },
  "cells": [
    {
      "cell_type": "markdown",
      "metadata": {
        "id": "view-in-github",
        "colab_type": "text"
      },
      "source": [
        "<a href=\"https://colab.research.google.com/github/jamescavanagh/unpackAI/blob/main/EEG_Wavelet_Analysis.ipynb\" target=\"_parent\"><img src=\"https://colab.research.google.com/assets/colab-badge.svg\" alt=\"Open In Colab\"/></a>"
      ]
    },
    {
      "cell_type": "code",
      "metadata": {
        "colab": {
          "base_uri": "https://localhost:8080/"
        },
        "id": "bj4k1cSYvGm0",
        "outputId": "cc412590-400a-46a4-8467-5d030d39dc0b"
      },
      "source": [
        "# initalize drive\n",
        "from google.colab import drive\n",
        "drive.mount('/content/drive')\n",
        "!pip install -Uqq fastbook kaggle waterfallcharts treeinterpreter dtreeviz mne tslearn sktime\n",
        "import fastbook\n",
        "fastbook.setup_book()"
      ],
      "execution_count": 1,
      "outputs": [
        {
          "output_type": "stream",
          "text": [
            "Drive already mounted at /content/drive; to attempt to forcibly remount, call drive.mount(\"/content/drive\", force_remount=True).\n",
            "\u001b[K     |████████████████████████████████| 720 kB 5.2 MB/s \n",
            "\u001b[K     |████████████████████████████████| 60 kB 8.3 MB/s \n",
            "\u001b[K     |████████████████████████████████| 6.9 MB 29.1 MB/s \n",
            "\u001b[K     |████████████████████████████████| 793 kB 65.1 MB/s \n",
            "\u001b[K     |████████████████████████████████| 5.8 MB 75.8 MB/s \n",
            "\u001b[K     |████████████████████████████████| 186 kB 74.1 MB/s \n",
            "\u001b[K     |████████████████████████████████| 46 kB 4.5 MB/s \n",
            "\u001b[K     |████████████████████████████████| 1.2 MB 66.6 MB/s \n",
            "\u001b[K     |████████████████████████████████| 56 kB 4.3 MB/s \n",
            "\u001b[K     |████████████████████████████████| 51 kB 364 kB/s \n",
            "\u001b[K     |████████████████████████████████| 22.3 MB 1.1 MB/s \n",
            "\u001b[K     |████████████████████████████████| 9.5 MB 63.1 MB/s \n",
            "\u001b[?25h  Building wheel for waterfallcharts (setup.py) ... \u001b[?25l\u001b[?25hdone\n",
            "  Building wheel for dtreeviz (setup.py) ... \u001b[?25l\u001b[?25hdone\n",
            "Mounted at /content/gdrive\n"
          ],
          "name": "stdout"
        }
      ]
    },
    {
      "cell_type": "code",
      "metadata": {
        "colab": {
          "base_uri": "https://localhost:8080/"
        },
        "id": "xn_jgCRBvO39",
        "outputId": "2d25309c-b722-45a9-e47c-09668c537932"
      },
      "source": [
        "drive.mount('/content/drive') # in case of remount\n",
        "\n",
        "\n",
        "from fastbook import *\n",
        "from fastai.vision.widgets import *\n",
        "import os"
      ],
      "execution_count": 3,
      "outputs": [
        {
          "output_type": "stream",
          "text": [
            "Drive already mounted at /content/drive; to attempt to forcibly remount, call drive.mount(\"/content/drive\", force_remount=True).\n"
          ],
          "name": "stdout"
        }
      ]
    },
    {
      "cell_type": "code",
      "metadata": {
        "id": "YH5d-DQXvbMk"
      },
      "source": [
        "# Imports\n",
        "\n",
        "\n",
        "#Base Libraries  \n",
        "\n",
        "\n",
        "import os\n",
        "from multiprocessing import Pool\n",
        "import itertools\n",
        "import random \n",
        "import cv2\n",
        "\n",
        "\n",
        "# Data Science Librarires\n",
        "\n",
        "import numpy as np\n",
        "import pandas as pd \n",
        "import matplotlib.pyplot as plt\n",
        "\n",
        "from google.colab.patches import cv2_imshow\n",
        "\n",
        "\n",
        "# Heriarchical clustering\n",
        "\n",
        "from sktime.distances.elastic_cython import dtw_distance\n",
        "from scipy.cluster.hierarchy import single, complete, average, ward, dendrogram\n",
        "from scipy.cluster.hierarchy import fcluster\n",
        "\n",
        "# Wavelet Transform\n",
        "\n",
        "import pywt\n",
        "\n"
      ],
      "execution_count": 2,
      "outputs": []
    },
    {
      "cell_type": "code",
      "metadata": {
        "id": "cGnWcrhUOI0F"
      },
      "source": [
        "random.seed(42)"
      ],
      "execution_count": 4,
      "outputs": []
    },
    {
      "cell_type": "code",
      "metadata": {
        "colab": {
          "base_uri": "https://localhost:8080/"
        },
        "id": "pT107FWWvm5_",
        "outputId": "b895b1bf-4e10-462f-f0d2-55f933e6b546"
      },
      "source": [
        "# Loading the data\n",
        "\n",
        "# Multiprocessing increase the speed signiicantly from 5 minute\n",
        "\n",
        "\n",
        "train_dir = '/content/drive/My Drive/Colab_Data/EEG/SMNI_CMI_TRAIN/Train/'\n",
        "\n",
        "# wrap your csv importer in a function that can be mapped\n",
        "def read_csv(filename):\n",
        "    'converts a filename to a pandas dataframe'\n",
        "    return pd.read_csv(filename)\n",
        "\n",
        "\n",
        "# get a list of file names\n",
        "files = os.listdir(train_dir)\n",
        "file_list = [os.path.join(train_dir,filename) for filename in files if filename.split('.')[1]=='csv']\n",
        "                     \n",
        "print(file_list[0])\n",
        "\n",
        "# set up your pool\n",
        "with Pool(processes=8) as pool: # or whatever your hardware can support\n",
        "\n",
        "    # have your pool map the file names to dataframes\n",
        "\n",
        "\n",
        "    df_list = pool.map(read_csv, file_list)\n",
        "\n",
        "    # reduce the list of dataframes to a single dataframe\n",
        "    combined_df = pd.concat(df_list, ignore_index=True)\n",
        "\n",
        "EEG_data = combined_df[combined_df['subject identifier'] == 'a']\n",
        "EEG_data_control = combined_df[combined_df['subject identifier'] == 'c']\n",
        "\n",
        "del combined_df"
      ],
      "execution_count": 5,
      "outputs": [
        {
          "output_type": "stream",
          "text": [
            "/content/drive/My Drive/Colab_Data/EEG/SMNI_CMI_TRAIN/Train/Data11.csv\n"
          ],
          "name": "stdout"
        }
      ]
    },
    {
      "cell_type": "markdown",
      "metadata": {
        "id": "2AOZYSAfvzX9"
      },
      "source": [
        "# Data Cleansing and Wrangling\n"
      ]
    },
    {
      "cell_type": "code",
      "metadata": {
        "id": "GWXtvFx8vt1q"
      },
      "source": [
        "# Wrangling the sensor position capitalization\n",
        "\n",
        "EEG_data = EEG_data.drop(['Unnamed: 0'], axis=1)\n",
        "EEG_data.loc[EEG_data['matching condition'] == 'S2 nomatch,', 'matching condition'] =  'S2 nomatch' ## remove comma sign from stimulus name  \n",
        "\n",
        "## replace some 'senso4/1AX4XfWjxIbaBk1mjB1EGwKxLgAcVGZ4jYKlCxUrTC3J6zb1GcEgabB3B9bMr position' values\n",
        "EEG_data.loc[EEG_data['sensor position'] == 'AF1', 'sensor position'] = 'AF3'\n",
        "EEG_data.loc[EEG_data['sensor position'] == 'AF2', 'sensor position'] = 'AF4'\n",
        "EEG_data.loc[EEG_data['sensor position'] == 'PO1', 'sensor position'] = 'PO3'\n",
        "EEG_data.loc[EEG_data['sensor position'] == 'PO2', 'sensor position'] = 'PO4'\n",
        "\n",
        "EEG_data.loc[EEG_data['sensor position'] == 'FP1', 'sensor position'] = 'Fp1'\n",
        "EEG_data.loc[EEG_data['sensor position'] == 'FP2', 'sensor position'] = 'Fp2'\n",
        "EEG_data.loc[EEG_data['sensor position'] == 'CPZ', 'sensor position'] = 'CPz'\n",
        "EEG_data.loc[EEG_data['sensor position'] == 'FZ', 'sensor position'] = 'Fz'\n",
        "\n",
        "EEG_data.loc[EEG_data['sensor position'] == 'CZ', 'sensor position'] = 'Cz' ## exclusion of this position because it has a systematically extrem value\n",
        "\n",
        "EEG_data.loc[EEG_data['sensor position'] == 'PZ', 'sensor position'] = 'Pz'\n",
        "EEG_data.loc[EEG_data['sensor position'] == 'FPZ', 'sensor position'] = 'Fpz'\n",
        "EEG_data.loc[EEG_data['sensor position'] == 'AFZ', 'sensor position'] = 'AFz'\n",
        "EEG_data.loc[EEG_data['sensor position'] == 'FCZ', 'sensor position'] = 'FCz'\n",
        "\n",
        "EEG_data.loc[EEG_data['sensor position'] == 'POZ', 'sensor position'] = 'POz'\n",
        "EEG_data.loc[EEG_data['sensor position'] == 'OZ', 'sensor position'] = 'Oz'\n",
        "\n",
        "## Control Group\n",
        "\n",
        "\n",
        "EEG_data_control = EEG_data_control.drop(['Unnamed: 0'], axis=1) ## remove the unused column\n",
        "EEG_data_control.loc[EEG_data_control['matching condition'] == 'S2 nomatch,', 'matching condition'] =  'S2 nomatch' ## remove comma sign from stimulus name    \n",
        "## replace some 'sensor position' values\n",
        "EEG_data_control.loc[EEG_data_control['sensor position'] == 'AF1', 'sensor position'] = 'AF3'\n",
        "EEG_data_control.loc[EEG_data_control['sensor position'] == 'AF2', 'sensor position'] = 'AF4'\n",
        "EEG_data_control.loc[EEG_data_control['sensor position'] == 'PO1', 'sensor position'] = 'PO3'\n",
        "EEG_data_control.loc[EEG_data_control['sensor position'] == 'PO2', 'sensor position'] = 'PO4'\n",
        "\n",
        "EEG_data_control.loc[EEG_data_control['sensor position'] == 'FP1', 'sensor position'] = 'Fp1'\n",
        "EEG_data_control.loc[EEG_data_control['sensor position'] == 'FP2', 'sensor position'] = 'Fp2'\n",
        "EEG_data_control.loc[EEG_data_control['sensor position'] == 'CPZ', 'sensor position'] = 'CPz'\n",
        "EEG_data_control.loc[EEG_data_control['sensor position'] == 'FZ', 'sensor position'] = 'Fz'\n",
        "\n",
        "EEG_data_control.loc[EEG_data_control['sensor position'] == 'CZ', 'sensor position'] = 'Cz' ## exclusion of this position because it has a systematically extrem value\n",
        "\n",
        "EEG_data_control.loc[EEG_data_control['sensor position'] == 'PZ', 'sensor position'] = 'Pz'\n",
        "EEG_data_control.loc[EEG_data_control['sensor position'] == 'FPZ', 'sensor position'] = 'Fpz'\n",
        "EEG_data_control.loc[EEG_data_control['sensor position'] == 'AFZ', 'sensor position'] = 'AFz'\n",
        "EEG_data_control.loc[EEG_data_control['sensor position'] == 'FCZ', 'sensor position'] = 'FCz'\n",
        "\n",
        "EEG_data_control.loc[EEG_data_control['sensor position'] == 'POZ', 'sensor position'] = 'POz'\n",
        "EEG_data_control.loc[EEG_data_control['sensor position'] == 'OZ', 'sensor position'] = 'Oz'"
      ],
      "execution_count": 6,
      "outputs": []
    },
    {
      "cell_type": "code",
      "metadata": {
        "colab": {
          "base_uri": "https://localhost:8080/",
          "height": 98
        },
        "id": "3OIupouLx_mm",
        "outputId": "8c1c2298-c09a-45bd-bf19-c94ef8d4cdaf"
      },
      "source": [
        "EEG_data.head(1) #shape x9 columns"
      ],
      "execution_count": 7,
      "outputs": [
        {
          "output_type": "execute_result",
          "data": {
            "text/html": [
              "<div>\n",
              "<style scoped>\n",
              "    .dataframe tbody tr th:only-of-type {\n",
              "        vertical-align: middle;\n",
              "    }\n",
              "\n",
              "    .dataframe tbody tr th {\n",
              "        vertical-align: top;\n",
              "    }\n",
              "\n",
              "    .dataframe thead th {\n",
              "        text-align: right;\n",
              "    }\n",
              "</style>\n",
              "<table border=\"1\" class=\"dataframe\">\n",
              "  <thead>\n",
              "    <tr style=\"text-align: right;\">\n",
              "      <th></th>\n",
              "      <th>trial number</th>\n",
              "      <th>sensor position</th>\n",
              "      <th>sample num</th>\n",
              "      <th>sensor value</th>\n",
              "      <th>subject identifier</th>\n",
              "      <th>matching condition</th>\n",
              "      <th>channel</th>\n",
              "      <th>name</th>\n",
              "      <th>time</th>\n",
              "    </tr>\n",
              "  </thead>\n",
              "  <tbody>\n",
              "    <tr>\n",
              "      <th>0</th>\n",
              "      <td>19</td>\n",
              "      <td>Fp1</td>\n",
              "      <td>0</td>\n",
              "      <td>-0.112</td>\n",
              "      <td>a</td>\n",
              "      <td>S2 nomatch</td>\n",
              "      <td>0</td>\n",
              "      <td>co2a0000364</td>\n",
              "      <td>0.0</td>\n",
              "    </tr>\n",
              "  </tbody>\n",
              "</table>\n",
              "</div>"
            ],
            "text/plain": [
              "   trial number sensor position  sample num  sensor value subject identifier  \\\n",
              "0            19             Fp1           0        -0.112                  a   \n",
              "\n",
              "  matching condition  channel         name  time  \n",
              "0         S2 nomatch        0  co2a0000364   0.0  "
            ]
          },
          "metadata": {},
          "execution_count": 7
        }
      ]
    },
    {
      "cell_type": "code",
      "metadata": {
        "id": "C1QL0rU8v6fq"
      },
      "source": [
        "# Organzing according to experiment condition groups\n",
        "\n",
        "#Alc_Groups\n",
        "Alc_S1Obj = EEG_data[EEG_data['matching condition'] == 'S1 obj']\n",
        "Alc_S2Match = EEG_data[EEG_data['matching condition'] == 'S2 match']\n",
        "Alc_S2Nomatch = EEG_data[EEG_data['matching condition'] == 'S2 nomatch']\n",
        "\n",
        "#Control groups \n",
        "Con_S1Obj = EEG_data_control[EEG_data_control['matching condition'] == 'S1 obj']\n",
        "Con_S2Match = EEG_data_control[EEG_data_control['matching condition'] == 'S2 match']\n",
        "Con_S2Nomatch = EEG_data_control[EEG_data_control['matching condition'] == 'S2 nomatch']\n",
        "\n",
        "\n",
        "def trial_len_integrity_check(inputDF):\n",
        "\n",
        "  nameAndTrialNumber = inputDF.groupby(['trial number','name']).size().reset_index().rename(columns={0:'count'})\n",
        "  nameAndTrialNumber['count'] =np.where(nameAndTrialNumber['count'] == 16384,False,True)\n",
        "\n",
        "  del inputDF\n",
        "\n",
        "  if nameAndTrialNumber['count'].any():\n",
        "    # data integrity problem\n",
        "    Exception('Data Integrity problem, one of the arrays is not shaped 256x256')\n",
        "  #nameAndTrialNumber.drop(['count'],axis=1)\n",
        "\n",
        "  return nameAndTrialNumber[['trial number','name']]\n",
        "\n",
        "\n",
        "# Creating dataframes that contain relevant indexing information and checks data integrity\n",
        "# Trial Number, and subject names \n",
        "\n",
        "Con_S1Obj_Index = trial_len_integrity_check(Con_S1Obj) \n",
        "Con_S2Match_Index = trial_len_integrity_check(Con_S2Match) \n",
        "Con_S2Nomatch_Index = trial_len_integrity_check(Con_S2Nomatch) \n",
        "\n",
        "Alc_S1Obj_Index = trial_len_integrity_check(Alc_S1Obj) \n",
        "Alc_S2Match_Index = trial_len_integrity_check(Alc_S2Match) \n",
        "Alc_S2Nomatch_Index = trial_len_integrity_check(Alc_S2Nomatch) \n"
      ],
      "execution_count": 8,
      "outputs": []
    },
    {
      "cell_type": "code",
      "metadata": {
        "id": "MfWhZPrl4fAa"
      },
      "source": [
        ""
      ],
      "execution_count": 8,
      "outputs": []
    },
    {
      "cell_type": "code",
      "metadata": {
        "id": "QBFANA6JyxeI"
      },
      "source": [
        ""
      ],
      "execution_count": 8,
      "outputs": []
    },
    {
      "cell_type": "code",
      "metadata": {
        "id": "34UbC7AOzPNV"
      },
      "source": [
        ""
      ],
      "execution_count": 8,
      "outputs": []
    },
    {
      "cell_type": "code",
      "metadata": {
        "id": "ANeO7ZJww6Hb"
      },
      "source": [
        ""
      ],
      "execution_count": 8,
      "outputs": []
    },
    {
      "cell_type": "code",
      "metadata": {
        "id": "OrtEYiCqxocc"
      },
      "source": [
        ""
      ],
      "execution_count": 8,
      "outputs": []
    },
    {
      "cell_type": "code",
      "metadata": {
        "id": "W5roIQ-60tEC"
      },
      "source": [
        "#nameAndTrialNumber['count'] =np.where(nameAndTrialNumber['count'] != 16384,True,False)"
      ],
      "execution_count": 9,
      "outputs": []
    },
    {
      "cell_type": "code",
      "metadata": {
        "id": "QJv6tFqv13vx"
      },
      "source": [
        ""
      ],
      "execution_count": 9,
      "outputs": []
    },
    {
      "cell_type": "markdown",
      "metadata": {
        "id": "shjF5PPDwLgR"
      },
      "source": [
        "# Processing the time series data into a wavelet\n",
        "\n",
        "\n",
        "# Reasons: Seperate the frequency and time information\n",
        "\n",
        "### wavelengths at lower hertz dominate the information that is in the waves at higher frequencies. \n",
        "\n",
        "# Steps\n",
        "\n",
        "# Code to process the dataframe \n",
        "\n",
        "# Step 1, input the trial instance:\n",
        "\n",
        "### Go through through each dictionary of trial information, and select the   \n",
        "\n",
        "# Filter the dataframe \n",
        "\n",
        "# Step 2, analyse the trial, cluster the channels\n",
        "\n",
        "# Step 3 Create a dictionary with the index information and the cluster which it belongs to\n",
        "\n",
        "# Step 4 choose chose one from each cluster,then create a dictionary with the\n",
        "# Cluster which it belongs to, then the index in the trial sample.\n",
        "\n",
        "\n",
        "\n",
        "# Step 5  Take the dictionary, and use it to pull out one example of each cluster \n",
        "\n",
        "\n",
        "# Step 6 Render plot, and save it in memory as an np array, \n",
        "\n",
        "\n",
        "# Step 7, crop and filter the array\n",
        "\n",
        "\n",
        "#Step 8 collage the arrays together\n",
        "\n",
        "\n",
        "# Step 8 resize the collage, then save it to disk inside of a directory\n",
        "\n",
        "\n",
        "\n",
        "\n",
        "\n",
        "# Step\n"
      ]
    },
    {
      "cell_type": "code",
      "metadata": {
        "id": "IXy_bVml8yVZ"
      },
      "source": [
        ""
      ],
      "execution_count": 9,
      "outputs": []
    },
    {
      "cell_type": "code",
      "metadata": {
        "id": "1HFZXxguwHai"
      },
      "source": [
        "# Step 1 Step 1, input the trial instance:\n",
        "\n",
        "#Con_S1ObjTrials = trial_len_integrity_check(Con_S1Obj) \n",
        "#Con_S2MatchTrials = trial_len_integrity_check(Con_S2Match) \n",
        "#Con_S2NomatchTrials = trial_len_integrity_check(Con_S2Nomatch) \n",
        "\n",
        "#Alc_S1ObjTrials = trial_len_integrity_check(Alc_S1Obj) \n",
        "#Alc_S2MatchTrials = trial_len_integrity_check(Alc_S2Match) \n",
        "#Alc_S2NomatchTrials = trial_len_integrity_check(Alc_S2Nomatch) \n",
        "\n",
        "\n",
        "\n",
        "\n",
        "# stand in varialbes\n",
        "input_data = Alc_S1Obj \n",
        "trial_index = Alc_S1Obj_Index\n",
        "row = 0\n",
        "\n",
        "#for row in trial_index.index:\n",
        "\n",
        "\n",
        "#  one_second_frame = input_data[(input_data['trial number'] == trial_index.loc[row]['trial number']) &\n",
        "#             (input_data['name'] == trial_index.loc[row]['name'])]\n",
        "  #print(one_second_frame.shape) #should be 16384\n",
        "\n",
        "def pull_one_second_frame(row, trial_index,input_data):\n",
        "\n",
        "    \"\"\"\n",
        "    Indexes the dataframe for the unique name and trial,\n",
        "    then creates a 64 by 256 pivot table\n",
        "    containing the time, channel, and sensor voltage information\n",
        "\n",
        "    \"\"\"\n",
        "    return input_data[(input_data['trial number'] == trial_index.loc[row]['trial number']) &\n",
        "             (input_data['name'] == trial_index.loc[row]['name'])].pivot_table(index='channel', columns='time', values = 'sensor value')"
      ],
      "execution_count": 10,
      "outputs": []
    },
    {
      "cell_type": "code",
      "metadata": {
        "id": "F1L7CF7yBC9W"
      },
      "source": [
        ""
      ],
      "execution_count": 10,
      "outputs": []
    },
    {
      "cell_type": "code",
      "metadata": {
        "id": "u6zT9PyOCX9G"
      },
      "source": [
        "One_Second_Frame = pull_one_second_frame(row,trial_index,input_data)"
      ],
      "execution_count": 11,
      "outputs": []
    },
    {
      "cell_type": "code",
      "metadata": {
        "id": "6_AdQ1hpBdF2"
      },
      "source": [
        "distance_matrix = One_Second_Frame"
      ],
      "execution_count": 12,
      "outputs": []
    },
    {
      "cell_type": "code",
      "metadata": {
        "id": "dLBc0vGRxwSr"
      },
      "source": [
        "# Step 2 Analyse the second frames's 64 channels\n",
        "\n",
        "# Variables\n",
        "num_of_clusters = 14\n",
        "distance_matrix = One_Second_Frame\n",
        "\n",
        "\n",
        "def cluster_channels(distance_matrix,num_of_clusters):\n",
        "\n",
        "\n",
        "\n",
        "  def hierarchical_clustering(dist_mat, method='ward'):\n",
        "    if method == 'complete':\n",
        "        Z = complete(distance_matrix)\n",
        "    if method == 'single':\n",
        "        Z = single(distance_matrix)\n",
        "    if method == 'average':\n",
        "        Z = average(distance_matrix)\n",
        "    if method == 'ward':\n",
        "        Z = ward(distance_matrix)\n",
        "\n",
        "    # Plotted visualization\n",
        "\n",
        "    #fig = plt.figure(figsize=(16, 8))\n",
        "    #dn = dendrogram(Z)\n",
        "    #plt.title(f\"Dendrogram for {method}-linkage with correlation distance\")\n",
        "    #plt.show()\n",
        "\n",
        "    return Z\n",
        "\n",
        "\n",
        "  linkage_matrix = hierarchical_clustering(distance_matrix)\n",
        "\n",
        "  # The cluster labels match the rows in the one second frame\n",
        "\n",
        "  cluster_labels = fcluster(linkage_matrix, num_of_clusters, criterion='maxclust')\n",
        "\n",
        "  #cluster_index = pd.concat([pd.Series(One_Second_Frame.index),pd.Series(cluster_labels)])\n",
        "\n",
        "  return cluster_labels\n"
      ],
      "execution_count": 13,
      "outputs": []
    },
    {
      "cell_type": "code",
      "metadata": {
        "colab": {
          "base_uri": "https://localhost:8080/"
        },
        "id": "beQOmqNmCZr1",
        "outputId": "0fd8eadc-c3f8-4978-a9ee-705628b66544"
      },
      "source": [
        "print(One_Second_Frame.shape)"
      ],
      "execution_count": 14,
      "outputs": [
        {
          "output_type": "stream",
          "text": [
            "(64, 256)\n"
          ],
          "name": "stdout"
        }
      ]
    },
    {
      "cell_type": "code",
      "metadata": {
        "colab": {
          "base_uri": "https://localhost:8080/"
        },
        "id": "CHide3ejGOqv",
        "outputId": "48ba85d3-1de5-4148-de59-eec625be729e"
      },
      "source": [
        "# Step 3 create an index of the channels and the clusters\n",
        "\n",
        "num_of_clusters = 14\n",
        "\n",
        "cluster_index = cluster_channels(One_Second_Frame,num_of_clusters)\n",
        "\n",
        "print('number of clusters')\n",
        "print(cluster_index.shape)\n",
        "\n",
        "unique_clusters = np.unique(cluster_index)\n",
        "unique_clusters_count = np.unique(cluster_index,return_counts=True)[1]\n",
        "\n"
      ],
      "execution_count": 15,
      "outputs": [
        {
          "output_type": "stream",
          "text": [
            "number of clusters\n",
            "(64,)\n"
          ],
          "name": "stdout"
        }
      ]
    },
    {
      "cell_type": "code",
      "metadata": {
        "colab": {
          "base_uri": "https://localhost:8080/"
        },
        "id": "Wv_CYp0kCmP2",
        "outputId": "1b4dfe9b-50dc-4bba-8a68-27e3ea03f231"
      },
      "source": [
        "cluster_index"
      ],
      "execution_count": 16,
      "outputs": [
        {
          "output_type": "execute_result",
          "data": {
            "text/plain": [
              "array([ 5,  5,  5, 11,  9,  9,  9,  9,  9,  9,  9,  9,  9, 10,  7, 14, 12,  3, 13,  3,  4,  4,  4,  4,  4,  4,  4,  2,  2,  2,  2,  5,  5,  6,  7,  9,  8, 10,  5,  9,  9,  4,  7,  9,  9,  4,  7,  9,\n",
              "        4,  4,  4,  4,  9,  4,  1,  1,  9,  2,  2,  4,  4,  4,  5,  5], dtype=int32)"
            ]
          },
          "metadata": {},
          "execution_count": 16
        }
      ]
    },
    {
      "cell_type": "code",
      "metadata": {
        "colab": {
          "base_uri": "https://localhost:8080/"
        },
        "id": "o-yQ60X_HzVS",
        "outputId": "b1da9175-6696-4adf-f7c2-ee24d972c1fc"
      },
      "source": [
        "unique_clusters_count"
      ],
      "execution_count": 17,
      "outputs": [
        {
          "output_type": "execute_result",
          "data": {
            "text/plain": [
              "array([ 2,  6,  2, 17,  8,  1,  4,  1, 17,  2,  1,  1,  1,  1])"
            ]
          },
          "metadata": {},
          "execution_count": 17
        }
      ]
    },
    {
      "cell_type": "code",
      "metadata": {
        "id": "gg-NPBijC9W2"
      },
      "source": [
        ""
      ],
      "execution_count": 17,
      "outputs": []
    },
    {
      "cell_type": "markdown",
      "metadata": {
        "id": "gMEAouhGHY-k"
      },
      "source": [
        "# Step 4: Choosing the relevant frames\n",
        "\n",
        "### Choose from the cluster in order to choose the one that is best\n",
        "\n",
        "### Option one, correlate each channel to find the one that is the most like the other ones\n",
        "\n",
        "\n",
        "### Option two: run another analysis in the clusters to choose the best one\n",
        "\n",
        "### Option Three: Select from the 3rd one Choose a random one\n",
        "\n",
        "## Choosing option three in order to create a baseline for further optimization\n",
        "\n"
      ]
    },
    {
      "cell_type": "code",
      "metadata": {
        "id": "b3Od5lngEDrN"
      },
      "source": [
        "## Step 4: Choose the clusters to choose from\n",
        "\n",
        "totalFramesToInclude = 9\n",
        "\n",
        "# Include all the clusters that are larger than one\n",
        "largerClusters = [k for k,v in enumerate(unique_clusters_count) if v > 1]\n",
        "sizeOneClusters = list(set(unique_clusters).difference(largerClusters))\n",
        "\n",
        "\n",
        "numToRandSelect = totalFramesToInclude - len(largerClusters)\n",
        "\n",
        "random_small_clusters = random.sample(sizeOneClusters,numToRandSelect)\n",
        "\n",
        "# Step 5\n",
        "largerClusters.extend(random_small_clusters)\n",
        "\n",
        "final_clusters = np.array(largerClusters)\n",
        "\n",
        "\n",
        "if not totalFramesToInclude == len(final_clusters):\n",
        "  Exception('total frames do not match')\n",
        "\n",
        "#return clusters_to_use\n"
      ],
      "execution_count": 18,
      "outputs": []
    },
    {
      "cell_type": "code",
      "metadata": {
        "id": "o7tobooBEdKj"
      },
      "source": [
        "#print(final_clusters)"
      ],
      "execution_count": 19,
      "outputs": []
    },
    {
      "cell_type": "code",
      "metadata": {
        "id": "d_IoYG8dN8Mp"
      },
      "source": [
        "# Step 5 take the final clusters then run through\n",
        "\n",
        "#for num in final_clusters:\n",
        "#  EEG_Frame = pull_one_second_frame() "
      ],
      "execution_count": 20,
      "outputs": []
    },
    {
      "cell_type": "code",
      "metadata": {
        "id": "iRmCz4cjEDwj"
      },
      "source": [
        ""
      ],
      "execution_count": 20,
      "outputs": []
    },
    {
      "cell_type": "code",
      "metadata": {
        "id": "nZ77hWBsNrTC"
      },
      "source": [
        ""
      ],
      "execution_count": 20,
      "outputs": []
    },
    {
      "cell_type": "code",
      "metadata": {
        "id": "88jOtgN2ODH3"
      },
      "source": [
        "\n",
        "\n",
        "#Con_S1Obj_Index \n",
        "#Con_S2Match_Index \n",
        "#Con_S2Nomatch_Index \n",
        "\n",
        "#Alc_S1Obj_Index \n",
        "#Alc_S2Match_Index \n",
        "#Alc_S2Nomatch_Index \n"
      ],
      "execution_count": 187,
      "outputs": []
    },
    {
      "cell_type": "code",
      "metadata": {
        "id": "suUkFSphG-BF"
      },
      "source": [
        "# Functions\n",
        "\n",
        "def cluster_channels(distance_matrix,num_of_clusters):\n",
        "\n",
        "  def hierarchical_clustering(dist_mat, method='ward'):\n",
        "    if method == 'complete':\n",
        "        Z = complete(distance_matrix)\n",
        "    if method == 'single':\n",
        "        Z = single(distance_matrix)\n",
        "    if method == 'average':\n",
        "        Z = average(distance_matrix)\n",
        "    if method == 'ward':\n",
        "        Z = ward(distance_matrix)\n",
        "\n",
        "    # Plotted visualization\n",
        "\n",
        "    #fig = plt.figure(figsize=(16, 8))\n",
        "    #dn = dendrogram(Z)\n",
        "    #plt.title(f\"Dendrogram for {method}-linkage with correlation distance\")\n",
        "    #plt.show()\n",
        "\n",
        "    return Z\n",
        "\n",
        "  linkage_matrix = hierarchical_clustering(distance_matrix)\n",
        "\n",
        "  # The cluster labels match the rows in the one second frame\n",
        "\n",
        "  cluster_labels = fcluster(linkage_matrix, num_of_clusters, criterion='maxclust')\n",
        "  return cluster_labels\n",
        "\n",
        "def select_clusters(cluster_index,totalFramesToInclude):\n",
        "    \n",
        "    unique_clusters = np.unique(cluster_index)\n",
        "    unique_clusters_count = np.unique(cluster_index,return_counts=True)[1]\n",
        "    #print(len(unique_clusters_count))\n",
        "    unique_clusters_count[unique_clusters_count != 0]\n",
        "    #print(len(unique_clusters_count))\n",
        "    \n",
        "    # Sort the order of the clusters into the largest to smallest\n",
        "\n",
        "    unique , count = np.unique(cluster_index, return_counts=True)\n",
        "\n",
        "    count_sort_ind = np.argsort(-count)\n",
        "\n",
        "    size_sorted_clusters = unique[count_sort_ind]\n",
        "\n",
        "  # Include all the clusters that are larger than one\n",
        "\n",
        "\n",
        "    #largerClusters = [k for k,v in enumerate(unique_clusters_count) if v > 1]\n",
        "\n",
        "    largerClusters = [k for k,v in enumerate(size_sorted_clusters) if v > 1]\n",
        "\n",
        "    # Below is an extremely important line, removes a zero from the index \n",
        "    # that does not belong in the cluster index. Otherwise everything breaks\n",
        "\n",
        "    largerClusters = [x for x in largerClusters if not x == 0]\n",
        "  \n",
        "    largerClusters = sorted(largerClusters)\n",
        "    \n",
        "    #print(len(largerClusters))\n",
        "    \n",
        "    #print(len(largerClusters))\n",
        "    #print('larger clusters')\n",
        "    #print(largerClusters)\n",
        "\n",
        "    # If there are more 2+ size clusters than 9, then hanle that\n",
        "\n",
        "    if len(largerClusters) == totalFramesToInclude:\n",
        "      #largerClusters = sorted(largerClusters)\n",
        "\n",
        "      #Sort by size\n",
        "      final_clusters = largerClusters\n",
        "\n",
        "    # If there are more, chose the larger clusters\n",
        "    elif len(largerClusters) > totalFramesToInclude:\n",
        "      largerClusters = sorted(largerClusters)\n",
        "      #print('clusters > 9')\n",
        "      #print(largerClusters)\n",
        "  \n",
        "      x = totalFramesToInclude\n",
        "      #print(largerClusters)\n",
        "      largerClusters = largerClusters[0:x]\n",
        "      #print(len(largerClusters))\n",
        "\n",
        "    elif len(largerClusters) < totalFramesToInclude: # Choose the larger clusters, and then randomly select size one clusters\n",
        "      #print('shorter')\n",
        "      sizeOneClusters = list(set(unique_clusters).difference(largerClusters))\n",
        "\n",
        "\n",
        "      numToRandSelect = totalFramesToInclude - len(largerClusters)\n",
        "      #print('should be this long')\n",
        "      #print(str(numToRandSelect + len(largerClusters)))\n",
        "      random_small_clusters = random.sample(sizeOneClusters,numToRandSelect)\n",
        "      # Step 5\n",
        "      #print(random_small_clusters)\n",
        "      #print('smaller clusters')\n",
        "      #print(random_small_clusters)\n",
        "      largerClusters = largerClusters + random_small_clusters\n",
        "      #print(len(largerClusters))\n",
        "    else:\n",
        "      Exception('size error')\n",
        "\n",
        "    if not len(largerClusters) == totalFramesToInclude:\n",
        "      print('not ok')\n",
        "    \n",
        "    #print(len(largerClusters))\n",
        "\n",
        "    final_clusters = np.array(largerClusters)\n",
        "    \n",
        "\n",
        "    return final_clusters\n",
        "\n",
        "# Step 5 1/2: select items from the cluster\n",
        "def select_channels_to_transform(trial_index, clusters_index, final_clusters_index):\n",
        "  \n",
        "  \"\"\"\n",
        "  outputs indicies of the channels that will be called out of the\n",
        "  64 Channel EEG frame\n",
        "\n",
        "  Takes in a list of clusters that will be uses\n",
        "\n",
        "  \"\"\"\n",
        "  \n",
        "  finalChannelsIndex = {}\n",
        "\n",
        "  #print(len(final_clusters_index))\n",
        "\n",
        "  for i in np.nditer(final_clusters_index): #range(1,len(final_clusters_index)-1):\n",
        "    #print(i)\n",
        "    timeSeriesIndices = np.where(clusters_index==i)[0]\n",
        "    if timeSeriesIndices.shape[0] == 0:\n",
        "      print(len(timeSeriesIndices)) \n",
        "\n",
        "    randomSelectionIndex = np.random.choice(timeSeriesIndices)\n",
        "\n",
        "    \n",
        "    #print(randomSelectionIndex)\n",
        "    finalChannelsIndex[randomSelectionIndex] = i\n",
        "  \n",
        "  return finalChannelsIndex\n",
        "\n",
        "\n"
      ],
      "execution_count": 21,
      "outputs": []
    },
    {
      "cell_type": "code",
      "metadata": {
        "id": "gBQiMimrJ-fp"
      },
      "source": [
        "# Part 2 \n",
        "\n",
        "# Conversion to Wavelet, Plotting, and Numpy conversion\n",
        "def wavelet_transformation_plot_to_array(signal):\n",
        "    dt = 0.25\n",
        "    time = np.arange(0,256,1)\n",
        "    scales = np.arange(1, 256)\n",
        "\n",
        "  #def plot_wavelet(ax, time, signal, scales, waveletname = 'cmor', \n",
        "  #                 cmap = plt.cm.seismic, title = '', ylabel = '', xlabel = ''):\n",
        "  \n",
        "\n",
        "    def plot_wavelet(ax, time, signal, scales, waveletname = 'morl', \n",
        "                    cmap = plt.cm.seismic, title = '', ylabel = '', xlabel = ''):\n",
        "        \n",
        "        dt = time[1] - time[0]\n",
        "        [coefficients, frequencies] = pywt.cwt(signal, scales, waveletname, dt)\n",
        "        power = (abs(coefficients)) ** 2\n",
        "        period = 1. / frequencies\n",
        "        levels = [0.0625, 0.125, 0.25, 0.5, 1, 2, 4, 8]\n",
        "        contourlevels = np.log2(levels)\n",
        "        \n",
        "        im = ax.contourf(time, np.log2(period), np.log2(power), contourlevels, extend='both',cmap=cmap)\n",
        "        \n",
        "        # turns off the plot\n",
        "        plt.ioff()\n",
        "\n",
        "\n",
        "        #ax.set_title(title, fontsize=20)\n",
        "        #ax.set_ylabel(ylabel, fontsize=18)\n",
        "        #ax.set_xlabel(xlabel, fontsize=18)\n",
        "        \n",
        "        yticks = 2**np.arange(np.ceil(np.log2(period.min())), np.ceil(np.log2(period.max())))\n",
        "        ax.set_yticks(np.log2(yticks))\n",
        "        ax.set_yticklabels(yticks)\n",
        "        \n",
        "        ax.invert_yaxis()\n",
        "        ylim = ax.get_ylim()\n",
        "        ax.set_ylim(ylim[0], -1)\n",
        "        return yticks, ylim\n",
        "\n",
        "    x = signal\n",
        "    title = ''\n",
        "    ylabel = ''\n",
        "    xlabel = ''\n",
        "\n",
        "\n",
        "\n",
        "    fig, ax = plt.subplots(figsize=(4,4))\n",
        "    plt.ioff()\n",
        "    plot_wavelet(ax, time, signal, scales, xlabel=xlabel, ylabel=ylabel, title=title)\n",
        "    ax.set_xticks([])\n",
        "    ax.set_yticks([])\n",
        "    ax.set_xticklabels([])\n",
        "    ax.set_yticklabels([])\n",
        "    ax.margins(x=0,y=0)\n",
        "    plt.tight_layout(pad=0, rect=(0,0,0,0))\n",
        "\n",
        "    def fig2data ( fig ):\n",
        "        \"\"\"\n",
        "        @brief Convert a Matplotlib figure to a 4D numpy array with RGBA channels and return it\n",
        "        @param fig a matplotlib figure\n",
        "        @return a numpy 3D array of RGBA values\n",
        "        \"\"\"\n",
        "        # draw the renderer\n",
        "        fig.canvas.draw ( )\n",
        "    \n",
        "        # Get the RGBA buffer from the figure\n",
        "        w,h = fig.canvas.get_width_height()\n",
        "        buf = np.frombuffer ( fig.canvas.tostring_argb(), dtype=np.uint8 )\n",
        "        buf.shape = ( w, h,4 )\n",
        "    \n",
        "        # canvas.tostring_argb give pixmap in ARGB mode. Roll the ALPHA channel to have it in RGBA mode\n",
        "        buf = np.roll ( buf, 3, axis = 2 )\n",
        "        return buf\n",
        "    plt.close()\n",
        "    outputArray = fig2data(fig)\n",
        "\n",
        "    return outputArray"
      ],
      "execution_count": 22,
      "outputs": []
    },
    {
      "cell_type": "code",
      "metadata": {
        "id": "ITJhfcQPcYIA"
      },
      "source": [
        "# part 3 array processing\n",
        "\n",
        "def rgba2rgb( rgba, background=(255,255,255) ):\n",
        "    row, col, ch = rgba.shape\n",
        "\n",
        "    if ch == 3:\n",
        "        return rgba\n",
        "\n",
        "    assert ch == 4, 'RGBA image has 4 channels.'\n",
        "\n",
        "    rgb = np.zeros( (row, col, 3), dtype='float32' )\n",
        "    r, g, b, a = rgba[:,:,0], rgba[:,:,1], rgba[:,:,2], rgba[:,:,3]\n",
        "\n",
        "    a = np.asarray( a, dtype='float32' ) / 255.0\n",
        "\n",
        "    R, G, B = background\n",
        "\n",
        "    rgb[:,:,0] = r * a + (1.0 - a) * R\n",
        "    rgb[:,:,1] = g * a + (1.0 - a) * G\n",
        "    rgb[:,:,2] = b * a + (1.0 - a) * B\n",
        "\n",
        "    return np.asarray( rgb, dtype='uint8' )\n",
        "\n",
        "#gray = 0.2989 * r + 0.5870 * g + 0.1140 * b\n",
        "# set filter values\n",
        "\n",
        "\n",
        "#greyscale_array = np.dot(rgb_array[...,:3], [0.287,0.299, 0.814])\n"
      ],
      "execution_count": 23,
      "outputs": []
    },
    {
      "cell_type": "code",
      "metadata": {
        "colab": {
          "base_uri": "https://localhost:8080/"
        },
        "id": "1B_9nkoRu15i",
        "outputId": "70d61865-f83e-450a-a0c0-bf5d1bde6e4f"
      },
      "source": [
        "trial_index.loc[4]"
      ],
      "execution_count": 408,
      "outputs": [
        {
          "output_type": "execute_result",
          "data": {
            "text/plain": [
              "trial number              0\n",
              "name            co2a0000371\n",
              "Name: 4, dtype: object"
            ]
          },
          "metadata": {},
          "execution_count": 408
        }
      ]
    },
    {
      "cell_type": "code",
      "metadata": {
        "id": "1D79xJQIj47E"
      },
      "source": [
        "## Step 8: Collaging the images and saving them\n",
        "\n",
        "# Function to name each image\n",
        "\n",
        "def name_image(trial, trial_index,experiment_condition=''):\n",
        "  \"\"\"\n",
        "  creates a file name for the image as a .jpg\n",
        "  includes the trial number, subjectID, and the experiment condition\n",
        "\n",
        "  OUTPUT = EXPCONDITION_TRIALNUMBER_SUBJECTID.jpg\n",
        "\n",
        "  \"\"\"\n",
        "\n",
        "  trial_num = str(trial_index.loc[trial]['trial number'])\n",
        "  subject_ID = str(trial_index.loc[trial]['name'])\n",
        "\n",
        "  fileName = experiment_condition + '_' + trial_num + '_' + subject_ID + '.jpg' \n",
        "\n",
        "  return fileName\n",
        "\n",
        "def name_image_a_or_c(trial, trial_index):\n",
        "  \"\"\"\n",
        "  creates a file name for the image as a .jpg\n",
        "  includes the trial number, subjectID, and the experiment condition\n",
        "\n",
        "  OUTPUT = EXPCONDITION_TRIALNUMBER_SUBJECTID.jpg\n",
        "\n",
        "  \"\"\"\n",
        "\n",
        "  trial_num = str(trial_index.loc[trial]['trial number'])\n",
        "  subject_ID = str(trial_index.loc[trial]['name'])\n",
        "  experiment_condition = str(trial_index.loc[trial]['trial info'])\n",
        "\n",
        "  fileName = experiment_condition + '_' + trial_num + '_' + subject_ID + '.jpg' \n",
        "\n",
        "  return fileName\n",
        "\n",
        "\n",
        "# Code to create the directories\n",
        "\n",
        "\n",
        "# Function to save the image\n",
        "\n"
      ],
      "execution_count": 24,
      "outputs": []
    },
    {
      "cell_type": "code",
      "metadata": {
        "colab": {
          "base_uri": "https://localhost:8080/",
          "height": 126
        },
        "id": "TYDfEYjhwyWV",
        "outputId": "6fe91989-64c4-4839-b561-668627b544a5"
      },
      "source": [
        "# Code to create directories\n",
        "\n",
        "#Base directory\n",
        "!mkdir /home/james\n",
        "!mkdir /home/james/EEG_Alc_Wavelets\n",
        "root_dir = '/home/james/EEG_Alc_Wavelets'\n",
        "\n",
        "#Alc and Con Group \n",
        "!mkdir /home/james/EEG_Alc_Wavelets/Con\n",
        "!mkdir /home/james/EEG_AlcWaveletsAlc\n",
        "\n",
        "#Alc Group \n",
        "\n",
        "#!mkdir /home/james/EEG_Alc_Wavelets/alc_s1Obj\n",
        "#!mkdir /home/james/EEG_Alc_Wavelets/alc_s2Match\n",
        "#!mkdir /home/james/EEG_Alc_Wavelets/alc_s2Nomatch\n",
        "\n",
        "Alc_S1Obj_Dir = '/home/james/EEG_Alc_Wavelets/alc_s1Obj'\n",
        "Alc_S2Match_Dir = '/home/james/EEG_Alc_Wavelets/alc_s2Match'\n",
        "Alc_S2Nomatch_Dir = '/home/james/EEG_Alc_Wavelets/alc_s2Nomatch'\n",
        "\n",
        "#Control Group\n",
        "\n",
        "#!mkdir /home/james/EEG_Alc_Wavelets/con_s1Obj\n",
        "#!mkdir /home/james/EEG_Alc_Wavelets/con_s2Match\n",
        "#!mkdir /home/james/EEG_Alc_Wavelets/con_s2Nomatch\n",
        "\n",
        "Con_S1Obj_Dir = '/home/james/EEG_Alc_Wavelets/con_s1Obj'\n",
        "Con_S2Match_Dir = '/home/james/EEG_Alc_Wavelets/con_s2Match'\n",
        "Con_S2Nomatch_Dir = '/home/james/EEG_Alc_Wavelets/con_s2Nomatch'\n",
        "\n",
        "# For reference\n",
        "\"\"\"\n",
        "\n",
        "#Alc_Groups\n",
        "Alc_S1Obj = EEG_data[EEG_data['matching condition'] == 'S1 obj']\n",
        "Alc_S2Match = EEG_data[EEG_data['matching condition'] == 'S2 match']\n",
        "Alc_S2Nomatch = EEG_data[EEG_data['matching condition'] == 'S2 nomatch']\n",
        "\n",
        "#Control groups \n",
        "Con_S1Obj = EEG_data_control[EEG_data_control['matching condition'] == 'S1 obj']\n",
        "Con_S2Match = EEG_data_control[EEG_data_control['matching condition'] == 'S2 match']\n",
        "Con_S2Nomatch = EEG_data_control[EEG_data_control['matching condition'] == 'S2 nomatch']\n",
        "\n",
        "\n",
        "Con_S1Obj_Index = trial_len_integrity_check(Con_S1Obj) \n",
        "Con_S2Match_Index = trial_len_integrity_check(Con_S2Match) \n",
        "Con_S2Nomatch_Index = trial_len_integrity_check(Con_S2Nomatch) \n",
        "\n",
        "Alc_S1Obj_Index = trial_len_integrity_check(Alc_S1Obj) \n",
        "Alc_S2Match_Index = trial_len_integrity_check(Alc_S2Match) \n",
        "Alc_S2Nomatch_Index = trial_len_integrity_check(Alc_S2Nomatch) \n",
        "\n",
        "\n",
        "\"\"\"\n"
      ],
      "execution_count": 428,
      "outputs": [
        {
          "output_type": "execute_result",
          "data": {
            "application/vnd.google.colaboratory.intrinsic+json": {
              "type": "string"
            },
            "text/plain": [
              "\"\\n\\n#Alc_Groups\\nAlc_S1Obj = EEG_data[EEG_data['matching condition'] == 'S1 obj']\\nAlc_S2Match = EEG_data[EEG_data['matching condition'] == 'S2 match']\\nAlc_S2Nomatch = EEG_data[EEG_data['matching condition'] == 'S2 nomatch']\\n\\n#Control groups \\nCon_S1Obj = EEG_data_control[EEG_data_control['matching condition'] == 'S1 obj']\\nCon_S2Match = EEG_data_control[EEG_data_control['matching condition'] == 'S2 match']\\nCon_S2Nomatch = EEG_data_control[EEG_data_control['matching condition'] == 'S2 nomatch']\\n\\n\""
            ]
          },
          "metadata": {},
          "execution_count": 428
        }
      ]
    },
    {
      "cell_type": "code",
      "metadata": {
        "id": "fU0KU3Qv7JiM"
      },
      "source": [
        "!mkdir /home/james/EEG_Bin_Classifier\n",
        "root_dir = '/home/james/EEG_Bin_Classifier'\n",
        "\n",
        "!mkdir /home/james/EEG_Bin_Classifier/Alc\n",
        "alc_dir = ' /home/james/EEG_Bin_Classifier/Alc'\n",
        "\n",
        "!mkdir /home/james/EEG_Bin_Classifier/Con\n",
        "con_dir = ' /home/james/EEG_Bin_Classifier/Con'"
      ],
      "execution_count": 443,
      "outputs": []
    },
    {
      "cell_type": "code",
      "metadata": {
        "id": "t9eso9Uu7YOF"
      },
      "source": [
        ""
      ],
      "execution_count": null,
      "outputs": []
    },
    {
      "cell_type": "code",
      "metadata": {
        "id": "HRUsYnxY5s2v"
      },
      "source": [
        "Alc_S1Obj_Index['trial info'] = 'a_S1Obj'\n",
        "Alc_S2Match_Index['trial info'] = 'a_S2Match'\n",
        "Alc_S2Nomatch_Index['trial info'] = 'a_S2Nomatch'\n",
        "\n",
        "Con_S1Obj_Index['trial info'] = 'c_S1Obj'\n",
        "Con_S2Match_Index['trial info'] = 'c_S2Match'\n",
        "Con_S2Nomatch_Index['trial info'] = 'c_S2Nomatch'\n"
      ],
      "execution_count": 29,
      "outputs": []
    },
    {
      "cell_type": "code",
      "metadata": {
        "id": "ajg9df4d5ctX"
      },
      "source": [
        "All_Alcs = pd.concat([Alc_S1Obj_Index,Alc_S2Match_Index,Alc_S2Nomatch_Index])\n",
        "All_Cons = pd.concat([Con_S1Obj_Index,Con_S2Match_Index,Con_S2Nomatch_Index])\n"
      ],
      "execution_count": 30,
      "outputs": []
    },
    {
      "cell_type": "code",
      "metadata": {
        "id": "rSXDIi2l66O6"
      },
      "source": [
        "All_Alcs.reset_index(drop=True,inplace=True)\n",
        "All_Cons.reset_index(drop=True,inplace=True)"
      ],
      "execution_count": 31,
      "outputs": []
    },
    {
      "cell_type": "code",
      "metadata": {
        "id": "AFZGbduKDI5k"
      },
      "source": [
        "!mkdir '/content/drive/MyDrive/Colab_Data/DL201/EEG/Alc'\n",
        "!mkdir '/content/drive/MyDrive/Colab_Data/DL201/EEG/Con'\n"
      ],
      "execution_count": 26,
      "outputs": []
    },
    {
      "cell_type": "markdown",
      "metadata": {
        "id": "zUfR8mv560Hs"
      },
      "source": [
        "# Code Execution"
      ]
    },
    {
      "cell_type": "code",
      "metadata": {
        "id": "gr6EhZpX6v9i"
      },
      "source": [
        "alc_wavelet_img_dir = '/content/drive/MyDrive/Colab_Data/DL201/EEG/Alc'\n",
        "con_wavelet_img_dir = '/content/drive/MyDrive/Colab_Data/DL201/EEG/Con'"
      ],
      "execution_count": 27,
      "outputs": []
    },
    {
      "cell_type": "code",
      "metadata": {
        "colab": {
          "base_uri": "https://localhost:8080/"
        },
        "id": "a090mqv293oU",
        "outputId": "8d4e9026-5943-4b0c-cf5c-43e30f264bce"
      },
      "source": [
        "# Pulling it together\n",
        "\n",
        "# Config varialbes\n",
        "input_data = EEG_data\n",
        "trial_index = All_Alcs\n",
        "#experCond = 'c_S2Nomatch'\n",
        "img_directory = alc_wavelet_img_dir\n",
        "\n",
        "\n",
        "num_of_clusters = 14\n",
        "totalFramesToInclude = 9 \n",
        "\n",
        "\n",
        "\n",
        "for trial in trial_index.index: #runs through trial index\n",
        "  #print('new row')\n",
        "  EEG_Frame = pull_one_second_frame(trial,trial_index,input_data)\n",
        "\n",
        "  # Analyse the EEG clusters\n",
        "  cluster_labels = cluster_channels(EEG_Frame,num_of_clusters)\n",
        "\n",
        "  final_clusters = select_clusters(cluster_labels,totalFramesToInclude)\n",
        "\n",
        "  ########### Step 2 Selecting the channels for analysis\n",
        "\n",
        "  final_channels = select_channels_to_transform(trial_index,cluster_labels,final_clusters)\n",
        "  #print(final_channels)\n",
        "\n",
        "  ########### Step 3 Processing the arrays\n",
        "\n",
        "  array_dict = {}\n",
        "\n",
        "  for key in final_channels.keys():\n",
        "    #print(key)\n",
        "    signal = EEG_Frame.loc[key]\n",
        "\n",
        "    # Raw array representation of plots\n",
        "    np_array = wavelet_transformation_plot_to_array(signal)\n",
        "    plt.close()\n",
        "    np_array = rgba2rgb(np_array)\n",
        "\n",
        "    # Greyscale filter to decrease size of images\n",
        "\n",
        "    np_array = np.dot(np_array[...,:3], [0.287,0.299, 0.814])\n",
        "\n",
        "    array_dict[key] = np_array\n",
        "\n",
        "\n",
        "  ############ Step 4 ### Creating a collage\n",
        "\n",
        "  ordered_keys = list(array_dict.keys())\n",
        "\n",
        "  for (k,v) in array_dict.items():\n",
        "    array_dict[k] = cv2.resize(v,(200,200))\n",
        "\n",
        "\n",
        "  horizontalRow1 = np.hstack([array_dict[ordered_keys[0]],array_dict[ordered_keys[1]],array_dict[ordered_keys[2]]])\n",
        "  horizontalRow2 = np.hstack([array_dict[ordered_keys[3]],array_dict[ordered_keys[4]],array_dict[ordered_keys[5]]])\n",
        "  horizontalRow3 = np.hstack([array_dict[ordered_keys[6]],array_dict[ordered_keys[7]],array_dict[ordered_keys[8]]])\n",
        "\n",
        "\n",
        "  collaged_array = np.vstack([horizontalRow1,horizontalRow2,horizontalRow3])\n",
        "\n",
        "  nameOfCollage = name_image_a_or_c(int(trial),trial_index)\n",
        "\n",
        "  ######### Step 5 Save image\n",
        "\n",
        "  filePath = os.path.join(img_directory,nameOfCollage)\n",
        "  cv2.imwrite(filePath,collaged_array)\n",
        "\n",
        "  \n",
        "\n",
        "\n"
      ],
      "execution_count": 32,
      "outputs": [
        {
          "output_type": "stream",
          "text": [
            "/usr/local/lib/python3.7/dist-packages/ipykernel_launcher.py:23: RuntimeWarning: divide by zero encountered in log2\n",
            "/usr/local/lib/python3.7/dist-packages/matplotlib/contour.py:1483: UserWarning: Warning: converting a masked element to nan.\n",
            "  self.zmax = float(z.max())\n",
            "/usr/local/lib/python3.7/dist-packages/matplotlib/contour.py:1484: UserWarning: Warning: converting a masked element to nan.\n",
            "  self.zmin = float(z.min())\n"
          ],
          "name": "stderr"
        }
      ]
    },
    {
      "cell_type": "code",
      "metadata": {
        "colab": {
          "base_uri": "https://localhost:8080/"
        },
        "id": "VLGXZiD0Fail",
        "outputId": "fbbe99c9-b04b-4d42-eaf7-3dc732299a3f"
      },
      "source": [
        "# Pulling it together\n",
        "\n",
        "# Config varialbes\n",
        "input_data = EEG_data_control\n",
        "trial_index = All_Cons\n",
        "#experCond = 'c_S2Nomatch'\n",
        "img_directory = con_wavelet_img_dir\n",
        "\n",
        "\n",
        "num_of_clusters = 14\n",
        "totalFramesToInclude = 9 \n",
        "\n",
        "\n",
        "\n",
        "for trial in trial_index.index: #runs through trial index\n",
        "  #print('new row')\n",
        "  EEG_Frame = pull_one_second_frame(trial,trial_index,input_data)\n",
        "\n",
        "  # Analyse the EEG clusters\n",
        "  cluster_labels = cluster_channels(EEG_Frame,num_of_clusters)\n",
        "\n",
        "  final_clusters = select_clusters(cluster_labels,totalFramesToInclude)\n",
        "\n",
        "  ########### Step 2 Selecting the channels for analysis\n",
        "\n",
        "  final_channels = select_channels_to_transform(trial_index,cluster_labels,final_clusters)\n",
        "  print(final_channels)\n",
        "\n",
        "  ########### Step 3 Processing the arrays\n",
        "\n",
        "  array_dict = {}\n",
        "\n",
        "  for key in final_channels.keys():\n",
        "    #print(key)\n",
        "    signal = EEG_Frame.loc[key]\n",
        "\n",
        "    # Raw array representation of plots# Config varialbes\n",
        "\n",
        "    np_array = wavelet_transformation_plot_to_array(signal)\n",
        "    np_array = rgba2rgb(np_array)\n",
        "\n",
        "    # Greyscale filter to decrease size of images\n",
        "\n",
        "    np_array = np.dot(np_array[...,:3], [0.287,0.299, 0.814])\n",
        "\n",
        "    array_dict[key] = np_array\n",
        "\n",
        "\n",
        "  ############ Step 4 ### Creating a collage\n",
        "\n",
        "  ordered_keys = list(array_dict.keys())\n",
        "\n",
        "  for (k,v) in array_dict.items():\n",
        "    array_dict[k] = cv2.resize(v,(200,200))\n",
        "\n",
        "\n",
        "  horizontalRow1 = np.hstack([array_dict[ordered_keys[0]],array_dict[ordered_keys[1]],array_dict[ordered_keys[2]]])\n",
        "  horizontalRow2 = np.hstack([array_dict[ordered_keys[3]],array_dict[ordered_keys[4]],array_dict[ordered_keys[5]]])\n",
        "  horizontalRow3 = np.hstack([array_dict[ordered_keys[6]],array_dict[ordered_keys[7]],array_dict[ordered_keys[8]]])\n",
        "\n",
        "\n",
        "  collaged_array = np.vstack([horizontalRow1,horizontalRow2,horizontalRow3])\n",
        "\n",
        "  nameOfCollage = name_image_a_or_c(int(trial),trial_index)\n",
        "\n",
        "  ######### Step 5 Save image\n",
        "\n",
        "  filePath = os.path.join(img_directory,nameOfCollage)\n",
        "  cv2.imwrite(filePath,collaged_array)\n",
        "\n",
        "  \n"
      ],
      "execution_count": 34,
      "outputs": [
        {
          "output_type": "stream",
          "text": [
            "{63: array(1), 7: array(2), 3: array(3), 60: array(4), 53: array(5), 55: array(7), 6: array(8), 17: array(9), 45: array(10)}\n",
            "{35: array(1), 22: array(2), 55: array(3), 31: array(4), 63: array(5), 30: array(6), 47: array(7), 33: array(8), 7: array(10)}\n",
            "{27: array(1), 36: array(2), 18: array(3), 20: array(5), 55: array(6), 31: array(7), 33: array(8), 3: array(9), 44: array(10)}\n",
            "{11: array(1), 31: array(2), 10: array(3), 35: array(4), 47: array(5), 55: array(7), 26: array(8), 54: array(9), 14: array(10)}\n",
            "{56: array(1), 53: array(2), 4: array(3), 54: array(5), 55: array(6), 63: array(7), 30: array(8), 25: array(9), 29: array(10)}\n",
            "{15: array(1), 34: array(2), 55: array(3), 25: array(4), 30: array(5), 28: array(6), 41: array(7), 37: array(8), 56: array(9)}\n",
            "{38: array(1), 4: array(2), 13: array(3), 36: array(4), 15: array(5), 16: array(6), 19: array(7), 56: array(8), 17: array(9)}\n",
            "{33: array(1), 0: array(2), 12: array(3), 43: array(4), 55: array(5), 23: array(6), 39: array(7), 45: array(8), 9: array(10)}\n",
            "{22: array(1), 27: array(2), 55: array(3), 51: array(4), 49: array(5), 20: array(6), 14: array(7), 54: array(8), 39: array(9)}\n",
            "{56: array(1), 21: array(2), 2: array(4), 34: array(5), 46: array(6), 47: array(7), 9: array(8), 60: array(9), 51: array(10)}\n",
            "{14: array(1), 4: array(2), 42: array(3), 54: array(4), 55: array(5), 8: array(6), 49: array(7), 22: array(9), 30: array(10)}\n",
            "{63: array(1), 13: array(2), 14: array(3), 51: array(4), 50: array(5), 30: array(6), 49: array(7), 28: array(8), 10: array(9)}\n",
            "{19: array(1), 57: array(2), 54: array(3), 30: array(4), 11: array(5), 1: array(7), 5: array(8), 45: array(9), 48: array(10)}\n",
            "{63: array(1), 31: array(2), 0: array(3), 32: array(4), 26: array(5), 43: array(6), 1: array(7), 3: array(8), 60: array(9)}\n",
            "{59: array(1), 29: array(2), 46: array(3), 30: array(4), 21: array(5), 54: array(7), 38: array(8), 15: array(9), 41: array(10)}\n",
            "{38: array(1), 1: array(2), 31: array(3), 6: array(4), 3: array(5), 63: array(6), 55: array(8), 45: array(9), 14: array(10)}\n",
            "{30: array(1), 50: array(2), 48: array(3), 45: array(4), 24: array(5), 29: array(6), 31: array(8), 2: array(9), 7: array(10)}\n",
            "{18: array(1), 10: array(2), 32: array(3), 31: array(4), 54: array(5), 58: array(6), 28: array(8), 45: array(9), 56: array(10)}\n",
            "{62: array(1), 33: array(2), 32: array(3), 34: array(4), 31: array(5), 28: array(6), 21: array(8), 57: array(9), 54: array(10)}\n",
            "{26: array(2), 20: array(3), 53: array(4), 52: array(5), 19: array(6), 54: array(7), 39: array(8), 1: array(9), 31: array(10)}\n",
            "{44: array(2), 31: array(3), 15: array(4), 14: array(5), 37: array(6), 34: array(7), 33: array(8), 30: array(9), 22: array(10)}\n",
            "{59: array(2), 46: array(3), 30: array(4), 54: array(5), 55: array(6), 25: array(7), 13: array(8), 1: array(9), 15: array(10)}\n",
            "{18: array(1), 62: array(2), 51: array(3), 55: array(4), 37: array(6), 21: array(7), 22: array(8), 24: array(9), 42: array(10)}\n",
            "{60: array(1), 54: array(2), 48: array(4), 45: array(5), 3: array(6), 39: array(7), 40: array(8), 15: array(9), 10: array(10)}\n",
            "{10: array(1), 63: array(2), 22: array(4), 24: array(5), 23: array(6), 55: array(7), 48: array(8), 9: array(9), 47: array(10)}\n",
            "{41: array(1), 33: array(2), 31: array(3), 23: array(4), 22: array(5), 58: array(6), 55: array(8), 53: array(9), 61: array(10)}\n",
            "{60: array(1), 59: array(2), 54: array(4), 55: array(5), 36: array(6), 63: array(7), 31: array(8), 12: array(9), 6: array(10)}\n",
            "{30: array(1), 27: array(2), 54: array(3), 55: array(4), 12: array(5), 49: array(6), 61: array(7), 15: array(9), 6: array(10)}\n",
            "{60: array(1), 48: array(3), 23: array(4), 29: array(5), 51: array(6), 26: array(7), 58: array(8), 2: array(9), 39: array(10)}\n",
            "{9: array(1), 49: array(2), 47: array(3), 12: array(4), 31: array(5), 60: array(6), 58: array(7), 15: array(9), 18: array(10)}\n",
            "{1: array(1), 31: array(2), 41: array(3), 3: array(4), 47: array(5), 26: array(7), 18: array(8), 25: array(9), 55: array(10)}\n",
            "{45: array(1), 3: array(2), 12: array(3), 53: array(4), 44: array(5), 1: array(6), 63: array(7), 42: array(8), 50: array(9)}\n",
            "{24: array(1), 48: array(2), 40: array(3), 54: array(4), 62: array(6), 6: array(7), 2: array(8), 9: array(9), 12: array(10)}\n",
            "{15: array(1), 5: array(2), 2: array(3), 63: array(4), 33: array(5), 12: array(6), 8: array(7), 58: array(8), 57: array(9)}\n",
            "{31: array(1), 62: array(3), 56: array(4), 54: array(5), 23: array(6), 58: array(7), 30: array(8), 50: array(9), 24: array(10)}\n",
            "{54: array(1), 36: array(2), 30: array(3), 11: array(4), 41: array(5), 23: array(6), 50: array(7), 24: array(8), 0: array(9)}\n",
            "{37: array(1), 7: array(2), 47: array(4), 36: array(5), 14: array(6), 58: array(7), 41: array(8), 25: array(9), 60: array(10)}\n",
            "{15: array(2), 38: array(3), 34: array(4), 33: array(5), 16: array(6), 39: array(7), 37: array(8), 54: array(9), 55: array(10)}\n",
            "{38: array(1), 1: array(2), 31: array(3), 4: array(4), 44: array(5), 63: array(6), 23: array(7), 29: array(9), 54: array(10)}\n",
            "{4: array(1), 11: array(2), 35: array(3), 56: array(4), 16: array(5), 49: array(6), 28: array(7), 1: array(8), 38: array(9)}\n",
            "{15: array(1), 5: array(2), 13: array(3), 39: array(4), 40: array(5), 0: array(6), 34: array(7), 57: array(8), 60: array(9)}\n",
            "{54: array(1), 29: array(2), 30: array(3), 22: array(4), 21: array(5), 24: array(6), 53: array(7), 41: array(8), 18: array(9)}\n",
            "{30: array(1), 50: array(2), 18: array(3), 14: array(4), 60: array(5), 52: array(6), 55: array(7), 41: array(8), 40: array(9)}\n",
            "{27: array(1), 57: array(2), 29: array(3), 54: array(5), 55: array(6), 11: array(7), 17: array(8), 2: array(9), 63: array(10)}\n",
            "{31: array(1), 63: array(2), 9: array(3), 32: array(4), 30: array(5), 54: array(6), 55: array(7), 27: array(8), 19: array(9)}\n",
            "{1: array(1), 31: array(2), 43: array(4), 33: array(5), 41: array(6), 42: array(7), 52: array(8), 21: array(9), 49: array(10)}\n",
            "{58: array(1), 27: array(2), 16: array(3), 14: array(4), 19: array(5), 21: array(6), 25: array(8), 9: array(9), 34: array(10)}\n",
            "{54: array(1), 55: array(2), 50: array(3), 24: array(4), 23: array(5), 34: array(6), 6: array(7), 18: array(8), 48: array(9)}\n",
            "{19: array(1), 54: array(2), 45: array(3), 15: array(4), 26: array(5), 57: array(6), 33: array(7), 9: array(8), 52: array(9)}\n",
            "{34: array(1), 33: array(2), 0: array(4), 46: array(5), 31: array(6), 54: array(7), 60: array(8), 26: array(9), 58: array(10)}\n",
            "{54: array(1), 55: array(2), 58: array(3), 51: array(4), 22: array(5), 0: array(6), 31: array(7), 32: array(8), 46: array(9)}\n",
            "{3: array(1), 31: array(2), 8: array(3), 34: array(5), 46: array(6), 63: array(7), 58: array(8), 59: array(9), 25: array(10)}\n",
            "{51: array(1), 19: array(2), 45: array(3), 24: array(4), 58: array(5), 48: array(6), 63: array(7), 31: array(8), 16: array(10)}\n",
            "{13: array(1), 31: array(2), 1: array(3), 49: array(4), 45: array(5), 15: array(6), 55: array(7), 22: array(8), 57: array(9)}\n",
            "{19: array(2), 54: array(3), 27: array(4), 24: array(5), 46: array(6), 28: array(7), 38: array(8), 36: array(9), 35: array(10)}\n",
            "{62: array(1), 14: array(2), 16: array(3), 27: array(5), 49: array(6), 54: array(7), 55: array(8), 18: array(9), 9: array(10)}\n",
            "{15: array(1), 2: array(2), 33: array(3), 10: array(4), 12: array(5), 37: array(6), 13: array(7), 17: array(8), 54: array(10)}\n",
            "{0: array(1), 38: array(2), 15: array(3), 37: array(4), 54: array(5), 50: array(6), 35: array(7), 55: array(8), 43: array(10)}\n",
            "{63: array(1), 1: array(2), 6: array(3), 2: array(4), 11: array(5), 39: array(6), 45: array(7), 57: array(8), 52: array(10)}\n",
            "{31: array(1), 3: array(2), 38: array(3), 32: array(4), 63: array(5), 55: array(6), 50: array(7), 34: array(8), 46: array(9)}\n",
            "{27: array(1), 55: array(3), 57: array(4), 29: array(5), 31: array(6), 33: array(7), 7: array(8), 12: array(9), 13: array(10)}\n",
            "{5: array(2), 34: array(3), 0: array(4), 28: array(5), 59: array(6), 46: array(7), 60: array(8), 17: array(9), 15: array(10)}\n",
            "{20: array(1), 13: array(2), 54: array(4), 57: array(5), 59: array(6), 15: array(7), 16: array(8), 11: array(9), 47: array(10)}\n",
            "{18: array(1), 63: array(2), 1: array(3), 31: array(5), 22: array(6), 24: array(7), 48: array(8), 54: array(9), 55: array(10)}\n",
            "{7: array(1), 6: array(2), 49: array(3), 19: array(4), 18: array(5), 55: array(6), 58: array(8), 57: array(9), 2: array(10)}\n",
            "{15: array(1), 36: array(2), 35: array(3), 6: array(4), 63: array(5), 33: array(6), 9: array(7), 22: array(9), 29: array(10)}\n",
            "{63: array(1), 15: array(2), 28: array(3), 24: array(4), 53: array(5), 9: array(6), 25: array(7), 35: array(9), 33: array(10)}\n",
            "{35: array(1), 36: array(3), 31: array(4), 58: array(5), 46: array(6), 63: array(7), 2: array(8), 13: array(9), 37: array(10)}\n",
            "{58: array(1), 22: array(2), 20: array(4), 18: array(5), 41: array(6), 2: array(7), 13: array(8), 0: array(9), 31: array(10)}\n",
            "{38: array(1), 2: array(2), 54: array(3), 29: array(4), 36: array(5), 42: array(6), 52: array(7), 20: array(8), 17: array(9)}\n",
            "{13: array(1), 57: array(2), 25: array(3), 29: array(4), 41: array(5), 53: array(6), 52: array(7), 6: array(8), 34: array(9)}\n",
            "{50: array(1), 48: array(3), 27: array(4), 51: array(5), 13: array(6), 15: array(7), 2: array(8), 8: array(9), 38: array(10)}\n",
            "{30: array(2), 51: array(3), 23: array(4), 54: array(5), 28: array(6), 10: array(7), 46: array(8), 33: array(9), 1: array(10)}\n",
            "{15: array(1), 2: array(2), 14: array(3), 60: array(4), 52: array(5), 54: array(6), 37: array(7), 38: array(8), 16: array(9)}\n",
            "{60: array(1), 19: array(3), 13: array(4), 9: array(5), 33: array(6), 1: array(7), 2: array(8), 39: array(9), 34: array(10)}\n",
            "{4: array(2), 44: array(3), 15: array(4), 19: array(5), 22: array(6), 13: array(7), 55: array(8), 34: array(9), 38: array(10)}\n",
            "{44: array(1), 47: array(2), 39: array(3), 19: array(5), 13: array(6), 9: array(7), 55: array(8), 27: array(9), 29: array(10)}\n",
            "{54: array(2), 23: array(3), 41: array(4), 63: array(5), 15: array(6), 3: array(7), 36: array(8), 4: array(9), 37: array(10)}\n",
            "{5: array(1), 34: array(2), 32: array(3), 2: array(4), 25: array(5), 31: array(6), 33: array(7), 9: array(8), 27: array(9)}\n",
            "{41: array(2), 6: array(3), 12: array(4), 42: array(5), 33: array(6), 31: array(7), 15: array(8), 13: array(9), 50: array(10)}\n",
            "{48: array(1), 59: array(2), 8: array(3), 42: array(4), 30: array(5), 54: array(7), 15: array(8), 31: array(9), 37: array(10)}\n",
            "{1: array(1), 31: array(2), 55: array(4), 22: array(5), 59: array(6), 15: array(7), 5: array(8), 35: array(9), 18: array(10)}\n",
            "{3: array(1), 6: array(2), 42: array(3), 56: array(4), 60: array(5), 21: array(6), 54: array(7), 58: array(8), 15: array(10)}\n",
            "{15: array(2), 31: array(3), 54: array(4), 55: array(5), 58: array(6), 26: array(7), 19: array(8), 42: array(9), 45: array(10)}\n",
            "{5: array(1), 60: array(2), 40: array(3), 11: array(4), 38: array(5), 33: array(6), 13: array(7), 34: array(8), 36: array(9)}\n",
            "{4: array(1), 15: array(2), 43: array(3), 7: array(4), 2: array(5), 16: array(6), 54: array(7), 58: array(8), 46: array(9)}\n",
            "{13: array(1), 56: array(2), 6: array(4), 15: array(5), 42: array(6), 32: array(7), 31: array(8), 24: array(9), 19: array(10)}\n",
            "{60: array(2), 54: array(3), 15: array(4), 37: array(5), 19: array(6), 61: array(7), 53: array(8), 36: array(9), 63: array(10)}\n",
            "{16: array(1), 45: array(2), 25: array(3), 54: array(4), 55: array(5), 60: array(6), 30: array(7), 36: array(8), 33: array(9)}\n",
            "{48: array(1), 37: array(3), 16: array(4), 54: array(5), 25: array(6), 57: array(7), 58: array(8), 55: array(9), 33: array(10)}\n",
            "{1: array(2), 37: array(3), 15: array(4), 28: array(5), 29: array(6), 27: array(7), 50: array(8), 41: array(9), 42: array(10)}\n",
            "{0: array(1), 8: array(2), 43: array(3), 37: array(4), 33: array(5), 10: array(6), 42: array(7), 17: array(8), 21: array(9)}\n",
            "{41: array(1), 22: array(2), 54: array(4), 55: array(5), 15: array(6), 34: array(7), 1: array(8), 31: array(9), 7: array(10)}\n",
            "{43: array(2), 17: array(3), 22: array(4), 58: array(5), 54: array(6), 55: array(7), 57: array(8), 45: array(9), 9: array(10)}\n",
            "{48: array(1), 56: array(2), 34: array(3), 7: array(4), 15: array(5), 21: array(6), 14: array(7), 58: array(8), 54: array(9)}\n",
            "{31: array(2), 15: array(3), 9: array(4), 21: array(5), 25: array(6), 60: array(7), 43: array(8), 8: array(9), 32: array(10)}\n",
            "{49: array(1), 11: array(3), 36: array(4), 28: array(5), 29: array(6), 25: array(7), 55: array(8), 15: array(9), 47: array(10)}\n",
            "{3: array(1), 0: array(2), 31: array(3), 38: array(4), 54: array(6), 26: array(7), 58: array(8), 51: array(9), 36: array(10)}\n",
            "{1: array(1), 47: array(2), 15: array(3), 9: array(4), 13: array(5), 10: array(6), 2: array(7), 27: array(8), 58: array(9)}\n",
            "{1: array(1), 31: array(2), 3: array(4), 5: array(5), 39: array(6), 16: array(7), 37: array(8), 15: array(9), 63: array(10)}\n",
            "{3: array(1), 35: array(2), 19: array(3), 25: array(4), 55: array(5), 20: array(6), 16: array(7), 1: array(8), 2: array(9)}\n",
            "{52: array(1), 30: array(3), 27: array(4), 54: array(5), 55: array(6), 31: array(7), 15: array(8), 35: array(9), 6: array(10)}\n",
            "{54: array(1), 55: array(2), 29: array(3), 46: array(4), 28: array(5), 51: array(6), 9: array(7), 24: array(8), 11: array(9)}\n",
            "{42: array(2), 46: array(3), 49: array(4), 20: array(5), 0: array(6), 33: array(7), 31: array(8), 7: array(9), 63: array(10)}\n",
            "{61: array(2), 19: array(3), 12: array(4), 54: array(5), 46: array(6), 59: array(7), 13: array(8), 35: array(9), 37: array(10)}\n",
            "{8: array(1), 0: array(2), 37: array(3), 39: array(4), 58: array(5), 50: array(6), 54: array(7), 25: array(8), 55: array(9)}\n",
            "{55: array(1), 15: array(2), 22: array(4), 45: array(5), 10: array(6), 14: array(7), 8: array(8), 56: array(9), 9: array(10)}\n",
            "{52: array(1), 32: array(3), 10: array(4), 43: array(5), 15: array(6), 31: array(7), 17: array(8), 35: array(9), 37: array(10)}\n",
            "{17: array(2), 5: array(3), 21: array(4), 11: array(5), 34: array(6), 54: array(7), 10: array(8), 32: array(9), 37: array(10)}\n",
            "{29: array(1), 54: array(2), 48: array(3), 45: array(4), 60: array(5), 41: array(6), 42: array(8), 37: array(9), 1: array(10)}\n",
            "{31: array(1), 32: array(2), 54: array(3), 50: array(4), 60: array(5), 40: array(6), 53: array(7), 8: array(8), 62: array(10)}\n",
            "{42: array(1), 20: array(2), 19: array(3), 50: array(4), 58: array(5), 55: array(6), 14: array(8), 39: array(9), 31: array(10)}\n",
            "{27: array(1), 30: array(2), 7: array(3), 58: array(4), 48: array(5), 41: array(6), 32: array(7), 42: array(8), 54: array(9)}\n"
          ],
          "name": "stdout"
        },
        {
          "output_type": "stream",
          "text": [
            "/usr/local/lib/python3.7/dist-packages/ipykernel_launcher.py:23: RuntimeWarning: divide by zero encountered in log2\n"
          ],
          "name": "stderr"
        },
        {
          "output_type": "stream",
          "text": [
            "{5: array(1), 53: array(2), 8: array(4), 15: array(5), 3: array(6), 19: array(7), 12: array(8), 10: array(9), 26: array(10)}\n",
            "{56: array(2), 37: array(3), 40: array(4), 41: array(5), 35: array(6), 63: array(7), 62: array(8), 26: array(9), 46: array(10)}\n",
            "{24: array(1), 55: array(2), 58: array(3), 20: array(5), 45: array(6), 16: array(7), 49: array(8), 13: array(9), 47: array(10)}\n",
            "{12: array(2), 32: array(3), 34: array(4), 33: array(5), 3: array(6), 60: array(7), 48: array(8), 59: array(9), 18: array(10)}\n",
            "{57: array(1), 48: array(3), 54: array(4), 55: array(5), 46: array(6), 30: array(7), 62: array(8), 4: array(9), 34: array(10)}\n",
            "{31: array(2), 42: array(3), 6: array(4), 8: array(5), 41: array(6), 2: array(7), 50: array(8), 25: array(9), 60: array(10)}\n",
            "{38: array(1), 31: array(2), 60: array(4), 42: array(5), 63: array(6), 3: array(7), 6: array(8), 41: array(9), 9: array(10)}\n",
            "{31: array(1), 15: array(2), 20: array(3), 43: array(4), 42: array(5), 2: array(6), 1: array(7), 33: array(8), 26: array(10)}\n",
            "{44: array(1), 41: array(2), 63: array(3), 15: array(4), 52: array(5), 24: array(6), 46: array(7), 56: array(8), 30: array(9)}\n",
            "{31: array(1), 38: array(2), 15: array(3), 12: array(4), 39: array(5), 40: array(6), 36: array(7), 20: array(8), 27: array(9)}\n",
            "{43: array(2), 9: array(3), 23: array(4), 20: array(5), 40: array(6), 54: array(7), 55: array(8), 30: array(9), 60: array(10)}\n",
            "{63: array(1), 15: array(2), 1: array(3), 14: array(4), 37: array(5), 53: array(6), 41: array(7), 19: array(8), 9: array(9)}\n",
            "{52: array(1), 41: array(2), 5: array(3), 44: array(4), 56: array(5), 22: array(6), 57: array(8), 62: array(9), 18: array(10)}\n",
            "{16: array(1), 17: array(2), 21: array(3), 56: array(4), 54: array(5), 58: array(6), 63: array(7), 47: array(8), 36: array(9)}\n",
            "{54: array(1), 58: array(2), 25: array(3), 60: array(4), 4: array(5), 1: array(6), 38: array(7), 48: array(8), 61: array(9)}\n",
            "{30: array(1), 28: array(2), 55: array(3), 63: array(4), 10: array(5), 18: array(6), 53: array(7), 31: array(9), 7: array(10)}\n",
            "{6: array(1), 47: array(2), 38: array(3), 14: array(4), 59: array(6), 19: array(7), 29: array(8), 58: array(9), 56: array(10)}\n",
            "{14: array(1), 34: array(2), 12: array(3), 21: array(4), 59: array(5), 18: array(6), 54: array(8), 25: array(9), 13: array(10)}\n",
            "{63: array(1), 15: array(2), 0: array(3), 42: array(4), 54: array(5), 55: array(6), 37: array(7), 3: array(8), 17: array(9)}\n",
            "{40: array(1), 53: array(2), 29: array(3), 50: array(4), 36: array(6), 37: array(7), 15: array(8), 2: array(9), 47: array(10)}\n",
            "{63: array(1), 31: array(2), 39: array(3), 9: array(4), 12: array(5), 35: array(6), 54: array(7), 59: array(8), 45: array(9)}\n",
            "{33: array(1), 0: array(2), 31: array(3), 41: array(4), 23: array(5), 14: array(6), 54: array(7), 29: array(8), 15: array(9)}\n",
            "{32: array(1), 31: array(2), 3: array(4), 39: array(5), 19: array(6), 25: array(7), 30: array(8), 15: array(9), 18: array(10)}\n",
            "{4: array(1), 34: array(2), 7: array(3), 43: array(4), 15: array(5), 39: array(6), 20: array(7), 22: array(8), 25: array(9)}\n",
            "{12: array(1), 54: array(3), 21: array(4), 50: array(5), 4: array(6), 15: array(7), 31: array(8), 18: array(9), 14: array(10)}\n",
            "{54: array(1), 58: array(2), 15: array(3), 9: array(4), 40: array(5), 61: array(6), 23: array(7), 13: array(8), 35: array(10)}\n",
            "{34: array(2), 35: array(3), 5: array(4), 56: array(5), 61: array(6), 50: array(7), 13: array(8), 3: array(9), 63: array(10)}\n",
            "{39: array(1), 6: array(3), 62: array(4), 37: array(5), 31: array(6), 10: array(7), 36: array(8), 54: array(9), 55: array(10)}\n",
            "{50: array(1), 16: array(2), 8: array(3), 53: array(5), 15: array(6), 31: array(7), 1: array(8), 5: array(9), 34: array(10)}\n",
            "{54: array(1), 50: array(2), 2: array(3), 63: array(4), 15: array(5), 22: array(6), 49: array(7), 52: array(8), 12: array(9)}\n",
            "{58: array(1), 20: array(2), 61: array(3), 59: array(4), 43: array(5), 63: array(6), 62: array(7), 33: array(8), 9: array(9)}\n",
            "{0: array(1), 4: array(2), 2: array(3), 15: array(5), 63: array(6), 11: array(7), 5: array(8), 37: array(9), 58: array(10)}\n",
            "{33: array(1), 31: array(2), 27: array(4), 54: array(5), 25: array(6), 42: array(7), 15: array(8), 61: array(9), 39: array(10)}\n",
            "{30: array(1), 55: array(2), 14: array(4), 31: array(5), 39: array(6), 56: array(7), 41: array(8), 16: array(9), 3: array(10)}\n",
            "{62: array(1), 6: array(2), 10: array(3), 3: array(4), 9: array(5), 15: array(6), 61: array(7), 60: array(8), 24: array(9)}\n",
            "{24: array(1), 34: array(3), 45: array(4), 1: array(5), 4: array(6), 33: array(7), 15: array(8), 31: array(9), 32: array(10)}\n",
            "{15: array(1), 34: array(2), 3: array(3), 13: array(4), 36: array(5), 4: array(6), 19: array(7), 52: array(8), 12: array(9)}\n",
            "{15: array(1), 26: array(2), 31: array(3), 42: array(4), 41: array(5), 38: array(6), 2: array(7), 24: array(8), 51: array(9)}\n",
            "{31: array(1), 57: array(2), 14: array(3), 18: array(4), 55: array(5), 51: array(6), 60: array(7), 59: array(8), 10: array(9)}\n",
            "{59: array(1), 48: array(2), 29: array(3), 19: array(4), 42: array(5), 26: array(6), 15: array(7), 62: array(8), 31: array(9)}\n",
            "{38: array(1), 2: array(2), 47: array(3), 56: array(4), 9: array(5), 22: array(6), 21: array(7), 31: array(8), 42: array(10)}\n",
            "{2: array(1), 0: array(2), 44: array(3), 50: array(4), 29: array(5), 25: array(6), 57: array(7), 19: array(9), 54: array(10)}\n",
            "{55: array(1), 28: array(2), 25: array(3), 58: array(4), 15: array(5), 38: array(6), 35: array(7), 12: array(8), 31: array(9)}\n",
            "{46: array(1), 58: array(2), 63: array(3), 23: array(4), 28: array(5), 54: array(6), 31: array(7), 47: array(8), 36: array(9)}\n",
            "{54: array(1), 57: array(2), 51: array(3), 24: array(4), 60: array(5), 3: array(6), 39: array(7), 5: array(8), 14: array(9)}\n",
            "{33: array(1), 31: array(2), 35: array(4), 40: array(5), 36: array(6), 42: array(7), 41: array(8), 23: array(9), 57: array(10)}\n",
            "{63: array(2), 42: array(3), 34: array(4), 31: array(5), 55: array(6), 28: array(7), 27: array(8), 61: array(9), 12: array(10)}\n",
            "{63: array(1), 15: array(2), 54: array(3), 25: array(4), 50: array(5), 4: array(6), 6: array(7), 10: array(8), 0: array(9)}\n",
            "{45: array(1), 14: array(2), 15: array(3), 18: array(4), 55: array(5), 54: array(6), 27: array(7), 33: array(9), 32: array(10)}\n",
            "{53: array(1), 40: array(2), 59: array(3), 23: array(5), 54: array(6), 58: array(7), 15: array(8), 38: array(9), 5: array(10)}\n",
            "{30: array(1), 17: array(2), 20: array(3), 54: array(4), 59: array(6), 48: array(7), 47: array(8), 38: array(9), 63: array(10)}\n",
            "{13: array(1), 14: array(2), 58: array(3), 3: array(4), 32: array(5), 15: array(6), 31: array(7), 21: array(8), 24: array(10)}\n",
            "{2: array(1), 15: array(2), 9: array(3), 56: array(4), 0: array(5), 5: array(6), 62: array(7), 24: array(9), 53: array(10)}\n",
            "{29: array(1), 60: array(2), 55: array(3), 40: array(4), 28: array(5), 49: array(6), 8: array(8), 47: array(9), 31: array(10)}\n",
            "{63: array(1), 25: array(2), 55: array(3), 35: array(4), 31: array(5), 7: array(6), 36: array(7), 57: array(9), 54: array(10)}\n",
            "{22: array(1), 15: array(2), 54: array(3), 48: array(4), 60: array(5), 38: array(6), 43: array(7), 55: array(9), 40: array(10)}\n",
            "{0: array(1), 31: array(2), 22: array(3), 55: array(5), 52: array(6), 13: array(7), 26: array(8), 15: array(9), 5: array(10)}\n",
            "{60: array(1), 53: array(2), 57: array(3), 15: array(4), 36: array(6), 31: array(7), 58: array(8), 9: array(9), 54: array(10)}\n",
            "{18: array(1), 2: array(2), 37: array(3), 47: array(4), 4: array(5), 31: array(6), 27: array(7), 20: array(8), 44: array(10)}\n",
            "{50: array(1), 30: array(2), 29: array(3), 45: array(4), 44: array(5), 61: array(6), 40: array(7), 36: array(8), 49: array(9)}\n",
            "{8: array(1), 57: array(3), 45: array(4), 19: array(5), 55: array(6), 13: array(7), 36: array(8), 47: array(9), 29: array(10)}\n",
            "{54: array(1), 55: array(2), 25: array(3), 60: array(4), 29: array(5), 21: array(6), 41: array(7), 35: array(8), 53: array(9)}\n",
            "{51: array(1), 17: array(2), 54: array(3), 55: array(4), 58: array(5), 50: array(6), 0: array(8), 31: array(9), 15: array(10)}\n",
            "{28: array(1), 30: array(3), 51: array(4), 13: array(5), 53: array(6), 52: array(7), 45: array(8), 34: array(9), 11: array(10)}\n",
            "{63: array(1), 15: array(2), 2: array(3), 32: array(4), 54: array(5), 55: array(6), 57: array(7), 25: array(8), 19: array(9)}\n",
            "{6: array(1), 56: array(2), 9: array(3), 46: array(4), 63: array(5), 31: array(6), 24: array(7), 18: array(8), 50: array(9)}\n",
            "{27: array(2), 7: array(3), 42: array(4), 36: array(5), 15: array(6), 3: array(7), 56: array(8), 41: array(9), 28: array(10)}\n",
            "{42: array(1), 26: array(2), 18: array(3), 63: array(5), 31: array(6), 55: array(7), 59: array(8), 12: array(9), 53: array(10)}\n",
            "{58: array(1), 57: array(2), 45: array(3), 26: array(4), 22: array(5), 17: array(6), 16: array(7), 25: array(9), 0: array(10)}\n",
            "{61: array(1), 54: array(3), 29: array(4), 60: array(5), 31: array(6), 1: array(7), 62: array(8), 51: array(9), 49: array(10)}\n",
            "{9: array(1), 34: array(2), 21: array(3), 1: array(4), 7: array(5), 6: array(6), 22: array(8), 46: array(9), 32: array(10)}\n",
            "{0: array(1), 33: array(2), 31: array(3), 4: array(4), 34: array(6), 55: array(7), 45: array(8), 22: array(9), 17: array(10)}\n",
            "{15: array(1), 30: array(2), 4: array(3), 12: array(4), 40: array(5), 23: array(6), 55: array(7), 58: array(8), 26: array(9)}\n",
            "{34: array(1), 63: array(2), 54: array(3), 55: array(4), 14: array(5), 58: array(6), 47: array(8), 11: array(9), 40: array(10)}\n",
            "{1: array(1), 31: array(2), 9: array(3), 10: array(4), 34: array(5), 36: array(6), 59: array(8), 48: array(9), 27: array(10)}\n",
            "{62: array(1), 31: array(2), 13: array(3), 60: array(4), 54: array(5), 15: array(7), 5: array(8), 42: array(9), 41: array(10)}\n",
            "{45: array(1), 21: array(2), 54: array(3), 57: array(4), 23: array(5), 33: array(7), 31: array(8), 62: array(9), 15: array(10)}\n",
            "{46: array(1), 59: array(2), 54: array(3), 55: array(4), 51: array(5), 15: array(6), 44: array(7), 12: array(8), 38: array(10)}\n",
            "{15: array(1), 31: array(2), 26: array(3), 27: array(4), 58: array(5), 54: array(6), 55: array(7), 1: array(8), 18: array(9)}\n",
            "{58: array(1), 29: array(2), 60: array(4), 18: array(5), 20: array(6), 52: array(7), 39: array(8), 43: array(9), 2: array(10)}\n",
            "{7: array(1), 9: array(2), 53: array(3), 17: array(4), 54: array(5), 29: array(6), 15: array(7), 33: array(8), 31: array(9)}\n",
            "{17: array(2), 49: array(3), 20: array(4), 14: array(5), 55: array(6), 50: array(7), 58: array(8), 63: array(9), 1: array(10)}\n",
            "{18: array(1), 49: array(2), 17: array(3), 37: array(4), 29: array(5), 27: array(6), 28: array(7), 10: array(9), 43: array(10)}\n",
            "{46: array(1), 31: array(2), 63: array(3), 38: array(4), 1: array(5), 34: array(6), 47: array(8), 53: array(9), 27: array(10)}\n",
            "{7: array(1), 10: array(2), 0: array(3), 43: array(4), 15: array(5), 57: array(7), 41: array(8), 59: array(9), 9: array(10)}\n",
            "{30: array(1), 59: array(2), 55: array(3), 15: array(4), 45: array(5), 60: array(6), 22: array(7), 40: array(8), 33: array(10)}\n",
            "{54: array(1), 55: array(2), 26: array(3), 29: array(4), 31: array(5), 63: array(6), 38: array(7), 32: array(8), 25: array(9)}\n",
            "{15: array(1), 63: array(2), 26: array(3), 36: array(4), 0: array(5), 21: array(6), 34: array(7), 6: array(8), 35: array(9)}\n",
            "{31: array(1), 63: array(2), 40: array(3), 56: array(4), 2: array(5), 44: array(6), 5: array(7), 33: array(8), 45: array(9)}\n",
            "{17: array(1), 31: array(3), 55: array(4), 60: array(5), 39: array(6), 53: array(7), 43: array(8), 9: array(9), 0: array(10)}\n",
            "{52: array(1), 63: array(2), 6: array(3), 56: array(5), 5: array(6), 15: array(7), 35: array(8), 37: array(9), 13: array(10)}\n",
            "{50: array(2), 54: array(3), 24: array(4), 30: array(5), 42: array(6), 11: array(7), 15: array(8), 31: array(9), 0: array(10)}\n",
            "{30: array(1), 15: array(2), 29: array(3), 52: array(4), 44: array(5), 0: array(6), 10: array(8), 46: array(9), 55: array(10)}\n",
            "{63: array(1), 31: array(2), 22: array(3), 30: array(4), 36: array(5), 54: array(6), 55: array(7), 1: array(8), 62: array(10)}\n",
            "{31: array(1), 15: array(2), 11: array(3), 41: array(4), 2: array(5), 36: array(6), 35: array(7), 0: array(8), 25: array(9)}\n",
            "{22: array(1), 55: array(2), 41: array(3), 25: array(4), 53: array(6), 15: array(7), 0: array(8), 31: array(9), 14: array(10)}\n",
            "{15: array(1), 31: array(2), 63: array(3), 43: array(4), 33: array(5), 0: array(6), 9: array(7), 29: array(8), 54: array(9)}\n",
            "{0: array(1), 35: array(2), 16: array(4), 59: array(5), 53: array(6), 45: array(7), 13: array(8), 36: array(9), 2: array(10)}\n",
            "{56: array(1), 0: array(3), 40: array(4), 47: array(5), 31: array(6), 15: array(7), 55: array(8), 25: array(9), 33: array(10)}\n",
            "{16: array(1), 28: array(2), 8: array(3), 48: array(5), 30: array(6), 26: array(7), 19: array(8), 41: array(9), 15: array(10)}\n",
            "{2: array(1), 63: array(2), 38: array(3), 44: array(4), 35: array(5), 17: array(6), 55: array(7), 26: array(8), 42: array(9)}\n",
            "{40: array(1), 50: array(2), 16: array(3), 0: array(4), 41: array(5), 3: array(6), 31: array(7), 15: array(8), 25: array(9)}\n",
            "{32: array(1), 31: array(2), 53: array(4), 3: array(5), 4: array(6), 2: array(7), 50: array(8), 55: array(9), 57: array(10)}\n",
            "{11: array(1), 60: array(2), 43: array(3), 23: array(4), 31: array(5), 3: array(6), 32: array(7), 26: array(8), 22: array(9)}\n",
            "{49: array(1), 35: array(2), 40: array(3), 47: array(4), 56: array(6), 52: array(7), 29: array(8), 14: array(9), 2: array(10)}\n",
            "{56: array(1), 36: array(2), 6: array(4), 62: array(5), 15: array(6), 33: array(7), 20: array(8), 17: array(9), 55: array(10)}\n",
            "{22: array(1), 18: array(2), 54: array(3), 58: array(4), 59: array(5), 48: array(6), 33: array(7), 31: array(8), 36: array(10)}\n",
            "{18: array(1), 27: array(2), 55: array(4), 10: array(5), 13: array(6), 19: array(7), 5: array(8), 56: array(9), 39: array(10)}\n",
            "{33: array(1), 31: array(2), 3: array(3), 5: array(4), 7: array(6), 9: array(7), 55: array(8), 25: array(9), 27: array(10)}\n",
            "{58: array(1), 54: array(2), 24: array(4), 16: array(5), 47: array(6), 1: array(7), 31: array(8), 3: array(9), 37: array(10)}\n",
            "{39: array(2), 24: array(3), 15: array(4), 54: array(5), 55: array(6), 29: array(7), 30: array(8), 26: array(9), 34: array(10)}\n",
            "{31: array(1), 2: array(2), 10: array(3), 9: array(4), 37: array(5), 62: array(6), 56: array(7), 21: array(8), 48: array(9)}\n",
            "{43: array(1), 34: array(3), 24: array(4), 23: array(5), 42: array(6), 9: array(7), 45: array(8), 55: array(9), 26: array(10)}\n",
            "{33: array(1), 31: array(2), 55: array(4), 26: array(5), 20: array(6), 42: array(7), 17: array(8), 35: array(9), 13: array(10)}\n",
            "{4: array(1), 31: array(3), 33: array(4), 9: array(5), 6: array(6), 2: array(7), 54: array(8), 30: array(9), 46: array(10)}\n",
            "{38: array(1), 31: array(2), 50: array(3), 61: array(4), 24: array(5), 14: array(6), 2: array(7), 13: array(8), 30: array(9)}\n",
            "{38: array(1), 8: array(3), 61: array(4), 56: array(5), 55: array(6), 58: array(7), 15: array(8), 57: array(9), 50: array(10)}\n",
            "{27: array(1), 24: array(2), 55: array(4), 61: array(5), 17: array(6), 18: array(7), 8: array(8), 4: array(9), 32: array(10)}\n",
            "{54: array(1), 52: array(2), 12: array(3), 22: array(4), 19: array(5), 59: array(6), 4: array(7), 10: array(8), 36: array(9)}\n",
            "{49: array(1), 43: array(2), 1: array(3), 11: array(4), 20: array(5), 48: array(6), 26: array(7), 2: array(8), 13: array(9)}\n"
          ],
          "name": "stdout"
        }
      ]
    },
    {
      "cell_type": "code",
      "metadata": {
        "id": "oKuTFCoICSTU"
      },
      "source": [
        "\n"
      ],
      "execution_count": null,
      "outputs": []
    },
    {
      "cell_type": "code",
      "metadata": {
        "colab": {
          "base_uri": "https://localhost:8080/"
        },
        "id": "cYArMT7HCtlS",
        "outputId": "5082311a-6714-4cef-94e3-65d0e823b778"
      },
      "source": [
        "\n"
      ],
      "execution_count": 477,
      "outputs": [
        {
          "output_type": "execute_result",
          "data": {
            "text/plain": [
              "1        a_S1Obj\n",
              "1      a_S2Match\n",
              "1    a_S2Nomatch\n",
              "Name: trial info, dtype: object"
            ]
          },
          "metadata": {},
          "execution_count": 477
        }
      ]
    },
    {
      "cell_type": "code",
      "metadata": {
        "id": "RzGnFaPg5WPG"
      },
      "source": [
        ""
      ],
      "execution_count": null,
      "outputs": []
    },
    {
      "cell_type": "code",
      "metadata": {
        "id": "E8YA07Az2B4v"
      },
      "source": [
        "# copying the files\n"
      ],
      "execution_count": 445,
      "outputs": []
    },
    {
      "cell_type": "code",
      "metadata": {
        "id": "mvsjYO5q8UeI"
      },
      "source": [
        ""
      ],
      "execution_count": 446,
      "outputs": []
    },
    {
      "cell_type": "code",
      "metadata": {
        "id": "vPRwBB8Z1jH0"
      },
      "source": [
        ""
      ],
      "execution_count": null,
      "outputs": []
    },
    {
      "cell_type": "code",
      "metadata": {
        "colab": {
          "base_uri": "https://localhost:8080/"
        },
        "id": "lLV6jlv6PZ6G",
        "outputId": "deb2d200-64ed-4986-a638-97345503dd49"
      },
      "source": [
        "Alc_S1Obj_Dir = '/home/james/EEG_Alc_Wavelets/alc_s1Obj'\n",
        "Alc_S2Match_Dir = '/home/james/EEG_Alc_Wavelets/alc_s2Match'\n",
        "Alc_S2Nomatch_Dir = '/home/james/EEG_Alc_Wavelets/alc_s2Nomatch'\n",
        "\n",
        "#Control Group\n",
        "\n",
        "!mkdir /home/james/EEG_Alc_Wavelets/con_s1Obj\n",
        "!mkdir /home/james/EEG_Alc_Wavelets/con_s2Match\n",
        "!mkdir /home/james/EEG_Alc_Wavelets/con_s2Nomatch\n",
        "\n",
        "Con_S1Obj_Dir = '/home/james/EEG_Alc_Wavelets/con_s1Obj'\n",
        "Con_S2Match_Dir = '/home/james/EEG_Alc_Wavelets/con_s2Match'\n",
        "Con_S2Nomatch_Dir = '/home/james/EEG_Alc_Wavelets/con_s2Nomatch'\n",
        "\n",
        "# For reference"
      ],
      "execution_count": 448,
      "outputs": [
        {
          "output_type": "stream",
          "text": [
            "cp: cannot stat '/home/james/EEG_Alc_Wavelets/alc_S1Obj/*.jpg': No such file or directory\n"
          ],
          "name": "stdout"
        }
      ]
    },
    {
      "cell_type": "code",
      "metadata": {
        "colab": {
          "base_uri": "https://localhost:8080/"
        },
        "id": "KLzIJRBd9D2Z",
        "outputId": "69435c32-4fa6-44c1-d60f-9698a20a9845"
      },
      "source": [
        "gdrivePath = '/content/drive/MyDrive/Colab_Data/EEG'\n",
        "\n",
        "%cd '/content/drive/MyDrive/Colab_Data/EEG'\n"
      ],
      "execution_count": 454,
      "outputs": [
        {
          "output_type": "stream",
          "text": [
            "/content/drive/MyDrive/Colab_Data/EEG\n"
          ],
          "name": "stdout"
        }
      ]
    },
    {
      "cell_type": "code",
      "metadata": {
        "id": "DI8-D4PS-I6D"
      },
      "source": [
        "!mkdir '/content/drive/MyDrive/Colab_Data/DL201/EEG'\n",
        "\n",
        "!mkdir '/content/drive/MyDrive/Colab_Data/DL201/EEG/Alc'\n",
        "!mkdir '/content/drive/MyDrive/Colab_Data/DL201/EEG/Con'\n",
        "\n"
      ],
      "execution_count": 455,
      "outputs": []
    },
    {
      "cell_type": "code",
      "metadata": {
        "id": "R1QS-zKQ-b8Z"
      },
      "source": [
        "Alc_Dir = '/content/drive/MyDrive/Colab_Data/DL201/EEG/Alc'\n",
        "Con_Dir = '/content/drive/MyDrive/Colab_Data/DL201/EEG/Con'\n"
      ],
      "execution_count": 457,
      "outputs": []
    },
    {
      "cell_type": "code",
      "metadata": {
        "id": "NA7isXCO0QRR"
      },
      "source": [
        "for fileName in os.listdir(Alc_S1Obj_Dir):\n",
        "  shutil.copy(os.path.join(Alc_s1Obj_Dir,fileName), os.path.join(Alc_Dir,fileName))"
      ],
      "execution_count": 458,
      "outputs": []
    },
    {
      "cell_type": "code",
      "metadata": {
        "id": "LjwoK7VN_1QU"
      },
      "source": [
        "!rm -r '/home/james/EEG_Alc_Wavelets/con_s2Match/.ipynb_checkpoints'"
      ],
      "execution_count": 461,
      "outputs": []
    },
    {
      "cell_type": "code",
      "metadata": {
        "id": "YbZGNHvx0KAs"
      },
      "source": [
        "#for fileName in os.listdir(Alc_S2Match_Dir):\n",
        "#  shutil.copy(os.path.join(Alc_S2Match_Dir,fileName), os.path.join(Alc_Dir,fileName))\n",
        "#for fileName in os.listdir(Alc_S2Nomatch_Dir):\n",
        "#  shutil.copy(os.path.join(Alc_S2Nomatch_Dir,fileName), os.path.join(Alc_Dir,fileName))\n",
        "\n",
        "#for fileName in os.listdir(Con_S1Obj_Dir):\n",
        "#  shutil.copy(os.path.join(Con_s1Obj_Dir,fileName), os.path.join(Con_Dir,fileName))\n",
        "for fileName in os.listdir(Con_S2Match_Dir):\n",
        "  shutil.copy(os.path.join(Con_S2Match_Dir,fileName), os.path.join(Con_Dir,fileName))\n",
        "for fileName in os.listdir(Con_S2Nomatch_Dir):\n",
        "  shutil.copy(os.path.join(Con_S2Nomatch_Dir,fileName), os.path.join(Con_Dir,fileName))\n"
      ],
      "execution_count": 462,
      "outputs": []
    },
    {
      "cell_type": "code",
      "metadata": {
        "colab": {
          "base_uri": "https://localhost:8080/"
        },
        "id": "wCemlGQq_QJf",
        "outputId": "d6668e74-bf01-485b-92d8-9835d7d7c893"
      },
      "source": [
        "len(os.listdir(Con_Dir))"
      ],
      "execution_count": 465,
      "outputs": [
        {
          "output_type": "execute_result",
          "data": {
            "text/plain": [
              "233"
            ]
          },
          "metadata": {},
          "execution_count": 465
        }
      ]
    },
    {
      "cell_type": "code",
      "metadata": {
        "colab": {
          "base_uri": "https://localhost:8080/",
          "height": 1000
        },
        "id": "NNbrCRHAD5S6",
        "outputId": "3986119a-6408-41b4-acd1-5a7415c66fc7"
      },
      "source": [
        "array_dict = {}\n",
        "\n",
        "for key in final_channels.keys():\n",
        "  signal = EEG_Frame.loc[key]\n",
        "  raw_array = wavelet_transformation_plot_to_array(signal)\n",
        "\n",
        "  rgb_array = rgba2rgb(raw_array)\n",
        "  \n",
        "  np_array = np.dot(rgb_array[...,:3], [0.287,0.299, 0.814])\n",
        "  \n",
        "  array_dict[key] = np_array\n",
        "  print(rgb_array.shape)\n",
        "\n"
      ],
      "execution_count": 381,
      "outputs": [
        {
          "output_type": "stream",
          "text": [
            "/usr/local/lib/python3.7/dist-packages/ipykernel_launcher.py:65: DeprecationWarning: The binary mode of fromstring is deprecated, as it behaves surprisingly on unicode inputs. Use frombuffer instead\n"
          ],
          "name": "stderr"
        },
        {
          "output_type": "stream",
          "text": [
            "(288, 288, 3)\n",
            "(288, 288, 3)\n",
            "(288, 288, 3)\n",
            "(288, 288, 3)\n",
            "(288, 288, 3)\n",
            "(288, 288, 3)\n",
            "(288, 288, 3)\n",
            "(288, 288, 3)\n",
            "(288, 288, 3)\n"
          ],
          "name": "stdout"
        },
        {
          "output_type": "display_data",
          "data": {
            "image/png": "[encoded data removed]",
            "text/plain": [
              "<Figure size 288x288 with 1 Axes>"
            ]
          },
          "metadata": {}
        },
        {
          "output_type": "display_data",
          "data": {
            "image/png": "[encoded data removed]",
            "text/plain": [
              "<Figure size 288x288 with 1 Axes>"
            ]
          },
          "metadata": {}
        },
        {
          "output_type": "display_data",
          "data": {
            "image/png": "[encoded data removed]",
            "text/plain": [
              "<Figure size 288x288 with 1 Axes>"
            ]
          },
          "metadata": {}
        },
        {
          "output_type": "display_data",
          "data": {
            "image/png": "[encoded data removed]",
            "text/plain": [
              "<Figure size 288x288 with 1 Axes>"
            ]
          },
          "metadata": {}
        },
        {
          "output_type": "display_data",
          "data": {
            "image/png": "[encoded data removed]",
            "text/plain": [
              "<Figure size 288x288 with 1 Axes>"
            ]
          },
          "metadata": {}
        },
        {
          "output_type": "display_data",
          "data": {
            "image/png": "[encoded data removed]",
            "text/plain": [
              "<Figure size 288x288 with 1 Axes>"
            ]
          },
          "metadata": {}
        },
        {
          "output_type": "display_data",
          "data": {
            "image/png": "[encoded data removed]",
            "text/plain": [
              "<Figure size 288x288 with 1 Axes>"
            ]
          },
          "metadata": {}
        },
        {
          "output_type": "display_data",
          "data": {
            "image/png": "[encoded data removed]",
            "text/plain": [
              "<Figure size 288x288 with 1 Axes>"
            ]
          },
          "metadata": {}
        },
        {
          "output_type": "display_data",
          "data": {
            "image/png": "[encoded data removed]",
            "text/plain": [
              "<Figure size 288x288 with 1 Axes>"
            ]
          },
          "metadata": {}
        }
      ]
    },
    {
      "cell_type": "code",
      "metadata": {
        "colab": {
          "base_uri": "https://localhost:8080/"
        },
        "id": "8XaiJd7-gE8h",
        "outputId": "e8d8a744-d655-496b-bf1b-d36d59138e30"
      },
      "source": [
        "len(array_dict)"
      ],
      "execution_count": 359,
      "outputs": [
        {
          "output_type": "execute_result",
          "data": {
            "text/plain": [
              "9"
            ]
          },
          "metadata": {},
          "execution_count": 359
        }
      ]
    },
    {
      "cell_type": "code",
      "metadata": {
        "id": "au8V0atXmm0d"
      },
      "source": [
        "ordered_keys = list(array_dict.keys())"
      ],
      "execution_count": 372,
      "outputs": []
    },
    {
      "cell_type": "code",
      "metadata": {
        "colab": {
          "base_uri": "https://localhost:8080/"
        },
        "id": "StqBuDXQnskX",
        "outputId": "9365d23f-c02b-43d6-c4b9-dcb1ff992545"
      },
      "source": [
        "len(ordered_keys)"
      ],
      "execution_count": 374,
      "outputs": [
        {
          "output_type": "execute_result",
          "data": {
            "text/plain": [
              "9"
            ]
          },
          "metadata": {},
          "execution_count": 374
        }
      ]
    },
    {
      "cell_type": "code",
      "metadata": {
        "id": "ahMjbf2vljD7"
      },
      "source": [
        "\n"
      ],
      "execution_count": 382,
      "outputs": []
    },
    {
      "cell_type": "code",
      "metadata": {
        "id": "Nhc6Hz0Ym8DE"
      },
      "source": [
        "\n"
      ],
      "execution_count": 383,
      "outputs": []
    },
    {
      "cell_type": "code",
      "metadata": {
        "colab": {
          "base_uri": "https://localhost:8080/"
        },
        "id": "fnr0Y1FUYyja",
        "outputId": "f7070832-6be5-4738-929d-0a08318231ff"
      },
      "source": [
        "collaged_array.shape"
      ],
      "execution_count": 384,
      "outputs": [
        {
          "output_type": "execute_result",
          "data": {
            "text/plain": [
              "(600, 600)"
            ]
          },
          "metadata": {},
          "execution_count": 384
        }
      ]
    },
    {
      "cell_type": "code",
      "metadata": {
        "colab": {
          "base_uri": "https://localhost:8080/",
          "height": 617
        },
        "id": "dQky02OQNbd0",
        "outputId": "0ed3cb74-e3b8-4871-d09f-2f4e6831b501"
      },
      "source": [
        "cv2_imshow(collaged_array)"
      ],
      "execution_count": 385,
      "outputs": [
        {
          "output_type": "display_data",
          "data": {
            "image/png": "[encoded data removed]",
            "text/plain": [
              "<PIL.Image.Image image mode=L size=600x600 at 0x7F2AA1B8EC10>"
            ]
          },
          "metadata": {}
        }
      ]
    },
    {
      "cell_type": "code",
      "metadata": {
        "colab": {
          "base_uri": "https://localhost:8080/",
          "height": 189
        },
        "id": "SUQd5RY1Nljq",
        "outputId": "adf6061b-cc6d-4a5c-c603-8dedd868bc67"
      },
      "source": [
        ""
      ],
      "execution_count": 313,
      "outputs": [
        {
          "output_type": "error",
          "ename": "NameError",
          "evalue": "ignored",
          "traceback": [
            "\u001b[0;31m---------------------------------------------------------------------------\u001b[0m",
            "\u001b[0;31mNameError\u001b[0m                                 Traceback (most recent call last)",
            "\u001b[0;32m<ipython-input-313-487663657c5f>\u001b[0m in \u001b[0;36m<module>\u001b[0;34m()\u001b[0m\n\u001b[0;32m----> 1\u001b[0;31m \u001b[0mgray\u001b[0m \u001b[0;34m=\u001b[0m \u001b[0;36m0.2989\u001b[0m \u001b[0;34m*\u001b[0m \u001b[0mr\u001b[0m \u001b[0;34m+\u001b[0m \u001b[0;36m0.5870\u001b[0m \u001b[0;34m*\u001b[0m \u001b[0mg\u001b[0m \u001b[0;34m+\u001b[0m \u001b[0;36m0.1140\u001b[0m \u001b[0;34m*\u001b[0m \u001b[0mb\u001b[0m\u001b[0;34m\u001b[0m\u001b[0;34m\u001b[0m\u001b[0m\n\u001b[0m\u001b[1;32m      2\u001b[0m \u001b[0;31m#np.dot(rgb[...,:3], [0.299, 0.587, 0.114])\u001b[0m\u001b[0;34m\u001b[0m\u001b[0;34m\u001b[0m\u001b[0;34m\u001b[0m\u001b[0m\n",
            "\u001b[0;31mNameError\u001b[0m: name 'r' is not defined"
          ]
        }
      ]
    },
    {
      "cell_type": "code",
      "metadata": {
        "id": "wAHFq-5odsCS"
      },
      "source": [
        ""
      ],
      "execution_count": 341,
      "outputs": []
    },
    {
      "cell_type": "code",
      "metadata": {
        "colab": {
          "base_uri": "https://localhost:8080/",
          "height": 305
        },
        "id": "vmf1yGIGe2nc",
        "outputId": "40d5be4f-8af7-442b-a32d-e798c97acf6b"
      },
      "source": [
        "cv2_imshow(greyscale_array)"
      ],
      "execution_count": 342,
      "outputs": [
        {
          "output_type": "display_data",
          "data": {
            "image/png": "[encoded data removed]",
            "text/plain": [
              "<PIL.Image.Image image mode=L size=288x288 at 0x7F2AA1610FD0>"
            ]
          },
          "metadata": {}
        }
      ]
    },
    {
      "cell_type": "code",
      "metadata": {
        "colab": {
          "base_uri": "https://localhost:8080/"
        },
        "id": "CbOH7jq2e8Gu",
        "outputId": "fe78575f-55a2-4c3b-8a77-62df4693ba99"
      },
      "source": [
        "#cropping function:"
      ],
      "execution_count": 343,
      "outputs": [
        {
          "output_type": "execute_result",
          "data": {
            "text/plain": [
              "(288, 288)"
            ]
          },
          "metadata": {},
          "execution_count": 343
        }
      ]
    },
    {
      "cell_type": "code",
      "metadata": {
        "id": "4bKZmhCShMMd"
      },
      "source": [
        ""
      ],
      "execution_count": 347,
      "outputs": []
    },
    {
      "cell_type": "code",
      "metadata": {
        "id": "p_wYGCSUhCm1"
      },
      "source": [
        ""
      ],
      "execution_count": 357,
      "outputs": []
    },
    {
      "cell_type": "code",
      "metadata": {
        "id": "eEHdN6XjhIcW"
      },
      "source": [
        "def crop_image(img,tol=255):\n",
        "    # img is 2D image data\n",
        "    # tol  is tolerance\n",
        "    mask = img<tol\n",
        "    return img[np.ix_(mask.any(1),mask.any(0))]\n",
        "\n",
        "#cropped_image = crop_image(greyscale_array)"
      ],
      "execution_count": 355,
      "outputs": []
    },
    {
      "cell_type": "code",
      "metadata": {
        "colab": {
          "base_uri": "https://localhost:8080/"
        },
        "id": "vjvzGchphSzu",
        "outputId": "77785a05-2689-443c-f1fe-8b6ae81eb355"
      },
      "source": [
        ""
      ],
      "execution_count": 356,
      "outputs": [
        {
          "output_type": "execute_result",
          "data": {
            "text/plain": [
              "(286, 284)"
            ]
          },
          "metadata": {},
          "execution_count": 356
        }
      ]
    },
    {
      "cell_type": "code",
      "metadata": {
        "colab": {
          "base_uri": "https://localhost:8080/",
          "height": 303
        },
        "id": "zcFce-n-h0kr",
        "outputId": "e5c874e8-1842-4035-db43-eecfa8af36bd"
      },
      "source": [
        ""
      ],
      "execution_count": 357,
      "outputs": [
        {
          "output_type": "display_data",
          "data": {
            "image/png": "[encoded data removed]",
            "text/plain": [
              "<PIL.Image.Image image mode=L size=284x286 at 0x7F2AA1614310>"
            ]
          },
          "metadata": {}
        }
      ]
    },
    {
      "cell_type": "code",
      "metadata": {
        "id": "0dMdt6pHh9U-"
      },
      "source": [
        ""
      ],
      "execution_count": null,
      "outputs": []
    },
    {
      "cell_type": "markdown",
      "metadata": {
        "id": "8oSLn9TH3cLZ"
      },
      "source": [
        "# Begin FastAI\n",
        "\n"
      ]
    },
    {
      "cell_type": "code",
      "metadata": {
        "id": "rYSOqkom3gom"
      },
      "source": [
        "# Move all the alc and control files into \n",
        "# one directory\n",
        "#root_dir = #\n",
        "#Alc_Dir has 235 images\n",
        "\n",
        "#Con_Dir has 232 Images\n",
        "\n",
        "Alc_Dir = '/content/drive/MyDrive/Colab_Data/DL201/EEG/Alc'\n",
        "Con_Dir = '/content/drive/MyDrive/Colab_Data/DL201/EEG/Con'\n",
        "\n",
        "\n",
        "EEG_Con_Path = Alc_Dir\n",
        "EEG_Alc_Path = Con_Dir\n",
        "\n",
        "List_EEG_Con = [os.path.join(EEG_Con_Path, f) for f in os.listdir(EEG_Con_Path)]\n",
        "List_EEG_Alc = [os.path.join(EEG_Alc_Path, f) for f in os.listdir(EEG_Alc_Path)]\n",
        "\n",
        "root_dir = '/content/drive/MyDrive/Colab_Data/DL201/EEG/'"
      ],
      "execution_count": 4,
      "outputs": []
    },
    {
      "cell_type": "code",
      "metadata": {
        "colab": {
          "base_uri": "https://localhost:8080/"
        },
        "id": "NnCKthuKBJ42",
        "outputId": "a428dd3e-a2a0-43a9-fdbc-15ad3891bb4c"
      },
      "source": [
        "NumOfControlImages = len(List_EEG_Con) \n",
        "NumOfAlchImages = len(List_EEG_Alc) \n",
        "\n",
        "print(f'Control Group size {NumOfControlImages}')\n",
        "print(f'Alcholic Group size: {NumOfAlchImages}')"
      ],
      "execution_count": 5,
      "outputs": [
        {
          "output_type": "stream",
          "text": [
            "Control Group size 235\n",
            "Alcholic Group size: 233\n"
          ],
          "name": "stdout"
        }
      ]
    },
    {
      "cell_type": "code",
      "metadata": {
        "colab": {
          "base_uri": "https://localhost:8080/",
          "height": 273
        },
        "id": "R0gHqzoMBMdk",
        "outputId": "7fab3aa8-ba76-4aa7-ccda-f2b3f7f666c0"
      },
      "source": [
        "from PIL import Image\n",
        "picked_image = 47\n",
        "im = Image.open(List_EEG_Alc[picked_image])\n",
        "im.to_thumb(256,256)"
      ],
      "execution_count": 8,
      "outputs": [
        {
          "output_type": "execute_result",
          "data": {
            "image/png": "[encoded data removed]",
            "text/plain": [
              "<PIL.Image.Image image mode=L size=256x256 at 0x7F0F3CEF6A10>"
            ]
          },
          "metadata": {},
          "execution_count": 8
        }
      ]
    },
    {
      "cell_type": "code",
      "metadata": {
        "id": "KSfQuy5EBMwy"
      },
      "source": [
        ""
      ],
      "execution_count": null,
      "outputs": []
    },
    {
      "cell_type": "code",
      "metadata": {
        "id": "4PaPaTI_EKHQ"
      },
      "source": [
        ""
      ],
      "execution_count": 42,
      "outputs": []
    },
    {
      "cell_type": "code",
      "metadata": {
        "id": "4cR0hfN6-j8U"
      },
      "source": [
        ""
      ],
      "execution_count": 42,
      "outputs": []
    },
    {
      "cell_type": "code",
      "metadata": {
        "id": "Wh2zlEyA4zSC"
      },
      "source": [
        "class DataLoaders(GetAttr):\n",
        "  def __init__(self, *loaders): self.loaders = loaders\n",
        "  def __getitem__(self, i): return self.loaders[i]\n",
        "  train,valid = add_props(lambda i, self: self[i])"
      ],
      "execution_count": 9,
      "outputs": []
    },
    {
      "cell_type": "code",
      "metadata": {
        "id": "hMwlrEcv-2dj"
      },
      "source": [
        "EEGs = DataBlock (\n",
        "    blocks=(ImageBlock, CategoryBlock),\n",
        "    get_items=get_image_files,\n",
        "    splitter = RandomSplitter(valid_pct=0.2, seed=99),\n",
        "    get_y=parent_label,\n",
        "    #item_tfms=Resize(32,32)\n",
        "    )"
      ],
      "execution_count": 10,
      "outputs": []
    },
    {
      "cell_type": "code",
      "metadata": {
        "id": "84Z8uJqUCRva"
      },
      "source": [
        "EEGs = EEGs.new(\n",
        "    #item_tfms=RandomResizedCrop(28, min_scale=0.5),\n",
        "    #batch_tfms=aug_transforms()\n",
        ")\n",
        "dls = EEGs.dataloaders(root_dir)"
      ],
      "execution_count": 11,
      "outputs": []
    },
    {
      "cell_type": "code",
      "metadata": {
        "colab": {
          "base_uri": "https://localhost:8080/",
          "height": 300
        },
        "id": "CttnJMBwCaDD",
        "outputId": "9bb3b766-b219-4dea-a7fb-916ec32af293"
      },
      "source": [
        "learn = cnn_learner(dls, resnet18, metrics=error_rate)\n",
        "learn.fine_tune(6)"
      ],
      "execution_count": 15,
      "outputs": [
        {
          "output_type": "display_data",
          "data": {
            "text/html": [
              "<table border=\"1\" class=\"dataframe\">\n",
              "  <thead>\n",
              "    <tr style=\"text-align: left;\">\n",
              "      <th>epoch</th>\n",
              "      <th>train_loss</th>\n",
              "      <th>valid_loss</th>\n",
              "      <th>error_rate</th>\n",
              "      <th>time</th>\n",
              "    </tr>\n",
              "  </thead>\n",
              "  <tbody>\n",
              "    <tr>\n",
              "      <td>0</td>\n",
              "      <td>1.162115</td>\n",
              "      <td>0.796615</td>\n",
              "      <td>0.451613</td>\n",
              "      <td>00:06</td>\n",
              "    </tr>\n",
              "  </tbody>\n",
              "</table>"
            ],
            "text/plain": [
              "<IPython.core.display.HTML object>"
            ]
          },
          "metadata": {}
        },
        {
          "output_type": "display_data",
          "data": {
            "text/html": [
              "<table border=\"1\" class=\"dataframe\">\n",
              "  <thead>\n",
              "    <tr style=\"text-align: left;\">\n",
              "      <th>epoch</th>\n",
              "      <th>train_loss</th>\n",
              "      <th>valid_loss</th>\n",
              "      <th>error_rate</th>\n",
              "      <th>time</th>\n",
              "    </tr>\n",
              "  </thead>\n",
              "  <tbody>\n",
              "    <tr>\n",
              "      <td>0</td>\n",
              "      <td>0.776918</td>\n",
              "      <td>0.806690</td>\n",
              "      <td>0.483871</td>\n",
              "      <td>00:07</td>\n",
              "    </tr>\n",
              "    <tr>\n",
              "      <td>1</td>\n",
              "      <td>0.613606</td>\n",
              "      <td>0.713642</td>\n",
              "      <td>0.387097</td>\n",
              "      <td>00:07</td>\n",
              "    </tr>\n",
              "    <tr>\n",
              "      <td>2</td>\n",
              "      <td>0.449639</td>\n",
              "      <td>0.624549</td>\n",
              "      <td>0.279570</td>\n",
              "      <td>00:07</td>\n",
              "    </tr>\n",
              "    <tr>\n",
              "      <td>3</td>\n",
              "      <td>0.339977</td>\n",
              "      <td>0.680605</td>\n",
              "      <td>0.301075</td>\n",
              "      <td>00:07</td>\n",
              "    </tr>\n",
              "    <tr>\n",
              "      <td>4</td>\n",
              "      <td>0.280833</td>\n",
              "      <td>0.710589</td>\n",
              "      <td>0.290323</td>\n",
              "      <td>00:07</td>\n",
              "    </tr>\n",
              "    <tr>\n",
              "      <td>5</td>\n",
              "      <td>0.233136</td>\n",
              "      <td>0.741712</td>\n",
              "      <td>0.290323</td>\n",
              "      <td>00:07</td>\n",
              "    </tr>\n",
              "  </tbody>\n",
              "</table>"
            ],
            "text/plain": [
              "<IPython.core.display.HTML object>"
            ]
          },
          "metadata": {}
        }
      ]
    },
    {
      "cell_type": "code",
      "metadata": {
        "id": "VqTJSzGKGOgE"
      },
      "source": [
        "del learn"
      ],
      "execution_count": 17,
      "outputs": []
    },
    {
      "cell_type": "code",
      "metadata": {
        "colab": {
          "base_uri": "https://localhost:8080/",
          "height": 406,
          "referenced_widgets": [
            "dda37e1355d446289926f3a57ba562e0",
            "ad5fdf5e66c94610b2c059bf6aa099d5",
            "f221ba5ac4a74f5e9b73521e92476cfe",
            "6e42eac6e46646b690d3bc39e9b04226",
            "588a74c6d1c041d7b73e40a570188383",
            "4a316ab8c3c242a8b5c6de32010c8ce6",
            "30d375e11b2548acbf447fc9a0707d1c",
            "adea77eecb9b40019effef2d5ea12436",
            "76560354c56f4cb3b10a3e3d711ac5a7",
            "ce0fef7e0ccf41108d41d01ffd169833",
            "c243872209e4433a82206f1a5c96be8e"
          ]
        },
        "id": "RfMuLKhbCpeG",
        "outputId": "0d6d5ee0-bfe2-4baa-b30f-db23f9f20bdb"
      },
      "source": [
        "learn = cnn_learner(dls, resnet34, metrics=error_rate)\n",
        "learn.fine_tune(6)"
      ],
      "execution_count": 12,
      "outputs": [
        {
          "output_type": "stream",
          "text": [
            "Downloading: \"https://download.pytorch.org/models/resnet34-b627a593.pth\" to /root/.cache/torch/hub/checkpoints/resnet34-b627a593.pth\n"
          ],
          "name": "stderr"
        },
        {
          "output_type": "display_data",
          "data": {
            "application/vnd.jupyter.widget-view+json": {
              "model_id": "dda37e1355d446289926f3a57ba562e0",
              "version_minor": 0,
              "version_major": 2
            },
            "text/plain": [
              "  0%|          | 0.00/83.3M [00:00<?, ?B/s]"
            ]
          },
          "metadata": {}
        },
        {
          "output_type": "stream",
          "text": [
            "/usr/local/lib/python3.7/dist-packages/torch/nn/functional.py:718: UserWarning: Named tensors and all their associated APIs are an experimental feature and subject to change. Please do not use them for anything important until they are released as stable. (Triggered internally at  /pytorch/c10/core/TensorImpl.h:1156.)\n",
            "  return torch.max_pool2d(input, kernel_size, stride, padding, dilation, ceil_mode)\n"
          ],
          "name": "stderr"
        },
        {
          "output_type": "display_data",
          "data": {
            "text/html": [
              "<table border=\"1\" class=\"dataframe\">\n",
              "  <thead>\n",
              "    <tr style=\"text-align: left;\">\n",
              "      <th>epoch</th>\n",
              "      <th>train_loss</th>\n",
              "      <th>valid_loss</th>\n",
              "      <th>error_rate</th>\n",
              "      <th>time</th>\n",
              "    </tr>\n",
              "  </thead>\n",
              "  <tbody>\n",
              "    <tr>\n",
              "      <td>0</td>\n",
              "      <td>1.471548</td>\n",
              "      <td>2.431687</td>\n",
              "      <td>0.430108</td>\n",
              "      <td>01:42</td>\n",
              "    </tr>\n",
              "  </tbody>\n",
              "</table>"
            ],
            "text/plain": [
              "<IPython.core.display.HTML object>"
            ]
          },
          "metadata": {}
        },
        {
          "output_type": "display_data",
          "data": {
            "text/html": [
              "<table border=\"1\" class=\"dataframe\">\n",
              "  <thead>\n",
              "    <tr style=\"text-align: left;\">\n",
              "      <th>epoch</th>\n",
              "      <th>train_loss</th>\n",
              "      <th>valid_loss</th>\n",
              "      <th>error_rate</th>\n",
              "      <th>time</th>\n",
              "    </tr>\n",
              "  </thead>\n",
              "  <tbody>\n",
              "    <tr>\n",
              "      <td>0</td>\n",
              "      <td>0.840954</td>\n",
              "      <td>2.239835</td>\n",
              "      <td>0.430108</td>\n",
              "      <td>02:00</td>\n",
              "    </tr>\n",
              "    <tr>\n",
              "      <td>1</td>\n",
              "      <td>0.567864</td>\n",
              "      <td>2.256172</td>\n",
              "      <td>0.419355</td>\n",
              "      <td>01:56</td>\n",
              "    </tr>\n",
              "    <tr>\n",
              "      <td>2</td>\n",
              "      <td>0.420556</td>\n",
              "      <td>2.214324</td>\n",
              "      <td>0.419355</td>\n",
              "      <td>02:00</td>\n",
              "    </tr>\n",
              "    <tr>\n",
              "      <td>3</td>\n",
              "      <td>0.332535</td>\n",
              "      <td>2.138893</td>\n",
              "      <td>0.419355</td>\n",
              "      <td>01:56</td>\n",
              "    </tr>\n",
              "    <tr>\n",
              "      <td>4</td>\n",
              "      <td>0.268977</td>\n",
              "      <td>2.103091</td>\n",
              "      <td>0.397849</td>\n",
              "      <td>01:58</td>\n",
              "    </tr>\n",
              "    <tr>\n",
              "      <td>5</td>\n",
              "      <td>0.221991</td>\n",
              "      <td>1.831618</td>\n",
              "      <td>0.387097</td>\n",
              "      <td>02:00</td>\n",
              "    </tr>\n",
              "  </tbody>\n",
              "</table>"
            ],
            "text/plain": [
              "<IPython.core.display.HTML object>"
            ]
          },
          "metadata": {}
        }
      ]
    },
    {
      "cell_type": "code",
      "metadata": {
        "colab": {
          "base_uri": "https://localhost:8080/"
        },
        "id": "-6vDAx4VGE53",
        "outputId": "4e611fa9-cc89-489c-9db7-ca9adebf6385"
      },
      "source": [
        "learn.save('/content/drive/MyDrive/Colab_Data/DL201/eegResnet34.mdl')"
      ],
      "execution_count": 14,
      "outputs": [
        {
          "output_type": "execute_result",
          "data": {
            "text/plain": [
              "Path('/content/drive/MyDrive/Colab_Data/DL201/eegResnet34.mdl.pth')"
            ]
          },
          "metadata": {},
          "execution_count": 14
        }
      ]
    },
    {
      "cell_type": "code",
      "metadata": {
        "id": "UEjJorvFKgLr"
      },
      "source": [
        ""
      ],
      "execution_count": null,
      "outputs": []
    }
  ]
}