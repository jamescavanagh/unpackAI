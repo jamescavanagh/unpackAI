{
  "nbformat": 4,
  "nbformat_minor": 0,
  "metadata": {
    "colab": {
      "name": "EEG_Alchoholism.ipynb",
      "provenance": [],
      "collapsed_sections": [],
      "authorship_tag": "ABX9TyOY5gzA0LkHvEwtfG8W2794",
      "include_colab_link": true
    },
    "kernelspec": {
      "name": "python3",
      "display_name": "Python 3"
    },
    "language_info": {
      "name": "python"
    },
    "accelerator": "TPU",
    "widgets": {
      "application/vnd.jupyter.widget-state+json": {
        "3da98e27b25741819ecc8d538eba8839": {
          "model_module": "@jupyter-widgets/controls",
          "model_name": "HBoxModel",
          "model_module_version": "1.5.0",
          "state": {
            "_view_name": "HBoxView",
            "_dom_classes": [],
            "_model_name": "HBoxModel",
            "_view_module": "@jupyter-widgets/controls",
            "_model_module_version": "1.5.0",
            "_view_count": null,
            "_view_module_version": "1.5.0",
            "box_style": "",
            "layout": "IPY_MODEL_278ae0f7a3bf4b8f9a88290d7e12b710",
            "_model_module": "@jupyter-widgets/controls",
            "children": [
              "IPY_MODEL_f923972a99e54cac9702064129079f0e",
              "IPY_MODEL_88bda0aad67949e8897a821181890556"
            ]
          }
        },
        "278ae0f7a3bf4b8f9a88290d7e12b710": {
          "model_module": "@jupyter-widgets/base",
          "model_name": "LayoutModel",
          "model_module_version": "1.2.0",
          "state": {
            "_view_name": "LayoutView",
            "grid_template_rows": null,
            "right": null,
            "justify_content": null,
            "_view_module": "@jupyter-widgets/base",
            "overflow": null,
            "_model_module_version": "1.2.0",
            "_view_count": null,
            "flex_flow": null,
            "width": null,
            "min_width": null,
            "border": null,
            "align_items": null,
            "bottom": null,
            "_model_module": "@jupyter-widgets/base",
            "top": null,
            "grid_column": null,
            "overflow_y": null,
            "overflow_x": null,
            "grid_auto_flow": null,
            "grid_area": null,
            "grid_template_columns": null,
            "flex": null,
            "_model_name": "LayoutModel",
            "justify_items": null,
            "grid_row": null,
            "max_height": null,
            "align_content": null,
            "visibility": null,
            "align_self": null,
            "height": null,
            "min_height": null,
            "padding": null,
            "grid_auto_rows": null,
            "grid_gap": null,
            "max_width": null,
            "order": null,
            "_view_module_version": "1.2.0",
            "grid_template_areas": null,
            "object_position": null,
            "object_fit": null,
            "grid_auto_columns": null,
            "margin": null,
            "display": null,
            "left": null
          }
        },
        "f923972a99e54cac9702064129079f0e": {
          "model_module": "@jupyter-widgets/controls",
          "model_name": "FloatProgressModel",
          "model_module_version": "1.5.0",
          "state": {
            "_view_name": "ProgressView",
            "style": "IPY_MODEL_f649d2c39822497ebd0a0c0457f616fb",
            "_dom_classes": [],
            "description": "100%",
            "_model_name": "FloatProgressModel",
            "bar_style": "success",
            "max": 87319819,
            "_view_module": "@jupyter-widgets/controls",
            "_model_module_version": "1.5.0",
            "value": 87319819,
            "_view_count": null,
            "_view_module_version": "1.5.0",
            "orientation": "horizontal",
            "min": 0,
            "description_tooltip": null,
            "_model_module": "@jupyter-widgets/controls",
            "layout": "IPY_MODEL_0383e3fec2c947cbac7ee3625fceb4a5"
          }
        },
        "88bda0aad67949e8897a821181890556": {
          "model_module": "@jupyter-widgets/controls",
          "model_name": "HTMLModel",
          "model_module_version": "1.5.0",
          "state": {
            "_view_name": "HTMLView",
            "style": "IPY_MODEL_f4f842a7542c452fa6887232de0d9856",
            "_dom_classes": [],
            "description": "",
            "_model_name": "HTMLModel",
            "placeholder": "​",
            "_view_module": "@jupyter-widgets/controls",
            "_model_module_version": "1.5.0",
            "value": " 83.3M/83.3M [00:00&lt;00:00, 87.9MB/s]",
            "_view_count": null,
            "_view_module_version": "1.5.0",
            "description_tooltip": null,
            "_model_module": "@jupyter-widgets/controls",
            "layout": "IPY_MODEL_b0f8bbb2e3164b51b37aaf8a99d2c3e8"
          }
        },
        "f649d2c39822497ebd0a0c0457f616fb": {
          "model_module": "@jupyter-widgets/controls",
          "model_name": "ProgressStyleModel",
          "model_module_version": "1.5.0",
          "state": {
            "_view_name": "StyleView",
            "_model_name": "ProgressStyleModel",
            "description_width": "initial",
            "_view_module": "@jupyter-widgets/base",
            "_model_module_version": "1.5.0",
            "_view_count": null,
            "_view_module_version": "1.2.0",
            "bar_color": null,
            "_model_module": "@jupyter-widgets/controls"
          }
        },
        "0383e3fec2c947cbac7ee3625fceb4a5": {
          "model_module": "@jupyter-widgets/base",
          "model_name": "LayoutModel",
          "model_module_version": "1.2.0",
          "state": {
            "_view_name": "LayoutView",
            "grid_template_rows": null,
            "right": null,
            "justify_content": null,
            "_view_module": "@jupyter-widgets/base",
            "overflow": null,
            "_model_module_version": "1.2.0",
            "_view_count": null,
            "flex_flow": null,
            "width": null,
            "min_width": null,
            "border": null,
            "align_items": null,
            "bottom": null,
            "_model_module": "@jupyter-widgets/base",
            "top": null,
            "grid_column": null,
            "overflow_y": null,
            "overflow_x": null,
            "grid_auto_flow": null,
            "grid_area": null,
            "grid_template_columns": null,
            "flex": null,
            "_model_name": "LayoutModel",
            "justify_items": null,
            "grid_row": null,
            "max_height": null,
            "align_content": null,
            "visibility": null,
            "align_self": null,
            "height": null,
            "min_height": null,
            "padding": null,
            "grid_auto_rows": null,
            "grid_gap": null,
            "max_width": null,
            "order": null,
            "_view_module_version": "1.2.0",
            "grid_template_areas": null,
            "object_position": null,
            "object_fit": null,
            "grid_auto_columns": null,
            "margin": null,
            "display": null,
            "left": null
          }
        },
        "f4f842a7542c452fa6887232de0d9856": {
          "model_module": "@jupyter-widgets/controls",
          "model_name": "DescriptionStyleModel",
          "model_module_version": "1.5.0",
          "state": {
            "_view_name": "StyleView",
            "_model_name": "DescriptionStyleModel",
            "description_width": "",
            "_view_module": "@jupyter-widgets/base",
            "_model_module_version": "1.5.0",
            "_view_count": null,
            "_view_module_version": "1.2.0",
            "_model_module": "@jupyter-widgets/controls"
          }
        },
        "b0f8bbb2e3164b51b37aaf8a99d2c3e8": {
          "model_module": "@jupyter-widgets/base",
          "model_name": "LayoutModel",
          "model_module_version": "1.2.0",
          "state": {
            "_view_name": "LayoutView",
            "grid_template_rows": null,
            "right": null,
            "justify_content": null,
            "_view_module": "@jupyter-widgets/base",
            "overflow": null,
            "_model_module_version": "1.2.0",
            "_view_count": null,
            "flex_flow": null,
            "width": null,
            "min_width": null,
            "border": null,
            "align_items": null,
            "bottom": null,
            "_model_module": "@jupyter-widgets/base",
            "top": null,
            "grid_column": null,
            "overflow_y": null,
            "overflow_x": null,
            "grid_auto_flow": null,
            "grid_area": null,
            "grid_template_columns": null,
            "flex": null,
            "_model_name": "LayoutModel",
            "justify_items": null,
            "grid_row": null,
            "max_height": null,
            "align_content": null,
            "visibility": null,
            "align_self": null,
            "height": null,
            "min_height": null,
            "padding": null,
            "grid_auto_rows": null,
            "grid_gap": null,
            "max_width": null,
            "order": null,
            "_view_module_version": "1.2.0",
            "grid_template_areas": null,
            "object_position": null,
            "object_fit": null,
            "grid_auto_columns": null,
            "margin": null,
            "display": null,
            "left": null
          }
        }
      }
    }
  },
  "cells": [
    {
      "cell_type": "markdown",
      "metadata": {
        "id": "view-in-github",
        "colab_type": "text"
      },
      "source": [
        "<a href=\"https://colab.research.google.com/github/jamescavanagh/unpackAI/blob/main/EEG_Alchoholism.ipynb\" target=\"_parent\"><img src=\"https://colab.research.google.com/assets/colab-badge.svg\" alt=\"Open In Colab\"/></a>"
      ]
    },
    {
      "cell_type": "code",
      "metadata": {
        "colab": {
          "base_uri": "https://localhost:8080/"
        },
        "id": "oRE5NU6ACbib",
        "outputId": "590013ad-5009-41f2-d6bf-69c25d9631a5"
      },
      "source": [
        "\n",
        "!pip install -Uqq fastbook kaggle waterfallcharts treeinterpreter dtreeviz mne\n",
        "import fastbook\n",
        "fastbook.setup_book()"
      ],
      "execution_count": 1,
      "outputs": [
        {
          "output_type": "stream",
          "text": [
            "\u001b[K     |████████████████████████████████| 720 kB 4.8 MB/s \n",
            "\u001b[K     |████████████████████████████████| 60 kB 7.3 MB/s \n",
            "\u001b[K     |████████████████████████████████| 6.9 MB 37.8 MB/s \n",
            "\u001b[K     |████████████████████████████████| 188 kB 67.9 MB/s \n",
            "\u001b[K     |████████████████████████████████| 1.2 MB 47.0 MB/s \n",
            "\u001b[K     |████████████████████████████████| 46 kB 3.7 MB/s \n",
            "\u001b[K     |████████████████████████████████| 56 kB 3.1 MB/s \n",
            "\u001b[K     |████████████████████████████████| 51 kB 272 kB/s \n",
            "\u001b[?25h  Building wheel for waterfallcharts (setup.py) ... \u001b[?25l\u001b[?25hdone\n",
            "  Building wheel for dtreeviz (setup.py) ... \u001b[?25l\u001b[?25hdone\n",
            "Mounted at /content/gdrive\n"
          ],
          "name": "stdout"
        }
      ]
    },
    {
      "cell_type": "code",
      "metadata": {
        "id": "FpYTeJrsMfvZ"
      },
      "source": [
        "\n",
        "\n",
        "import numpy as np\n",
        "import pandas as pd \n",
        "import random\n",
        "import os\n",
        "from tqdm import tqdm\n",
        "import torch\n",
        "import torch.nn as nn\n",
        "import torch.nn.functional as F\n",
        "import seaborn as sns\n",
        "import matplotlib.pyplot as plt\n",
        "from scipy.fftpack import fft, fftfreq, rfft, rfftfreq\n",
        "from sklearn.preprocessing import quantile_transform\n",
        "from sklearn.preprocessing import minmax_scale\n",
        "from sklearn.preprocessing import normalize\n",
        "from sklearn.preprocessing import scale\n",
        "from sklearn.preprocessing import robust_scale\n",
        "import mne\n",
        "import matplotlib \n",
        "from collections import defaultdict\n",
        "from math import cos, sin, acos, radians, pi\n",
        "from scipy.interpolate import griddata\n",
        "from numpy import newaxis\n",
        "from torch.utils.data import Dataset, DataLoader\n",
        "from torchvision import transforms, utils"
      ],
      "execution_count": 2,
      "outputs": []
    },
    {
      "cell_type": "markdown",
      "metadata": {
        "id": "G6piaejdGqYT"
      },
      "source": [
        "# Imports"
      ]
    },
    {
      "cell_type": "code",
      "metadata": {
        "id": "2Bssci9hFcxN"
      },
      "source": [
        "from fastbook import *\n",
        "\n",
        "import numpy as np\n",
        "import pandas as pd \n",
        "import os\n",
        "import random"
      ],
      "execution_count": 3,
      "outputs": []
    },
    {
      "cell_type": "code",
      "metadata": {
        "colab": {
          "base_uri": "https://localhost:8080/"
        },
        "id": "9E5SMp7fDKld",
        "outputId": "6004abfd-e7e3-4a46-9ae3-119e9870992e"
      },
      "source": [
        "from google.colab import drive\n",
        "drive.mount('/content/drive')"
      ],
      "execution_count": 4,
      "outputs": [
        {
          "output_type": "stream",
          "text": [
            "Mounted at /content/drive\n"
          ],
          "name": "stdout"
        }
      ]
    },
    {
      "cell_type": "code",
      "metadata": {
        "colab": {
          "resources": {
            "http://localhost:8080/nbextensions/google.colab/files.js": {
              "data": "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",
              "ok": true,
              "headers": [
                [
                  "content-type",
                  "application/javascript"
                ]
              ],
              "status": 200,
              "status_text": "OK"
            }
          },
          "base_uri": "https://localhost:8080/",
          "height": 106
        },
        "id": "fhhlQkiCDO5P",
        "outputId": "8395c398-1d65-437b-985a-578c9cd53838"
      },
      "source": [
        "from google.colab import files\n",
        "files.upload() # Upload plotting_10005.txt\n",
        "\n",
        "!mkdir -p ~/.kaggle\n",
        "!cp kaggle.json ~/.kaggle/ \n",
        "!chmod 600 ~/.kaggle/kaggle.json"
      ],
      "execution_count": 5,
      "outputs": [
        {
          "output_type": "display_data",
          "data": {
            "text/html": [
              "\n",
              "     <input type=\"file\" id=\"files-39f03deb-30b4-45dd-9836-3dda2be2f7d3\" name=\"files[]\" multiple disabled\n",
              "        style=\"border:none\" />\n",
              "     <output id=\"result-39f03deb-30b4-45dd-9836-3dda2be2f7d3\">\n",
              "      Upload widget is only available when the cell has been executed in the\n",
              "      current browser session. Please rerun this cell to enable.\n",
              "      </output>\n",
              "      <script src=\"/nbextensions/google.colab/files.js\"></script> "
            ],
            "text/plain": [
              "<IPython.core.display.HTML object>"
            ]
          },
          "metadata": {
            "tags": []
          }
        },
        {
          "output_type": "stream",
          "text": [
            "Saving plotting_1005.txt to plotting_1005.txt\n",
            "cp: cannot stat 'kaggle.json': No such file or directory\n",
            "chmod: cannot access '/root/.kaggle/kaggle.json': No such file or directory\n"
          ],
          "name": "stdout"
        }
      ]
    },
    {
      "cell_type": "code",
      "metadata": {
        "id": "qJkm9AFuDc8V"
      },
      "source": [
        "#from kaggle import api\n",
        "#files.upload()"
      ],
      "execution_count": 6,
      "outputs": []
    },
    {
      "cell_type": "code",
      "metadata": {
        "colab": {
          "base_uri": "https://localhost:8080/"
        },
        "id": "fakPcxa6ZSq_",
        "outputId": "7ebae812-db64-49f3-fc1b-465540ed4445"
      },
      "source": [
        "!ls"
      ],
      "execution_count": null,
      "outputs": [
        {
          "output_type": "stream",
          "text": [
            "SMNI_CMI_TEST  SMNI_CMI_TRAIN\n"
          ],
          "name": "stdout"
        }
      ]
    },
    {
      "cell_type": "code",
      "metadata": {
        "id": "f7V5sJMTY1EJ"
      },
      "source": [
        "! mkdir '/home/james'\n",
        "!mv 'plotting_1005.txt' '/home/james/plotting_1005.txt'"
      ],
      "execution_count": 7,
      "outputs": []
    },
    {
      "cell_type": "code",
      "metadata": {
        "colab": {
          "resources": {
            "http://localhost:8080/nbextensions/google.colab/files.js": {
              "data": "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",
              "ok": true,
              "headers": [
                [
                  "content-type",
                  "application/javascript"
                ]
              ],
              "status": 200,
              "status_text": "OK"
            }
          },
          "base_uri": "https://localhost:8080/",
          "height": 71
        },
        "id": "RupJgXzJDlHS",
        "outputId": "13d68fbf-ca6e-4174-9013-99cc88bc80c3"
      },
      "source": [
        "gdrivePath = '/content/drive/MyDrive/Colab_Data/EEG'\n",
        "%cd '/content/drive/MyDrive/Colab_Data/EEG'\n",
        "#!kaggle datasets download nnair25/Alcoholics\n",
        "files.upload()\n",
        "\n",
        "\n",
        "#if not path.exists():\n",
        "#path.mkdir(parents=true)\n",
        "#api.competition_download_cli('favorita-grocery-sales-forecasting', path=gdrivePath)\n",
        "#file_extract(os.path.join(gdrivePath,'favorita-grocery-sales-forecasting.zip'))\n",
        "\n",
        "#path.ls(file_type='text')"
      ],
      "execution_count": 8,
      "outputs": [
        {
          "output_type": "stream",
          "text": [
            "/content/drive/MyDrive/Colab_Data/EEG\n"
          ],
          "name": "stdout"
        },
        {
          "output_type": "display_data",
          "data": {
            "text/html": [
              "\n",
              "     <input type=\"file\" id=\"files-231e1c0a-ccd3-40e9-9199-55c3789caeea\" name=\"files[]\" multiple disabled\n",
              "        style=\"border:none\" />\n",
              "     <output id=\"result-231e1c0a-ccd3-40e9-9199-55c3789caeea\">\n",
              "      Upload widget is only available when the cell has been executed in the\n",
              "      current browser session. Please rerun this cell to enable.\n",
              "      </output>\n",
              "      <script src=\"/nbextensions/google.colab/files.js\"></script> "
            ],
            "text/plain": [
              "<IPython.core.display.HTML object>"
            ]
          },
          "metadata": {
            "tags": []
          }
        },
        {
          "output_type": "execute_result",
          "data": {
            "text/plain": [
              "{}"
            ]
          },
          "metadata": {
            "tags": []
          },
          "execution_count": 8
        }
      ]
    },
    {
      "cell_type": "code",
      "metadata": {
        "id": "BKLz34NGYNTA"
      },
      "source": [
        "robertoostenveld.nl/electrodes/plotting_1005.txt"
      ],
      "execution_count": null,
      "outputs": []
    },
    {
      "cell_type": "code",
      "metadata": {
        "colab": {
          "base_uri": "https://localhost:8080/",
          "height": 167
        },
        "id": "lRJ18HBGFEj2",
        "outputId": "336e33fc-c5fe-4aab-d553-ca3ad03d4de9"
      },
      "source": [
        "#file_extract(os.path.join(gdrivePath,'Alchoholics.zip'))"
      ],
      "execution_count": null,
      "outputs": [
        {
          "output_type": "error",
          "ename": "NameError",
          "evalue": "ignored",
          "traceback": [
            "\u001b[0;31m---------------------------------------------------------------------------\u001b[0m",
            "\u001b[0;31mNameError\u001b[0m                                 Traceback (most recent call last)",
            "\u001b[0;32m<ipython-input-13-4a9800aea4a8>\u001b[0m in \u001b[0;36m<module>\u001b[0;34m()\u001b[0m\n\u001b[0;32m----> 1\u001b[0;31m \u001b[0mfile_extract\u001b[0m\u001b[0;34m(\u001b[0m\u001b[0mos\u001b[0m\u001b[0;34m.\u001b[0m\u001b[0mpath\u001b[0m\u001b[0;34m.\u001b[0m\u001b[0mjoin\u001b[0m\u001b[0;34m(\u001b[0m\u001b[0mgdrivePath\u001b[0m\u001b[0;34m,\u001b[0m\u001b[0;34m'Alchoholics.zip'\u001b[0m\u001b[0;34m)\u001b[0m\u001b[0;34m)\u001b[0m\u001b[0;34m\u001b[0m\u001b[0;34m\u001b[0m\u001b[0m\n\u001b[0m",
            "\u001b[0;31mNameError\u001b[0m: name 'file_extract' is not defined"
          ]
        }
      ]
    },
    {
      "cell_type": "code",
      "metadata": {
        "id": "ZYraiDU9Fkgz"
      },
      "source": [
        "eegPath =  os.path.join(gdrivePath,'Alchoholics.zip')"
      ],
      "execution_count": 9,
      "outputs": []
    },
    {
      "cell_type": "code",
      "metadata": {
        "colab": {
          "base_uri": "https://localhost:8080/"
        },
        "id": "og7mGFF2FvEh",
        "outputId": "57045b70-f2b5-4149-a53c-33d98cd3af18"
      },
      "source": [
        "#!unzip Alcoholics.zip"
      ],
      "execution_count": null,
      "outputs": [
        {
          "output_type": "stream",
          "text": [
            "Archive:  Alcoholics.zip\n",
            "  inflating: SMNI_CMI_TEST/Data1.csv  \n",
            "  inflating: SMNI_CMI_TEST/Data10.csv  \n",
            "  inflating: SMNI_CMI_TEST/Data100.csv  \n",
            "  inflating: SMNI_CMI_TEST/Data101.csv  \n",
            "  inflating: SMNI_CMI_TEST/Data102.csv  \n",
            "  inflating: SMNI_CMI_TEST/Data103.csv  \n",
            "  inflating: SMNI_CMI_TEST/Data104.csv  \n",
            "  inflating: SMNI_CMI_TEST/Data105.csv  \n",
            "  inflating: SMNI_CMI_TEST/Data106.csv  \n",
            "  inflating: SMNI_CMI_TEST/Data107.csv  \n",
            "  inflating: SMNI_CMI_TEST/Data108.csv  \n",
            "  inflating: SMNI_CMI_TEST/Data109.csv  \n",
            "  inflating: SMNI_CMI_TEST/Data11.csv  \n",
            "  inflating: SMNI_CMI_TEST/Data110.csv  \n",
            "  inflating: SMNI_CMI_TEST/Data111.csv  \n",
            "  inflating: SMNI_CMI_TEST/Data112.csv  \n",
            "  inflating: SMNI_CMI_TEST/Data113.csv  \n",
            "  inflating: SMNI_CMI_TEST/Data114.csv  \n",
            "  inflating: SMNI_CMI_TEST/Data115.csv  \n",
            "  inflating: SMNI_CMI_TEST/Data116.csv  \n",
            "  inflating: SMNI_CMI_TEST/Data117.csv  \n",
            "  inflating: SMNI_CMI_TEST/Data118.csv  \n",
            "  inflating: SMNI_CMI_TEST/Data119.csv  \n",
            "  inflating: SMNI_CMI_TEST/Data12.csv  \n",
            "  inflating: SMNI_CMI_TEST/Data120.csv  \n",
            "  inflating: SMNI_CMI_TEST/Data121.csv  \n",
            "  inflating: SMNI_CMI_TEST/Data122.csv  \n",
            "  inflating: SMNI_CMI_TEST/Data123.csv  \n",
            "  inflating: SMNI_CMI_TEST/Data124.csv  \n",
            "  inflating: SMNI_CMI_TEST/Data125.csv  \n",
            "  inflating: SMNI_CMI_TEST/Data126.csv  \n",
            "  inflating: SMNI_CMI_TEST/Data127.csv  \n",
            "  inflating: SMNI_CMI_TEST/Data128.csv  \n",
            "  inflating: SMNI_CMI_TEST/Data129.csv  \n",
            "  inflating: SMNI_CMI_TEST/Data13.csv  \n",
            "  inflating: SMNI_CMI_TEST/Data130.csv  \n",
            "  inflating: SMNI_CMI_TEST/Data131.csv  \n",
            "  inflating: SMNI_CMI_TEST/Data132.csv  \n",
            "  inflating: SMNI_CMI_TEST/Data133.csv  \n",
            "  inflating: SMNI_CMI_TEST/Data134.csv  \n",
            "  inflating: SMNI_CMI_TEST/Data135.csv  \n",
            "  inflating: SMNI_CMI_TEST/Data136.csv  \n",
            "  inflating: SMNI_CMI_TEST/Data137.csv  \n",
            "  inflating: SMNI_CMI_TEST/Data138.csv  \n",
            "  inflating: SMNI_CMI_TEST/Data139.csv  \n",
            "  inflating: SMNI_CMI_TEST/Data14.csv  \n",
            "  inflating: SMNI_CMI_TEST/Data140.csv  \n",
            "  inflating: SMNI_CMI_TEST/Data141.csv  \n",
            "  inflating: SMNI_CMI_TEST/Data142.csv  \n",
            "  inflating: SMNI_CMI_TEST/Data143.csv  \n",
            "  inflating: SMNI_CMI_TEST/Data144.csv  \n",
            "  inflating: SMNI_CMI_TEST/Data145.csv  \n",
            "  inflating: SMNI_CMI_TEST/Data146.csv  \n",
            "  inflating: SMNI_CMI_TEST/Data147.csv  \n",
            "  inflating: SMNI_CMI_TEST/Data148.csv  \n",
            "  inflating: SMNI_CMI_TEST/Data149.csv  \n",
            "  inflating: SMNI_CMI_TEST/Data15.csv  \n",
            "  inflating: SMNI_CMI_TEST/Data150.csv  \n",
            "  inflating: SMNI_CMI_TEST/Data151.csv  \n",
            "  inflating: SMNI_CMI_TEST/Data152.csv  \n",
            "  inflating: SMNI_CMI_TEST/Data153.csv  \n",
            "  inflating: SMNI_CMI_TEST/Data154.csv  \n",
            "  inflating: SMNI_CMI_TEST/Data155.csv  \n",
            "  inflating: SMNI_CMI_TEST/Data156.csv  \n",
            "  inflating: SMNI_CMI_TEST/Data157.csv  \n",
            "  inflating: SMNI_CMI_TEST/Data158.csv  \n",
            "  inflating: SMNI_CMI_TEST/Data159.csv  \n",
            "  inflating: SMNI_CMI_TEST/Data16.csv  \n",
            "  inflating: SMNI_CMI_TEST/Data160.csv  \n",
            "  inflating: SMNI_CMI_TEST/Data161.csv  \n",
            "  inflating: SMNI_CMI_TEST/Data162.csv  \n",
            "  inflating: SMNI_CMI_TEST/Data163.csv  \n",
            "  inflating: SMNI_CMI_TEST/Data164.csv  \n",
            "  inflating: SMNI_CMI_TEST/Data165.csv  \n",
            "  inflating: SMNI_CMI_TEST/Data166.csv  \n",
            "  inflating: SMNI_CMI_TEST/Data167.csv  \n",
            "  inflating: SMNI_CMI_TEST/Data168.csv  \n",
            "  inflating: SMNI_CMI_TEST/Data169.csv  \n",
            "  inflating: SMNI_CMI_TEST/Data17.csv  \n",
            "  inflating: SMNI_CMI_TEST/Data170.csv  \n",
            "  inflating: SMNI_CMI_TEST/Data171.csv  \n",
            "  inflating: SMNI_CMI_TEST/Data172.csv  \n",
            "  inflating: SMNI_CMI_TEST/Data173.csv  \n",
            "  inflating: SMNI_CMI_TEST/Data174.csv  \n",
            "  inflating: SMNI_CMI_TEST/Data175.csv  \n",
            "  inflating: SMNI_CMI_TEST/Data176.csv  \n",
            "  inflating: SMNI_CMI_TEST/Data177.csv  \n",
            "  inflating: SMNI_CMI_TEST/Data178.csv  \n",
            "  inflating: SMNI_CMI_TEST/Data179.csv  \n",
            "  inflating: SMNI_CMI_TEST/Data18.csv  \n",
            "  inflating: SMNI_CMI_TEST/Data180.csv  \n",
            "  inflating: SMNI_CMI_TEST/Data181.csv  \n",
            "  inflating: SMNI_CMI_TEST/Data182.csv  \n",
            "  inflating: SMNI_CMI_TEST/Data183.csv  \n",
            "  inflating: SMNI_CMI_TEST/Data184.csv  \n",
            "  inflating: SMNI_CMI_TEST/Data185.csv  \n",
            "  inflating: SMNI_CMI_TEST/Data186.csv  \n",
            "  inflating: SMNI_CMI_TEST/Data187.csv  \n",
            "  inflating: SMNI_CMI_TEST/Data188.csv  \n",
            "  inflating: SMNI_CMI_TEST/Data189.csv  \n",
            "  inflating: SMNI_CMI_TEST/Data19.csv  \n",
            "  inflating: SMNI_CMI_TEST/Data190.csv  \n",
            "  inflating: SMNI_CMI_TEST/Data191.csv  \n",
            "  inflating: SMNI_CMI_TEST/Data192.csv  \n",
            "  inflating: SMNI_CMI_TEST/Data193.csv  \n",
            "  inflating: SMNI_CMI_TEST/Data194.csv  \n",
            "  inflating: SMNI_CMI_TEST/Data195.csv  \n",
            "  inflating: SMNI_CMI_TEST/Data196.csv  \n",
            "  inflating: SMNI_CMI_TEST/Data197.csv  \n",
            "  inflating: SMNI_CMI_TEST/Data198.csv  \n",
            "  inflating: SMNI_CMI_TEST/Data199.csv  \n",
            "  inflating: SMNI_CMI_TEST/Data2.csv  \n",
            "  inflating: SMNI_CMI_TEST/Data20.csv  \n",
            "  inflating: SMNI_CMI_TEST/Data200.csv  \n",
            "  inflating: SMNI_CMI_TEST/Data201.csv  \n",
            "  inflating: SMNI_CMI_TEST/Data202.csv  \n",
            "  inflating: SMNI_CMI_TEST/Data203.csv  \n",
            "  inflating: SMNI_CMI_TEST/Data204.csv  \n",
            "  inflating: SMNI_CMI_TEST/Data205.csv  \n",
            "  inflating: SMNI_CMI_TEST/Data206.csv  \n",
            "  inflating: SMNI_CMI_TEST/Data207.csv  \n",
            "  inflating: SMNI_CMI_TEST/Data208.csv  \n",
            "  inflating: SMNI_CMI_TEST/Data209.csv  \n",
            "  inflating: SMNI_CMI_TEST/Data21.csv  \n",
            "  inflating: SMNI_CMI_TEST/Data210.csv  \n",
            "  inflating: SMNI_CMI_TEST/Data211.csv  \n",
            "  inflating: SMNI_CMI_TEST/Data212.csv  \n",
            "  inflating: SMNI_CMI_TEST/Data213.csv  \n",
            "  inflating: SMNI_CMI_TEST/Data214.csv  \n",
            "  inflating: SMNI_CMI_TEST/Data215.csv  \n",
            "  inflating: SMNI_CMI_TEST/Data216.csv  \n",
            "  inflating: SMNI_CMI_TEST/Data217.csv  \n",
            "  inflating: SMNI_CMI_TEST/Data218.csv  \n",
            "  inflating: SMNI_CMI_TEST/Data219.csv  \n",
            "  inflating: SMNI_CMI_TEST/Data22.csv  \n",
            "  inflating: SMNI_CMI_TEST/Data220.csv  \n",
            "  inflating: SMNI_CMI_TEST/Data221.csv  \n",
            "  inflating: SMNI_CMI_TEST/Data222.csv  \n",
            "  inflating: SMNI_CMI_TEST/Data223.csv  \n",
            "  inflating: SMNI_CMI_TEST/Data224.csv  \n",
            "  inflating: SMNI_CMI_TEST/Data225.csv  \n",
            "  inflating: SMNI_CMI_TEST/Data226.csv  \n",
            "  inflating: SMNI_CMI_TEST/Data227.csv  \n",
            "  inflating: SMNI_CMI_TEST/Data228.csv  \n",
            "  inflating: SMNI_CMI_TEST/Data229.csv  \n",
            "  inflating: SMNI_CMI_TEST/Data23.csv  \n",
            "  inflating: SMNI_CMI_TEST/Data230.csv  \n",
            "  inflating: SMNI_CMI_TEST/Data231.csv  \n",
            "  inflating: SMNI_CMI_TEST/Data232.csv  \n",
            "  inflating: SMNI_CMI_TEST/Data233.csv  \n",
            "  inflating: SMNI_CMI_TEST/Data234.csv  \n",
            "  inflating: SMNI_CMI_TEST/Data235.csv  \n",
            "  inflating: SMNI_CMI_TEST/Data236.csv  \n",
            "  inflating: SMNI_CMI_TEST/Data237.csv  \n",
            "  inflating: SMNI_CMI_TEST/Data238.csv  \n",
            "  inflating: SMNI_CMI_TEST/Data239.csv  \n",
            "  inflating: SMNI_CMI_TEST/Data24.csv  \n",
            "  inflating: SMNI_CMI_TEST/Data240.csv  \n",
            "  inflating: SMNI_CMI_TEST/Data241.csv  \n",
            "  inflating: SMNI_CMI_TEST/Data242.csv  \n",
            "  inflating: SMNI_CMI_TEST/Data243.csv  \n",
            "  inflating: SMNI_CMI_TEST/Data244.csv  \n",
            "  inflating: SMNI_CMI_TEST/Data245.csv  \n",
            "  inflating: SMNI_CMI_TEST/Data246.csv  \n",
            "  inflating: SMNI_CMI_TEST/Data247.csv  \n",
            "  inflating: SMNI_CMI_TEST/Data248.csv  \n",
            "  inflating: SMNI_CMI_TEST/Data249.csv  \n",
            "  inflating: SMNI_CMI_TEST/Data25.csv  \n",
            "  inflating: SMNI_CMI_TEST/Data250.csv  \n",
            "  inflating: SMNI_CMI_TEST/Data251.csv  \n",
            "  inflating: SMNI_CMI_TEST/Data252.csv  \n",
            "  inflating: SMNI_CMI_TEST/Data253.csv  \n",
            "  inflating: SMNI_CMI_TEST/Data254.csv  \n",
            "  inflating: SMNI_CMI_TEST/Data255.csv  \n",
            "  inflating: SMNI_CMI_TEST/Data256.csv  \n",
            "  inflating: SMNI_CMI_TEST/Data257.csv  \n",
            "  inflating: SMNI_CMI_TEST/Data258.csv  \n",
            "  inflating: SMNI_CMI_TEST/Data259.csv  \n",
            "  inflating: SMNI_CMI_TEST/Data26.csv  \n",
            "  inflating: SMNI_CMI_TEST/Data260.csv  \n",
            "  inflating: SMNI_CMI_TEST/Data261.csv  \n",
            "  inflating: SMNI_CMI_TEST/Data262.csv  \n",
            "  inflating: SMNI_CMI_TEST/Data263.csv  \n",
            "  inflating: SMNI_CMI_TEST/Data264.csv  \n",
            "  inflating: SMNI_CMI_TEST/Data265.csv  \n",
            "  inflating: SMNI_CMI_TEST/Data266.csv  \n",
            "  inflating: SMNI_CMI_TEST/Data267.csv  \n",
            "  inflating: SMNI_CMI_TEST/Data268.csv  \n",
            "  inflating: SMNI_CMI_TEST/Data269.csv  \n",
            "  inflating: SMNI_CMI_TEST/Data27.csv  \n",
            "  inflating: SMNI_CMI_TEST/Data270.csv  \n",
            "  inflating: SMNI_CMI_TEST/Data271.csv  \n",
            "  inflating: SMNI_CMI_TEST/Data272.csv  \n",
            "  inflating: SMNI_CMI_TEST/Data273.csv  \n",
            "  inflating: SMNI_CMI_TEST/Data274.csv  \n",
            "  inflating: SMNI_CMI_TEST/Data275.csv  \n",
            "  inflating: SMNI_CMI_TEST/Data276.csv  \n",
            "  inflating: SMNI_CMI_TEST/Data277.csv  \n",
            "  inflating: SMNI_CMI_TEST/Data278.csv  \n",
            "  inflating: SMNI_CMI_TEST/Data279.csv  \n",
            "  inflating: SMNI_CMI_TEST/Data28.csv  \n",
            "  inflating: SMNI_CMI_TEST/Data280.csv  \n",
            "  inflating: SMNI_CMI_TEST/Data281.csv  \n",
            "  inflating: SMNI_CMI_TEST/Data282.csv  \n",
            "  inflating: SMNI_CMI_TEST/Data283.csv  \n",
            "  inflating: SMNI_CMI_TEST/Data284.csv  \n",
            "  inflating: SMNI_CMI_TEST/Data285.csv  \n",
            "  inflating: SMNI_CMI_TEST/Data286.csv  \n",
            "  inflating: SMNI_CMI_TEST/Data287.csv  \n",
            "  inflating: SMNI_CMI_TEST/Data288.csv  \n",
            "  inflating: SMNI_CMI_TEST/Data289.csv  \n",
            "  inflating: SMNI_CMI_TEST/Data29.csv  \n",
            "  inflating: SMNI_CMI_TEST/Data290.csv  \n",
            "  inflating: SMNI_CMI_TEST/Data291.csv  \n",
            "  inflating: SMNI_CMI_TEST/Data292.csv  \n",
            "  inflating: SMNI_CMI_TEST/Data293.csv  \n",
            "  inflating: SMNI_CMI_TEST/Data294.csv  \n",
            "  inflating: SMNI_CMI_TEST/Data295.csv  \n",
            "  inflating: SMNI_CMI_TEST/Data296.csv  \n",
            "  inflating: SMNI_CMI_TEST/Data297.csv  \n",
            "  inflating: SMNI_CMI_TEST/Data298.csv  \n",
            "  inflating: SMNI_CMI_TEST/Data299.csv  \n",
            "  inflating: SMNI_CMI_TEST/Data3.csv  \n",
            "  inflating: SMNI_CMI_TEST/Data30.csv  \n",
            "  inflating: SMNI_CMI_TEST/Data300.csv  \n",
            "  inflating: SMNI_CMI_TEST/Data301.csv  \n",
            "  inflating: SMNI_CMI_TEST/Data302.csv  \n",
            "  inflating: SMNI_CMI_TEST/Data303.csv  \n",
            "  inflating: SMNI_CMI_TEST/Data304.csv  \n",
            "  inflating: SMNI_CMI_TEST/Data305.csv  \n",
            "  inflating: SMNI_CMI_TEST/Data306.csv  \n",
            "  inflating: SMNI_CMI_TEST/Data307.csv  \n",
            "  inflating: SMNI_CMI_TEST/Data308.csv  \n",
            "  inflating: SMNI_CMI_TEST/Data309.csv  \n",
            "  inflating: SMNI_CMI_TEST/Data31.csv  \n",
            "  inflating: SMNI_CMI_TEST/Data310.csv  \n",
            "  inflating: SMNI_CMI_TEST/Data311.csv  \n",
            "  inflating: SMNI_CMI_TEST/Data312.csv  \n",
            "  inflating: SMNI_CMI_TEST/Data313.csv  \n",
            "  inflating: SMNI_CMI_TEST/Data314.csv  \n",
            "  inflating: SMNI_CMI_TEST/Data315.csv  \n",
            "  inflating: SMNI_CMI_TEST/Data316.csv  \n",
            "  inflating: SMNI_CMI_TEST/Data317.csv  \n",
            "  inflating: SMNI_CMI_TEST/Data318.csv  \n",
            "  inflating: SMNI_CMI_TEST/Data319.csv  \n",
            "  inflating: SMNI_CMI_TEST/Data32.csv  \n",
            "  inflating: SMNI_CMI_TEST/Data320.csv  \n",
            "  inflating: SMNI_CMI_TEST/Data321.csv  \n",
            "  inflating: SMNI_CMI_TEST/Data322.csv  \n",
            "  inflating: SMNI_CMI_TEST/Data323.csv  \n",
            "  inflating: SMNI_CMI_TEST/Data324.csv  \n",
            "  inflating: SMNI_CMI_TEST/Data325.csv  \n",
            "  inflating: SMNI_CMI_TEST/Data326.csv  \n",
            "  inflating: SMNI_CMI_TEST/Data327.csv  \n",
            "  inflating: SMNI_CMI_TEST/Data328.csv  \n",
            "  inflating: SMNI_CMI_TEST/Data329.csv  \n",
            "  inflating: SMNI_CMI_TEST/Data33.csv  \n",
            "  inflating: SMNI_CMI_TEST/Data330.csv  \n",
            "  inflating: SMNI_CMI_TEST/Data331.csv  \n",
            "  inflating: SMNI_CMI_TEST/Data332.csv  \n",
            "  inflating: SMNI_CMI_TEST/Data333.csv  \n",
            "  inflating: SMNI_CMI_TEST/Data334.csv  \n",
            "  inflating: SMNI_CMI_TEST/Data335.csv  \n",
            "  inflating: SMNI_CMI_TEST/Data336.csv  \n",
            "  inflating: SMNI_CMI_TEST/Data337.csv  \n",
            "  inflating: SMNI_CMI_TEST/Data338.csv  \n",
            "  inflating: SMNI_CMI_TEST/Data339.csv  \n",
            "  inflating: SMNI_CMI_TEST/Data34.csv  \n",
            "  inflating: SMNI_CMI_TEST/Data340.csv  \n",
            "  inflating: SMNI_CMI_TEST/Data341.csv  \n",
            "  inflating: SMNI_CMI_TEST/Data342.csv  \n",
            "  inflating: SMNI_CMI_TEST/Data343.csv  \n",
            "  inflating: SMNI_CMI_TEST/Data344.csv  \n",
            "  inflating: SMNI_CMI_TEST/Data345.csv  \n",
            "  inflating: SMNI_CMI_TEST/Data346.csv  \n",
            "  inflating: SMNI_CMI_TEST/Data347.csv  \n",
            "  inflating: SMNI_CMI_TEST/Data348.csv  \n",
            "  inflating: SMNI_CMI_TEST/Data349.csv  \n",
            "  inflating: SMNI_CMI_TEST/Data35.csv  \n",
            "  inflating: SMNI_CMI_TEST/Data350.csv  \n",
            "  inflating: SMNI_CMI_TEST/Data351.csv  \n",
            "  inflating: SMNI_CMI_TEST/Data352.csv  \n",
            "  inflating: SMNI_CMI_TEST/Data353.csv  \n",
            "  inflating: SMNI_CMI_TEST/Data354.csv  \n",
            "  inflating: SMNI_CMI_TEST/Data355.csv  \n",
            "  inflating: SMNI_CMI_TEST/Data356.csv  \n",
            "  inflating: SMNI_CMI_TEST/Data357.csv  \n",
            "  inflating: SMNI_CMI_TEST/Data358.csv  \n",
            "  inflating: SMNI_CMI_TEST/Data359.csv  \n",
            "  inflating: SMNI_CMI_TEST/Data36.csv  \n",
            "  inflating: SMNI_CMI_TEST/Data360.csv  \n",
            "  inflating: SMNI_CMI_TEST/Data361.csv  \n",
            "  inflating: SMNI_CMI_TEST/Data362.csv  \n",
            "  inflating: SMNI_CMI_TEST/Data363.csv  \n",
            "  inflating: SMNI_CMI_TEST/Data364.csv  \n",
            "  inflating: SMNI_CMI_TEST/Data365.csv  \n",
            "  inflating: SMNI_CMI_TEST/Data366.csv  \n",
            "  inflating: SMNI_CMI_TEST/Data367.csv  \n",
            "  inflating: SMNI_CMI_TEST/Data368.csv  \n",
            "  inflating: SMNI_CMI_TEST/Data369.csv  \n",
            "  inflating: SMNI_CMI_TEST/Data37.csv  \n",
            "  inflating: SMNI_CMI_TEST/Data370.csv  \n",
            "  inflating: SMNI_CMI_TEST/Data371.csv  \n",
            "  inflating: SMNI_CMI_TEST/Data372.csv  \n",
            "  inflating: SMNI_CMI_TEST/Data373.csv  \n",
            "  inflating: SMNI_CMI_TEST/Data374.csv  \n",
            "  inflating: SMNI_CMI_TEST/Data375.csv  \n",
            "  inflating: SMNI_CMI_TEST/Data376.csv  \n",
            "  inflating: SMNI_CMI_TEST/Data377.csv  \n",
            "  inflating: SMNI_CMI_TEST/Data378.csv  \n",
            "  inflating: SMNI_CMI_TEST/Data379.csv  \n",
            "  inflating: SMNI_CMI_TEST/Data38.csv  \n",
            "  inflating: SMNI_CMI_TEST/Data380.csv  \n",
            "  inflating: SMNI_CMI_TEST/Data381.csv  \n",
            "  inflating: SMNI_CMI_TEST/Data382.csv  \n",
            "  inflating: SMNI_CMI_TEST/Data383.csv  \n",
            "  inflating: SMNI_CMI_TEST/Data384.csv  \n",
            "  inflating: SMNI_CMI_TEST/Data385.csv  \n",
            "  inflating: SMNI_CMI_TEST/Data386.csv  \n",
            "  inflating: SMNI_CMI_TEST/Data387.csv  \n",
            "  inflating: SMNI_CMI_TEST/Data388.csv  \n",
            "  inflating: SMNI_CMI_TEST/Data389.csv  \n",
            "  inflating: SMNI_CMI_TEST/Data39.csv  \n",
            "  inflating: SMNI_CMI_TEST/Data390.csv  \n",
            "  inflating: SMNI_CMI_TEST/Data391.csv  \n",
            "  inflating: SMNI_CMI_TEST/Data392.csv  \n",
            "  inflating: SMNI_CMI_TEST/Data393.csv  \n",
            "  inflating: SMNI_CMI_TEST/Data394.csv  \n",
            "  inflating: SMNI_CMI_TEST/Data395.csv  \n",
            "  inflating: SMNI_CMI_TEST/Data396.csv  \n",
            "  inflating: SMNI_CMI_TEST/Data397.csv  \n",
            "  inflating: SMNI_CMI_TEST/Data398.csv  \n",
            "  inflating: SMNI_CMI_TEST/Data399.csv  \n",
            "  inflating: SMNI_CMI_TEST/Data4.csv  \n",
            "  inflating: SMNI_CMI_TEST/Data40.csv  \n",
            "  inflating: SMNI_CMI_TEST/Data400.csv  \n",
            "  inflating: SMNI_CMI_TEST/Data401.csv  \n",
            "  inflating: SMNI_CMI_TEST/Data402.csv  \n",
            "  inflating: SMNI_CMI_TEST/Data403.csv  \n",
            "  inflating: SMNI_CMI_TEST/Data404.csv  \n",
            "  inflating: SMNI_CMI_TEST/Data405.csv  \n",
            "  inflating: SMNI_CMI_TEST/Data406.csv  \n",
            "  inflating: SMNI_CMI_TEST/Data407.csv  \n",
            "  inflating: SMNI_CMI_TEST/Data408.csv  \n",
            "  inflating: SMNI_CMI_TEST/Data409.csv  \n",
            "  inflating: SMNI_CMI_TEST/Data41.csv  \n",
            "  inflating: SMNI_CMI_TEST/Data410.csv  \n",
            "  inflating: SMNI_CMI_TEST/Data411.csv  \n",
            "  inflating: SMNI_CMI_TEST/Data412.csv  \n",
            "  inflating: SMNI_CMI_TEST/Data413.csv  \n",
            "  inflating: SMNI_CMI_TEST/Data414.csv  \n",
            "  inflating: SMNI_CMI_TEST/Data415.csv  \n",
            "  inflating: SMNI_CMI_TEST/Data416.csv  \n",
            "  inflating: SMNI_CMI_TEST/Data417.csv  \n",
            "  inflating: SMNI_CMI_TEST/Data418.csv  \n",
            "  inflating: SMNI_CMI_TEST/Data419.csv  \n",
            "  inflating: SMNI_CMI_TEST/Data42.csv  \n",
            "  inflating: SMNI_CMI_TEST/Data420.csv  \n",
            "  inflating: SMNI_CMI_TEST/Data421.csv  \n",
            "  inflating: SMNI_CMI_TEST/Data422.csv  \n",
            "  inflating: SMNI_CMI_TEST/Data423.csv  \n",
            "  inflating: SMNI_CMI_TEST/Data424.csv  \n",
            "  inflating: SMNI_CMI_TEST/Data425.csv  \n",
            "  inflating: SMNI_CMI_TEST/Data426.csv  \n",
            "  inflating: SMNI_CMI_TEST/Data427.csv  \n",
            "  inflating: SMNI_CMI_TEST/Data428.csv  \n",
            "  inflating: SMNI_CMI_TEST/Data429.csv  \n",
            "  inflating: SMNI_CMI_TEST/Data43.csv  \n",
            "  inflating: SMNI_CMI_TEST/Data430.csv  \n",
            "  inflating: SMNI_CMI_TEST/Data431.csv  \n",
            "  inflating: SMNI_CMI_TEST/Data432.csv  \n",
            "  inflating: SMNI_CMI_TEST/Data433.csv  \n",
            "  inflating: SMNI_CMI_TEST/Data434.csv  \n",
            "  inflating: SMNI_CMI_TEST/Data435.csv  \n",
            "  inflating: SMNI_CMI_TEST/Data436.csv  \n",
            "  inflating: SMNI_CMI_TEST/Data437.csv  \n",
            "  inflating: SMNI_CMI_TEST/Data438.csv  \n",
            "  inflating: SMNI_CMI_TEST/Data439.csv  \n",
            "  inflating: SMNI_CMI_TEST/Data44.csv  \n",
            "  inflating: SMNI_CMI_TEST/Data440.csv  \n",
            "  inflating: SMNI_CMI_TEST/Data441.csv  \n",
            "  inflating: SMNI_CMI_TEST/Data442.csv  \n",
            "  inflating: SMNI_CMI_TEST/Data443.csv  \n",
            "  inflating: SMNI_CMI_TEST/Data444.csv  \n",
            "  inflating: SMNI_CMI_TEST/Data445.csv  \n",
            "  inflating: SMNI_CMI_TEST/Data446.csv  \n",
            "  inflating: SMNI_CMI_TEST/Data447.csv  \n",
            "  inflating: SMNI_CMI_TEST/Data448.csv  \n",
            "  inflating: SMNI_CMI_TEST/Data449.csv  \n",
            "  inflating: SMNI_CMI_TEST/Data45.csv  \n",
            "  inflating: SMNI_CMI_TEST/Data450.csv  \n",
            "  inflating: SMNI_CMI_TEST/Data451.csv  \n",
            "  inflating: SMNI_CMI_TEST/Data452.csv  \n",
            "  inflating: SMNI_CMI_TEST/Data453.csv  \n",
            "  inflating: SMNI_CMI_TEST/Data454.csv  \n",
            "  inflating: SMNI_CMI_TEST/Data455.csv  \n",
            "  inflating: SMNI_CMI_TEST/Data456.csv  \n",
            "  inflating: SMNI_CMI_TEST/Data457.csv  \n",
            "  inflating: SMNI_CMI_TEST/Data458.csv  \n",
            "  inflating: SMNI_CMI_TEST/Data459.csv  \n",
            "  inflating: SMNI_CMI_TEST/Data46.csv  \n",
            "  inflating: SMNI_CMI_TEST/Data460.csv  \n",
            "  inflating: SMNI_CMI_TEST/Data461.csv  \n",
            "  inflating: SMNI_CMI_TEST/Data462.csv  \n",
            "  inflating: SMNI_CMI_TEST/Data463.csv  \n",
            "  inflating: SMNI_CMI_TEST/Data464.csv  \n",
            "  inflating: SMNI_CMI_TEST/Data465.csv  \n",
            "  inflating: SMNI_CMI_TEST/Data466.csv  \n",
            "  inflating: SMNI_CMI_TEST/Data467.csv  \n",
            "  inflating: SMNI_CMI_TEST/Data468.csv  \n",
            "  inflating: SMNI_CMI_TEST/Data469.csv  \n",
            "  inflating: SMNI_CMI_TEST/Data47.csv  \n",
            "  inflating: SMNI_CMI_TEST/Data470.csv  \n",
            "  inflating: SMNI_CMI_TEST/Data471.csv  \n",
            "  inflating: SMNI_CMI_TEST/Data472.csv  \n",
            "  inflating: SMNI_CMI_TEST/Data473.csv  \n",
            "  inflating: SMNI_CMI_TEST/Data474.csv  \n",
            "  inflating: SMNI_CMI_TEST/Data475.csv  \n",
            "  inflating: SMNI_CMI_TEST/Data476.csv  \n",
            "  inflating: SMNI_CMI_TEST/Data477.csv  \n",
            "  inflating: SMNI_CMI_TEST/Data478.csv  \n",
            "  inflating: SMNI_CMI_TEST/Data479.csv  \n",
            "  inflating: SMNI_CMI_TEST/Data48.csv  \n",
            "  inflating: SMNI_CMI_TEST/Data480.csv  \n",
            "  inflating: SMNI_CMI_TEST/Data49.csv  \n",
            "  inflating: SMNI_CMI_TEST/Data5.csv  \n",
            "  inflating: SMNI_CMI_TEST/Data50.csv  \n",
            "  inflating: SMNI_CMI_TEST/Data51.csv  \n",
            "  inflating: SMNI_CMI_TEST/Data52.csv  \n",
            "  inflating: SMNI_CMI_TEST/Data53.csv  \n",
            "  inflating: SMNI_CMI_TEST/Data54.csv  \n",
            "  inflating: SMNI_CMI_TEST/Data55.csv  \n",
            "  inflating: SMNI_CMI_TEST/Data56.csv  \n",
            "  inflating: SMNI_CMI_TEST/Data57.csv  \n",
            "  inflating: SMNI_CMI_TEST/Data58.csv  \n",
            "  inflating: SMNI_CMI_TEST/Data59.csv  \n",
            "  inflating: SMNI_CMI_TEST/Data6.csv  \n",
            "  inflating: SMNI_CMI_TEST/Data60.csv  \n",
            "  inflating: SMNI_CMI_TEST/Data61.csv  \n",
            "  inflating: SMNI_CMI_TEST/Data62.csv  \n",
            "  inflating: SMNI_CMI_TEST/Data63.csv  \n",
            "  inflating: SMNI_CMI_TEST/Data64.csv  \n",
            "  inflating: SMNI_CMI_TEST/Data65.csv  \n",
            "  inflating: SMNI_CMI_TEST/Data66.csv  \n",
            "  inflating: SMNI_CMI_TEST/Data67.csv  \n",
            "  inflating: SMNI_CMI_TEST/Data68.csv  \n",
            "  inflating: SMNI_CMI_TEST/Data69.csv  \n",
            "  inflating: SMNI_CMI_TEST/Data7.csv  \n",
            "  inflating: SMNI_CMI_TEST/Data70.csv  \n",
            "  inflating: SMNI_CMI_TEST/Data71.csv  \n",
            "  inflating: SMNI_CMI_TEST/Data72.csv  \n",
            "  inflating: SMNI_CMI_TEST/Data73.csv  \n",
            "  inflating: SMNI_CMI_TEST/Data74.csv  \n",
            "  inflating: SMNI_CMI_TEST/Data75.csv  \n",
            "  inflating: SMNI_CMI_TEST/Data76.csv  \n",
            "  inflating: SMNI_CMI_TEST/Data77.csv  \n",
            "  inflating: SMNI_CMI_TEST/Data78.csv  \n",
            "  inflating: SMNI_CMI_TEST/Data79.csv  \n",
            "  inflating: SMNI_CMI_TEST/Data8.csv  \n",
            "  inflating: SMNI_CMI_TEST/Data80.csv  \n",
            "  inflating: SMNI_CMI_TEST/Data81.csv  \n",
            "  inflating: SMNI_CMI_TEST/Data82.csv  \n",
            "  inflating: SMNI_CMI_TEST/Data83.csv  \n",
            "  inflating: SMNI_CMI_TEST/Data84.csv  \n",
            "  inflating: SMNI_CMI_TEST/Data85.csv  \n",
            "  inflating: SMNI_CMI_TEST/Data86.csv  \n",
            "  inflating: SMNI_CMI_TEST/Data87.csv  \n",
            "  inflating: SMNI_CMI_TEST/Data88.csv  \n",
            "  inflating: SMNI_CMI_TEST/Data89.csv  \n",
            "  inflating: SMNI_CMI_TEST/Data9.csv  \n",
            "  inflating: SMNI_CMI_TEST/Data90.csv  \n",
            "  inflating: SMNI_CMI_TEST/Data91.csv  \n",
            "  inflating: SMNI_CMI_TEST/Data92.csv  \n",
            "  inflating: SMNI_CMI_TEST/Data93.csv  \n",
            "  inflating: SMNI_CMI_TEST/Data94.csv  \n",
            "  inflating: SMNI_CMI_TEST/Data95.csv  \n",
            "  inflating: SMNI_CMI_TEST/Data96.csv  \n",
            "  inflating: SMNI_CMI_TEST/Data97.csv  \n",
            "  inflating: SMNI_CMI_TEST/Data98.csv  \n",
            "  inflating: SMNI_CMI_TEST/Data99.csv  \n",
            "  inflating: SMNI_CMI_TEST/Test/Data1.csv  \n",
            "  inflating: SMNI_CMI_TEST/Test/Data10.csv  \n",
            "  inflating: SMNI_CMI_TEST/Test/Data100.csv  \n",
            "  inflating: SMNI_CMI_TEST/Test/Data101.csv  \n",
            "  inflating: SMNI_CMI_TEST/Test/Data102.csv  \n",
            "  inflating: SMNI_CMI_TEST/Test/Data103.csv  \n",
            "  inflating: SMNI_CMI_TEST/Test/Data104.csv  \n",
            "  inflating: SMNI_CMI_TEST/Test/Data105.csv  \n",
            "  inflating: SMNI_CMI_TEST/Test/Data106.csv  \n",
            "  inflating: SMNI_CMI_TEST/Test/Data107.csv  \n",
            "  inflating: SMNI_CMI_TEST/Test/Data108.csv  \n",
            "  inflating: SMNI_CMI_TEST/Test/Data109.csv  \n",
            "  inflating: SMNI_CMI_TEST/Test/Data11.csv  \n",
            "  inflating: SMNI_CMI_TEST/Test/Data110.csv  \n",
            "  inflating: SMNI_CMI_TEST/Test/Data111.csv  \n",
            "  inflating: SMNI_CMI_TEST/Test/Data112.csv  \n",
            "  inflating: SMNI_CMI_TEST/Test/Data113.csv  \n",
            "  inflating: SMNI_CMI_TEST/Test/Data114.csv  \n",
            "  inflating: SMNI_CMI_TEST/Test/Data115.csv  \n",
            "  inflating: SMNI_CMI_TEST/Test/Data116.csv  \n",
            "  inflating: SMNI_CMI_TEST/Test/Data117.csv  \n",
            "  inflating: SMNI_CMI_TEST/Test/Data118.csv  \n",
            "  inflating: SMNI_CMI_TEST/Test/Data119.csv  \n",
            "  inflating: SMNI_CMI_TEST/Test/Data12.csv  \n",
            "  inflating: SMNI_CMI_TEST/Test/Data120.csv  \n",
            "  inflating: SMNI_CMI_TEST/Test/Data121.csv  \n",
            "  inflating: SMNI_CMI_TEST/Test/Data122.csv  \n",
            "  inflating: SMNI_CMI_TEST/Test/Data123.csv  \n",
            "  inflating: SMNI_CMI_TEST/Test/Data124.csv  \n",
            "  inflating: SMNI_CMI_TEST/Test/Data125.csv  \n",
            "  inflating: SMNI_CMI_TEST/Test/Data126.csv  \n",
            "  inflating: SMNI_CMI_TEST/Test/Data127.csv  \n",
            "  inflating: SMNI_CMI_TEST/Test/Data128.csv  \n",
            "  inflating: SMNI_CMI_TEST/Test/Data129.csv  \n",
            "  inflating: SMNI_CMI_TEST/Test/Data13.csv  \n",
            "  inflating: SMNI_CMI_TEST/Test/Data130.csv  \n",
            "  inflating: SMNI_CMI_TEST/Test/Data131.csv  \n",
            "  inflating: SMNI_CMI_TEST/Test/Data132.csv  \n",
            "  inflating: SMNI_CMI_TEST/Test/Data133.csv  \n",
            "  inflating: SMNI_CMI_TEST/Test/Data134.csv  \n",
            "  inflating: SMNI_CMI_TEST/Test/Data135.csv  \n",
            "  inflating: SMNI_CMI_TEST/Test/Data136.csv  \n",
            "  inflating: SMNI_CMI_TEST/Test/Data137.csv  \n",
            "  inflating: SMNI_CMI_TEST/Test/Data138.csv  \n",
            "  inflating: SMNI_CMI_TEST/Test/Data139.csv  \n",
            "  inflating: SMNI_CMI_TEST/Test/Data14.csv  \n",
            "  inflating: SMNI_CMI_TEST/Test/Data140.csv  \n",
            "  inflating: SMNI_CMI_TEST/Test/Data141.csv  \n",
            "  inflating: SMNI_CMI_TEST/Test/Data142.csv  \n",
            "  inflating: SMNI_CMI_TEST/Test/Data143.csv  \n",
            "  inflating: SMNI_CMI_TEST/Test/Data144.csv  \n",
            "  inflating: SMNI_CMI_TEST/Test/Data145.csv  \n",
            "  inflating: SMNI_CMI_TEST/Test/Data146.csv  \n",
            "  inflating: SMNI_CMI_TEST/Test/Data147.csv  \n",
            "  inflating: SMNI_CMI_TEST/Test/Data148.csv  \n",
            "  inflating: SMNI_CMI_TEST/Test/Data149.csv  \n",
            "  inflating: SMNI_CMI_TEST/Test/Data15.csv  \n",
            "  inflating: SMNI_CMI_TEST/Test/Data150.csv  \n",
            "  inflating: SMNI_CMI_TEST/Test/Data151.csv  \n",
            "  inflating: SMNI_CMI_TEST/Test/Data152.csv  \n",
            "  inflating: SMNI_CMI_TEST/Test/Data153.csv  \n",
            "  inflating: SMNI_CMI_TEST/Test/Data154.csv  \n",
            "  inflating: SMNI_CMI_TEST/Test/Data155.csv  \n",
            "  inflating: SMNI_CMI_TEST/Test/Data156.csv  \n",
            "  inflating: SMNI_CMI_TEST/Test/Data157.csv  \n",
            "  inflating: SMNI_CMI_TEST/Test/Data158.csv  \n",
            "  inflating: SMNI_CMI_TEST/Test/Data159.csv  \n",
            "  inflating: SMNI_CMI_TEST/Test/Data16.csv  \n",
            "  inflating: SMNI_CMI_TEST/Test/Data160.csv  \n",
            "  inflating: SMNI_CMI_TEST/Test/Data161.csv  \n",
            "  inflating: SMNI_CMI_TEST/Test/Data162.csv  \n",
            "  inflating: SMNI_CMI_TEST/Test/Data163.csv  \n",
            "  inflating: SMNI_CMI_TEST/Test/Data164.csv  \n",
            "  inflating: SMNI_CMI_TEST/Test/Data165.csv  \n",
            "  inflating: SMNI_CMI_TEST/Test/Data166.csv  \n",
            "  inflating: SMNI_CMI_TEST/Test/Data167.csv  \n",
            "  inflating: SMNI_CMI_TEST/Test/Data168.csv  \n",
            "  inflating: SMNI_CMI_TEST/Test/Data169.csv  \n",
            "  inflating: SMNI_CMI_TEST/Test/Data17.csv  \n",
            "  inflating: SMNI_CMI_TEST/Test/Data170.csv  \n",
            "  inflating: SMNI_CMI_TEST/Test/Data171.csv  \n",
            "  inflating: SMNI_CMI_TEST/Test/Data172.csv  \n",
            "  inflating: SMNI_CMI_TEST/Test/Data173.csv  \n",
            "  inflating: SMNI_CMI_TEST/Test/Data174.csv  \n",
            "  inflating: SMNI_CMI_TEST/Test/Data175.csv  \n",
            "  inflating: SMNI_CMI_TEST/Test/Data176.csv  \n",
            "  inflating: SMNI_CMI_TEST/Test/Data177.csv  \n",
            "  inflating: SMNI_CMI_TEST/Test/Data178.csv  \n",
            "  inflating: SMNI_CMI_TEST/Test/Data179.csv  \n",
            "  inflating: SMNI_CMI_TEST/Test/Data18.csv  \n",
            "  inflating: SMNI_CMI_TEST/Test/Data180.csv  \n",
            "  inflating: SMNI_CMI_TEST/Test/Data181.csv  \n",
            "  inflating: SMNI_CMI_TEST/Test/Data182.csv  \n",
            "  inflating: SMNI_CMI_TEST/Test/Data183.csv  \n",
            "  inflating: SMNI_CMI_TEST/Test/Data184.csv  \n",
            "  inflating: SMNI_CMI_TEST/Test/Data185.csv  \n",
            "  inflating: SMNI_CMI_TEST/Test/Data186.csv  \n",
            "  inflating: SMNI_CMI_TEST/Test/Data187.csv  \n",
            "  inflating: SMNI_CMI_TEST/Test/Data188.csv  \n",
            "  inflating: SMNI_CMI_TEST/Test/Data189.csv  \n",
            "  inflating: SMNI_CMI_TEST/Test/Data19.csv  \n",
            "  inflating: SMNI_CMI_TEST/Test/Data190.csv  \n",
            "  inflating: SMNI_CMI_TEST/Test/Data191.csv  \n",
            "  inflating: SMNI_CMI_TEST/Test/Data192.csv  \n",
            "  inflating: SMNI_CMI_TEST/Test/Data193.csv  \n",
            "  inflating: SMNI_CMI_TEST/Test/Data194.csv  \n",
            "  inflating: SMNI_CMI_TEST/Test/Data195.csv  \n",
            "  inflating: SMNI_CMI_TEST/Test/Data196.csv  \n",
            "  inflating: SMNI_CMI_TEST/Test/Data197.csv  \n",
            "  inflating: SMNI_CMI_TEST/Test/Data198.csv  \n",
            "  inflating: SMNI_CMI_TEST/Test/Data199.csv  \n",
            "  inflating: SMNI_CMI_TEST/Test/Data2.csv  \n",
            "  inflating: SMNI_CMI_TEST/Test/Data20.csv  \n",
            "  inflating: SMNI_CMI_TEST/Test/Data200.csv  \n",
            "  inflating: SMNI_CMI_TEST/Test/Data201.csv  \n",
            "  inflating: SMNI_CMI_TEST/Test/Data202.csv  \n",
            "  inflating: SMNI_CMI_TEST/Test/Data203.csv  \n",
            "  inflating: SMNI_CMI_TEST/Test/Data204.csv  \n",
            "  inflating: SMNI_CMI_TEST/Test/Data205.csv  \n",
            "  inflating: SMNI_CMI_TEST/Test/Data206.csv  \n",
            "  inflating: SMNI_CMI_TEST/Test/Data207.csv  \n",
            "  inflating: SMNI_CMI_TEST/Test/Data208.csv  \n",
            "  inflating: SMNI_CMI_TEST/Test/Data209.csv  \n",
            "  inflating: SMNI_CMI_TEST/Test/Data21.csv  \n",
            "  inflating: SMNI_CMI_TEST/Test/Data210.csv  \n",
            "  inflating: SMNI_CMI_TEST/Test/Data211.csv  \n",
            "  inflating: SMNI_CMI_TEST/Test/Data212.csv  \n",
            "  inflating: SMNI_CMI_TEST/Test/Data213.csv  \n",
            "  inflating: SMNI_CMI_TEST/Test/Data214.csv  \n",
            "  inflating: SMNI_CMI_TEST/Test/Data215.csv  \n",
            "  inflating: SMNI_CMI_TEST/Test/Data216.csv  \n",
            "  inflating: SMNI_CMI_TEST/Test/Data217.csv  \n",
            "  inflating: SMNI_CMI_TEST/Test/Data218.csv  \n",
            "  inflating: SMNI_CMI_TEST/Test/Data219.csv  \n",
            "  inflating: SMNI_CMI_TEST/Test/Data22.csv  \n",
            "  inflating: SMNI_CMI_TEST/Test/Data220.csv  \n",
            "  inflating: SMNI_CMI_TEST/Test/Data221.csv  \n",
            "  inflating: SMNI_CMI_TEST/Test/Data222.csv  \n",
            "  inflating: SMNI_CMI_TEST/Test/Data223.csv  \n",
            "  inflating: SMNI_CMI_TEST/Test/Data224.csv  \n",
            "  inflating: SMNI_CMI_TEST/Test/Data225.csv  \n",
            "  inflating: SMNI_CMI_TEST/Test/Data226.csv  \n",
            "  inflating: SMNI_CMI_TEST/Test/Data227.csv  \n",
            "  inflating: SMNI_CMI_TEST/Test/Data228.csv  \n",
            "  inflating: SMNI_CMI_TEST/Test/Data229.csv  \n",
            "  inflating: SMNI_CMI_TEST/Test/Data23.csv  \n",
            "  inflating: SMNI_CMI_TEST/Test/Data230.csv  \n",
            "  inflating: SMNI_CMI_TEST/Test/Data231.csv  \n",
            "  inflating: SMNI_CMI_TEST/Test/Data232.csv  \n",
            "  inflating: SMNI_CMI_TEST/Test/Data233.csv  \n",
            "  inflating: SMNI_CMI_TEST/Test/Data234.csv  \n",
            "  inflating: SMNI_CMI_TEST/Test/Data235.csv  \n",
            "  inflating: SMNI_CMI_TEST/Test/Data236.csv  \n",
            "  inflating: SMNI_CMI_TEST/Test/Data237.csv  \n",
            "  inflating: SMNI_CMI_TEST/Test/Data238.csv  \n",
            "  inflating: SMNI_CMI_TEST/Test/Data239.csv  \n",
            "  inflating: SMNI_CMI_TEST/Test/Data24.csv  \n",
            "  inflating: SMNI_CMI_TEST/Test/Data240.csv  \n",
            "  inflating: SMNI_CMI_TEST/Test/Data241.csv  \n",
            "  inflating: SMNI_CMI_TEST/Test/Data242.csv  \n",
            "  inflating: SMNI_CMI_TEST/Test/Data243.csv  \n",
            "  inflating: SMNI_CMI_TEST/Test/Data244.csv  \n",
            "  inflating: SMNI_CMI_TEST/Test/Data245.csv  \n",
            "  inflating: SMNI_CMI_TEST/Test/Data246.csv  \n",
            "  inflating: SMNI_CMI_TEST/Test/Data247.csv  \n",
            "  inflating: SMNI_CMI_TEST/Test/Data248.csv  \n",
            "  inflating: SMNI_CMI_TEST/Test/Data249.csv  \n",
            "  inflating: SMNI_CMI_TEST/Test/Data25.csv  \n",
            "  inflating: SMNI_CMI_TEST/Test/Data250.csv  \n",
            "  inflating: SMNI_CMI_TEST/Test/Data251.csv  \n",
            "  inflating: SMNI_CMI_TEST/Test/Data252.csv  \n",
            "  inflating: SMNI_CMI_TEST/Test/Data253.csv  \n",
            "  inflating: SMNI_CMI_TEST/Test/Data254.csv  \n",
            "  inflating: SMNI_CMI_TEST/Test/Data255.csv  \n",
            "  inflating: SMNI_CMI_TEST/Test/Data256.csv  \n",
            "  inflating: SMNI_CMI_TEST/Test/Data257.csv  \n",
            "  inflating: SMNI_CMI_TEST/Test/Data258.csv  \n",
            "  inflating: SMNI_CMI_TEST/Test/Data259.csv  \n",
            "  inflating: SMNI_CMI_TEST/Test/Data26.csv  \n",
            "  inflating: SMNI_CMI_TEST/Test/Data260.csv  \n",
            "  inflating: SMNI_CMI_TEST/Test/Data261.csv  \n",
            "  inflating: SMNI_CMI_TEST/Test/Data262.csv  \n",
            "  inflating: SMNI_CMI_TEST/Test/Data263.csv  \n",
            "  inflating: SMNI_CMI_TEST/Test/Data264.csv  \n",
            "  inflating: SMNI_CMI_TEST/Test/Data265.csv  \n",
            "  inflating: SMNI_CMI_TEST/Test/Data266.csv  \n",
            "  inflating: SMNI_CMI_TEST/Test/Data267.csv  \n",
            "  inflating: SMNI_CMI_TEST/Test/Data268.csv  \n",
            "  inflating: SMNI_CMI_TEST/Test/Data269.csv  \n",
            "  inflating: SMNI_CMI_TEST/Test/Data27.csv  \n",
            "  inflating: SMNI_CMI_TEST/Test/Data270.csv  \n",
            "  inflating: SMNI_CMI_TEST/Test/Data271.csv  \n",
            "  inflating: SMNI_CMI_TEST/Test/Data272.csv  \n",
            "  inflating: SMNI_CMI_TEST/Test/Data273.csv  \n",
            "  inflating: SMNI_CMI_TEST/Test/Data274.csv  \n",
            "  inflating: SMNI_CMI_TEST/Test/Data275.csv  \n",
            "  inflating: SMNI_CMI_TEST/Test/Data276.csv  \n",
            "  inflating: SMNI_CMI_TEST/Test/Data277.csv  \n",
            "  inflating: SMNI_CMI_TEST/Test/Data278.csv  \n",
            "  inflating: SMNI_CMI_TEST/Test/Data279.csv  \n",
            "  inflating: SMNI_CMI_TEST/Test/Data28.csv  \n",
            "  inflating: SMNI_CMI_TEST/Test/Data280.csv  \n",
            "  inflating: SMNI_CMI_TEST/Test/Data281.csv  \n",
            "  inflating: SMNI_CMI_TEST/Test/Data282.csv  \n",
            "  inflating: SMNI_CMI_TEST/Test/Data283.csv  \n",
            "  inflating: SMNI_CMI_TEST/Test/Data284.csv  \n",
            "  inflating: SMNI_CMI_TEST/Test/Data285.csv  \n",
            "  inflating: SMNI_CMI_TEST/Test/Data286.csv  \n",
            "  inflating: SMNI_CMI_TEST/Test/Data287.csv  \n",
            "  inflating: SMNI_CMI_TEST/Test/Data288.csv  \n",
            "  inflating: SMNI_CMI_TEST/Test/Data289.csv  \n",
            "  inflating: SMNI_CMI_TEST/Test/Data29.csv  \n",
            "  inflating: SMNI_CMI_TEST/Test/Data290.csv  \n",
            "  inflating: SMNI_CMI_TEST/Test/Data291.csv  \n",
            "  inflating: SMNI_CMI_TEST/Test/Data292.csv  \n",
            "  inflating: SMNI_CMI_TEST/Test/Data293.csv  \n",
            "  inflating: SMNI_CMI_TEST/Test/Data294.csv  \n",
            "  inflating: SMNI_CMI_TEST/Test/Data295.csv  \n",
            "  inflating: SMNI_CMI_TEST/Test/Data296.csv  \n",
            "  inflating: SMNI_CMI_TEST/Test/Data297.csv  \n",
            "  inflating: SMNI_CMI_TEST/Test/Data298.csv  \n",
            "  inflating: SMNI_CMI_TEST/Test/Data299.csv  \n",
            "  inflating: SMNI_CMI_TEST/Test/Data3.csv  \n",
            "  inflating: SMNI_CMI_TEST/Test/Data30.csv  \n",
            "  inflating: SMNI_CMI_TEST/Test/Data300.csv  \n",
            "  inflating: SMNI_CMI_TEST/Test/Data301.csv  \n",
            "  inflating: SMNI_CMI_TEST/Test/Data302.csv  \n",
            "  inflating: SMNI_CMI_TEST/Test/Data303.csv  \n",
            "  inflating: SMNI_CMI_TEST/Test/Data304.csv  \n",
            "  inflating: SMNI_CMI_TEST/Test/Data305.csv  \n",
            "  inflating: SMNI_CMI_TEST/Test/Data306.csv  \n",
            "  inflating: SMNI_CMI_TEST/Test/Data307.csv  \n",
            "  inflating: SMNI_CMI_TEST/Test/Data308.csv  \n",
            "  inflating: SMNI_CMI_TEST/Test/Data309.csv  \n",
            "  inflating: SMNI_CMI_TEST/Test/Data31.csv  \n",
            "  inflating: SMNI_CMI_TEST/Test/Data310.csv  \n",
            "  inflating: SMNI_CMI_TEST/Test/Data311.csv  \n",
            "  inflating: SMNI_CMI_TEST/Test/Data312.csv  \n",
            "  inflating: SMNI_CMI_TEST/Test/Data313.csv  \n",
            "  inflating: SMNI_CMI_TEST/Test/Data314.csv  \n",
            "  inflating: SMNI_CMI_TEST/Test/Data315.csv  \n",
            "  inflating: SMNI_CMI_TEST/Test/Data316.csv  \n",
            "  inflating: SMNI_CMI_TEST/Test/Data317.csv  \n",
            "  inflating: SMNI_CMI_TEST/Test/Data318.csv  \n",
            "  inflating: SMNI_CMI_TEST/Test/Data319.csv  \n",
            "  inflating: SMNI_CMI_TEST/Test/Data32.csv  \n",
            "  inflating: SMNI_CMI_TEST/Test/Data320.csv  \n",
            "  inflating: SMNI_CMI_TEST/Test/Data321.csv  \n",
            "  inflating: SMNI_CMI_TEST/Test/Data322.csv  \n",
            "  inflating: SMNI_CMI_TEST/Test/Data323.csv  \n",
            "  inflating: SMNI_CMI_TEST/Test/Data324.csv  \n",
            "  inflating: SMNI_CMI_TEST/Test/Data325.csv  \n",
            "  inflating: SMNI_CMI_TEST/Test/Data326.csv  \n",
            "  inflating: SMNI_CMI_TEST/Test/Data327.csv  \n",
            "  inflating: SMNI_CMI_TEST/Test/Data328.csv  \n",
            "  inflating: SMNI_CMI_TEST/Test/Data329.csv  \n",
            "  inflating: SMNI_CMI_TEST/Test/Data33.csv  \n",
            "  inflating: SMNI_CMI_TEST/Test/Data330.csv  \n",
            "  inflating: SMNI_CMI_TEST/Test/Data331.csv  \n",
            "  inflating: SMNI_CMI_TEST/Test/Data332.csv  \n",
            "  inflating: SMNI_CMI_TEST/Test/Data333.csv  \n",
            "  inflating: SMNI_CMI_TEST/Test/Data334.csv  \n",
            "  inflating: SMNI_CMI_TEST/Test/Data335.csv  \n",
            "  inflating: SMNI_CMI_TEST/Test/Data336.csv  \n",
            "  inflating: SMNI_CMI_TEST/Test/Data337.csv  \n",
            "  inflating: SMNI_CMI_TEST/Test/Data338.csv  \n",
            "  inflating: SMNI_CMI_TEST/Test/Data339.csv  \n",
            "  inflating: SMNI_CMI_TEST/Test/Data34.csv  \n",
            "  inflating: SMNI_CMI_TEST/Test/Data340.csv  \n",
            "  inflating: SMNI_CMI_TEST/Test/Data341.csv  \n",
            "  inflating: SMNI_CMI_TEST/Test/Data342.csv  \n",
            "  inflating: SMNI_CMI_TEST/Test/Data343.csv  \n",
            "  inflating: SMNI_CMI_TEST/Test/Data344.csv  \n",
            "  inflating: SMNI_CMI_TEST/Test/Data345.csv  \n",
            "  inflating: SMNI_CMI_TEST/Test/Data346.csv  \n",
            "  inflating: SMNI_CMI_TEST/Test/Data347.csv  \n",
            "  inflating: SMNI_CMI_TEST/Test/Data348.csv  \n",
            "  inflating: SMNI_CMI_TEST/Test/Data349.csv  \n",
            "  inflating: SMNI_CMI_TEST/Test/Data35.csv  \n",
            "  inflating: SMNI_CMI_TEST/Test/Data350.csv  \n",
            "  inflating: SMNI_CMI_TEST/Test/Data351.csv  \n",
            "  inflating: SMNI_CMI_TEST/Test/Data352.csv  \n",
            "  inflating: SMNI_CMI_TEST/Test/Data353.csv  \n",
            "  inflating: SMNI_CMI_TEST/Test/Data354.csv  \n",
            "  inflating: SMNI_CMI_TEST/Test/Data355.csv  \n",
            "  inflating: SMNI_CMI_TEST/Test/Data356.csv  \n",
            "  inflating: SMNI_CMI_TEST/Test/Data357.csv  \n",
            "  inflating: SMNI_CMI_TEST/Test/Data358.csv  \n",
            "  inflating: SMNI_CMI_TEST/Test/Data359.csv  \n",
            "  inflating: SMNI_CMI_TEST/Test/Data36.csv  \n",
            "  inflating: SMNI_CMI_TEST/Test/Data360.csv  \n",
            "  inflating: SMNI_CMI_TEST/Test/Data361.csv  \n",
            "  inflating: SMNI_CMI_TEST/Test/Data362.csv  \n",
            "  inflating: SMNI_CMI_TEST/Test/Data363.csv  \n",
            "  inflating: SMNI_CMI_TEST/Test/Data364.csv  \n",
            "  inflating: SMNI_CMI_TEST/Test/Data365.csv  \n",
            "  inflating: SMNI_CMI_TEST/Test/Data366.csv  \n",
            "  inflating: SMNI_CMI_TEST/Test/Data367.csv  \n",
            "  inflating: SMNI_CMI_TEST/Test/Data368.csv  \n",
            "  inflating: SMNI_CMI_TEST/Test/Data369.csv  \n",
            "  inflating: SMNI_CMI_TEST/Test/Data37.csv  \n",
            "  inflating: SMNI_CMI_TEST/Test/Data370.csv  \n",
            "  inflating: SMNI_CMI_TEST/Test/Data371.csv  \n",
            "  inflating: SMNI_CMI_TEST/Test/Data372.csv  \n",
            "  inflating: SMNI_CMI_TEST/Test/Data373.csv  \n",
            "  inflating: SMNI_CMI_TEST/Test/Data374.csv  \n",
            "  inflating: SMNI_CMI_TEST/Test/Data375.csv  \n",
            "  inflating: SMNI_CMI_TEST/Test/Data376.csv  \n",
            "  inflating: SMNI_CMI_TEST/Test/Data377.csv  \n",
            "  inflating: SMNI_CMI_TEST/Test/Data378.csv  \n",
            "  inflating: SMNI_CMI_TEST/Test/Data379.csv  \n",
            "  inflating: SMNI_CMI_TEST/Test/Data38.csv  \n",
            "  inflating: SMNI_CMI_TEST/Test/Data380.csv  \n",
            "  inflating: SMNI_CMI_TEST/Test/Data381.csv  \n",
            "  inflating: SMNI_CMI_TEST/Test/Data382.csv  \n",
            "  inflating: SMNI_CMI_TEST/Test/Data383.csv  \n",
            "  inflating: SMNI_CMI_TEST/Test/Data384.csv  \n",
            "  inflating: SMNI_CMI_TEST/Test/Data385.csv  \n",
            "  inflating: SMNI_CMI_TEST/Test/Data386.csv  \n",
            "  inflating: SMNI_CMI_TEST/Test/Data387.csv  \n",
            "  inflating: SMNI_CMI_TEST/Test/Data388.csv  \n",
            "  inflating: SMNI_CMI_TEST/Test/Data389.csv  \n",
            "  inflating: SMNI_CMI_TEST/Test/Data39.csv  \n",
            "  inflating: SMNI_CMI_TEST/Test/Data390.csv  \n",
            "  inflating: SMNI_CMI_TEST/Test/Data391.csv  \n",
            "  inflating: SMNI_CMI_TEST/Test/Data392.csv  \n",
            "  inflating: SMNI_CMI_TEST/Test/Data393.csv  \n",
            "  inflating: SMNI_CMI_TEST/Test/Data394.csv  \n",
            "  inflating: SMNI_CMI_TEST/Test/Data395.csv  \n",
            "  inflating: SMNI_CMI_TEST/Test/Data396.csv  \n",
            "  inflating: SMNI_CMI_TEST/Test/Data397.csv  \n",
            "  inflating: SMNI_CMI_TEST/Test/Data398.csv  \n",
            "  inflating: SMNI_CMI_TEST/Test/Data399.csv  \n",
            "  inflating: SMNI_CMI_TEST/Test/Data4.csv  \n",
            "  inflating: SMNI_CMI_TEST/Test/Data40.csv  \n",
            "  inflating: SMNI_CMI_TEST/Test/Data400.csv  \n",
            "  inflating: SMNI_CMI_TEST/Test/Data401.csv  \n",
            "  inflating: SMNI_CMI_TEST/Test/Data402.csv  \n",
            "  inflating: SMNI_CMI_TEST/Test/Data403.csv  \n",
            "  inflating: SMNI_CMI_TEST/Test/Data404.csv  \n",
            "  inflating: SMNI_CMI_TEST/Test/Data405.csv  \n",
            "  inflating: SMNI_CMI_TEST/Test/Data406.csv  \n",
            "  inflating: SMNI_CMI_TEST/Test/Data407.csv  \n",
            "  inflating: SMNI_CMI_TEST/Test/Data408.csv  \n",
            "  inflating: SMNI_CMI_TEST/Test/Data409.csv  \n",
            "  inflating: SMNI_CMI_TEST/Test/Data41.csv  \n",
            "  inflating: SMNI_CMI_TEST/Test/Data410.csv  \n",
            "  inflating: SMNI_CMI_TEST/Test/Data411.csv  \n",
            "  inflating: SMNI_CMI_TEST/Test/Data412.csv  \n",
            "  inflating: SMNI_CMI_TEST/Test/Data413.csv  \n",
            "  inflating: SMNI_CMI_TEST/Test/Data414.csv  \n",
            "  inflating: SMNI_CMI_TEST/Test/Data415.csv  \n",
            "  inflating: SMNI_CMI_TEST/Test/Data416.csv  \n",
            "  inflating: SMNI_CMI_TEST/Test/Data417.csv  \n",
            "  inflating: SMNI_CMI_TEST/Test/Data418.csv  \n",
            "  inflating: SMNI_CMI_TEST/Test/Data419.csv  \n",
            "  inflating: SMNI_CMI_TEST/Test/Data42.csv  \n",
            "  inflating: SMNI_CMI_TEST/Test/Data420.csv  \n",
            "  inflating: SMNI_CMI_TEST/Test/Data421.csv  \n",
            "  inflating: SMNI_CMI_TEST/Test/Data422.csv  \n",
            "  inflating: SMNI_CMI_TEST/Test/Data423.csv  \n",
            "  inflating: SMNI_CMI_TEST/Test/Data424.csv  \n",
            "  inflating: SMNI_CMI_TEST/Test/Data425.csv  \n",
            "  inflating: SMNI_CMI_TEST/Test/Data426.csv  \n",
            "  inflating: SMNI_CMI_TEST/Test/Data427.csv  \n",
            "  inflating: SMNI_CMI_TEST/Test/Data428.csv  \n",
            "  inflating: SMNI_CMI_TEST/Test/Data429.csv  \n",
            "  inflating: SMNI_CMI_TEST/Test/Data43.csv  \n",
            "  inflating: SMNI_CMI_TEST/Test/Data430.csv  \n",
            "  inflating: SMNI_CMI_TEST/Test/Data431.csv  \n",
            "  inflating: SMNI_CMI_TEST/Test/Data432.csv  \n",
            "  inflating: SMNI_CMI_TEST/Test/Data433.csv  \n",
            "  inflating: SMNI_CMI_TEST/Test/Data434.csv  \n",
            "  inflating: SMNI_CMI_TEST/Test/Data435.csv  \n",
            "  inflating: SMNI_CMI_TEST/Test/Data436.csv  \n",
            "  inflating: SMNI_CMI_TEST/Test/Data437.csv  \n",
            "  inflating: SMNI_CMI_TEST/Test/Data438.csv  \n",
            "  inflating: SMNI_CMI_TEST/Test/Data439.csv  \n",
            "  inflating: SMNI_CMI_TEST/Test/Data44.csv  \n",
            "  inflating: SMNI_CMI_TEST/Test/Data440.csv  \n",
            "  inflating: SMNI_CMI_TEST/Test/Data441.csv  \n",
            "  inflating: SMNI_CMI_TEST/Test/Data442.csv  \n",
            "  inflating: SMNI_CMI_TEST/Test/Data443.csv  \n",
            "  inflating: SMNI_CMI_TEST/Test/Data444.csv  \n",
            "  inflating: SMNI_CMI_TEST/Test/Data445.csv  \n",
            "  inflating: SMNI_CMI_TEST/Test/Data446.csv  \n",
            "  inflating: SMNI_CMI_TEST/Test/Data447.csv  \n",
            "  inflating: SMNI_CMI_TEST/Test/Data448.csv  \n",
            "  inflating: SMNI_CMI_TEST/Test/Data449.csv  \n",
            "  inflating: SMNI_CMI_TEST/Test/Data45.csv  \n",
            "  inflating: SMNI_CMI_TEST/Test/Data450.csv  \n",
            "  inflating: SMNI_CMI_TEST/Test/Data451.csv  \n",
            "  inflating: SMNI_CMI_TEST/Test/Data452.csv  \n",
            "  inflating: SMNI_CMI_TEST/Test/Data453.csv  \n",
            "  inflating: SMNI_CMI_TEST/Test/Data454.csv  \n",
            "  inflating: SMNI_CMI_TEST/Test/Data455.csv  \n",
            "  inflating: SMNI_CMI_TEST/Test/Data456.csv  \n",
            "  inflating: SMNI_CMI_TEST/Test/Data457.csv  \n",
            "  inflating: SMNI_CMI_TEST/Test/Data458.csv  \n",
            "  inflating: SMNI_CMI_TEST/Test/Data459.csv  \n",
            "  inflating: SMNI_CMI_TEST/Test/Data46.csv  \n",
            "  inflating: SMNI_CMI_TEST/Test/Data460.csv  \n",
            "  inflating: SMNI_CMI_TEST/Test/Data461.csv  \n",
            "  inflating: SMNI_CMI_TEST/Test/Data462.csv  \n",
            "  inflating: SMNI_CMI_TEST/Test/Data463.csv  \n",
            "  inflating: SMNI_CMI_TEST/Test/Data464.csv  \n",
            "  inflating: SMNI_CMI_TEST/Test/Data465.csv  \n",
            "  inflating: SMNI_CMI_TEST/Test/Data466.csv  \n",
            "  inflating: SMNI_CMI_TEST/Test/Data467.csv  \n",
            "  inflating: SMNI_CMI_TEST/Test/Data468.csv  \n",
            "  inflating: SMNI_CMI_TEST/Test/Data469.csv  \n",
            "  inflating: SMNI_CMI_TEST/Test/Data47.csv  \n",
            "  inflating: SMNI_CMI_TEST/Test/Data470.csv  \n",
            "  inflating: SMNI_CMI_TEST/Test/Data471.csv  \n",
            "  inflating: SMNI_CMI_TEST/Test/Data472.csv  \n",
            "  inflating: SMNI_CMI_TEST/Test/Data473.csv  \n",
            "  inflating: SMNI_CMI_TEST/Test/Data474.csv  \n",
            "  inflating: SMNI_CMI_TEST/Test/Data475.csv  \n",
            "  inflating: SMNI_CMI_TEST/Test/Data476.csv  \n",
            "  inflating: SMNI_CMI_TEST/Test/Data477.csv  \n",
            "  inflating: SMNI_CMI_TEST/Test/Data478.csv  \n",
            "  inflating: SMNI_CMI_TEST/Test/Data479.csv  \n",
            "  inflating: SMNI_CMI_TEST/Test/Data48.csv  \n",
            "  inflating: SMNI_CMI_TEST/Test/Data480.csv  \n",
            "  inflating: SMNI_CMI_TEST/Test/Data49.csv  \n",
            "  inflating: SMNI_CMI_TEST/Test/Data5.csv  \n",
            "  inflating: SMNI_CMI_TEST/Test/Data50.csv  \n",
            "  inflating: SMNI_CMI_TEST/Test/Data51.csv  \n",
            "  inflating: SMNI_CMI_TEST/Test/Data52.csv  \n",
            "  inflating: SMNI_CMI_TEST/Test/Data53.csv  \n",
            "  inflating: SMNI_CMI_TEST/Test/Data54.csv  \n",
            "  inflating: SMNI_CMI_TEST/Test/Data55.csv  \n",
            "  inflating: SMNI_CMI_TEST/Test/Data56.csv  \n",
            "  inflating: SMNI_CMI_TEST/Test/Data57.csv  \n",
            "  inflating: SMNI_CMI_TEST/Test/Data58.csv  \n",
            "  inflating: SMNI_CMI_TEST/Test/Data59.csv  \n",
            "  inflating: SMNI_CMI_TEST/Test/Data6.csv  \n",
            "  inflating: SMNI_CMI_TEST/Test/Data60.csv  \n",
            "  inflating: SMNI_CMI_TEST/Test/Data61.csv  \n",
            "  inflating: SMNI_CMI_TEST/Test/Data62.csv  \n",
            "  inflating: SMNI_CMI_TEST/Test/Data63.csv  \n",
            "  inflating: SMNI_CMI_TEST/Test/Data64.csv  \n",
            "  inflating: SMNI_CMI_TEST/Test/Data65.csv  \n",
            "  inflating: SMNI_CMI_TEST/Test/Data66.csv  \n",
            "  inflating: SMNI_CMI_TEST/Test/Data67.csv  \n",
            "  inflating: SMNI_CMI_TEST/Test/Data68.csv  \n",
            "  inflating: SMNI_CMI_TEST/Test/Data69.csv  \n",
            "  inflating: SMNI_CMI_TEST/Test/Data7.csv  \n",
            "  inflating: SMNI_CMI_TEST/Test/Data70.csv  \n",
            "  inflating: SMNI_CMI_TEST/Test/Data71.csv  \n",
            "  inflating: SMNI_CMI_TEST/Test/Data72.csv  \n",
            "  inflating: SMNI_CMI_TEST/Test/Data73.csv  \n",
            "  inflating: SMNI_CMI_TEST/Test/Data74.csv  \n",
            "  inflating: SMNI_CMI_TEST/Test/Data75.csv  \n",
            "  inflating: SMNI_CMI_TEST/Test/Data76.csv  \n",
            "  inflating: SMNI_CMI_TEST/Test/Data77.csv  \n",
            "  inflating: SMNI_CMI_TEST/Test/Data78.csv  \n",
            "  inflating: SMNI_CMI_TEST/Test/Data79.csv  \n",
            "  inflating: SMNI_CMI_TEST/Test/Data8.csv  \n",
            "  inflating: SMNI_CMI_TEST/Test/Data80.csv  \n",
            "  inflating: SMNI_CMI_TEST/Test/Data81.csv  \n",
            "  inflating: SMNI_CMI_TEST/Test/Data82.csv  \n",
            "  inflating: SMNI_CMI_TEST/Test/Data83.csv  \n",
            "  inflating: SMNI_CMI_TEST/Test/Data84.csv  \n",
            "  inflating: SMNI_CMI_TEST/Test/Data85.csv  \n",
            "  inflating: SMNI_CMI_TEST/Test/Data86.csv  \n",
            "  inflating: SMNI_CMI_TEST/Test/Data87.csv  \n",
            "  inflating: SMNI_CMI_TEST/Test/Data88.csv  \n",
            "  inflating: SMNI_CMI_TEST/Test/Data89.csv  \n",
            "  inflating: SMNI_CMI_TEST/Test/Data9.csv  \n",
            "  inflating: SMNI_CMI_TEST/Test/Data90.csv  \n",
            "  inflating: SMNI_CMI_TEST/Test/Data91.csv  \n",
            "  inflating: SMNI_CMI_TEST/Test/Data92.csv  \n",
            "  inflating: SMNI_CMI_TEST/Test/Data93.csv  \n",
            "  inflating: SMNI_CMI_TEST/Test/Data94.csv  \n",
            "  inflating: SMNI_CMI_TEST/Test/Data95.csv  \n",
            "  inflating: SMNI_CMI_TEST/Test/Data96.csv  \n",
            "  inflating: SMNI_CMI_TEST/Test/Data97.csv  \n",
            "  inflating: SMNI_CMI_TEST/Test/Data98.csv  \n",
            "  inflating: SMNI_CMI_TEST/Test/Data99.csv  \n",
            "  inflating: SMNI_CMI_TRAIN/Data1.csv  \n",
            "  inflating: SMNI_CMI_TRAIN/Data10.csv  \n",
            "  inflating: SMNI_CMI_TRAIN/Data100.csv  \n",
            "  inflating: SMNI_CMI_TRAIN/Data101.csv  \n",
            "  inflating: SMNI_CMI_TRAIN/Data102.csv  \n",
            "  inflating: SMNI_CMI_TRAIN/Data103.csv  \n",
            "  inflating: SMNI_CMI_TRAIN/Data104.csv  \n",
            "  inflating: SMNI_CMI_TRAIN/Data105.csv  \n",
            "  inflating: SMNI_CMI_TRAIN/Data106.csv  \n",
            "  inflating: SMNI_CMI_TRAIN/Data107.csv  \n",
            "  inflating: SMNI_CMI_TRAIN/Data108.csv  \n",
            "  inflating: SMNI_CMI_TRAIN/Data109.csv  \n",
            "  inflating: SMNI_CMI_TRAIN/Data11.csv  \n",
            "  inflating: SMNI_CMI_TRAIN/Data110.csv  \n",
            "  inflating: SMNI_CMI_TRAIN/Data111.csv  \n",
            "  inflating: SMNI_CMI_TRAIN/Data112.csv  \n",
            "  inflating: SMNI_CMI_TRAIN/Data113.csv  \n",
            "  inflating: SMNI_CMI_TRAIN/Data114.csv  \n",
            "  inflating: SMNI_CMI_TRAIN/Data115.csv  \n",
            "  inflating: SMNI_CMI_TRAIN/Data116.csv  \n",
            "  inflating: SMNI_CMI_TRAIN/Data117.csv  \n",
            "  inflating: SMNI_CMI_TRAIN/Data118.csv  \n",
            "  inflating: SMNI_CMI_TRAIN/Data119.csv  \n",
            "  inflating: SMNI_CMI_TRAIN/Data12.csv  \n",
            "  inflating: SMNI_CMI_TRAIN/Data120.csv  \n",
            "  inflating: SMNI_CMI_TRAIN/Data121.csv  \n",
            "  inflating: SMNI_CMI_TRAIN/Data122.csv  \n",
            "  inflating: SMNI_CMI_TRAIN/Data123.csv  \n",
            "  inflating: SMNI_CMI_TRAIN/Data124.csv  \n",
            "  inflating: SMNI_CMI_TRAIN/Data125.csv  \n",
            "  inflating: SMNI_CMI_TRAIN/Data126.csv  \n",
            "  inflating: SMNI_CMI_TRAIN/Data127.csv  \n",
            "  inflating: SMNI_CMI_TRAIN/Data128.csv  \n",
            "  inflating: SMNI_CMI_TRAIN/Data129.csv  \n",
            "  inflating: SMNI_CMI_TRAIN/Data13.csv  \n",
            "  inflating: SMNI_CMI_TRAIN/Data130.csv  \n",
            "  inflating: SMNI_CMI_TRAIN/Data131.csv  \n",
            "  inflating: SMNI_CMI_TRAIN/Data132.csv  \n",
            "  inflating: SMNI_CMI_TRAIN/Data133.csv  \n",
            "  inflating: SMNI_CMI_TRAIN/Data134.csv  \n",
            "  inflating: SMNI_CMI_TRAIN/Data135.csv  \n",
            "  inflating: SMNI_CMI_TRAIN/Data136.csv  \n",
            "  inflating: SMNI_CMI_TRAIN/Data137.csv  \n",
            "  inflating: SMNI_CMI_TRAIN/Data138.csv  \n",
            "  inflating: SMNI_CMI_TRAIN/Data139.csv  \n",
            "  inflating: SMNI_CMI_TRAIN/Data14.csv  \n",
            "  inflating: SMNI_CMI_TRAIN/Data140.csv  \n",
            "  inflating: SMNI_CMI_TRAIN/Data141.csv  \n",
            "  inflating: SMNI_CMI_TRAIN/Data142.csv  \n",
            "  inflating: SMNI_CMI_TRAIN/Data143.csv  \n",
            "  inflating: SMNI_CMI_TRAIN/Data144.csv  \n",
            "  inflating: SMNI_CMI_TRAIN/Data145.csv  \n",
            "  inflating: SMNI_CMI_TRAIN/Data146.csv  \n",
            "  inflating: SMNI_CMI_TRAIN/Data147.csv  \n",
            "  inflating: SMNI_CMI_TRAIN/Data148.csv  \n",
            "  inflating: SMNI_CMI_TRAIN/Data149.csv  \n",
            "  inflating: SMNI_CMI_TRAIN/Data15.csv  \n",
            "  inflating: SMNI_CMI_TRAIN/Data150.csv  \n",
            "  inflating: SMNI_CMI_TRAIN/Data151.csv  \n",
            "  inflating: SMNI_CMI_TRAIN/Data152.csv  \n",
            "  inflating: SMNI_CMI_TRAIN/Data153.csv  \n",
            "  inflating: SMNI_CMI_TRAIN/Data154.csv  \n",
            "  inflating: SMNI_CMI_TRAIN/Data155.csv  \n",
            "  inflating: SMNI_CMI_TRAIN/Data156.csv  \n",
            "  inflating: SMNI_CMI_TRAIN/Data157.csv  \n",
            "  inflating: SMNI_CMI_TRAIN/Data158.csv  \n",
            "  inflating: SMNI_CMI_TRAIN/Data159.csv  \n",
            "  inflating: SMNI_CMI_TRAIN/Data16.csv  \n",
            "  inflating: SMNI_CMI_TRAIN/Data160.csv  \n",
            "  inflating: SMNI_CMI_TRAIN/Data161.csv  \n",
            "  inflating: SMNI_CMI_TRAIN/Data162.csv  \n",
            "  inflating: SMNI_CMI_TRAIN/Data163.csv  \n",
            "  inflating: SMNI_CMI_TRAIN/Data164.csv  \n",
            "  inflating: SMNI_CMI_TRAIN/Data165.csv  \n",
            "  inflating: SMNI_CMI_TRAIN/Data166.csv  \n",
            "  inflating: SMNI_CMI_TRAIN/Data167.csv  \n",
            "  inflating: SMNI_CMI_TRAIN/Data168.csv  \n",
            "  inflating: SMNI_CMI_TRAIN/Data169.csv  \n",
            "  inflating: SMNI_CMI_TRAIN/Data17.csv  \n",
            "  inflating: SMNI_CMI_TRAIN/Data170.csv  \n",
            "  inflating: SMNI_CMI_TRAIN/Data171.csv  \n",
            "  inflating: SMNI_CMI_TRAIN/Data172.csv  \n",
            "  inflating: SMNI_CMI_TRAIN/Data173.csv  \n",
            "  inflating: SMNI_CMI_TRAIN/Data174.csv  \n",
            "  inflating: SMNI_CMI_TRAIN/Data175.csv  \n",
            "  inflating: SMNI_CMI_TRAIN/Data176.csv  \n",
            "  inflating: SMNI_CMI_TRAIN/Data177.csv  \n",
            "  inflating: SMNI_CMI_TRAIN/Data178.csv  \n",
            "  inflating: SMNI_CMI_TRAIN/Data179.csv  \n",
            "  inflating: SMNI_CMI_TRAIN/Data18.csv  \n",
            "  inflating: SMNI_CMI_TRAIN/Data180.csv  \n",
            "  inflating: SMNI_CMI_TRAIN/Data181.csv  \n",
            "  inflating: SMNI_CMI_TRAIN/Data182.csv  \n",
            "  inflating: SMNI_CMI_TRAIN/Data183.csv  \n",
            "  inflating: SMNI_CMI_TRAIN/Data184.csv  \n",
            "  inflating: SMNI_CMI_TRAIN/Data185.csv  \n",
            "  inflating: SMNI_CMI_TRAIN/Data186.csv  \n",
            "  inflating: SMNI_CMI_TRAIN/Data187.csv  \n",
            "  inflating: SMNI_CMI_TRAIN/Data188.csv  \n",
            "  inflating: SMNI_CMI_TRAIN/Data189.csv  \n",
            "  inflating: SMNI_CMI_TRAIN/Data19.csv  \n",
            "  inflating: SMNI_CMI_TRAIN/Data190.csv  \n",
            "  inflating: SMNI_CMI_TRAIN/Data191.csv  \n",
            "  inflating: SMNI_CMI_TRAIN/Data192.csv  \n",
            "  inflating: SMNI_CMI_TRAIN/Data193.csv  \n",
            "  inflating: SMNI_CMI_TRAIN/Data194.csv  \n",
            "  inflating: SMNI_CMI_TRAIN/Data195.csv  \n",
            "  inflating: SMNI_CMI_TRAIN/Data196.csv  \n",
            "  inflating: SMNI_CMI_TRAIN/Data197.csv  \n",
            "  inflating: SMNI_CMI_TRAIN/Data198.csv  \n",
            "  inflating: SMNI_CMI_TRAIN/Data199.csv  \n",
            "  inflating: SMNI_CMI_TRAIN/Data2.csv  \n",
            "  inflating: SMNI_CMI_TRAIN/Data20.csv  \n",
            "  inflating: SMNI_CMI_TRAIN/Data200.csv  \n",
            "  inflating: SMNI_CMI_TRAIN/Data201.csv  \n",
            "  inflating: SMNI_CMI_TRAIN/Data202.csv  \n",
            "  inflating: SMNI_CMI_TRAIN/Data203.csv  \n",
            "  inflating: SMNI_CMI_TRAIN/Data204.csv  \n",
            "  inflating: SMNI_CMI_TRAIN/Data205.csv  \n",
            "  inflating: SMNI_CMI_TRAIN/Data206.csv  \n",
            "  inflating: SMNI_CMI_TRAIN/Data207.csv  \n",
            "  inflating: SMNI_CMI_TRAIN/Data208.csv  \n",
            "  inflating: SMNI_CMI_TRAIN/Data209.csv  \n",
            "  inflating: SMNI_CMI_TRAIN/Data21.csv  \n",
            "  inflating: SMNI_CMI_TRAIN/Data210.csv  \n",
            "  inflating: SMNI_CMI_TRAIN/Data211.csv  \n",
            "  inflating: SMNI_CMI_TRAIN/Data212.csv  \n",
            "  inflating: SMNI_CMI_TRAIN/Data213.csv  \n",
            "  inflating: SMNI_CMI_TRAIN/Data214.csv  \n",
            "  inflating: SMNI_CMI_TRAIN/Data215.csv  \n",
            "  inflating: SMNI_CMI_TRAIN/Data216.csv  \n",
            "  inflating: SMNI_CMI_TRAIN/Data217.csv  \n",
            "  inflating: SMNI_CMI_TRAIN/Data218.csv  \n",
            "  inflating: SMNI_CMI_TRAIN/Data219.csv  \n",
            "  inflating: SMNI_CMI_TRAIN/Data22.csv  \n",
            "  inflating: SMNI_CMI_TRAIN/Data220.csv  \n",
            "  inflating: SMNI_CMI_TRAIN/Data221.csv  \n",
            "  inflating: SMNI_CMI_TRAIN/Data222.csv  \n",
            "  inflating: SMNI_CMI_TRAIN/Data223.csv  \n",
            "  inflating: SMNI_CMI_TRAIN/Data224.csv  \n",
            "  inflating: SMNI_CMI_TRAIN/Data225.csv  \n",
            "  inflating: SMNI_CMI_TRAIN/Data226.csv  \n",
            "  inflating: SMNI_CMI_TRAIN/Data227.csv  \n",
            "  inflating: SMNI_CMI_TRAIN/Data228.csv  \n",
            "  inflating: SMNI_CMI_TRAIN/Data229.csv  \n",
            "  inflating: SMNI_CMI_TRAIN/Data23.csv  \n",
            "  inflating: SMNI_CMI_TRAIN/Data230.csv  \n",
            "  inflating: SMNI_CMI_TRAIN/Data231.csv  \n",
            "  inflating: SMNI_CMI_TRAIN/Data232.csv  \n",
            "  inflating: SMNI_CMI_TRAIN/Data233.csv  \n",
            "  inflating: SMNI_CMI_TRAIN/Data234.csv  \n",
            "  inflating: SMNI_CMI_TRAIN/Data235.csv  \n",
            "  inflating: SMNI_CMI_TRAIN/Data236.csv  \n",
            "  inflating: SMNI_CMI_TRAIN/Data237.csv  \n",
            "  inflating: SMNI_CMI_TRAIN/Data238.csv  \n",
            "  inflating: SMNI_CMI_TRAIN/Data239.csv  \n",
            "  inflating: SMNI_CMI_TRAIN/Data24.csv  \n",
            "  inflating: SMNI_CMI_TRAIN/Data240.csv  \n",
            "  inflating: SMNI_CMI_TRAIN/Data241.csv  \n",
            "  inflating: SMNI_CMI_TRAIN/Data242.csv  \n",
            "  inflating: SMNI_CMI_TRAIN/Data243.csv  \n",
            "  inflating: SMNI_CMI_TRAIN/Data244.csv  \n",
            "  inflating: SMNI_CMI_TRAIN/Data245.csv  \n",
            "  inflating: SMNI_CMI_TRAIN/Data246.csv  \n",
            "  inflating: SMNI_CMI_TRAIN/Data247.csv  \n",
            "  inflating: SMNI_CMI_TRAIN/Data248.csv  \n",
            "  inflating: SMNI_CMI_TRAIN/Data249.csv  \n",
            "  inflating: SMNI_CMI_TRAIN/Data25.csv  \n",
            "  inflating: SMNI_CMI_TRAIN/Data250.csv  \n",
            "  inflating: SMNI_CMI_TRAIN/Data251.csv  \n",
            "  inflating: SMNI_CMI_TRAIN/Data252.csv  \n",
            "  inflating: SMNI_CMI_TRAIN/Data253.csv  \n",
            "  inflating: SMNI_CMI_TRAIN/Data254.csv  \n",
            "  inflating: SMNI_CMI_TRAIN/Data255.csv  \n",
            "  inflating: SMNI_CMI_TRAIN/Data256.csv  \n",
            "  inflating: SMNI_CMI_TRAIN/Data257.csv  \n",
            "  inflating: SMNI_CMI_TRAIN/Data258.csv  \n",
            "  inflating: SMNI_CMI_TRAIN/Data259.csv  \n",
            "  inflating: SMNI_CMI_TRAIN/Data26.csv  \n",
            "  inflating: SMNI_CMI_TRAIN/Data260.csv  \n",
            "  inflating: SMNI_CMI_TRAIN/Data261.csv  \n",
            "  inflating: SMNI_CMI_TRAIN/Data262.csv  \n",
            "  inflating: SMNI_CMI_TRAIN/Data263.csv  \n",
            "  inflating: SMNI_CMI_TRAIN/Data264.csv  \n",
            "  inflating: SMNI_CMI_TRAIN/Data265.csv  \n",
            "  inflating: SMNI_CMI_TRAIN/Data266.csv  \n",
            "  inflating: SMNI_CMI_TRAIN/Data267.csv  \n",
            "  inflating: SMNI_CMI_TRAIN/Data268.csv  \n",
            "  inflating: SMNI_CMI_TRAIN/Data269.csv  \n",
            "  inflating: SMNI_CMI_TRAIN/Data27.csv  \n",
            "  inflating: SMNI_CMI_TRAIN/Data270.csv  \n",
            "  inflating: SMNI_CMI_TRAIN/Data271.csv  \n",
            "  inflating: SMNI_CMI_TRAIN/Data272.csv  \n",
            "  inflating: SMNI_CMI_TRAIN/Data273.csv  \n",
            "  inflating: SMNI_CMI_TRAIN/Data274.csv  \n",
            "  inflating: SMNI_CMI_TRAIN/Data275.csv  \n",
            "  inflating: SMNI_CMI_TRAIN/Data276.csv  \n",
            "  inflating: SMNI_CMI_TRAIN/Data277.csv  \n",
            "  inflating: SMNI_CMI_TRAIN/Data278.csv  \n",
            "  inflating: SMNI_CMI_TRAIN/Data279.csv  \n",
            "  inflating: SMNI_CMI_TRAIN/Data28.csv  \n",
            "  inflating: SMNI_CMI_TRAIN/Data280.csv  \n",
            "  inflating: SMNI_CMI_TRAIN/Data281.csv  \n",
            "  inflating: SMNI_CMI_TRAIN/Data282.csv  \n",
            "  inflating: SMNI_CMI_TRAIN/Data283.csv  \n",
            "  inflating: SMNI_CMI_TRAIN/Data284.csv  \n",
            "  inflating: SMNI_CMI_TRAIN/Data285.csv  \n",
            "  inflating: SMNI_CMI_TRAIN/Data286.csv  \n",
            "  inflating: SMNI_CMI_TRAIN/Data287.csv  \n",
            "  inflating: SMNI_CMI_TRAIN/Data288.csv  \n",
            "  inflating: SMNI_CMI_TRAIN/Data289.csv  \n",
            "  inflating: SMNI_CMI_TRAIN/Data29.csv  \n",
            "  inflating: SMNI_CMI_TRAIN/Data290.csv  \n",
            "  inflating: SMNI_CMI_TRAIN/Data291.csv  \n",
            "  inflating: SMNI_CMI_TRAIN/Data292.csv  \n",
            "  inflating: SMNI_CMI_TRAIN/Data293.csv  \n",
            "  inflating: SMNI_CMI_TRAIN/Data294.csv  \n",
            "  inflating: SMNI_CMI_TRAIN/Data295.csv  \n",
            "  inflating: SMNI_CMI_TRAIN/Data296.csv  \n",
            "  inflating: SMNI_CMI_TRAIN/Data297.csv  \n",
            "  inflating: SMNI_CMI_TRAIN/Data298.csv  \n",
            "  inflating: SMNI_CMI_TRAIN/Data299.csv  \n",
            "  inflating: SMNI_CMI_TRAIN/Data3.csv  \n",
            "  inflating: SMNI_CMI_TRAIN/Data30.csv  \n",
            "  inflating: SMNI_CMI_TRAIN/Data300.csv  \n",
            "  inflating: SMNI_CMI_TRAIN/Data301.csv  \n",
            "  inflating: SMNI_CMI_TRAIN/Data302.csv  \n",
            "  inflating: SMNI_CMI_TRAIN/Data303.csv  \n",
            "  inflating: SMNI_CMI_TRAIN/Data304.csv  \n",
            "  inflating: SMNI_CMI_TRAIN/Data305.csv  \n",
            "  inflating: SMNI_CMI_TRAIN/Data306.csv  \n",
            "  inflating: SMNI_CMI_TRAIN/Data307.csv  \n",
            "  inflating: SMNI_CMI_TRAIN/Data308.csv  \n",
            "  inflating: SMNI_CMI_TRAIN/Data309.csv  \n",
            "  inflating: SMNI_CMI_TRAIN/Data31.csv  \n",
            "  inflating: SMNI_CMI_TRAIN/Data310.csv  \n",
            "  inflating: SMNI_CMI_TRAIN/Data311.csv  \n",
            "  inflating: SMNI_CMI_TRAIN/Data312.csv  \n",
            "  inflating: SMNI_CMI_TRAIN/Data313.csv  \n",
            "  inflating: SMNI_CMI_TRAIN/Data314.csv  \n",
            "  inflating: SMNI_CMI_TRAIN/Data315.csv  \n",
            "  inflating: SMNI_CMI_TRAIN/Data316.csv  \n",
            "  inflating: SMNI_CMI_TRAIN/Data317.csv  \n",
            "  inflating: SMNI_CMI_TRAIN/Data318.csv  \n",
            "  inflating: SMNI_CMI_TRAIN/Data319.csv  \n",
            "  inflating: SMNI_CMI_TRAIN/Data32.csv  \n",
            "  inflating: SMNI_CMI_TRAIN/Data320.csv  \n",
            "  inflating: SMNI_CMI_TRAIN/Data321.csv  \n",
            "  inflating: SMNI_CMI_TRAIN/Data322.csv  \n",
            "  inflating: SMNI_CMI_TRAIN/Data323.csv  \n",
            "  inflating: SMNI_CMI_TRAIN/Data324.csv  \n",
            "  inflating: SMNI_CMI_TRAIN/Data325.csv  \n",
            "  inflating: SMNI_CMI_TRAIN/Data326.csv  \n",
            "  inflating: SMNI_CMI_TRAIN/Data327.csv  \n",
            "  inflating: SMNI_CMI_TRAIN/Data328.csv  \n",
            "  inflating: SMNI_CMI_TRAIN/Data329.csv  \n",
            "  inflating: SMNI_CMI_TRAIN/Data33.csv  \n",
            "  inflating: SMNI_CMI_TRAIN/Data330.csv  \n",
            "  inflating: SMNI_CMI_TRAIN/Data331.csv  \n",
            "  inflating: SMNI_CMI_TRAIN/Data332.csv  \n",
            "  inflating: SMNI_CMI_TRAIN/Data333.csv  \n",
            "  inflating: SMNI_CMI_TRAIN/Data334.csv  \n",
            "  inflating: SMNI_CMI_TRAIN/Data335.csv  \n",
            "  inflating: SMNI_CMI_TRAIN/Data336.csv  \n",
            "  inflating: SMNI_CMI_TRAIN/Data337.csv  \n",
            "  inflating: SMNI_CMI_TRAIN/Data338.csv  \n",
            "  inflating: SMNI_CMI_TRAIN/Data339.csv  \n",
            "  inflating: SMNI_CMI_TRAIN/Data34.csv  \n",
            "  inflating: SMNI_CMI_TRAIN/Data340.csv  \n",
            "  inflating: SMNI_CMI_TRAIN/Data341.csv  \n",
            "  inflating: SMNI_CMI_TRAIN/Data342.csv  \n",
            "  inflating: SMNI_CMI_TRAIN/Data343.csv  \n",
            "  inflating: SMNI_CMI_TRAIN/Data344.csv  \n",
            "  inflating: SMNI_CMI_TRAIN/Data345.csv  \n",
            "  inflating: SMNI_CMI_TRAIN/Data346.csv  \n",
            "  inflating: SMNI_CMI_TRAIN/Data347.csv  \n",
            "  inflating: SMNI_CMI_TRAIN/Data348.csv  \n",
            "  inflating: SMNI_CMI_TRAIN/Data349.csv  \n",
            "  inflating: SMNI_CMI_TRAIN/Data35.csv  \n",
            "  inflating: SMNI_CMI_TRAIN/Data350.csv  \n",
            "  inflating: SMNI_CMI_TRAIN/Data351.csv  \n",
            "  inflating: SMNI_CMI_TRAIN/Data352.csv  \n",
            "  inflating: SMNI_CMI_TRAIN/Data353.csv  \n",
            "  inflating: SMNI_CMI_TRAIN/Data354.csv  \n",
            "  inflating: SMNI_CMI_TRAIN/Data355.csv  \n",
            "  inflating: SMNI_CMI_TRAIN/Data356.csv  \n",
            "  inflating: SMNI_CMI_TRAIN/Data357.csv  \n",
            "  inflating: SMNI_CMI_TRAIN/Data358.csv  \n",
            "  inflating: SMNI_CMI_TRAIN/Data359.csv  \n",
            "  inflating: SMNI_CMI_TRAIN/Data36.csv  \n",
            "  inflating: SMNI_CMI_TRAIN/Data360.csv  \n",
            "  inflating: SMNI_CMI_TRAIN/Data361.csv  \n",
            "  inflating: SMNI_CMI_TRAIN/Data362.csv  \n",
            "  inflating: SMNI_CMI_TRAIN/Data363.csv  \n",
            "  inflating: SMNI_CMI_TRAIN/Data364.csv  \n",
            "  inflating: SMNI_CMI_TRAIN/Data365.csv  \n",
            "  inflating: SMNI_CMI_TRAIN/Data366.csv  \n",
            "  inflating: SMNI_CMI_TRAIN/Data367.csv  \n",
            "  inflating: SMNI_CMI_TRAIN/Data368.csv  \n",
            "  inflating: SMNI_CMI_TRAIN/Data369.csv  \n",
            "  inflating: SMNI_CMI_TRAIN/Data37.csv  \n",
            "  inflating: SMNI_CMI_TRAIN/Data370.csv  \n",
            "  inflating: SMNI_CMI_TRAIN/Data371.csv  \n",
            "  inflating: SMNI_CMI_TRAIN/Data372.csv  \n",
            "  inflating: SMNI_CMI_TRAIN/Data373.csv  \n",
            "  inflating: SMNI_CMI_TRAIN/Data374.csv  \n",
            "  inflating: SMNI_CMI_TRAIN/Data375.csv  \n",
            "  inflating: SMNI_CMI_TRAIN/Data376.csv  \n",
            "  inflating: SMNI_CMI_TRAIN/Data377.csv  \n",
            "  inflating: SMNI_CMI_TRAIN/Data378.csv  \n",
            "  inflating: SMNI_CMI_TRAIN/Data379.csv  \n",
            "  inflating: SMNI_CMI_TRAIN/Data38.csv  \n",
            "  inflating: SMNI_CMI_TRAIN/Data380.csv  \n",
            "  inflating: SMNI_CMI_TRAIN/Data381.csv  \n",
            "  inflating: SMNI_CMI_TRAIN/Data382.csv  \n",
            "  inflating: SMNI_CMI_TRAIN/Data383.csv  \n",
            "  inflating: SMNI_CMI_TRAIN/Data384.csv  \n",
            "  inflating: SMNI_CMI_TRAIN/Data385.csv  \n",
            "  inflating: SMNI_CMI_TRAIN/Data386.csv  \n",
            "  inflating: SMNI_CMI_TRAIN/Data387.csv  \n",
            "  inflating: SMNI_CMI_TRAIN/Data388.csv  \n",
            "  inflating: SMNI_CMI_TRAIN/Data389.csv  \n",
            "  inflating: SMNI_CMI_TRAIN/Data39.csv  \n",
            "  inflating: SMNI_CMI_TRAIN/Data390.csv  \n",
            "  inflating: SMNI_CMI_TRAIN/Data391.csv  \n",
            "  inflating: SMNI_CMI_TRAIN/Data392.csv  \n",
            "  inflating: SMNI_CMI_TRAIN/Data393.csv  \n",
            "  inflating: SMNI_CMI_TRAIN/Data394.csv  \n",
            "  inflating: SMNI_CMI_TRAIN/Data395.csv  \n",
            "  inflating: SMNI_CMI_TRAIN/Data396.csv  \n",
            "  inflating: SMNI_CMI_TRAIN/Data397.csv  \n",
            "  inflating: SMNI_CMI_TRAIN/Data398.csv  \n",
            "  inflating: SMNI_CMI_TRAIN/Data399.csv  \n",
            "  inflating: SMNI_CMI_TRAIN/Data4.csv  \n",
            "  inflating: SMNI_CMI_TRAIN/Data40.csv  \n",
            "  inflating: SMNI_CMI_TRAIN/Data400.csv  \n",
            "  inflating: SMNI_CMI_TRAIN/Data401.csv  \n",
            "  inflating: SMNI_CMI_TRAIN/Data402.csv  \n",
            "  inflating: SMNI_CMI_TRAIN/Data403.csv  \n",
            "  inflating: SMNI_CMI_TRAIN/Data404.csv  \n",
            "  inflating: SMNI_CMI_TRAIN/Data405.csv  \n",
            "  inflating: SMNI_CMI_TRAIN/Data406.csv  \n",
            "  inflating: SMNI_CMI_TRAIN/Data407.csv  \n",
            "  inflating: SMNI_CMI_TRAIN/Data408.csv  \n",
            "  inflating: SMNI_CMI_TRAIN/Data409.csv  \n",
            "  inflating: SMNI_CMI_TRAIN/Data41.csv  \n",
            "  inflating: SMNI_CMI_TRAIN/Data410.csv  \n",
            "  inflating: SMNI_CMI_TRAIN/Data411.csv  \n",
            "  inflating: SMNI_CMI_TRAIN/Data412.csv  \n",
            "  inflating: SMNI_CMI_TRAIN/Data413.csv  \n",
            "  inflating: SMNI_CMI_TRAIN/Data414.csv  \n",
            "  inflating: SMNI_CMI_TRAIN/Data415.csv  \n",
            "  inflating: SMNI_CMI_TRAIN/Data416.csv  \n",
            "  inflating: SMNI_CMI_TRAIN/Data417.csv  \n",
            "  inflating: SMNI_CMI_TRAIN/Data418.csv  \n",
            "  inflating: SMNI_CMI_TRAIN/Data419.csv  \n",
            "  inflating: SMNI_CMI_TRAIN/Data42.csv  \n",
            "  inflating: SMNI_CMI_TRAIN/Data420.csv  \n",
            "  inflating: SMNI_CMI_TRAIN/Data421.csv  \n",
            "  inflating: SMNI_CMI_TRAIN/Data422.csv  \n",
            "  inflating: SMNI_CMI_TRAIN/Data423.csv  \n",
            "  inflating: SMNI_CMI_TRAIN/Data424.csv  \n",
            "  inflating: SMNI_CMI_TRAIN/Data425.csv  \n",
            "  inflating: SMNI_CMI_TRAIN/Data426.csv  \n",
            "  inflating: SMNI_CMI_TRAIN/Data427.csv  \n",
            "  inflating: SMNI_CMI_TRAIN/Data428.csv  \n",
            "  inflating: SMNI_CMI_TRAIN/Data429.csv  \n",
            "  inflating: SMNI_CMI_TRAIN/Data43.csv  \n",
            "  inflating: SMNI_CMI_TRAIN/Data430.csv  \n",
            "  inflating: SMNI_CMI_TRAIN/Data431.csv  \n",
            "  inflating: SMNI_CMI_TRAIN/Data432.csv  \n",
            "  inflating: SMNI_CMI_TRAIN/Data433.csv  \n",
            "  inflating: SMNI_CMI_TRAIN/Data434.csv  \n",
            "  inflating: SMNI_CMI_TRAIN/Data435.csv  \n",
            "  inflating: SMNI_CMI_TRAIN/Data436.csv  \n",
            "  inflating: SMNI_CMI_TRAIN/Data437.csv  \n",
            "  inflating: SMNI_CMI_TRAIN/Data438.csv  \n",
            "  inflating: SMNI_CMI_TRAIN/Data439.csv  \n",
            "  inflating: SMNI_CMI_TRAIN/Data44.csv  \n",
            "  inflating: SMNI_CMI_TRAIN/Data440.csv  \n",
            "  inflating: SMNI_CMI_TRAIN/Data441.csv  \n",
            "  inflating: SMNI_CMI_TRAIN/Data442.csv  \n",
            "  inflating: SMNI_CMI_TRAIN/Data443.csv  \n",
            "  inflating: SMNI_CMI_TRAIN/Data444.csv  \n",
            "  inflating: SMNI_CMI_TRAIN/Data445.csv  \n",
            "  inflating: SMNI_CMI_TRAIN/Data446.csv  \n",
            "  inflating: SMNI_CMI_TRAIN/Data447.csv  \n",
            "  inflating: SMNI_CMI_TRAIN/Data448.csv  \n",
            "  inflating: SMNI_CMI_TRAIN/Data449.csv  \n",
            "  inflating: SMNI_CMI_TRAIN/Data45.csv  \n",
            "  inflating: SMNI_CMI_TRAIN/Data450.csv  \n",
            "  inflating: SMNI_CMI_TRAIN/Data451.csv  \n",
            "  inflating: SMNI_CMI_TRAIN/Data452.csv  \n",
            "  inflating: SMNI_CMI_TRAIN/Data453.csv  \n",
            "  inflating: SMNI_CMI_TRAIN/Data454.csv  \n",
            "  inflating: SMNI_CMI_TRAIN/Data455.csv  \n",
            "  inflating: SMNI_CMI_TRAIN/Data456.csv  \n",
            "  inflating: SMNI_CMI_TRAIN/Data457.csv  \n",
            "  inflating: SMNI_CMI_TRAIN/Data458.csv  \n",
            "  inflating: SMNI_CMI_TRAIN/Data459.csv  \n",
            "  inflating: SMNI_CMI_TRAIN/Data46.csv  \n",
            "  inflating: SMNI_CMI_TRAIN/Data460.csv  \n",
            "  inflating: SMNI_CMI_TRAIN/Data461.csv  \n",
            "  inflating: SMNI_CMI_TRAIN/Data462.csv  \n",
            "  inflating: SMNI_CMI_TRAIN/Data463.csv  \n",
            "  inflating: SMNI_CMI_TRAIN/Data464.csv  \n",
            "  inflating: SMNI_CMI_TRAIN/Data465.csv  \n",
            "  inflating: SMNI_CMI_TRAIN/Data466.csv  \n",
            "  inflating: SMNI_CMI_TRAIN/Data467.csv  \n",
            "  inflating: SMNI_CMI_TRAIN/Data468.csv  \n",
            "  inflating: SMNI_CMI_TRAIN/Data47.csv  \n",
            "  inflating: SMNI_CMI_TRAIN/Data48.csv  \n",
            "  inflating: SMNI_CMI_TRAIN/Data49.csv  \n",
            "  inflating: SMNI_CMI_TRAIN/Data5.csv  \n",
            "  inflating: SMNI_CMI_TRAIN/Data50.csv  \n",
            "  inflating: SMNI_CMI_TRAIN/Data51.csv  \n",
            "  inflating: SMNI_CMI_TRAIN/Data52.csv  \n",
            "  inflating: SMNI_CMI_TRAIN/Data53.csv  \n",
            "  inflating: SMNI_CMI_TRAIN/Data54.csv  \n",
            "  inflating: SMNI_CMI_TRAIN/Data55.csv  \n",
            "  inflating: SMNI_CMI_TRAIN/Data56.csv  \n",
            "  inflating: SMNI_CMI_TRAIN/Data57.csv  \n",
            "  inflating: SMNI_CMI_TRAIN/Data58.csv  \n",
            "  inflating: SMNI_CMI_TRAIN/Data59.csv  \n",
            "  inflating: SMNI_CMI_TRAIN/Data6.csv  \n",
            "  inflating: SMNI_CMI_TRAIN/Data60.csv  \n",
            "  inflating: SMNI_CMI_TRAIN/Data61.csv  \n",
            "  inflating: SMNI_CMI_TRAIN/Data62.csv  \n",
            "  inflating: SMNI_CMI_TRAIN/Data63.csv  \n",
            "  inflating: SMNI_CMI_TRAIN/Data64.csv  \n",
            "  inflating: SMNI_CMI_TRAIN/Data65.csv  \n",
            "  inflating: SMNI_CMI_TRAIN/Data66.csv  \n",
            "  inflating: SMNI_CMI_TRAIN/Data67.csv  \n",
            "  inflating: SMNI_CMI_TRAIN/Data68.csv  \n",
            "  inflating: SMNI_CMI_TRAIN/Data69.csv  \n",
            "  inflating: SMNI_CMI_TRAIN/Data7.csv  \n",
            "  inflating: SMNI_CMI_TRAIN/Data70.csv  \n",
            "  inflating: SMNI_CMI_TRAIN/Data71.csv  \n",
            "  inflating: SMNI_CMI_TRAIN/Data72.csv  \n",
            "  inflating: SMNI_CMI_TRAIN/Data73.csv  \n",
            "  inflating: SMNI_CMI_TRAIN/Data74.csv  \n",
            "  inflating: SMNI_CMI_TRAIN/Data75.csv  \n",
            "  inflating: SMNI_CMI_TRAIN/Data76.csv  \n",
            "  inflating: SMNI_CMI_TRAIN/Data77.csv  \n",
            "  inflating: SMNI_CMI_TRAIN/Data78.csv  \n",
            "  inflating: SMNI_CMI_TRAIN/Data79.csv  \n",
            "  inflating: SMNI_CMI_TRAIN/Data8.csv  \n",
            "  inflating: SMNI_CMI_TRAIN/Data80.csv  \n",
            "  inflating: SMNI_CMI_TRAIN/Data81.csv  \n",
            "  inflating: SMNI_CMI_TRAIN/Data82.csv  \n",
            "  inflating: SMNI_CMI_TRAIN/Data83.csv  \n",
            "  inflating: SMNI_CMI_TRAIN/Data84.csv  \n",
            "  inflating: SMNI_CMI_TRAIN/Data85.csv  \n",
            "  inflating: SMNI_CMI_TRAIN/Data86.csv  \n",
            "  inflating: SMNI_CMI_TRAIN/Data87.csv  \n",
            "  inflating: SMNI_CMI_TRAIN/Data88.csv  \n",
            "  inflating: SMNI_CMI_TRAIN/Data89.csv  \n",
            "  inflating: SMNI_CMI_TRAIN/Data9.csv  \n",
            "  inflating: SMNI_CMI_TRAIN/Data90.csv  \n",
            "  inflating: SMNI_CMI_TRAIN/Data91.csv  \n",
            "  inflating: SMNI_CMI_TRAIN/Data92.csv  \n",
            "  inflating: SMNI_CMI_TRAIN/Data93.csv  \n",
            "  inflating: SMNI_CMI_TRAIN/Data94.csv  \n",
            "  inflating: SMNI_CMI_TRAIN/Data95.csv  \n",
            "  inflating: SMNI_CMI_TRAIN/Data96.csv  \n",
            "  inflating: SMNI_CMI_TRAIN/Data97.csv  \n",
            "  inflating: SMNI_CMI_TRAIN/Data98.csv  \n",
            "  inflating: SMNI_CMI_TRAIN/Data99.csv  \n",
            "  inflating: SMNI_CMI_TRAIN/Train/Data1.csv  \n",
            "  inflating: SMNI_CMI_TRAIN/Train/Data10.csv  \n",
            "  inflating: SMNI_CMI_TRAIN/Train/Data100.csv  \n",
            "  inflating: SMNI_CMI_TRAIN/Train/Data101.csv  \n",
            "  inflating: SMNI_CMI_TRAIN/Train/Data102.csv  \n",
            "  inflating: SMNI_CMI_TRAIN/Train/Data103.csv  \n",
            "  inflating: SMNI_CMI_TRAIN/Train/Data104.csv  \n",
            "  inflating: SMNI_CMI_TRAIN/Train/Data105.csv  \n",
            "  inflating: SMNI_CMI_TRAIN/Train/Data106.csv  \n",
            "  inflating: SMNI_CMI_TRAIN/Train/Data107.csv  \n",
            "  inflating: SMNI_CMI_TRAIN/Train/Data108.csv  \n",
            "  inflating: SMNI_CMI_TRAIN/Train/Data109.csv  \n",
            "  inflating: SMNI_CMI_TRAIN/Train/Data11.csv  \n",
            "  inflating: SMNI_CMI_TRAIN/Train/Data110.csv  \n",
            "  inflating: SMNI_CMI_TRAIN/Train/Data111.csv  \n",
            "  inflating: SMNI_CMI_TRAIN/Train/Data112.csv  \n",
            "  inflating: SMNI_CMI_TRAIN/Train/Data113.csv  \n",
            "  inflating: SMNI_CMI_TRAIN/Train/Data114.csv  \n",
            "  inflating: SMNI_CMI_TRAIN/Train/Data115.csv  \n",
            "  inflating: SMNI_CMI_TRAIN/Train/Data116.csv  \n",
            "  inflating: SMNI_CMI_TRAIN/Train/Data117.csv  \n",
            "  inflating: SMNI_CMI_TRAIN/Train/Data118.csv  \n",
            "  inflating: SMNI_CMI_TRAIN/Train/Data119.csv  \n",
            "  inflating: SMNI_CMI_TRAIN/Train/Data12.csv  \n",
            "  inflating: SMNI_CMI_TRAIN/Train/Data120.csv  \n",
            "  inflating: SMNI_CMI_TRAIN/Train/Data121.csv  \n",
            "  inflating: SMNI_CMI_TRAIN/Train/Data122.csv  \n",
            "  inflating: SMNI_CMI_TRAIN/Train/Data123.csv  \n",
            "  inflating: SMNI_CMI_TRAIN/Train/Data124.csv  \n",
            "  inflating: SMNI_CMI_TRAIN/Train/Data125.csv  \n",
            "  inflating: SMNI_CMI_TRAIN/Train/Data126.csv  \n",
            "  inflating: SMNI_CMI_TRAIN/Train/Data127.csv  \n",
            "  inflating: SMNI_CMI_TRAIN/Train/Data128.csv  \n",
            "  inflating: SMNI_CMI_TRAIN/Train/Data129.csv  \n",
            "  inflating: SMNI_CMI_TRAIN/Train/Data13.csv  \n",
            "  inflating: SMNI_CMI_TRAIN/Train/Data130.csv  \n",
            "  inflating: SMNI_CMI_TRAIN/Train/Data131.csv  \n",
            "  inflating: SMNI_CMI_TRAIN/Train/Data132.csv  \n",
            "  inflating: SMNI_CMI_TRAIN/Train/Data133.csv  \n",
            "  inflating: SMNI_CMI_TRAIN/Train/Data134.csv  \n",
            "  inflating: SMNI_CMI_TRAIN/Train/Data135.csv  \n",
            "  inflating: SMNI_CMI_TRAIN/Train/Data136.csv  \n",
            "  inflating: SMNI_CMI_TRAIN/Train/Data137.csv  \n",
            "  inflating: SMNI_CMI_TRAIN/Train/Data138.csv  \n",
            "  inflating: SMNI_CMI_TRAIN/Train/Data139.csv  \n",
            "  inflating: SMNI_CMI_TRAIN/Train/Data14.csv  \n",
            "  inflating: SMNI_CMI_TRAIN/Train/Data140.csv  \n",
            "  inflating: SMNI_CMI_TRAIN/Train/Data141.csv  \n",
            "  inflating: SMNI_CMI_TRAIN/Train/Data142.csv  \n",
            "  inflating: SMNI_CMI_TRAIN/Train/Data143.csv  \n",
            "  inflating: SMNI_CMI_TRAIN/Train/Data144.csv  \n",
            "  inflating: SMNI_CMI_TRAIN/Train/Data145.csv  \n",
            "  inflating: SMNI_CMI_TRAIN/Train/Data146.csv  \n",
            "  inflating: SMNI_CMI_TRAIN/Train/Data147.csv  \n",
            "  inflating: SMNI_CMI_TRAIN/Train/Data148.csv  \n",
            "  inflating: SMNI_CMI_TRAIN/Train/Data149.csv  \n",
            "  inflating: SMNI_CMI_TRAIN/Train/Data15.csv  \n",
            "  inflating: SMNI_CMI_TRAIN/Train/Data150.csv  \n",
            "  inflating: SMNI_CMI_TRAIN/Train/Data151.csv  \n",
            "  inflating: SMNI_CMI_TRAIN/Train/Data152.csv  \n",
            "  inflating: SMNI_CMI_TRAIN/Train/Data153.csv  \n",
            "  inflating: SMNI_CMI_TRAIN/Train/Data154.csv  \n",
            "  inflating: SMNI_CMI_TRAIN/Train/Data155.csv  \n",
            "  inflating: SMNI_CMI_TRAIN/Train/Data156.csv  \n",
            "  inflating: SMNI_CMI_TRAIN/Train/Data157.csv  \n",
            "  inflating: SMNI_CMI_TRAIN/Train/Data158.csv  \n",
            "  inflating: SMNI_CMI_TRAIN/Train/Data159.csv  \n",
            "  inflating: SMNI_CMI_TRAIN/Train/Data16.csv  \n",
            "  inflating: SMNI_CMI_TRAIN/Train/Data160.csv  \n",
            "  inflating: SMNI_CMI_TRAIN/Train/Data161.csv  \n",
            "  inflating: SMNI_CMI_TRAIN/Train/Data162.csv  \n",
            "  inflating: SMNI_CMI_TRAIN/Train/Data163.csv  \n",
            "  inflating: SMNI_CMI_TRAIN/Train/Data164.csv  \n",
            "  inflating: SMNI_CMI_TRAIN/Train/Data165.csv  \n",
            "  inflating: SMNI_CMI_TRAIN/Train/Data166.csv  \n",
            "  inflating: SMNI_CMI_TRAIN/Train/Data167.csv  \n",
            "  inflating: SMNI_CMI_TRAIN/Train/Data168.csv  \n",
            "  inflating: SMNI_CMI_TRAIN/Train/Data169.csv  \n",
            "  inflating: SMNI_CMI_TRAIN/Train/Data17.csv  \n",
            "  inflating: SMNI_CMI_TRAIN/Train/Data170.csv  \n",
            "  inflating: SMNI_CMI_TRAIN/Train/Data171.csv  \n",
            "  inflating: SMNI_CMI_TRAIN/Train/Data172.csv  \n",
            "  inflating: SMNI_CMI_TRAIN/Train/Data173.csv  \n",
            "  inflating: SMNI_CMI_TRAIN/Train/Data174.csv  \n",
            "  inflating: SMNI_CMI_TRAIN/Train/Data175.csv  \n",
            "  inflating: SMNI_CMI_TRAIN/Train/Data176.csv  \n",
            "  inflating: SMNI_CMI_TRAIN/Train/Data177.csv  \n",
            "  inflating: SMNI_CMI_TRAIN/Train/Data178.csv  \n",
            "  inflating: SMNI_CMI_TRAIN/Train/Data179.csv  \n",
            "  inflating: SMNI_CMI_TRAIN/Train/Data18.csv  \n",
            "  inflating: SMNI_CMI_TRAIN/Train/Data180.csv  \n",
            "  inflating: SMNI_CMI_TRAIN/Train/Data181.csv  \n",
            "  inflating: SMNI_CMI_TRAIN/Train/Data182.csv  \n",
            "  inflating: SMNI_CMI_TRAIN/Train/Data183.csv  \n",
            "  inflating: SMNI_CMI_TRAIN/Train/Data184.csv  \n",
            "  inflating: SMNI_CMI_TRAIN/Train/Data185.csv  \n",
            "  inflating: SMNI_CMI_TRAIN/Train/Data186.csv  \n",
            "  inflating: SMNI_CMI_TRAIN/Train/Data187.csv  \n",
            "  inflating: SMNI_CMI_TRAIN/Train/Data188.csv  \n",
            "  inflating: SMNI_CMI_TRAIN/Train/Data189.csv  \n",
            "  inflating: SMNI_CMI_TRAIN/Train/Data19.csv  \n",
            "  inflating: SMNI_CMI_TRAIN/Train/Data190.csv  \n",
            "  inflating: SMNI_CMI_TRAIN/Train/Data191.csv  \n",
            "  inflating: SMNI_CMI_TRAIN/Train/Data192.csv  \n",
            "  inflating: SMNI_CMI_TRAIN/Train/Data193.csv  \n",
            "  inflating: SMNI_CMI_TRAIN/Train/Data194.csv  \n",
            "  inflating: SMNI_CMI_TRAIN/Train/Data195.csv  \n",
            "  inflating: SMNI_CMI_TRAIN/Train/Data196.csv  \n",
            "  inflating: SMNI_CMI_TRAIN/Train/Data197.csv  \n",
            "  inflating: SMNI_CMI_TRAIN/Train/Data198.csv  \n",
            "  inflating: SMNI_CMI_TRAIN/Train/Data199.csv  \n",
            "  inflating: SMNI_CMI_TRAIN/Train/Data2.csv  \n",
            "  inflating: SMNI_CMI_TRAIN/Train/Data20.csv  \n",
            "  inflating: SMNI_CMI_TRAIN/Train/Data200.csv  \n",
            "  inflating: SMNI_CMI_TRAIN/Train/Data201.csv  \n",
            "  inflating: SMNI_CMI_TRAIN/Train/Data202.csv  \n",
            "  inflating: SMNI_CMI_TRAIN/Train/Data203.csv  \n",
            "  inflating: SMNI_CMI_TRAIN/Train/Data204.csv  \n",
            "  inflating: SMNI_CMI_TRAIN/Train/Data205.csv  \n",
            "  inflating: SMNI_CMI_TRAIN/Train/Data206.csv  \n",
            "  inflating: SMNI_CMI_TRAIN/Train/Data207.csv  \n",
            "  inflating: SMNI_CMI_TRAIN/Train/Data208.csv  \n",
            "  inflating: SMNI_CMI_TRAIN/Train/Data209.csv  \n",
            "  inflating: SMNI_CMI_TRAIN/Train/Data21.csv  \n",
            "  inflating: SMNI_CMI_TRAIN/Train/Data210.csv  \n",
            "  inflating: SMNI_CMI_TRAIN/Train/Data211.csv  \n",
            "  inflating: SMNI_CMI_TRAIN/Train/Data212.csv  \n",
            "  inflating: SMNI_CMI_TRAIN/Train/Data213.csv  \n",
            "  inflating: SMNI_CMI_TRAIN/Train/Data214.csv  \n",
            "  inflating: SMNI_CMI_TRAIN/Train/Data215.csv  \n",
            "  inflating: SMNI_CMI_TRAIN/Train/Data216.csv  \n",
            "  inflating: SMNI_CMI_TRAIN/Train/Data217.csv  \n",
            "  inflating: SMNI_CMI_TRAIN/Train/Data218.csv  \n",
            "  inflating: SMNI_CMI_TRAIN/Train/Data219.csv  \n",
            "  inflating: SMNI_CMI_TRAIN/Train/Data22.csv  \n",
            "  inflating: SMNI_CMI_TRAIN/Train/Data220.csv  \n",
            "  inflating: SMNI_CMI_TRAIN/Train/Data221.csv  \n",
            "  inflating: SMNI_CMI_TRAIN/Train/Data222.csv  \n",
            "  inflating: SMNI_CMI_TRAIN/Train/Data223.csv  \n",
            "  inflating: SMNI_CMI_TRAIN/Train/Data224.csv  \n",
            "  inflating: SMNI_CMI_TRAIN/Train/Data225.csv  \n",
            "  inflating: SMNI_CMI_TRAIN/Train/Data226.csv  \n",
            "  inflating: SMNI_CMI_TRAIN/Train/Data227.csv  \n",
            "  inflating: SMNI_CMI_TRAIN/Train/Data228.csv  \n",
            "  inflating: SMNI_CMI_TRAIN/Train/Data229.csv  \n",
            "  inflating: SMNI_CMI_TRAIN/Train/Data23.csv  \n",
            "  inflating: SMNI_CMI_TRAIN/Train/Data230.csv  \n",
            "  inflating: SMNI_CMI_TRAIN/Train/Data231.csv  \n",
            "  inflating: SMNI_CMI_TRAIN/Train/Data232.csv  \n",
            "  inflating: SMNI_CMI_TRAIN/Train/Data233.csv  \n",
            "  inflating: SMNI_CMI_TRAIN/Train/Data234.csv  \n",
            "  inflating: SMNI_CMI_TRAIN/Train/Data235.csv  \n",
            "  inflating: SMNI_CMI_TRAIN/Train/Data236.csv  \n",
            "  inflating: SMNI_CMI_TRAIN/Train/Data237.csv  \n",
            "  inflating: SMNI_CMI_TRAIN/Train/Data238.csv  \n",
            "  inflating: SMNI_CMI_TRAIN/Train/Data239.csv  \n",
            "  inflating: SMNI_CMI_TRAIN/Train/Data24.csv  \n",
            "  inflating: SMNI_CMI_TRAIN/Train/Data240.csv  \n",
            "  inflating: SMNI_CMI_TRAIN/Train/Data241.csv  \n",
            "  inflating: SMNI_CMI_TRAIN/Train/Data242.csv  \n",
            "  inflating: SMNI_CMI_TRAIN/Train/Data243.csv  \n",
            "  inflating: SMNI_CMI_TRAIN/Train/Data244.csv  \n",
            "  inflating: SMNI_CMI_TRAIN/Train/Data245.csv  \n",
            "  inflating: SMNI_CMI_TRAIN/Train/Data246.csv  \n",
            "  inflating: SMNI_CMI_TRAIN/Train/Data247.csv  \n",
            "  inflating: SMNI_CMI_TRAIN/Train/Data248.csv  \n",
            "  inflating: SMNI_CMI_TRAIN/Train/Data249.csv  \n",
            "  inflating: SMNI_CMI_TRAIN/Train/Data25.csv  \n",
            "  inflating: SMNI_CMI_TRAIN/Train/Data250.csv  \n",
            "  inflating: SMNI_CMI_TRAIN/Train/Data251.csv  \n",
            "  inflating: SMNI_CMI_TRAIN/Train/Data252.csv  \n",
            "  inflating: SMNI_CMI_TRAIN/Train/Data253.csv  \n",
            "  inflating: SMNI_CMI_TRAIN/Train/Data254.csv  \n",
            "  inflating: SMNI_CMI_TRAIN/Train/Data255.csv  \n",
            "  inflating: SMNI_CMI_TRAIN/Train/Data256.csv  \n",
            "  inflating: SMNI_CMI_TRAIN/Train/Data257.csv  \n",
            "  inflating: SMNI_CMI_TRAIN/Train/Data258.csv  \n",
            "  inflating: SMNI_CMI_TRAIN/Train/Data259.csv  \n",
            "  inflating: SMNI_CMI_TRAIN/Train/Data26.csv  \n",
            "  inflating: SMNI_CMI_TRAIN/Train/Data260.csv  \n",
            "  inflating: SMNI_CMI_TRAIN/Train/Data261.csv  \n",
            "  inflating: SMNI_CMI_TRAIN/Train/Data262.csv  \n",
            "  inflating: SMNI_CMI_TRAIN/Train/Data263.csv  \n",
            "  inflating: SMNI_CMI_TRAIN/Train/Data264.csv  \n",
            "  inflating: SMNI_CMI_TRAIN/Train/Data265.csv  \n",
            "  inflating: SMNI_CMI_TRAIN/Train/Data266.csv  \n",
            "  inflating: SMNI_CMI_TRAIN/Train/Data267.csv  \n",
            "  inflating: SMNI_CMI_TRAIN/Train/Data268.csv  \n",
            "  inflating: SMNI_CMI_TRAIN/Train/Data269.csv  \n",
            "  inflating: SMNI_CMI_TRAIN/Train/Data27.csv  \n",
            "  inflating: SMNI_CMI_TRAIN/Train/Data270.csv  \n",
            "  inflating: SMNI_CMI_TRAIN/Train/Data271.csv  \n",
            "  inflating: SMNI_CMI_TRAIN/Train/Data272.csv  \n",
            "  inflating: SMNI_CMI_TRAIN/Train/Data273.csv  \n",
            "  inflating: SMNI_CMI_TRAIN/Train/Data274.csv  \n",
            "  inflating: SMNI_CMI_TRAIN/Train/Data275.csv  \n",
            "  inflating: SMNI_CMI_TRAIN/Train/Data276.csv  \n",
            "  inflating: SMNI_CMI_TRAIN/Train/Data277.csv  \n",
            "  inflating: SMNI_CMI_TRAIN/Train/Data278.csv  \n",
            "  inflating: SMNI_CMI_TRAIN/Train/Data279.csv  \n",
            "  inflating: SMNI_CMI_TRAIN/Train/Data28.csv  \n",
            "  inflating: SMNI_CMI_TRAIN/Train/Data280.csv  \n",
            "  inflating: SMNI_CMI_TRAIN/Train/Data281.csv  \n",
            "  inflating: SMNI_CMI_TRAIN/Train/Data282.csv  \n",
            "  inflating: SMNI_CMI_TRAIN/Train/Data283.csv  \n",
            "  inflating: SMNI_CMI_TRAIN/Train/Data284.csv  \n",
            "  inflating: SMNI_CMI_TRAIN/Train/Data285.csv  \n",
            "  inflating: SMNI_CMI_TRAIN/Train/Data286.csv  \n",
            "  inflating: SMNI_CMI_TRAIN/Train/Data287.csv  \n",
            "  inflating: SMNI_CMI_TRAIN/Train/Data288.csv  \n",
            "  inflating: SMNI_CMI_TRAIN/Train/Data289.csv  \n",
            "  inflating: SMNI_CMI_TRAIN/Train/Data29.csv  \n",
            "  inflating: SMNI_CMI_TRAIN/Train/Data290.csv  \n",
            "  inflating: SMNI_CMI_TRAIN/Train/Data291.csv  \n",
            "  inflating: SMNI_CMI_TRAIN/Train/Data292.csv  \n",
            "  inflating: SMNI_CMI_TRAIN/Train/Data293.csv  \n",
            "  inflating: SMNI_CMI_TRAIN/Train/Data294.csv  \n",
            "  inflating: SMNI_CMI_TRAIN/Train/Data295.csv  \n",
            "  inflating: SMNI_CMI_TRAIN/Train/Data296.csv  \n",
            "  inflating: SMNI_CMI_TRAIN/Train/Data297.csv  \n",
            "  inflating: SMNI_CMI_TRAIN/Train/Data298.csv  \n",
            "  inflating: SMNI_CMI_TRAIN/Train/Data299.csv  \n",
            "  inflating: SMNI_CMI_TRAIN/Train/Data3.csv  \n",
            "  inflating: SMNI_CMI_TRAIN/Train/Data30.csv  \n",
            "  inflating: SMNI_CMI_TRAIN/Train/Data300.csv  \n",
            "  inflating: SMNI_CMI_TRAIN/Train/Data301.csv  \n",
            "  inflating: SMNI_CMI_TRAIN/Train/Data302.csv  \n",
            "  inflating: SMNI_CMI_TRAIN/Train/Data303.csv  \n",
            "  inflating: SMNI_CMI_TRAIN/Train/Data304.csv  \n",
            "  inflating: SMNI_CMI_TRAIN/Train/Data305.csv  \n",
            "  inflating: SMNI_CMI_TRAIN/Train/Data306.csv  \n",
            "  inflating: SMNI_CMI_TRAIN/Train/Data307.csv  \n",
            "  inflating: SMNI_CMI_TRAIN/Train/Data308.csv  \n",
            "  inflating: SMNI_CMI_TRAIN/Train/Data309.csv  \n",
            "  inflating: SMNI_CMI_TRAIN/Train/Data31.csv  \n",
            "  inflating: SMNI_CMI_TRAIN/Train/Data310.csv  \n",
            "  inflating: SMNI_CMI_TRAIN/Train/Data311.csv  \n",
            "  inflating: SMNI_CMI_TRAIN/Train/Data312.csv  \n",
            "  inflating: SMNI_CMI_TRAIN/Train/Data313.csv  \n",
            "  inflating: SMNI_CMI_TRAIN/Train/Data314.csv  \n",
            "  inflating: SMNI_CMI_TRAIN/Train/Data315.csv  \n",
            "  inflating: SMNI_CMI_TRAIN/Train/Data316.csv  \n",
            "  inflating: SMNI_CMI_TRAIN/Train/Data317.csv  \n",
            "  inflating: SMNI_CMI_TRAIN/Train/Data318.csv  \n",
            "  inflating: SMNI_CMI_TRAIN/Train/Data319.csv  \n",
            "  inflating: SMNI_CMI_TRAIN/Train/Data32.csv  \n",
            "  inflating: SMNI_CMI_TRAIN/Train/Data320.csv  \n",
            "  inflating: SMNI_CMI_TRAIN/Train/Data321.csv  \n",
            "  inflating: SMNI_CMI_TRAIN/Train/Data322.csv  \n",
            "  inflating: SMNI_CMI_TRAIN/Train/Data323.csv  \n",
            "  inflating: SMNI_CMI_TRAIN/Train/Data324.csv  \n",
            "  inflating: SMNI_CMI_TRAIN/Train/Data325.csv  \n",
            "  inflating: SMNI_CMI_TRAIN/Train/Data326.csv  \n",
            "  inflating: SMNI_CMI_TRAIN/Train/Data327.csv  \n",
            "  inflating: SMNI_CMI_TRAIN/Train/Data328.csv  \n",
            "  inflating: SMNI_CMI_TRAIN/Train/Data329.csv  \n",
            "  inflating: SMNI_CMI_TRAIN/Train/Data33.csv  \n",
            "  inflating: SMNI_CMI_TRAIN/Train/Data330.csv  \n",
            "  inflating: SMNI_CMI_TRAIN/Train/Data331.csv  \n",
            "  inflating: SMNI_CMI_TRAIN/Train/Data332.csv  \n",
            "  inflating: SMNI_CMI_TRAIN/Train/Data333.csv  \n",
            "  inflating: SMNI_CMI_TRAIN/Train/Data334.csv  \n",
            "  inflating: SMNI_CMI_TRAIN/Train/Data335.csv  \n",
            "  inflating: SMNI_CMI_TRAIN/Train/Data336.csv  \n",
            "  inflating: SMNI_CMI_TRAIN/Train/Data337.csv  \n",
            "  inflating: SMNI_CMI_TRAIN/Train/Data338.csv  \n",
            "  inflating: SMNI_CMI_TRAIN/Train/Data339.csv  \n",
            "  inflating: SMNI_CMI_TRAIN/Train/Data34.csv  \n",
            "  inflating: SMNI_CMI_TRAIN/Train/Data340.csv  \n",
            "  inflating: SMNI_CMI_TRAIN/Train/Data341.csv  \n",
            "  inflating: SMNI_CMI_TRAIN/Train/Data342.csv  \n",
            "  inflating: SMNI_CMI_TRAIN/Train/Data343.csv  \n",
            "  inflating: SMNI_CMI_TRAIN/Train/Data344.csv  \n",
            "  inflating: SMNI_CMI_TRAIN/Train/Data345.csv  \n",
            "  inflating: SMNI_CMI_TRAIN/Train/Data346.csv  \n",
            "  inflating: SMNI_CMI_TRAIN/Train/Data347.csv  \n",
            "  inflating: SMNI_CMI_TRAIN/Train/Data348.csv  \n",
            "  inflating: SMNI_CMI_TRAIN/Train/Data349.csv  \n",
            "  inflating: SMNI_CMI_TRAIN/Train/Data35.csv  \n",
            "  inflating: SMNI_CMI_TRAIN/Train/Data350.csv  \n",
            "  inflating: SMNI_CMI_TRAIN/Train/Data351.csv  \n",
            "  inflating: SMNI_CMI_TRAIN/Train/Data352.csv  \n",
            "  inflating: SMNI_CMI_TRAIN/Train/Data353.csv  \n",
            "  inflating: SMNI_CMI_TRAIN/Train/Data354.csv  \n",
            "  inflating: SMNI_CMI_TRAIN/Train/Data355.csv  \n",
            "  inflating: SMNI_CMI_TRAIN/Train/Data356.csv  \n",
            "  inflating: SMNI_CMI_TRAIN/Train/Data357.csv  \n",
            "  inflating: SMNI_CMI_TRAIN/Train/Data358.csv  \n",
            "  inflating: SMNI_CMI_TRAIN/Train/Data359.csv  \n",
            "  inflating: SMNI_CMI_TRAIN/Train/Data36.csv  \n",
            "  inflating: SMNI_CMI_TRAIN/Train/Data360.csv  \n",
            "  inflating: SMNI_CMI_TRAIN/Train/Data361.csv  \n",
            "  inflating: SMNI_CMI_TRAIN/Train/Data362.csv  \n",
            "  inflating: SMNI_CMI_TRAIN/Train/Data363.csv  \n",
            "  inflating: SMNI_CMI_TRAIN/Train/Data364.csv  \n",
            "  inflating: SMNI_CMI_TRAIN/Train/Data365.csv  \n",
            "  inflating: SMNI_CMI_TRAIN/Train/Data366.csv  \n",
            "  inflating: SMNI_CMI_TRAIN/Train/Data367.csv  \n",
            "  inflating: SMNI_CMI_TRAIN/Train/Data368.csv  \n",
            "  inflating: SMNI_CMI_TRAIN/Train/Data369.csv  \n",
            "  inflating: SMNI_CMI_TRAIN/Train/Data37.csv  \n",
            "  inflating: SMNI_CMI_TRAIN/Train/Data370.csv  \n",
            "  inflating: SMNI_CMI_TRAIN/Train/Data371.csv  \n",
            "  inflating: SMNI_CMI_TRAIN/Train/Data372.csv  \n",
            "  inflating: SMNI_CMI_TRAIN/Train/Data373.csv  \n",
            "  inflating: SMNI_CMI_TRAIN/Train/Data374.csv  \n",
            "  inflating: SMNI_CMI_TRAIN/Train/Data375.csv  \n",
            "  inflating: SMNI_CMI_TRAIN/Train/Data376.csv  \n",
            "  inflating: SMNI_CMI_TRAIN/Train/Data377.csv  \n",
            "  inflating: SMNI_CMI_TRAIN/Train/Data378.csv  \n",
            "  inflating: SMNI_CMI_TRAIN/Train/Data379.csv  \n",
            "  inflating: SMNI_CMI_TRAIN/Train/Data38.csv  \n",
            "  inflating: SMNI_CMI_TRAIN/Train/Data380.csv  \n",
            "  inflating: SMNI_CMI_TRAIN/Train/Data381.csv  \n",
            "  inflating: SMNI_CMI_TRAIN/Train/Data382.csv  \n",
            "  inflating: SMNI_CMI_TRAIN/Train/Data383.csv  \n",
            "  inflating: SMNI_CMI_TRAIN/Train/Data384.csv  \n",
            "  inflating: SMNI_CMI_TRAIN/Train/Data385.csv  \n",
            "  inflating: SMNI_CMI_TRAIN/Train/Data386.csv  \n",
            "  inflating: SMNI_CMI_TRAIN/Train/Data387.csv  \n",
            "  inflating: SMNI_CMI_TRAIN/Train/Data388.csv  \n",
            "  inflating: SMNI_CMI_TRAIN/Train/Data389.csv  \n",
            "  inflating: SMNI_CMI_TRAIN/Train/Data39.csv  \n",
            "  inflating: SMNI_CMI_TRAIN/Train/Data390.csv  \n",
            "  inflating: SMNI_CMI_TRAIN/Train/Data391.csv  \n",
            "  inflating: SMNI_CMI_TRAIN/Train/Data392.csv  \n",
            "  inflating: SMNI_CMI_TRAIN/Train/Data393.csv  \n",
            "  inflating: SMNI_CMI_TRAIN/Train/Data394.csv  \n",
            "  inflating: SMNI_CMI_TRAIN/Train/Data395.csv  \n",
            "  inflating: SMNI_CMI_TRAIN/Train/Data396.csv  \n",
            "  inflating: SMNI_CMI_TRAIN/Train/Data397.csv  \n",
            "  inflating: SMNI_CMI_TRAIN/Train/Data398.csv  \n",
            "  inflating: SMNI_CMI_TRAIN/Train/Data399.csv  \n",
            "  inflating: SMNI_CMI_TRAIN/Train/Data4.csv  \n",
            "  inflating: SMNI_CMI_TRAIN/Train/Data40.csv  \n",
            "  inflating: SMNI_CMI_TRAIN/Train/Data400.csv  \n",
            "  inflating: SMNI_CMI_TRAIN/Train/Data401.csv  \n",
            "  inflating: SMNI_CMI_TRAIN/Train/Data402.csv  \n",
            "  inflating: SMNI_CMI_TRAIN/Train/Data403.csv  \n",
            "  inflating: SMNI_CMI_TRAIN/Train/Data404.csv  \n",
            "  inflating: SMNI_CMI_TRAIN/Train/Data405.csv  \n",
            "  inflating: SMNI_CMI_TRAIN/Train/Data406.csv  \n",
            "  inflating: SMNI_CMI_TRAIN/Train/Data407.csv  \n",
            "  inflating: SMNI_CMI_TRAIN/Train/Data408.csv  \n",
            "  inflating: SMNI_CMI_TRAIN/Train/Data409.csv  \n",
            "  inflating: SMNI_CMI_TRAIN/Train/Data41.csv  \n",
            "  inflating: SMNI_CMI_TRAIN/Train/Data410.csv  \n",
            "  inflating: SMNI_CMI_TRAIN/Train/Data411.csv  \n",
            "  inflating: SMNI_CMI_TRAIN/Train/Data412.csv  \n",
            "  inflating: SMNI_CMI_TRAIN/Train/Data413.csv  \n",
            "  inflating: SMNI_CMI_TRAIN/Train/Data414.csv  \n",
            "  inflating: SMNI_CMI_TRAIN/Train/Data415.csv  \n",
            "  inflating: SMNI_CMI_TRAIN/Train/Data416.csv  \n",
            "  inflating: SMNI_CMI_TRAIN/Train/Data417.csv  \n",
            "  inflating: SMNI_CMI_TRAIN/Train/Data418.csv  \n",
            "  inflating: SMNI_CMI_TRAIN/Train/Data419.csv  \n",
            "  inflating: SMNI_CMI_TRAIN/Train/Data42.csv  \n",
            "  inflating: SMNI_CMI_TRAIN/Train/Data420.csv  \n",
            "  inflating: SMNI_CMI_TRAIN/Train/Data421.csv  \n",
            "  inflating: SMNI_CMI_TRAIN/Train/Data422.csv  \n",
            "  inflating: SMNI_CMI_TRAIN/Train/Data423.csv  \n",
            "  inflating: SMNI_CMI_TRAIN/Train/Data424.csv  \n",
            "  inflating: SMNI_CMI_TRAIN/Train/Data425.csv  \n",
            "  inflating: SMNI_CMI_TRAIN/Train/Data426.csv  \n",
            "  inflating: SMNI_CMI_TRAIN/Train/Data427.csv  \n",
            "  inflating: SMNI_CMI_TRAIN/Train/Data428.csv  \n",
            "  inflating: SMNI_CMI_TRAIN/Train/Data429.csv  \n",
            "  inflating: SMNI_CMI_TRAIN/Train/Data43.csv  \n",
            "  inflating: SMNI_CMI_TRAIN/Train/Data430.csv  \n",
            "  inflating: SMNI_CMI_TRAIN/Train/Data431.csv  \n",
            "  inflating: SMNI_CMI_TRAIN/Train/Data432.csv  \n",
            "  inflating: SMNI_CMI_TRAIN/Train/Data433.csv  \n",
            "  inflating: SMNI_CMI_TRAIN/Train/Data434.csv  \n",
            "  inflating: SMNI_CMI_TRAIN/Train/Data435.csv  \n",
            "  inflating: SMNI_CMI_TRAIN/Train/Data436.csv  \n",
            "  inflating: SMNI_CMI_TRAIN/Train/Data437.csv  \n",
            "  inflating: SMNI_CMI_TRAIN/Train/Data438.csv  \n",
            "  inflating: SMNI_CMI_TRAIN/Train/Data439.csv  \n",
            "  inflating: SMNI_CMI_TRAIN/Train/Data44.csv  \n",
            "  inflating: SMNI_CMI_TRAIN/Train/Data440.csv  \n",
            "  inflating: SMNI_CMI_TRAIN/Train/Data441.csv  \n",
            "  inflating: SMNI_CMI_TRAIN/Train/Data442.csv  \n",
            "  inflating: SMNI_CMI_TRAIN/Train/Data443.csv  \n",
            "  inflating: SMNI_CMI_TRAIN/Train/Data444.csv  \n",
            "  inflating: SMNI_CMI_TRAIN/Train/Data445.csv  \n",
            "  inflating: SMNI_CMI_TRAIN/Train/Data446.csv  \n",
            "  inflating: SMNI_CMI_TRAIN/Train/Data447.csv  \n",
            "  inflating: SMNI_CMI_TRAIN/Train/Data448.csv  \n",
            "  inflating: SMNI_CMI_TRAIN/Train/Data449.csv  \n",
            "  inflating: SMNI_CMI_TRAIN/Train/Data45.csv  \n",
            "  inflating: SMNI_CMI_TRAIN/Train/Data450.csv  \n",
            "  inflating: SMNI_CMI_TRAIN/Train/Data451.csv  \n",
            "  inflating: SMNI_CMI_TRAIN/Train/Data452.csv  \n",
            "  inflating: SMNI_CMI_TRAIN/Train/Data453.csv  \n",
            "  inflating: SMNI_CMI_TRAIN/Train/Data454.csv  \n",
            "  inflating: SMNI_CMI_TRAIN/Train/Data455.csv  \n",
            "  inflating: SMNI_CMI_TRAIN/Train/Data456.csv  \n",
            "  inflating: SMNI_CMI_TRAIN/Train/Data457.csv  \n",
            "  inflating: SMNI_CMI_TRAIN/Train/Data458.csv  \n",
            "  inflating: SMNI_CMI_TRAIN/Train/Data459.csv  \n",
            "  inflating: SMNI_CMI_TRAIN/Train/Data46.csv  \n",
            "  inflating: SMNI_CMI_TRAIN/Train/Data460.csv  \n",
            "  inflating: SMNI_CMI_TRAIN/Train/Data461.csv  \n",
            "  inflating: SMNI_CMI_TRAIN/Train/Data462.csv  \n",
            "  inflating: SMNI_CMI_TRAIN/Train/Data463.csv  \n",
            "  inflating: SMNI_CMI_TRAIN/Train/Data464.csv  \n",
            "  inflating: SMNI_CMI_TRAIN/Train/Data465.csv  \n",
            "  inflating: SMNI_CMI_TRAIN/Train/Data466.csv  \n",
            "  inflating: SMNI_CMI_TRAIN/Train/Data467.csv  \n",
            "  inflating: SMNI_CMI_TRAIN/Train/Data468.csv  \n",
            "  inflating: SMNI_CMI_TRAIN/Train/Data47.csv  \n",
            "  inflating: SMNI_CMI_TRAIN/Train/Data48.csv  \n",
            "  inflating: SMNI_CMI_TRAIN/Train/Data49.csv  \n",
            "  inflating: SMNI_CMI_TRAIN/Train/Data5.csv  \n",
            "  inflating: SMNI_CMI_TRAIN/Train/Data50.csv  \n",
            "  inflating: SMNI_CMI_TRAIN/Train/Data51.csv  \n",
            "  inflating: SMNI_CMI_TRAIN/Train/Data52.csv  \n",
            "  inflating: SMNI_CMI_TRAIN/Train/Data53.csv  \n",
            "  inflating: SMNI_CMI_TRAIN/Train/Data54.csv  \n",
            "  inflating: SMNI_CMI_TRAIN/Train/Data55.csv  \n",
            "  inflating: SMNI_CMI_TRAIN/Train/Data56.csv  \n",
            "  inflating: SMNI_CMI_TRAIN/Train/Data57.csv  \n",
            "  inflating: SMNI_CMI_TRAIN/Train/Data58.csv  \n",
            "  inflating: SMNI_CMI_TRAIN/Train/Data59.csv  \n",
            "  inflating: SMNI_CMI_TRAIN/Train/Data6.csv  \n",
            "  inflating: SMNI_CMI_TRAIN/Train/Data60.csv  \n",
            "  inflating: SMNI_CMI_TRAIN/Train/Data61.csv  \n",
            "  inflating: SMNI_CMI_TRAIN/Train/Data62.csv  \n",
            "  inflating: SMNI_CMI_TRAIN/Train/Data63.csv  \n",
            "  inflating: SMNI_CMI_TRAIN/Train/Data64.csv  \n",
            "  inflating: SMNI_CMI_TRAIN/Train/Data65.csv  \n",
            "  inflating: SMNI_CMI_TRAIN/Train/Data66.csv  \n",
            "  inflating: SMNI_CMI_TRAIN/Train/Data67.csv  \n",
            "  inflating: SMNI_CMI_TRAIN/Train/Data68.csv  \n",
            "  inflating: SMNI_CMI_TRAIN/Train/Data69.csv  \n",
            "  inflating: SMNI_CMI_TRAIN/Train/Data7.csv  \n",
            "  inflating: SMNI_CMI_TRAIN/Train/Data70.csv  \n",
            "  inflating: SMNI_CMI_TRAIN/Train/Data71.csv  \n",
            "  inflating: SMNI_CMI_TRAIN/Train/Data72.csv  \n",
            "  inflating: SMNI_CMI_TRAIN/Train/Data73.csv  \n",
            "  inflating: SMNI_CMI_TRAIN/Train/Data74.csv  \n",
            "  inflating: SMNI_CMI_TRAIN/Train/Data75.csv  \n",
            "  inflating: SMNI_CMI_TRAIN/Train/Data76.csv  \n",
            "  inflating: SMNI_CMI_TRAIN/Train/Data77.csv  \n",
            "  inflating: SMNI_CMI_TRAIN/Train/Data78.csv  \n",
            "  inflating: SMNI_CMI_TRAIN/Train/Data79.csv  \n",
            "  inflating: SMNI_CMI_TRAIN/Train/Data8.csv  \n",
            "  inflating: SMNI_CMI_TRAIN/Train/Data80.csv  \n",
            "  inflating: SMNI_CMI_TRAIN/Train/Data81.csv  \n",
            "  inflating: SMNI_CMI_TRAIN/Train/Data82.csv  \n",
            "  inflating: SMNI_CMI_TRAIN/Train/Data83.csv  \n",
            "  inflating: SMNI_CMI_TRAIN/Train/Data84.csv  \n",
            "  inflating: SMNI_CMI_TRAIN/Train/Data85.csv  \n",
            "  inflating: SMNI_CMI_TRAIN/Train/Data86.csv  \n",
            "  inflating: SMNI_CMI_TRAIN/Train/Data87.csv  \n",
            "  inflating: SMNI_CMI_TRAIN/Train/Data88.csv  \n",
            "  inflating: SMNI_CMI_TRAIN/Train/Data89.csv  \n",
            "  inflating: SMNI_CMI_TRAIN/Train/Data9.csv  \n",
            "  inflating: SMNI_CMI_TRAIN/Train/Data90.csv  \n",
            "  inflating: SMNI_CMI_TRAIN/Train/Data91.csv  \n",
            "  inflating: SMNI_CMI_TRAIN/Train/Data92.csv  \n",
            "  inflating: SMNI_CMI_TRAIN/Train/Data93.csv  \n",
            "  inflating: SMNI_CMI_TRAIN/Train/Data94.csv  \n",
            "  inflating: SMNI_CMI_TRAIN/Train/Data95.csv  \n",
            "  inflating: SMNI_CMI_TRAIN/Train/Data96.csv  \n",
            "  inflating: SMNI_CMI_TRAIN/Train/Data97.csv  \n",
            "  inflating: SMNI_CMI_TRAIN/Train/Data98.csv  \n",
            "  inflating: SMNI_CMI_TRAIN/Train/Data99.csv  \n"
          ],
          "name": "stdout"
        }
      ]
    },
    {
      "cell_type": "code",
      "metadata": {
        "id": "HEq6IZoIGNej"
      },
      "source": [
        "filenames_list = os.listdir('SMNI_CMI_TRAIN/') ## list of file names in the directory\n",
        "filenames_list = [ x for x in filenames_list if x.startswith('D')]"
      ],
      "execution_count": 12,
      "outputs": []
    },
    {
      "cell_type": "code",
      "metadata": {
        "id": "xloyWHpsPs_d"
      },
      "source": [
        "\n",
        "# removes a stray directory "
      ],
      "execution_count": null,
      "outputs": []
    },
    {
      "cell_type": "code",
      "metadata": {
        "colab": {
          "base_uri": "https://localhost:8080/"
        },
        "id": "nb6LVQ9UQA4C",
        "outputId": "e7961812-fb5b-42a1-87e6-cbe9508f0661"
      },
      "source": [
        ""
      ],
      "execution_count": null,
      "outputs": [
        {
          "output_type": "execute_result",
          "data": {
            "text/plain": [
              "1"
            ]
          },
          "metadata": {
            "tags": []
          },
          "execution_count": 17
        }
      ]
    },
    {
      "cell_type": "code",
      "metadata": {
        "id": "AQmsPL_sMtFg"
      },
      "source": [
        "\n",
        "\n",
        "EEG_data = pd.DataFrame({}) ## create an empty df that will hold data from each file\n",
        "EEG_data_control = pd.DataFrame({})\n",
        "number = 0\n",
        "\n",
        "\n",
        "for file_name in filenames_list:\n",
        "    temp_df = pd.read_csv('SMNI_CMI_TRAIN/Train/' + file_name, engine = 'c') ## read from the file to df\n",
        "    number += 1\n",
        "    \n",
        "    if 'a' in temp_df['subject identifier'].values: # For alcoholic group\n",
        "                    \n",
        "        EEG_data = EEG_data.append(temp_df) ## add the file data to the main df\n",
        "        \n",
        "        \n",
        "    if 'c' in temp_df['subject identifier'].values: # For control group\n",
        "                    \n",
        "        EEG_data_control = EEG_data_control.append(temp_df) ## add the file data to the main df\n",
        "\n",
        "\n",
        "\n"
      ],
      "execution_count": 13,
      "outputs": []
    },
    {
      "cell_type": "code",
      "metadata": {
        "id": "eMzxiVcyRF-S"
      },
      "source": [
        "EEG_data = EEG_data.drop(['Unnamed: 0'], axis=1)\n"
      ],
      "execution_count": 16,
      "outputs": []
    },
    {
      "cell_type": "code",
      "metadata": {
        "id": "-xFFf3i9RRPx"
      },
      "source": [
        "EEG_data.loc[EEG_data['matching condition'] == 'S2 nomatch,', 'matching condition'] =  'S2 nomatch' ## remove comma sign from stimulus name  \n",
        "\n",
        "## replace some 'sensor position' values\n",
        "EEG_data.loc[EEG_data['sensor position'] == 'AF1', 'sensor position'] = 'AF3'\n",
        "EEG_data.loc[EEG_data['sensor position'] == 'AF2', 'sensor position'] = 'AF4'\n",
        "EEG_data.loc[EEG_data['sensor position'] == 'PO1', 'sensor position'] = 'PO3'\n",
        "EEG_data.loc[EEG_data['sensor position'] == 'PO2', 'sensor position'] = 'PO4'\n",
        "\n",
        "EEG_data.loc[EEG_data['sensor position'] == 'FP1', 'sensor position'] = 'Fp1'\n",
        "EEG_data.loc[EEG_data['sensor position'] == 'FP2', 'sensor position'] = 'Fp2'\n",
        "EEG_data.loc[EEG_data['sensor position'] == 'CPZ', 'sensor position'] = 'CPz'\n",
        "EEG_data.loc[EEG_data['sensor position'] == 'FZ', 'sensor position'] = 'Fz'\n",
        "\n",
        "EEG_data.loc[EEG_data['sensor position'] == 'CZ', 'sensor position'] = 'Cz' ## exclusion of this position because it has a systematically extrem value\n",
        "\n",
        "EEG_data.loc[EEG_data['sensor position'] == 'PZ', 'sensor position'] = 'Pz'\n",
        "EEG_data.loc[EEG_data['sensor position'] == 'FPZ', 'sensor position'] = 'Fpz'\n",
        "EEG_data.loc[EEG_data['sensor position'] == 'AFZ', 'sensor position'] = 'AFz'\n",
        "EEG_data.loc[EEG_data['sensor position'] == 'FCZ', 'sensor position'] = 'FCz'\n",
        "\n",
        "EEG_data.loc[EEG_data['sensor position'] == 'POZ', 'sensor position'] = 'POz'\n",
        "EEG_data.loc[EEG_data['sensor position'] == 'OZ', 'sensor position'] = 'Oz'"
      ],
      "execution_count": 17,
      "outputs": []
    },
    {
      "cell_type": "code",
      "metadata": {
        "id": "M1R1VQ3ORk6i"
      },
      "source": [
        "###same for control\n",
        "\n",
        "EEG_data_control = EEG_data_control.drop(['Unnamed: 0'], axis=1) ## remove the unused column\n",
        "EEG_data_control.loc[EEG_data_control['matching condition'] == 'S2 nomatch,', 'matching condition'] =  'S2 nomatch' ## remove comma sign from stimulus name    \n",
        "## replace some 'sensor position' values\n",
        "EEG_data_control.loc[EEG_data_control['sensor position'] == 'AF1', 'sensor position'] = 'AF3'\n",
        "EEG_data_control.loc[EEG_data_control['sensor position'] == 'AF2', 'sensor position'] = 'AF4'\n",
        "EEG_data_control.loc[EEG_data_control['sensor position'] == 'PO1', 'sensor position'] = 'PO3'\n",
        "EEG_data_control.loc[EEG_data_control['sensor position'] == 'PO2', 'sensor position'] = 'PO4'\n",
        "\n",
        "EEG_data_control.loc[EEG_data_control['sensor position'] == 'FP1', 'sensor position'] = 'Fp1'\n",
        "EEG_data_control.loc[EEG_data_control['sensor position'] == 'FP2', 'sensor position'] = 'Fp2'\n",
        "EEG_data_control.loc[EEG_data_control['sensor position'] == 'CPZ', 'sensor position'] = 'CPz'\n",
        "EEG_data_control.loc[EEG_data_control['sensor position'] == 'FZ', 'sensor position'] = 'Fz'\n",
        "\n",
        "EEG_data_control.loc[EEG_data_control['sensor position'] == 'CZ', 'sensor position'] = 'Cz' ## exclusion of this position because it has a systematically extrem value\n",
        "\n",
        "EEG_data_control.loc[EEG_data_control['sensor position'] == 'PZ', 'sensor position'] = 'Pz'\n",
        "EEG_data_control.loc[EEG_data_control['sensor position'] == 'FPZ', 'sensor position'] = 'Fpz'\n",
        "EEG_data_control.loc[EEG_data_control['sensor position'] == 'AFZ', 'sensor position'] = 'AFz'\n",
        "EEG_data_control.loc[EEG_data_control['sensor position'] == 'FCZ', 'sensor position'] = 'FCz'\n",
        "\n",
        "EEG_data_control.loc[EEG_data_control['sensor position'] == 'POZ', 'sensor position'] = 'POz'\n",
        "EEG_data_control.loc[EEG_data_control['sensor position'] == 'OZ', 'sensor position'] = 'Oz'"
      ],
      "execution_count": 18,
      "outputs": []
    },
    {
      "cell_type": "code",
      "metadata": {
        "id": "NAyMKsuyRqv6"
      },
      "source": [
        "Alc_base = EEG_data['trial number'].unique()\n",
        "Con_base = EEG_data_control['trial number'].unique()"
      ],
      "execution_count": 15,
      "outputs": []
    },
    {
      "cell_type": "code",
      "metadata": {
        "colab": {
          "base_uri": "https://localhost:8080/"
        },
        "id": "_VlWut-ATm78",
        "outputId": "0ab995a6-b9c7-4b97-c0d4-431143c8d113"
      },
      "source": [
        "Alc_base"
      ],
      "execution_count": 20,
      "outputs": [
        {
          "output_type": "execute_result",
          "data": {
            "text/plain": [
              "array([15, 13, 18,  0, 16, 14,  9, 22, 21, 23, 47,  6, 37, 19, 20, 35, 10, 33, 31, 17,  5, 39, 12, 25,  8, 41, 11, 27, 29,  2, 55,  3, 51,  7, 24,  4, 28, 45, 43, 49, 57, 59, 61, 26, 71, 65])"
            ]
          },
          "metadata": {
            "tags": []
          },
          "execution_count": 20
        }
      ]
    },
    {
      "cell_type": "code",
      "metadata": {
        "colab": {
          "base_uri": "https://localhost:8080/",
          "height": 223
        },
        "id": "bSca6PBgTtX6",
        "outputId": "6877ae6f-fc0c-4d8f-a094-74657ead6e8a"
      },
      "source": [
        "EEG_data[EEG_data['trial number'] == 7].head()"
      ],
      "execution_count": 162,
      "outputs": [
        {
          "output_type": "execute_result",
          "data": {
            "text/html": [
              "<div>\n",
              "<style scoped>\n",
              "    .dataframe tbody tr th:only-of-type {\n",
              "        vertical-align: middle;\n",
              "    }\n",
              "\n",
              "    .dataframe tbody tr th {\n",
              "        vertical-align: top;\n",
              "    }\n",
              "\n",
              "    .dataframe thead th {\n",
              "        text-align: right;\n",
              "    }\n",
              "</style>\n",
              "<table border=\"1\" class=\"dataframe\">\n",
              "  <thead>\n",
              "    <tr style=\"text-align: right;\">\n",
              "      <th></th>\n",
              "      <th>trial number</th>\n",
              "      <th>sensor position</th>\n",
              "      <th>sample num</th>\n",
              "      <th>sensor value</th>\n",
              "      <th>subject identifier</th>\n",
              "      <th>matching condition</th>\n",
              "      <th>channel</th>\n",
              "      <th>name</th>\n",
              "      <th>time</th>\n",
              "    </tr>\n",
              "  </thead>\n",
              "  <tbody>\n",
              "    <tr>\n",
              "      <th>0</th>\n",
              "      <td>7</td>\n",
              "      <td>Fp1</td>\n",
              "      <td>0</td>\n",
              "      <td>12.838</td>\n",
              "      <td>a</td>\n",
              "      <td>S2 nomatch</td>\n",
              "      <td>0</td>\n",
              "      <td>co2a0000371</td>\n",
              "      <td>0.000000</td>\n",
              "    </tr>\n",
              "    <tr>\n",
              "      <th>1</th>\n",
              "      <td>7</td>\n",
              "      <td>Fp1</td>\n",
              "      <td>1</td>\n",
              "      <td>127.584</td>\n",
              "      <td>a</td>\n",
              "      <td>S2 nomatch</td>\n",
              "      <td>0</td>\n",
              "      <td>co2a0000371</td>\n",
              "      <td>0.003906</td>\n",
              "    </tr>\n",
              "    <tr>\n",
              "      <th>2</th>\n",
              "      <td>7</td>\n",
              "      <td>Fp1</td>\n",
              "      <td>2</td>\n",
              "      <td>111.959</td>\n",
              "      <td>a</td>\n",
              "      <td>S2 nomatch</td>\n",
              "      <td>0</td>\n",
              "      <td>co2a0000371</td>\n",
              "      <td>0.007812</td>\n",
              "    </tr>\n",
              "    <tr>\n",
              "      <th>3</th>\n",
              "      <td>7</td>\n",
              "      <td>Fp1</td>\n",
              "      <td>3</td>\n",
              "      <td>-7.670</td>\n",
              "      <td>a</td>\n",
              "      <td>S2 nomatch</td>\n",
              "      <td>0</td>\n",
              "      <td>co2a0000371</td>\n",
              "      <td>0.011719</td>\n",
              "    </tr>\n",
              "    <tr>\n",
              "      <th>4</th>\n",
              "      <td>7</td>\n",
              "      <td>Fp1</td>\n",
              "      <td>4</td>\n",
              "      <td>-79.936</td>\n",
              "      <td>a</td>\n",
              "      <td>S2 nomatch</td>\n",
              "      <td>0</td>\n",
              "      <td>co2a0000371</td>\n",
              "      <td>0.015625</td>\n",
              "    </tr>\n",
              "  </tbody>\n",
              "</table>\n",
              "</div>"
            ],
            "text/plain": [
              "   trial number sensor position  sample num  sensor value subject identifier  \\\n",
              "0             7             Fp1           0        12.838                  a   \n",
              "1             7             Fp1           1       127.584                  a   \n",
              "2             7             Fp1           2       111.959                  a   \n",
              "3             7             Fp1           3        -7.670                  a   \n",
              "4             7             Fp1           4       -79.936                  a   \n",
              "\n",
              "  matching condition  channel         name      time  \n",
              "0         S2 nomatch        0  co2a0000371  0.000000  \n",
              "1         S2 nomatch        0  co2a0000371  0.003906  \n",
              "2         S2 nomatch        0  co2a0000371  0.007812  \n",
              "3         S2 nomatch        0  co2a0000371  0.011719  \n",
              "4         S2 nomatch        0  co2a0000371  0.015625  "
            ]
          },
          "metadata": {
            "tags": []
          },
          "execution_count": 162
        }
      ]
    },
    {
      "cell_type": "code",
      "metadata": {
        "colab": {
          "base_uri": "https://localhost:8080/"
        },
        "id": "oaTw4gN3eBwc",
        "outputId": "1f156230-933b-41d8-ab83-02319663f629"
      },
      "source": [
        "len(Con_base)"
      ],
      "execution_count": null,
      "outputs": [
        {
          "output_type": "execute_result",
          "data": {
            "text/plain": [
              "61"
            ]
          },
          "metadata": {
            "tags": []
          },
          "execution_count": 56
        }
      ]
    },
    {
      "cell_type": "code",
      "metadata": {
        "id": "B3jZmvAjUCFR"
      },
      "source": [
        "\n",
        "#lstp_Alc1 = int(round((len(Alc_base)/100)*33.33))\n",
        "#lstp_Alc2 = int(round((len(Alc_base)/100)*66.66))\n",
        "\n",
        "lstp_Alc1 = int(round((len(Alc_base)/100)*0.00))\n",
        "lstp_Alc2 = int(round((len(Alc_base)/100)*95.00))\n",
        "\n",
        "Alc_train_extractor = Alc_base #[:lstp_Alc1]\n",
        "Alc_train_classifier =Alc_base#[lstp_Alc1:lstp_Alc2]\n",
        "Alc_test = Alc_base[lstp_Alc2:]\n",
        "\n",
        "#Alc_group  # ORIGINAL CODE\n",
        "#lstp_Con1 = int(round((len(Con_base)/100)*33.33))\n",
        "#lstp_Con2 = int(round((len(Con_base)/100)*66.66))\n",
        "\n",
        "lstp_Con1 = int(round((len(Con_base)/100)*0.00))\n",
        "lstp_Con2 = int(round((len(Con_base)/100)*95.00))\n",
        "\n",
        "\n",
        "Con_train_extractor = Con_base[:lstp_Con1]\n",
        "Con_train_classifier = Con_base[lstp_Con1:lstp_Con2]\n",
        "Con_test = Con_base[lstp_Con2:]\n",
        "\n"
      ],
      "execution_count": 27,
      "outputs": []
    },
    {
      "cell_type": "code",
      "metadata": {
        "id": "dHL3cGScr7X4"
      },
      "source": [
        "Con_group = Con_base\n",
        "Alc_group = Alc_base"
      ],
      "execution_count": 21,
      "outputs": []
    },
    {
      "cell_type": "code",
      "metadata": {
        "id": "NBtIrPEuU7TI"
      },
      "source": [
        ""
      ],
      "execution_count": 21,
      "outputs": []
    },
    {
      "cell_type": "code",
      "metadata": {
        "id": "x2lPuObjU_4_"
      },
      "source": [
        "# input the dataframes into it"
      ],
      "execution_count": 22,
      "outputs": []
    },
    {
      "cell_type": "code",
      "metadata": {
        "id": "nlkWNvVqVDI_"
      },
      "source": [
        "\n",
        "def trialfunction(input_data):\n",
        "    \n",
        "    trials_dic = {}\n",
        "    \n",
        "    dbc = 0\n",
        "    \n",
        "    if Alc_train_extractor.shape == Con_train_extractor.shape:\n",
        "        \n",
        "        print('Same shape error:')\n",
        "        print(X_train.shape)\n",
        "        print(y_train.shape)\n",
        "        raise SystemExit \n",
        "    \n",
        "    if (input_data.shape == Alc_train_extractor.shape) or (input_data.shape == Alc_train_classifier.shape) or (input_data.shape == Alc_test.shape):\n",
        "        dbc = EEG_data\n",
        "        \n",
        "        \n",
        "    if (input_data.shape == Con_train_extractor.shape) or (input_data.shape == Con_train_classifier.shape) or (input_data.shape == Con_test.shape):\n",
        "        dbc = EEG_data_control\n",
        "        \n",
        "    \n",
        "    for pos in input_data:               \n",
        "        \n",
        "        Trial = dbc.loc[dbc['trial number'] == pos]\n",
        "    \n",
        "        columns =['channel','time', 'sensor value']\n",
        " \n",
        "        Trial = Trial.pivot_table(index='channel', columns='time', values = 'sensor value')\n",
        "    \n",
        "        trials_dic[pos] = Trial\n",
        "\n",
        "\n",
        "\n",
        "    RGB_dic = {}\n",
        "    \n",
        " \n",
        "\n",
        "    for key in trials_dic:\n",
        "        data = trials_dic.get(key)\n",
        "\n",
        "        # Get real amplitudes of FFT (only in postive frequencies)\n",
        "\n",
        "        fft_raw = fft(data)\n",
        "\n",
        "        fft_vals = np.absolute(fft_raw)\n",
        "\n",
        "        fft_vals = normalize(fft_vals, axis=1)\n",
        "\n",
        "        # Get frequencies for amplitudes in Hz\n",
        "\n",
        "        fs = 256    # Sampling rate\n",
        "\n",
        "        fft_freq = fftfreq(fs, 1.0/fs)\n",
        "\n",
        "        # Define EEG bands\n",
        "        eeg_bands = {'Theta': (4, 7),\n",
        "                 'Alpha': (8, 12),\n",
        "                 'Beta': (13, 30),\n",
        "                 }\n",
        "    \n",
        "        # Take the  sum of squared absolute values/amplitudes for each EEG band\n",
        "\n",
        "        eeg_band_fft = defaultdict(list)\n",
        "\n",
        "        for band in eeg_bands:  \n",
        "        \n",
        "    \n",
        "            freq_ix = np.where((fft_freq >= eeg_bands[band][0]) & \n",
        "                               (fft_freq <= eeg_bands[band][1]))[0]\n",
        "    \n",
        "\n",
        "           \n",
        "            for channel in fft_vals:\n",
        "        \n",
        "                filterdch = channel[freq_ix]\n",
        "               \n",
        "                sqdvals = np.square(filterdch)\n",
        "               \n",
        "                sumvals = np.sum(sqdvals, axis=0)\n",
        "                \n",
        "                eeg_band_fft[band].append(sumvals)\n",
        "               \n",
        "\n",
        "\n",
        "\n",
        "        extracted_df =  pd.DataFrame(eeg_band_fft)\n",
        "\n",
        "    \n",
        "   \n",
        "\n",
        "        neeg = EEG_data.drop(columns=['matching condition','name','trial number', 'subject identifier','time', 'sample num', 'sensor value'])\n",
        "\n",
        "        neeg = neeg.drop_duplicates()\n",
        "\n",
        "\n",
        "        #get names of source elctrodes:\n",
        "\n",
        "        extracted_df = extracted_df.reset_index(drop=True)\n",
        "        neeg = neeg.reset_index(drop=True)\n",
        "\n",
        "\n",
        "\n",
        "        e_names =  neeg\n",
        "        e_names = e_names.rename(columns = {'sensor position' : 0})\n",
        "\n",
        "\n",
        "\n",
        "        extracted_df = extracted_df.join(neeg)\n",
        "\n",
        "\n",
        "        #get coordinates in 3d from robertoostenveld.nl/electrodes/plotting_1005.txt\n",
        "\n",
        "        coords = pd.read_csv('/home/james/plotting_1005.txt', sep='\\t',  header = None)\n",
        "\n",
        "        coords = coords.drop(coords.columns[4], axis=1)\n",
        "\n",
        "        #print(coords)\n",
        "        testerd = pd.merge(e_names, coords, on=0,  how='inner')\n",
        "\n",
        "\n",
        "        testerd.set_index('channel', inplace=True)\n",
        "\n",
        "        testerd.columns = ['pos','x', 'y', 'z']\n",
        "\n",
        "\n",
        "        extracted_df = extracted_df.rename(columns={'sensor position': \"pos\"})\n",
        "\n",
        "        #filter values and coordinates\n",
        "        extracted_df = pd.merge(extracted_df, testerd, on=\"pos\", how='inner')\n",
        "        extracted_df = extracted_df.drop(['x','y','z'], axis=1)\n",
        "        extracted_df.set_index('channel', inplace=True)\n",
        "\n",
        "        extracted_df = extracted_df.drop(columns=['pos'])\n",
        "        extracted_df.index.names = ['pos']\n",
        "\n",
        "      \n",
        "        #adapted from https://www.samuelbosch.com/2014/02/azimuthal-equidistant-projection.html\n",
        "\n",
        "        class Point(object):\n",
        "            def __init__(self,x, y, z):\n",
        "                self.x = x\n",
        "                self.y = y\n",
        "                self.z = z\n",
        "\n",
        "        class AzimuthalEquidistantProjection(object):\n",
        "            \"\"\" \n",
        "                http://mathworld.wolfram.com/AzimuthalEquidistantProjection.html\n",
        "                http://mathworld.wolfram.com/SphericalCoordinates.html\n",
        "            \"\"\"\n",
        "            def __init__(self):\n",
        "    \n",
        "                self.t1 = pi / 2 ## polar latitude center of projection , https://en.wikipedia.org/wiki/Azimuthal_equidistant_projection\n",
        "                self.l0 = 0 ## arbitrary longitude center of projection\n",
        "                self.cost1 = cos(self.t1)\n",
        "                self.sint1 = sin(self.t1)\n",
        "        \n",
        "            def project(self, point):\n",
        "        \n",
        "                #ADDAPTED FOR 3D CARTESIAN TO SPHERICAL \n",
        "        \n",
        "                hxy = np.hypot(point.x, point.y)\n",
        "        \n",
        "                t = np.arctan2(point.z, hxy)\n",
        "                l = np.arctan2(point.y, point.x)\n",
        "        \n",
        "                ###\n",
        "        \n",
        "                costcosll0 = cos(t) * cos(l-self.l0)\n",
        "                sint = sin(t)\n",
        "        \n",
        "                c = acos ((self.sint1) * (sint) + (self.cost1) * costcosll0)\n",
        "                k = c / sin(c)\n",
        "        \n",
        "                x = k * cos(t) * sin(l-self.l0)\n",
        "                y = k * (self.cost1 * sint - self.sint1 * costcosll0)\n",
        "                return x, y\n",
        "\n",
        "\n",
        "        \n",
        "        #Projection df\n",
        "\n",
        "        projected_df =  pd.DataFrame()\n",
        "\n",
        "        for index, row in testerd.iterrows():\n",
        "    \n",
        "            x = row['x']\n",
        "            y = row['y']\n",
        "            z = row['z']\n",
        "    \n",
        "    \n",
        "            p = AzimuthalEquidistantProjection()\n",
        "            r = p.project(Point(x,y,z))\n",
        "    \n",
        "            r = pd.Series(r)\n",
        "    \n",
        "            projected_df = projected_df.append(r,ignore_index=True)\n",
        "    \n",
        "\n",
        "        projected_df =  projected_df.rename(columns={0: 'X',1: 'Y'})\n",
        "\n",
        "\n",
        "        ###map coodinate with valuies\n",
        "\n",
        "        new_df = projected_df.join(extracted_df)\n",
        "        new_df = new_df.drop([31]) # drop row because i contains no values\n",
        "        #print(new_df)\n",
        "\n",
        "        Theta_df = new_df.drop(['Alpha','Beta','X','Y'], axis=1)\n",
        "        Alpha_df = new_df.drop(['Theta','Beta','X','Y'], axis=1)\n",
        "        Beta_df = new_df.drop(['Theta','Alpha','X','Y'], axis=1)\n",
        "        \n",
        "\n",
        "        #map onto mesh\n",
        "\n",
        "        xpoints = np.array(new_df[['X']].squeeze())\n",
        "        ypoints = np.array(new_df[['Y']].squeeze())\n",
        "\n",
        "        Thetavalues = np.array(Theta_df).squeeze()\n",
        "        Alphavalues = np.array(Alpha_df).squeeze()\n",
        "        Betavalues = np.array(Beta_df).squeeze()\n",
        "        \n",
        "\n",
        "        xx,yy = np.mgrid[-1.5:1.5:32j, -1.5:1.5:32j]\n",
        "\n",
        "        Thetavalues = minmax_scale(Thetavalues,feature_range=(0.0, 1.0), axis=0)\n",
        "        Alphavalues = minmax_scale(Alphavalues,feature_range=(0.0, 1.0), axis=0)\n",
        "        Betavalues = minmax_scale(Betavalues,feature_range=(0.0, 1.0), axis=0)\n",
        "\n",
        "\n",
        "        Thetagrid = griddata((xpoints, ypoints), Thetavalues, (xx, yy),method='cubic', fill_value = 0.0)\n",
        "        Alphagrid = griddata((xpoints, ypoints), Alphavalues, (xx, yy),method='cubic', fill_value = 0.0)\n",
        "        Betagrid = griddata((xpoints, ypoints), Betavalues, (xx, yy),method='cubic', fill_value = 0.0)\n",
        "     \n",
        "\n",
        "        ##RGB construction\n",
        "\n",
        "        RGB = np.empty((32, 32, 3))\n",
        "\n",
        "        RGB[:,:,0] = Thetagrid\n",
        "        RGB[:,:,1] = Alphagrid\n",
        "        RGB[:,:,2] = Betagrid\n",
        "    \n",
        "    \n",
        "    \n",
        "        RGB_dic[key] = RGB\n",
        "\n",
        "\n",
        "        \n",
        "    ##creating new dict with new keys\n",
        "\n",
        "    lendict = len(RGB_dic)\n",
        "    #print('lendict: ',lendict)\n",
        "\n",
        "    lenlist=np.arange(0,lendict)\n",
        "\n",
        "    #print(lenlist)\n",
        "\n",
        "    final_dict = dict(zip(lenlist, list(RGB_dic.values()))) \n",
        "    \n",
        "    \n",
        "    return final_dict"
      ],
      "execution_count": 23,
      "outputs": []
    },
    {
      "cell_type": "code",
      "metadata": {
        "id": "bpDBaEwDWDia"
      },
      "source": [
        "class EEGRGBDataset(Dataset):\n",
        "\n",
        "    def __init__(self, file, transform=None):\n",
        "        \n",
        "        self.file = file\n",
        "        self.transform = transform\n",
        "        \n",
        "    def __len__(self):\n",
        "        return len(self.file)\n",
        "\n",
        "\n",
        "    def __getitem__(self, idx): \n",
        "          \n",
        "        sample = self.file[idx]\n",
        "        \n",
        "        if self.transform:\n",
        "            sample = self.transform(sample)\n",
        "            \n",
        "        return sample\n",
        "\n",
        "####Tensor transform\n",
        "\n",
        "\n",
        "class ToTensor(object):\n",
        "    def __call__(self, sample):\n",
        "\n",
        "        sample = sample.transpose((2, 0, 1))\n",
        "        sample = torch.tensor(sample, dtype = torch.float, device = device)\n",
        "\n",
        "        return sample "
      ],
      "execution_count": 24,
      "outputs": []
    },
    {
      "cell_type": "code",
      "metadata": {
        "id": "_uoOP2nfu1mq"
      },
      "source": [
        "#alc_dict = trialfunction(Alc_group)\n",
        "#con_dict  = trialfunction(Con_group)"
      ],
      "execution_count": 163,
      "outputs": []
    },
    {
      "cell_type": "code",
      "metadata": {
        "id": "eJJ9z21RW9lz"
      },
      "source": [
        "### Function Call\n",
        "\n",
        "final_dict1 = trialfunction(Alc_train_extractor)\n",
        "final_dict2 = trialfunction(Con_train_extractor)\n",
        "final_dict3 = trialfunction(Alc_train_classifier)\n",
        "final_dict4 = trialfunction(Con_train_classifier)    \n",
        "final_dict5 = trialfunction(Alc_test)\n",
        "final_dict6 = trialfunction(Con_test)\n",
        "\n",
        "##\n",
        "\n",
        "eeg_dataset1 = EEGRGBDataset(final_dict1)\n",
        "eeg_dataset2 = EEGRGBDataset(final_dict2)\n",
        "\n",
        "eeg_dataset3 = EEGRGBDataset(final_dict3)\n",
        "eeg_dataset4 = EEGRGBDataset(final_dict4)\n",
        "\n",
        "eeg_dataset5 = EEGRGBDataset(final_dict5)\n",
        "eeg_dataset6 = EEGRGBDataset(final_dict6)\n",
        "\n",
        "##\n",
        "    \n",
        "transformed_dataset1 = EEGRGBDataset(eeg_dataset1, transform=transforms.Compose([ToTensor()]))\n",
        "transformed_dataset2 = EEGRGBDataset(eeg_dataset2, transform=transforms.Compose([ToTensor()]))\n",
        "\n",
        "transformed_dataset3 = EEGRGBDataset(eeg_dataset3, transform=transforms.Compose([ToTensor()]))\n",
        "transformed_dataset4 = EEGRGBDataset(eeg_dataset4, transform=transforms.Compose([ToTensor()]))\n",
        "\n",
        "transformed_dataset5 = EEGRGBDataset(eeg_dataset5, transform=transforms.Compose([ToTensor()]))\n",
        "transformed_dataset6 = EEGRGBDataset(eeg_dataset6, transform=transforms.Compose([ToTensor()]))"
      ],
      "execution_count": 29,
      "outputs": []
    },
    {
      "cell_type": "code",
      "metadata": {
        "id": "_rpeF_09czjz"
      },
      "source": [
        "final_dict1 = trialfunction(Alc_train_extractor)\n",
        "final_dict2 = trialfunction(Con_train_extractor)\n",
        "final_dict3 = trialfunction(Alc_train_classifier)\n",
        "final_dict4 = trialfunction(Con_train_classifier)    \n",
        "final_dict5 = trialfunction(Alc_test)\n",
        "final_dict6 = trialfunction(Con_test)"
      ],
      "execution_count": null,
      "outputs": []
    },
    {
      "cell_type": "code",
      "metadata": {
        "id": "Ojxs-KBMwIuK"
      },
      "source": [
        "alc_group  = {**final_dict1, **final_dict3,**final_dict5}\n",
        "con_group =  {**final_dict2, **final_dict4,**final_dict6}"
      ],
      "execution_count": 30,
      "outputs": []
    },
    {
      "cell_type": "code",
      "metadata": {
        "id": "cft_2AzSc-gK"
      },
      "source": [
        "# Converting and saving to images\n",
        "from PIL import Image\n",
        "\n",
        "# See why there are so few images\n"
      ],
      "execution_count": 31,
      "outputs": []
    },
    {
      "cell_type": "code",
      "metadata": {
        "colab": {
          "base_uri": "https://localhost:8080/"
        },
        "id": "byp7bJ5lxRU-",
        "outputId": "ce2e93f5-9fc5-44e0-bdc1-9a011ea655ce"
      },
      "source": [
        "# Changing the directory\n",
        "\n",
        "\n",
        "!mkdir /home/james/EEG_Images\n",
        "%cd /home/james/EEG_Images\n"
      ],
      "execution_count": 34,
      "outputs": [
        {
          "output_type": "stream",
          "text": [
            "/home/james/EEG_Images\n"
          ],
          "name": "stdout"
        }
      ]
    },
    {
      "cell_type": "code",
      "metadata": {
        "id": "KHLwygdGxpcH"
      },
      "source": [
        "!mkdir /home/james/EEG_Images/Alc\n",
        "!mkdir /home/james/EEG_Images/Con"
      ],
      "execution_count": 35,
      "outputs": []
    },
    {
      "cell_type": "code",
      "metadata": {
        "id": "uypMWPbmyTeM"
      },
      "source": [
        ""
      ],
      "execution_count": 92,
      "outputs": []
    },
    {
      "cell_type": "code",
      "metadata": {
        "id": "wQ8esKEp0z69"
      },
      "source": [
        ""
      ],
      "execution_count": null,
      "outputs": []
    },
    {
      "cell_type": "code",
      "metadata": {
        "id": "pQUWiFP1yWvh"
      },
      "source": [
        ""
      ],
      "execution_count": 92,
      "outputs": []
    },
    {
      "cell_type": "code",
      "metadata": {
        "id": "c3m7HoFgxYI_"
      },
      "source": [
        "def save_array_as_image(inputDict,is_alc):\n",
        " # for i, (key,value) in enumerate(inputDict.items()):\n",
        "  if is_alc == True:\n",
        "     is_alc = '_alc'\n",
        "  else:\n",
        "     is_alc = '_con'\n",
        "\n",
        "  for k,v in inputDict.items():\n",
        "    imName = str(k) + is_alc + '.jpg'\n",
        "    im = Image.fromarray((v * 255).astype(np.uint8))\n",
        "    im.save(imName)"
      ],
      "execution_count": 88,
      "outputs": []
    },
    {
      "cell_type": "code",
      "metadata": {
        "colab": {
          "base_uri": "https://localhost:8080/"
        },
        "id": "Qhlu3Tt77afj",
        "outputId": "16d6441b-5e85-448e-f110-55b3666d892a"
      },
      "source": [
        "%cd /home/james/EEG_Images/Con\n",
        "save_array_as_image(con_group,is_alc=False)"
      ],
      "execution_count": 91,
      "outputs": [
        {
          "output_type": "stream",
          "text": [
            "/home/james/EEG_Images/Con\n"
          ],
          "name": "stdout"
        }
      ]
    },
    {
      "cell_type": "code",
      "metadata": {
        "colab": {
          "base_uri": "https://localhost:8080/"
        },
        "id": "-bwUgnic8YXN",
        "outputId": "dfd51dbb-d423-4b4a-847a-de80cf928713"
      },
      "source": [
        "%cd /home/james/EEG_Images/Alc\n",
        "save_array_as_image(con_group,is_alc=True)"
      ],
      "execution_count": 92,
      "outputs": [
        {
          "output_type": "stream",
          "text": [
            "/home/james/EEG_Images/Alc\n"
          ],
          "name": "stdout"
        }
      ]
    },
    {
      "cell_type": "code",
      "metadata": {
        "id": "HT9S5pdkHfGV"
      },
      "source": [
        "# Using oversampling to correct unbalanced classes \n",
        "# \n",
        "\n",
        "def double_control_images(inputDict):\n",
        " # for i, (key,value) in enumerate(inputDict.items()):\n",
        "\n",
        "  for k,v in inputDict.items():\n",
        "    imName = str(k) + '_control_duplicate.jpg'\n",
        "    im = Image.fromarray((v * 255).astype(np.uint8))\n",
        "    im.save(imName)"
      ],
      "execution_count": 114,
      "outputs": []
    },
    {
      "cell_type": "code",
      "metadata": {
        "id": "sWDDRSuEHt8Q"
      },
      "source": [
        "%cd /home/james/EEG_Images/Con\n",
        "double_control_images(con_group)"
      ],
      "execution_count": null,
      "outputs": []
    },
    {
      "cell_type": "markdown",
      "metadata": {
        "id": "3vKEm8RS8mbz"
      },
      "source": [
        "# Start FastAI"
      ]
    },
    {
      "cell_type": "code",
      "metadata": {
        "colab": {
          "base_uri": "https://localhost:8080/"
        },
        "id": "ZZ4BUSVi4HdT",
        "outputId": "04bff69c-aa7d-405a-dbb9-4c8db005f474"
      },
      "source": [
        "###### Start FastAI\n",
        "%cd /home/james/\n",
        "\n",
        "root_dir = \"/home/james/EEG_Images\"\n",
        "EEG_Con_Path = os.path.join(root_dir,'Con')\n",
        "EEG_Alc_Path = os.path.join(root_dir,'Alc')\n",
        "\n",
        "List_EEG_Con = [os.path.join(EEG_Con_Path, f) for f in os.listdir(EEG_Con_Path)]\n",
        "List_EEG_Alc = [os.path.join(EEG_Alc_Path, f) for f in os.listdir(EEG_Alc_Path)]\n"
      ],
      "execution_count": 112,
      "outputs": [
        {
          "output_type": "stream",
          "text": [
            "/home/james\n"
          ],
          "name": "stdout"
        }
      ]
    },
    {
      "cell_type": "code",
      "metadata": {
        "colab": {
          "base_uri": "https://localhost:8080/"
        },
        "id": "kjIAkMhD4P2y",
        "outputId": "5e489e18-7880-4acd-c56b-cc511ca13ec2"
      },
      "source": [
        "NumOfControlImages = len(List_EEG_Con) \n",
        "NumOfAlchImages = len(List_EEG_Alc) \n",
        "\n",
        "print(f'Control Group size {NumOfControlImages}')\n",
        "print(f'Alcholic Group size: {NumOfAlchImages}')"
      ],
      "execution_count": 113,
      "outputs": [
        {
          "output_type": "stream",
          "text": [
            "Control Group size 116\n",
            "Alcholic Group size: 117\n"
          ],
          "name": "stdout"
        }
      ]
    },
    {
      "cell_type": "code",
      "metadata": {
        "colab": {
          "base_uri": "https://localhost:8080/",
          "height": 49
        },
        "id": "Y2d91Op95u52",
        "outputId": "5f3c5d30-e6b1-4eb7-da71-20423cbbba85"
      },
      "source": [
        "picked_image = 3\n",
        "im = Image.open(List_EEG_Alc[picked_image])\n",
        "im.to_thumb(,64)"
      ],
      "execution_count": 116,
      "outputs": [
        {
          "output_type": "execute_result",
          "data": {
            "image/png": "[encoded data removed]",
            "text/plain": [
              "<PIL.Image.Image image mode=RGB size=32x32 at 0x7FD384824450>"
            ]
          },
          "metadata": {
            "tags": []
          },
          "execution_count": 116
        }
      ]
    },
    {
      "cell_type": "code",
      "metadata": {
        "colab": {
          "base_uri": "https://localhost:8080/"
        },
        "id": "a82hy__NHE10",
        "outputId": "95b320b6-c437-4878-f308-24b126925f9b"
      },
      "source": [
        "example.shape"
      ],
      "execution_count": 131,
      "outputs": [
        {
          "output_type": "execute_result",
          "data": {
            "text/plain": [
              "(32, 32, 3)"
            ]
          },
          "metadata": {
            "tags": []
          },
          "execution_count": 131
        }
      ]
    },
    {
      "cell_type": "markdown",
      "metadata": {
        "id": "dRXPF6ozH82n"
      },
      "source": [
        "# DataLoader Step"
      ]
    },
    {
      "cell_type": "code",
      "metadata": {
        "id": "Wh2zlEyA4zSC"
      },
      "source": [
        "class DataLoaders(GetAttr):\n",
        "  def __init__(self, *loaders): self.loaders = loaders\n",
        "  def __getitem__(self, i): return self.loaders[i]\n",
        "  train,valid = add_props(lambda i, self: self[i])"
      ],
      "execution_count": 122,
      "outputs": []
    },
    {
      "cell_type": "code",
      "metadata": {
        "id": "kE5kS8qQ35vI"
      },
      "source": [
        "EEGs = DataBlock (\n",
        "    blocks=(ImageBlock, CategoryBlock),\n",
        "    get_items=get_image_files,\n",
        "    splitter = RandomSplitter(valid_pct=0.2, seed=99),\n",
        "    get_y=parent_label,\n",
        "    item_tfms=Resize(32,32))"
      ],
      "execution_count": 132,
      "outputs": []
    },
    {
      "cell_type": "code",
      "metadata": {
        "id": "6ONYPMmoIHNJ"
      },
      "source": [
        "dls = EEGs.dataloaders\n",
        "destination =Path(root_dir)\n",
        "path = destination\n",
        "fns = get_image_files(path)\n",
        "dls = EEGs.dataloaders(path)"
      ],
      "execution_count": 133,
      "outputs": []
    },
    {
      "cell_type": "markdown",
      "metadata": {
        "id": "9waKByeH0Tf_"
      },
      "source": [
        ""
      ]
    },
    {
      "cell_type": "code",
      "metadata": {
        "colab": {
          "base_uri": "https://localhost:8080/",
          "height": 192
        },
        "id": "OCOEU-4N0HgY",
        "outputId": "c817a3de-1fdf-48f5-802f-a00d62ce341f"
      },
      "source": [
        "dls.valid.show_batch(max_n=4, nrows=1)"
      ],
      "execution_count": 134,
      "outputs": [
        {
          "output_type": "display_data",
          "data": {
            "image/png": "[encoded data removed]",
            "text/plain": [
              "<Figure size 864x216 with 4 Axes>"
            ]
          },
          "metadata": {
            "tags": [],
            "needs_background": "light"
          }
        }
      ]
    },
    {
      "cell_type": "code",
      "metadata": {
        "id": "kT8dcVZVxKiB"
      },
      "source": [
        "EEGs = EEGs.new(\n",
        "    item_tfms=RandomResizedCrop(28, min_scale=0.5),\n",
        "    batch_tfms=aug_transforms())\n",
        "dls = EEGs.dataloaders(path)"
      ],
      "execution_count": 154,
      "outputs": []
    },
    {
      "cell_type": "code",
      "metadata": {
        "id": "d4HZ6mWlKbOl"
      },
      "source": [
        "EEGs = EEGs.new(\n",
        "    #item_tfms=RandomResizedCrop(28, min_scale=0.5),\n",
        ")\n",
        "dls = EEGs.dataloaders(path)"
      ],
      "execution_count": 167,
      "outputs": []
    },
    {
      "cell_type": "code",
      "metadata": {
        "colab": {
          "base_uri": "https://localhost:8080/",
          "height": 426
        },
        "id": "phZ6dTfWKbca",
        "outputId": "22885225-f86c-4789-d122-1f7df22c60ef"
      },
      "source": [
        "learn = cnn_learner(dls, resnet18, metrics=error_rate)\n",
        "learn.fine_tune(10)"
      ],
      "execution_count": 168,
      "outputs": [
        {
          "output_type": "display_data",
          "data": {
            "text/html": [
              "<table border=\"1\" class=\"dataframe\">\n",
              "  <thead>\n",
              "    <tr style=\"text-align: left;\">\n",
              "      <th>epoch</th>\n",
              "      <th>train_loss</th>\n",
              "      <th>valid_loss</th>\n",
              "      <th>error_rate</th>\n",
              "      <th>time</th>\n",
              "    </tr>\n",
              "  </thead>\n",
              "  <tbody>\n",
              "    <tr>\n",
              "      <td>0</td>\n",
              "      <td>1.136196</td>\n",
              "      <td>0.957783</td>\n",
              "      <td>0.456522</td>\n",
              "      <td>00:01</td>\n",
              "    </tr>\n",
              "  </tbody>\n",
              "</table>"
            ],
            "text/plain": [
              "<IPython.core.display.HTML object>"
            ]
          },
          "metadata": {
            "tags": []
          }
        },
        {
          "output_type": "display_data",
          "data": {
            "text/html": [
              "<table border=\"1\" class=\"dataframe\">\n",
              "  <thead>\n",
              "    <tr style=\"text-align: left;\">\n",
              "      <th>epoch</th>\n",
              "      <th>train_loss</th>\n",
              "      <th>valid_loss</th>\n",
              "      <th>error_rate</th>\n",
              "      <th>time</th>\n",
              "    </tr>\n",
              "  </thead>\n",
              "  <tbody>\n",
              "    <tr>\n",
              "      <td>0</td>\n",
              "      <td>1.355866</td>\n",
              "      <td>0.914031</td>\n",
              "      <td>0.565217</td>\n",
              "      <td>00:03</td>\n",
              "    </tr>\n",
              "    <tr>\n",
              "      <td>1</td>\n",
              "      <td>1.352101</td>\n",
              "      <td>0.832371</td>\n",
              "      <td>0.500000</td>\n",
              "      <td>00:03</td>\n",
              "    </tr>\n",
              "    <tr>\n",
              "      <td>2</td>\n",
              "      <td>1.317562</td>\n",
              "      <td>0.809979</td>\n",
              "      <td>0.500000</td>\n",
              "      <td>00:03</td>\n",
              "    </tr>\n",
              "    <tr>\n",
              "      <td>3</td>\n",
              "      <td>1.363952</td>\n",
              "      <td>0.837449</td>\n",
              "      <td>0.456522</td>\n",
              "      <td>00:03</td>\n",
              "    </tr>\n",
              "    <tr>\n",
              "      <td>4</td>\n",
              "      <td>1.320979</td>\n",
              "      <td>0.898485</td>\n",
              "      <td>0.543478</td>\n",
              "      <td>00:03</td>\n",
              "    </tr>\n",
              "    <tr>\n",
              "      <td>5</td>\n",
              "      <td>1.289169</td>\n",
              "      <td>0.998841</td>\n",
              "      <td>0.565217</td>\n",
              "      <td>00:03</td>\n",
              "    </tr>\n",
              "    <tr>\n",
              "      <td>6</td>\n",
              "      <td>1.286456</td>\n",
              "      <td>1.058513</td>\n",
              "      <td>0.565217</td>\n",
              "      <td>00:03</td>\n",
              "    </tr>\n",
              "    <tr>\n",
              "      <td>7</td>\n",
              "      <td>1.297243</td>\n",
              "      <td>1.064245</td>\n",
              "      <td>0.586957</td>\n",
              "      <td>00:03</td>\n",
              "    </tr>\n",
              "    <tr>\n",
              "      <td>8</td>\n",
              "      <td>1.289634</td>\n",
              "      <td>1.099969</td>\n",
              "      <td>0.608696</td>\n",
              "      <td>00:03</td>\n",
              "    </tr>\n",
              "    <tr>\n",
              "      <td>9</td>\n",
              "      <td>1.272477</td>\n",
              "      <td>1.145135</td>\n",
              "      <td>0.695652</td>\n",
              "      <td>00:03</td>\n",
              "    </tr>\n",
              "  </tbody>\n",
              "</table>"
            ],
            "text/plain": [
              "<IPython.core.display.HTML object>"
            ]
          },
          "metadata": {
            "tags": []
          }
        }
      ]
    },
    {
      "cell_type": "code",
      "metadata": {
        "colab": {
          "base_uri": "https://localhost:8080/",
          "height": 426
        },
        "id": "lJeMflrzduHE",
        "outputId": "e9f69802-cb9a-4d93-fc82-eb6f9e17873a"
      },
      "source": [
        "learn = cnn_learner(dls, resnet18, metrics=error_rate)\n",
        "learn.fine_tune(10)"
      ],
      "execution_count": 144,
      "outputs": [
        {
          "output_type": "display_data",
          "data": {
            "text/html": [
              "<table border=\"1\" class=\"dataframe\">\n",
              "  <thead>\n",
              "    <tr style=\"text-align: left;\">\n",
              "      <th>epoch</th>\n",
              "      <th>train_loss</th>\n",
              "      <th>valid_loss</th>\n",
              "      <th>error_rate</th>\n",
              "      <th>time</th>\n",
              "    </tr>\n",
              "  </thead>\n",
              "  <tbody>\n",
              "    <tr>\n",
              "      <td>0</td>\n",
              "      <td>1.289286</td>\n",
              "      <td>1.110221</td>\n",
              "      <td>0.543478</td>\n",
              "      <td>00:01</td>\n",
              "    </tr>\n",
              "  </tbody>\n",
              "</table>"
            ],
            "text/plain": [
              "<IPython.core.display.HTML object>"
            ]
          },
          "metadata": {
            "tags": []
          }
        },
        {
          "output_type": "display_data",
          "data": {
            "text/html": [
              "<table border=\"1\" class=\"dataframe\">\n",
              "  <thead>\n",
              "    <tr style=\"text-align: left;\">\n",
              "      <th>epoch</th>\n",
              "      <th>train_loss</th>\n",
              "      <th>valid_loss</th>\n",
              "      <th>error_rate</th>\n",
              "      <th>time</th>\n",
              "    </tr>\n",
              "  </thead>\n",
              "  <tbody>\n",
              "    <tr>\n",
              "      <td>0</td>\n",
              "      <td>1.289459</td>\n",
              "      <td>1.030589</td>\n",
              "      <td>0.565217</td>\n",
              "      <td>00:03</td>\n",
              "    </tr>\n",
              "    <tr>\n",
              "      <td>1</td>\n",
              "      <td>1.295561</td>\n",
              "      <td>0.894677</td>\n",
              "      <td>0.565217</td>\n",
              "      <td>00:03</td>\n",
              "    </tr>\n",
              "    <tr>\n",
              "      <td>2</td>\n",
              "      <td>1.306561</td>\n",
              "      <td>0.807930</td>\n",
              "      <td>0.673913</td>\n",
              "      <td>00:03</td>\n",
              "    </tr>\n",
              "    <tr>\n",
              "      <td>3</td>\n",
              "      <td>1.311664</td>\n",
              "      <td>0.789714</td>\n",
              "      <td>0.478261</td>\n",
              "      <td>00:03</td>\n",
              "    </tr>\n",
              "    <tr>\n",
              "      <td>4</td>\n",
              "      <td>1.259563</td>\n",
              "      <td>0.829569</td>\n",
              "      <td>0.456522</td>\n",
              "      <td>00:03</td>\n",
              "    </tr>\n",
              "    <tr>\n",
              "      <td>5</td>\n",
              "      <td>1.244618</td>\n",
              "      <td>0.868328</td>\n",
              "      <td>0.478261</td>\n",
              "      <td>00:03</td>\n",
              "    </tr>\n",
              "    <tr>\n",
              "      <td>6</td>\n",
              "      <td>1.234434</td>\n",
              "      <td>0.894590</td>\n",
              "      <td>0.456522</td>\n",
              "      <td>00:03</td>\n",
              "    </tr>\n",
              "    <tr>\n",
              "      <td>7</td>\n",
              "      <td>1.262686</td>\n",
              "      <td>0.914215</td>\n",
              "      <td>0.500000</td>\n",
              "      <td>00:03</td>\n",
              "    </tr>\n",
              "    <tr>\n",
              "      <td>8</td>\n",
              "      <td>1.245561</td>\n",
              "      <td>0.906831</td>\n",
              "      <td>0.543478</td>\n",
              "      <td>00:03</td>\n",
              "    </tr>\n",
              "    <tr>\n",
              "      <td>9</td>\n",
              "      <td>1.249292</td>\n",
              "      <td>0.921071</td>\n",
              "      <td>0.543478</td>\n",
              "      <td>00:03</td>\n",
              "    </tr>\n",
              "  </tbody>\n",
              "</table>"
            ],
            "text/plain": [
              "<IPython.core.display.HTML object>"
            ]
          },
          "metadata": {
            "tags": []
          }
        }
      ]
    },
    {
      "cell_type": "code",
      "metadata": {
        "colab": {
          "base_uri": "https://localhost:8080/",
          "height": 388,
          "referenced_widgets": [
            "3da98e27b25741819ecc8d538eba8839",
            "278ae0f7a3bf4b8f9a88290d7e12b710",
            "f923972a99e54cac9702064129079f0e",
            "88bda0aad67949e8897a821181890556",
            "f649d2c39822497ebd0a0c0457f616fb",
            "0383e3fec2c947cbac7ee3625fceb4a5",
            "f4f842a7542c452fa6887232de0d9856",
            "b0f8bbb2e3164b51b37aaf8a99d2c3e8"
          ]
        },
        "id": "u6HD0izQKww4",
        "outputId": "3ba2c53b-fe0a-4c5d-9229-c64317aea0ec"
      },
      "source": [
        "learn = cnn_learner(dls, resnet34, metrics=error_rate)\n",
        "learn.fine_tune(6)"
      ],
      "execution_count": 145,
      "outputs": [
        {
          "output_type": "stream",
          "text": [
            "Downloading: \"https://download.pytorch.org/models/resnet34-b627a593.pth\" to /root/.cache/torch/hub/checkpoints/resnet34-b627a593.pth\n"
          ],
          "name": "stderr"
        },
        {
          "output_type": "display_data",
          "data": {
            "application/vnd.jupyter.widget-view+json": {
              "model_id": "3da98e27b25741819ecc8d538eba8839",
              "version_minor": 0,
              "version_major": 2
            },
            "text/plain": [
              "HBox(children=(FloatProgress(value=0.0, max=87319819.0), HTML(value='')))"
            ]
          },
          "metadata": {
            "tags": []
          }
        },
        {
          "output_type": "stream",
          "text": [
            "\n"
          ],
          "name": "stdout"
        },
        {
          "output_type": "display_data",
          "data": {
            "text/html": [
              "<table border=\"1\" class=\"dataframe\">\n",
              "  <thead>\n",
              "    <tr style=\"text-align: left;\">\n",
              "      <th>epoch</th>\n",
              "      <th>train_loss</th>\n",
              "      <th>valid_loss</th>\n",
              "      <th>error_rate</th>\n",
              "      <th>time</th>\n",
              "    </tr>\n",
              "  </thead>\n",
              "  <tbody>\n",
              "    <tr>\n",
              "      <td>0</td>\n",
              "      <td>1.166340</td>\n",
              "      <td>1.236900</td>\n",
              "      <td>0.565217</td>\n",
              "      <td>00:02</td>\n",
              "    </tr>\n",
              "  </tbody>\n",
              "</table>"
            ],
            "text/plain": [
              "<IPython.core.display.HTML object>"
            ]
          },
          "metadata": {
            "tags": []
          }
        },
        {
          "output_type": "display_data",
          "data": {
            "text/html": [
              "<table border=\"1\" class=\"dataframe\">\n",
              "  <thead>\n",
              "    <tr style=\"text-align: left;\">\n",
              "      <th>epoch</th>\n",
              "      <th>train_loss</th>\n",
              "      <th>valid_loss</th>\n",
              "      <th>error_rate</th>\n",
              "      <th>time</th>\n",
              "    </tr>\n",
              "  </thead>\n",
              "  <tbody>\n",
              "    <tr>\n",
              "      <td>0</td>\n",
              "      <td>1.393274</td>\n",
              "      <td>0.926728</td>\n",
              "      <td>0.521739</td>\n",
              "      <td>00:04</td>\n",
              "    </tr>\n",
              "    <tr>\n",
              "      <td>1</td>\n",
              "      <td>1.382661</td>\n",
              "      <td>0.764474</td>\n",
              "      <td>0.434783</td>\n",
              "      <td>00:04</td>\n",
              "    </tr>\n",
              "    <tr>\n",
              "      <td>2</td>\n",
              "      <td>1.381845</td>\n",
              "      <td>0.760256</td>\n",
              "      <td>0.456522</td>\n",
              "      <td>00:04</td>\n",
              "    </tr>\n",
              "    <tr>\n",
              "      <td>3</td>\n",
              "      <td>1.315685</td>\n",
              "      <td>0.832241</td>\n",
              "      <td>0.543478</td>\n",
              "      <td>00:04</td>\n",
              "    </tr>\n",
              "    <tr>\n",
              "      <td>4</td>\n",
              "      <td>1.304718</td>\n",
              "      <td>0.855730</td>\n",
              "      <td>0.565217</td>\n",
              "      <td>00:04</td>\n",
              "    </tr>\n",
              "    <tr>\n",
              "      <td>5</td>\n",
              "      <td>1.335161</td>\n",
              "      <td>0.866074</td>\n",
              "      <td>0.500000</td>\n",
              "      <td>00:04</td>\n",
              "    </tr>\n",
              "  </tbody>\n",
              "</table>"
            ],
            "text/plain": [
              "<IPython.core.display.HTML object>"
            ]
          },
          "metadata": {
            "tags": []
          }
        }
      ]
    },
    {
      "cell_type": "code",
      "metadata": {
        "id": "NiR6Tc8gfUMN",
        "colab": {
          "base_uri": "https://localhost:8080/",
          "height": 301
        },
        "outputId": "7abfd6d1-841c-4045-c0f5-a8aa3c053ecb"
      },
      "source": [
        "learn = cnn_learner(dls, resnet34, metrics=error_rate)\n",
        "learn.fine_tune(6)"
      ],
      "execution_count": 149,
      "outputs": [
        {
          "output_type": "display_data",
          "data": {
            "text/html": [
              "<table border=\"1\" class=\"dataframe\">\n",
              "  <thead>\n",
              "    <tr style=\"text-align: left;\">\n",
              "      <th>epoch</th>\n",
              "      <th>train_loss</th>\n",
              "      <th>valid_loss</th>\n",
              "      <th>error_rate</th>\n",
              "      <th>time</th>\n",
              "    </tr>\n",
              "  </thead>\n",
              "  <tbody>\n",
              "    <tr>\n",
              "      <td>0</td>\n",
              "      <td>1.024580</td>\n",
              "      <td>1.349285</td>\n",
              "      <td>0.456522</td>\n",
              "      <td>00:02</td>\n",
              "    </tr>\n",
              "  </tbody>\n",
              "</table>"
            ],
            "text/plain": [
              "<IPython.core.display.HTML object>"
            ]
          },
          "metadata": {
            "tags": []
          }
        },
        {
          "output_type": "display_data",
          "data": {
            "text/html": [
              "<table border=\"1\" class=\"dataframe\">\n",
              "  <thead>\n",
              "    <tr style=\"text-align: left;\">\n",
              "      <th>epoch</th>\n",
              "      <th>train_loss</th>\n",
              "      <th>valid_loss</th>\n",
              "      <th>error_rate</th>\n",
              "      <th>time</th>\n",
              "    </tr>\n",
              "  </thead>\n",
              "  <tbody>\n",
              "    <tr>\n",
              "      <td>0</td>\n",
              "      <td>0.963956</td>\n",
              "      <td>0.962216</td>\n",
              "      <td>0.391304</td>\n",
              "      <td>00:04</td>\n",
              "    </tr>\n",
              "    <tr>\n",
              "      <td>1</td>\n",
              "      <td>1.217649</td>\n",
              "      <td>0.935959</td>\n",
              "      <td>0.456522</td>\n",
              "      <td>00:04</td>\n",
              "    </tr>\n",
              "    <tr>\n",
              "      <td>2</td>\n",
              "      <td>1.276702</td>\n",
              "      <td>0.931983</td>\n",
              "      <td>0.478261</td>\n",
              "      <td>00:04</td>\n",
              "    </tr>\n",
              "    <tr>\n",
              "      <td>3</td>\n",
              "      <td>1.251487</td>\n",
              "      <td>0.924609</td>\n",
              "      <td>0.543478</td>\n",
              "      <td>00:04</td>\n",
              "    </tr>\n",
              "    <tr>\n",
              "      <td>4</td>\n",
              "      <td>1.244824</td>\n",
              "      <td>0.960708</td>\n",
              "      <td>0.500000</td>\n",
              "      <td>00:04</td>\n",
              "    </tr>\n",
              "    <tr>\n",
              "      <td>5</td>\n",
              "      <td>1.244239</td>\n",
              "      <td>1.022295</td>\n",
              "      <td>0.565217</td>\n",
              "      <td>00:04</td>\n",
              "    </tr>\n",
              "  </tbody>\n",
              "</table>"
            ],
            "text/plain": [
              "<IPython.core.display.HTML object>"
            ]
          },
          "metadata": {
            "tags": []
          }
        }
      ]
    },
    {
      "cell_type": "code",
      "metadata": {
        "id": "BjZphvpGaJvG",
        "colab": {
          "base_uri": "https://localhost:8080/",
          "height": 300
        },
        "outputId": "95d1e1ca-66c3-49ea-88e9-03ead9668cd7"
      },
      "source": [
        "# Cross Entroy Punction\n",
        "\n",
        "learnCrossEntropy = Learner(dls, xresnet18(n_out=dls.c), loss_func=CrossEntropyLossFlat(), \n",
        "                metrics=accuracy)\n",
        "learnCrossEntropy.fit_one_cycle(8, 3e-3)"
      ],
      "execution_count": 157,
      "outputs": [
        {
          "output_type": "display_data",
          "data": {
            "text/html": [
              "<table border=\"1\" class=\"dataframe\">\n",
              "  <thead>\n",
              "    <tr style=\"text-align: left;\">\n",
              "      <th>epoch</th>\n",
              "      <th>train_loss</th>\n",
              "      <th>valid_loss</th>\n",
              "      <th>accuracy</th>\n",
              "      <th>time</th>\n",
              "    </tr>\n",
              "  </thead>\n",
              "  <tbody>\n",
              "    <tr>\n",
              "      <td>0</td>\n",
              "      <td>1.186365</td>\n",
              "      <td>0.723376</td>\n",
              "      <td>0.456522</td>\n",
              "      <td>00:03</td>\n",
              "    </tr>\n",
              "    <tr>\n",
              "      <td>1</td>\n",
              "      <td>1.040027</td>\n",
              "      <td>0.706047</td>\n",
              "      <td>0.543478</td>\n",
              "      <td>00:03</td>\n",
              "    </tr>\n",
              "    <tr>\n",
              "      <td>2</td>\n",
              "      <td>1.042961</td>\n",
              "      <td>0.814078</td>\n",
              "      <td>0.543478</td>\n",
              "      <td>00:03</td>\n",
              "    </tr>\n",
              "    <tr>\n",
              "      <td>3</td>\n",
              "      <td>1.057756</td>\n",
              "      <td>0.706313</td>\n",
              "      <td>0.456522</td>\n",
              "      <td>00:03</td>\n",
              "    </tr>\n",
              "    <tr>\n",
              "      <td>4</td>\n",
              "      <td>1.038622</td>\n",
              "      <td>0.741870</td>\n",
              "      <td>0.434783</td>\n",
              "      <td>00:03</td>\n",
              "    </tr>\n",
              "    <tr>\n",
              "      <td>5</td>\n",
              "      <td>1.011618</td>\n",
              "      <td>0.741350</td>\n",
              "      <td>0.456522</td>\n",
              "      <td>00:03</td>\n",
              "    </tr>\n",
              "    <tr>\n",
              "      <td>6</td>\n",
              "      <td>0.995503</td>\n",
              "      <td>0.755338</td>\n",
              "      <td>0.478261</td>\n",
              "      <td>00:03</td>\n",
              "    </tr>\n",
              "    <tr>\n",
              "      <td>7</td>\n",
              "      <td>0.968950</td>\n",
              "      <td>0.774955</td>\n",
              "      <td>0.500000</td>\n",
              "      <td>00:02</td>\n",
              "    </tr>\n",
              "  </tbody>\n",
              "</table>"
            ],
            "text/plain": [
              "<IPython.core.display.HTML object>"
            ]
          },
          "metadata": {
            "tags": []
          }
        }
      ]
    },
    {
      "cell_type": "code",
      "metadata": {
        "id": "P714FIrfLoU5"
      },
      "source": [
        "model = xresnet50(n_out=dls.c)\n",
        "learn = Learner(dls, model, loss_func=CrossEntropyLossFlat(), \n",
        "                metrics=accuracy, cbs=MixUp())\n",
        "learn.fit_one_cycle(5, 3e-3)"
      ],
      "execution_count": null,
      "outputs": []
    },
    {
      "cell_type": "code",
      "metadata": {
        "colab": {
          "base_uri": "https://localhost:8080/",
          "height": 364
        },
        "id": "z8-VOzEKbbf9",
        "outputId": "31f21b91-dc1c-4bda-a150-563cb1db1d67"
      },
      "source": [
        "learnCrossEntropy = Learner(dls, xresnet18(n_out=dls.c), loss_func=CrossEntropyLossFlat(), \n",
        "                metrics=accuracy)\n",
        "learnCrossEntropy.fine_tune(8, 3e-3)"
      ],
      "execution_count": 158,
      "outputs": [
        {
          "output_type": "display_data",
          "data": {
            "text/html": [
              "<table border=\"1\" class=\"dataframe\">\n",
              "  <thead>\n",
              "    <tr style=\"text-align: left;\">\n",
              "      <th>epoch</th>\n",
              "      <th>train_loss</th>\n",
              "      <th>valid_loss</th>\n",
              "      <th>accuracy</th>\n",
              "      <th>time</th>\n",
              "    </tr>\n",
              "  </thead>\n",
              "  <tbody>\n",
              "    <tr>\n",
              "      <td>0</td>\n",
              "      <td>0.882473</td>\n",
              "      <td>0.692415</td>\n",
              "      <td>0.521739</td>\n",
              "      <td>00:03</td>\n",
              "    </tr>\n",
              "  </tbody>\n",
              "</table>"
            ],
            "text/plain": [
              "<IPython.core.display.HTML object>"
            ]
          },
          "metadata": {
            "tags": []
          }
        },
        {
          "output_type": "display_data",
          "data": {
            "text/html": [
              "<table border=\"1\" class=\"dataframe\">\n",
              "  <thead>\n",
              "    <tr style=\"text-align: left;\">\n",
              "      <th>epoch</th>\n",
              "      <th>train_loss</th>\n",
              "      <th>valid_loss</th>\n",
              "      <th>accuracy</th>\n",
              "      <th>time</th>\n",
              "    </tr>\n",
              "  </thead>\n",
              "  <tbody>\n",
              "    <tr>\n",
              "      <td>0</td>\n",
              "      <td>0.767737</td>\n",
              "      <td>0.710190</td>\n",
              "      <td>0.543478</td>\n",
              "      <td>00:02</td>\n",
              "    </tr>\n",
              "    <tr>\n",
              "      <td>1</td>\n",
              "      <td>0.779525</td>\n",
              "      <td>0.714629</td>\n",
              "      <td>0.434783</td>\n",
              "      <td>00:02</td>\n",
              "    </tr>\n",
              "    <tr>\n",
              "      <td>2</td>\n",
              "      <td>0.762939</td>\n",
              "      <td>0.714848</td>\n",
              "      <td>0.391304</td>\n",
              "      <td>00:02</td>\n",
              "    </tr>\n",
              "    <tr>\n",
              "      <td>3</td>\n",
              "      <td>0.769895</td>\n",
              "      <td>0.712651</td>\n",
              "      <td>0.478261</td>\n",
              "      <td>00:02</td>\n",
              "    </tr>\n",
              "    <tr>\n",
              "      <td>4</td>\n",
              "      <td>0.764957</td>\n",
              "      <td>0.733108</td>\n",
              "      <td>0.369565</td>\n",
              "      <td>00:02</td>\n",
              "    </tr>\n",
              "    <tr>\n",
              "      <td>5</td>\n",
              "      <td>0.770882</td>\n",
              "      <td>0.751816</td>\n",
              "      <td>0.369565</td>\n",
              "      <td>00:02</td>\n",
              "    </tr>\n",
              "    <tr>\n",
              "      <td>6</td>\n",
              "      <td>0.776051</td>\n",
              "      <td>0.777267</td>\n",
              "      <td>0.347826</td>\n",
              "      <td>00:03</td>\n",
              "    </tr>\n",
              "    <tr>\n",
              "      <td>7</td>\n",
              "      <td>0.777981</td>\n",
              "      <td>0.802976</td>\n",
              "      <td>0.347826</td>\n",
              "      <td>00:02</td>\n",
              "    </tr>\n",
              "  </tbody>\n",
              "</table>"
            ],
            "text/plain": [
              "<IPython.core.display.HTML object>"
            ]
          },
          "metadata": {
            "tags": []
          }
        }
      ]
    },
    {
      "cell_type": "code",
      "metadata": {
        "colab": {
          "base_uri": "https://localhost:8080/",
          "height": 206
        },
        "id": "6g2ZDwqfeTCo",
        "outputId": "9ec7d8cc-30b5-4af4-8f85-a562949468b7"
      },
      "source": [
        "# Mix up\n",
        "\n",
        "\n",
        "model = xresnet50(n_out=dls.c)\n",
        "learn = Learner(dls, model, loss_func=CrossEntropyLossFlat(), \n",
        "                metrics=accuracy, cbs=MixUp())\n",
        "learn.fit_one_cycle(5, 3e-3)"
      ],
      "execution_count": 159,
      "outputs": [
        {
          "output_type": "display_data",
          "data": {
            "text/html": [
              "<table border=\"1\" class=\"dataframe\">\n",
              "  <thead>\n",
              "    <tr style=\"text-align: left;\">\n",
              "      <th>epoch</th>\n",
              "      <th>train_loss</th>\n",
              "      <th>valid_loss</th>\n",
              "      <th>accuracy</th>\n",
              "      <th>time</th>\n",
              "    </tr>\n",
              "  </thead>\n",
              "  <tbody>\n",
              "    <tr>\n",
              "      <td>0</td>\n",
              "      <td>0.869569</td>\n",
              "      <td>1.182874</td>\n",
              "      <td>0.456522</td>\n",
              "      <td>00:06</td>\n",
              "    </tr>\n",
              "    <tr>\n",
              "      <td>1</td>\n",
              "      <td>1.739503</td>\n",
              "      <td>1.329592</td>\n",
              "      <td>0.456522</td>\n",
              "      <td>00:05</td>\n",
              "    </tr>\n",
              "    <tr>\n",
              "      <td>2</td>\n",
              "      <td>1.728356</td>\n",
              "      <td>0.817060</td>\n",
              "      <td>0.543478</td>\n",
              "      <td>00:05</td>\n",
              "    </tr>\n",
              "    <tr>\n",
              "      <td>3</td>\n",
              "      <td>1.635465</td>\n",
              "      <td>1.030805</td>\n",
              "      <td>0.543478</td>\n",
              "      <td>00:05</td>\n",
              "    </tr>\n",
              "    <tr>\n",
              "      <td>4</td>\n",
              "      <td>1.618341</td>\n",
              "      <td>1.087041</td>\n",
              "      <td>0.543478</td>\n",
              "      <td>00:05</td>\n",
              "    </tr>\n",
              "  </tbody>\n",
              "</table>"
            ],
            "text/plain": [
              "<IPython.core.display.HTML object>"
            ]
          },
          "metadata": {
            "tags": []
          }
        }
      ]
    },
    {
      "cell_type": "code",
      "metadata": {
        "id": "8BhFklKNghXY",
        "colab": {
          "base_uri": "https://localhost:8080/",
          "height": 283
        },
        "outputId": "7fec95f8-247b-4633-9b86-8b51dd3c5bc2"
      },
      "source": [
        "# Learning Rate \n",
        "learn = cnn_learner(dls, resnet34, metrics=error_rate)\n",
        "lr_min,lr_steep = learn.lr_find(suggest_funcs=(minimum, steep))"
      ],
      "execution_count": 161,
      "outputs": [
        {
          "output_type": "display_data",
          "data": {
            "text/html": [
              ""
            ],
            "text/plain": [
              "<IPython.core.display.HTML object>"
            ]
          },
          "metadata": {
            "tags": []
          }
        },
        {
          "output_type": "display_data",
          "data": {
            "image/png": "[encoded data removed]",
            "text/plain": [
              "<Figure size 432x288 with 1 Axes>"
            ]
          },
          "metadata": {
            "tags": [],
            "needs_background": "light"
          }
        }
      ]
    },
    {
      "cell_type": "code",
      "metadata": {
        "id": "FVgfjHwHijSV"
      },
      "source": [
        "dls."
      ],
      "execution_count": 56,
      "outputs": []
    },
    {
      "cell_type": "code",
      "metadata": {
        "id": "83ADCyuW3gfB"
      },
      "source": [
        ""
      ],
      "execution_count": 159,
      "outputs": []
    },
    {
      "cell_type": "code",
      "metadata": {
        "colab": {
          "base_uri": "https://localhost:8080/",
          "height": 301
        },
        "id": "UkSavk1ZiCk2",
        "outputId": "76b103aa-e81c-473e-c1f9-e37ae616c921"
      },
      "source": [
        "plt.imshow(final_dict1[7])"
      ],
      "execution_count": 57,
      "outputs": [
        {
          "output_type": "stream",
          "text": [
            "Clipping input data to the valid range for imshow with RGB data ([0..1] for floats or [0..255] for integers).\n"
          ],
          "name": "stderr"
        },
        {
          "output_type": "execute_result",
          "data": {
            "text/plain": [
              "<matplotlib.image.AxesImage at 0x7fd384a50dd0>"
            ]
          },
          "metadata": {
            "tags": []
          },
          "execution_count": 57
        },
        {
          "output_type": "display_data",
          "data": {
            "image/png": "[encoded data removed]",
            "text/plain": [
              "<Figure size 432x288 with 1 Axes>"
            ]
          },
          "metadata": {
            "tags": [],
            "needs_background": "light"
          }
        }
      ]
    },
    {
      "cell_type": "code",
      "metadata": {
        "id": "yYs9-j6VigWW"
      },
      "source": [
        "fin"
      ],
      "execution_count": 55,
      "outputs": []
    },
    {
      "cell_type": "code",
      "metadata": {
        "id": "J9H-sVPoBMdI"
      },
      "source": [
        ""
      ],
      "execution_count": null,
      "outputs": []
    },
    {
      "cell_type": "code",
      "metadata": {
        "colab": {
          "base_uri": "https://localhost:8080/",
          "height": 283
        },
        "id": "ORA-rtLBjQhD",
        "outputId": "3937ac17-3947-430c-8608-72ed3a5b6cee"
      },
      "source": [
        "\n",
        "# Theta grid\n",
        "plt.imshow(example[:,:,0])\n"
      ],
      "execution_count": 148,
      "outputs": [
        {
          "output_type": "execute_result",
          "data": {
            "text/plain": [
              "<matplotlib.image.AxesImage at 0x7fd37d991350>"
            ]
          },
          "metadata": {
            "tags": []
          },
          "execution_count": 148
        },
        {
          "output_type": "display_data",
          "data": {
            "image/png": "[encoded data removed]",
            "text/plain": [
              "<Figure size 432x288 with 1 Axes>"
            ]
          },
          "metadata": {
            "tags": [],
            "needs_background": "light"
          }
        }
      ]
    },
    {
      "cell_type": "code",
      "metadata": {
        "colab": {
          "base_uri": "https://localhost:8080/",
          "height": 283
        },
        "id": "T1FebWCKjwbM",
        "outputId": "6a40dc43-471e-420a-be22-c4f395b363ec"
      },
      "source": [
        "# Beta Grid\n",
        "plt.imshow(example[:,:,1])\n"
      ],
      "execution_count": 147,
      "outputs": [
        {
          "output_type": "execute_result",
          "data": {
            "text/plain": [
              "<matplotlib.image.AxesImage at 0x7fd37da21c10>"
            ]
          },
          "metadata": {
            "tags": []
          },
          "execution_count": 147
        },
        {
          "output_type": "display_data",
          "data": {
            "image/png": "[encoded data removed]",
            "text/plain": [
              "<Figure size 432x288 with 1 Axes>"
            ]
          },
          "metadata": {
            "tags": [],
            "needs_background": "light"
          }
        }
      ]
    },
    {
      "cell_type": "code",
      "metadata": {
        "colab": {
          "base_uri": "https://localhost:8080/",
          "height": 283
        },
        "id": "L11gukVJj2b5",
        "outputId": "42ac8e2f-cbf3-406a-abf3-890e12a2865f"
      },
      "source": [
        "#alpha grid \n",
        "plt.imshow(example[:,:,2])"
      ],
      "execution_count": 146,
      "outputs": [
        {
          "output_type": "execute_result",
          "data": {
            "text/plain": [
              "<matplotlib.image.AxesImage at 0x7fd37da422d0>"
            ]
          },
          "metadata": {
            "tags": []
          },
          "execution_count": 146
        },
        {
          "output_type": "display_data",
          "data": {
            "image/png": "[encoded data removed]",
            "text/plain": [
              "<Figure size 432x288 with 1 Axes>"
            ]
          },
          "metadata": {
            "tags": [],
            "needs_background": "light"
          }
        }
      ]
    },
    {
      "cell_type": "code",
      "metadata": {
        "id": "lYV9T3mqbMnU"
      },
      "source": [
        ""
      ],
      "execution_count": null,
      "outputs": []
    },
    {
      "cell_type": "code",
      "metadata": {
        "id": "hx648_yGaKEl"
      },
      "source": [
        "DataBlock"
      ],
      "execution_count": null,
      "outputs": []
    },
    {
      "cell_type": "code",
      "metadata": {
        "colab": {
          "base_uri": "https://localhost:8080/"
        },
        "id": "GY5psi4cZr0u",
        "outputId": "595b52ea-ca72-4d8c-c4d1-96015c2bc628"
      },
      "source": [
        "type(transformed_dataset1)"
      ],
      "execution_count": null,
      "outputs": [
        {
          "output_type": "execute_result",
          "data": {
            "text/plain": [
              "__main__.EEGRGBDataset"
            ]
          },
          "metadata": {
            "tags": []
          },
          "execution_count": 30
        }
      ]
    },
    {
      "cell_type": "code",
      "metadata": {
        "id": "YlD3EBeefIII"
      },
      "source": [
        "DataBlock(blocks=(ImageBlock),\n",
        "          get_i\n",
        "          \n",
        "          )"
      ],
      "execution_count": null,
      "outputs": []
    }
  ]
}